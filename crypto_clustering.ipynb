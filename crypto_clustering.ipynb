{
 "cells": [
  {
   "cell_type": "markdown",
   "metadata": {},
   "source": [
    "# Clustering Crypto"
   ]
  },
  {
   "cell_type": "code",
   "execution_count": 5,
   "metadata": {},
   "outputs": [],
   "source": [
    "# Initial imports\n",
    "import pandas as pd\n",
    "import hvplot.pandas\n",
    "from path import Path\n",
    "import plotly.express as px\n",
    "from sklearn.preprocessing import StandardScaler, MinMaxScaler\n",
    "from sklearn.decomposition import PCA\n",
    "from sklearn.cluster import KMeans\n"
   ]
  },
  {
   "cell_type": "markdown",
   "metadata": {},
   "source": [
    "### Deliverable 1: Preprocessing the Data for PCA"
   ]
  },
  {
   "cell_type": "code",
   "execution_count": 7,
   "metadata": {
    "scrolled": true
   },
   "outputs": [
    {
     "data": {
      "text/html": [
       "<div>\n",
       "<style scoped>\n",
       "    .dataframe tbody tr th:only-of-type {\n",
       "        vertical-align: middle;\n",
       "    }\n",
       "\n",
       "    .dataframe tbody tr th {\n",
       "        vertical-align: top;\n",
       "    }\n",
       "\n",
       "    .dataframe thead th {\n",
       "        text-align: right;\n",
       "    }\n",
       "</style>\n",
       "<table border=\"1\" class=\"dataframe\">\n",
       "  <thead>\n",
       "    <tr style=\"text-align: right;\">\n",
       "      <th></th>\n",
       "      <th>CoinName</th>\n",
       "      <th>Algorithm</th>\n",
       "      <th>IsTrading</th>\n",
       "      <th>ProofType</th>\n",
       "      <th>TotalCoinsMined</th>\n",
       "      <th>TotalCoinSupply</th>\n",
       "    </tr>\n",
       "  </thead>\n",
       "  <tbody>\n",
       "    <tr>\n",
       "      <th>42</th>\n",
       "      <td>42 Coin</td>\n",
       "      <td>Scrypt</td>\n",
       "      <td>True</td>\n",
       "      <td>PoW/PoS</td>\n",
       "      <td>4.199995e+01</td>\n",
       "      <td>42</td>\n",
       "    </tr>\n",
       "    <tr>\n",
       "      <th>365</th>\n",
       "      <td>365Coin</td>\n",
       "      <td>X11</td>\n",
       "      <td>True</td>\n",
       "      <td>PoW/PoS</td>\n",
       "      <td>NaN</td>\n",
       "      <td>2300000000</td>\n",
       "    </tr>\n",
       "    <tr>\n",
       "      <th>404</th>\n",
       "      <td>404Coin</td>\n",
       "      <td>Scrypt</td>\n",
       "      <td>True</td>\n",
       "      <td>PoW/PoS</td>\n",
       "      <td>1.055185e+09</td>\n",
       "      <td>532000000</td>\n",
       "    </tr>\n",
       "    <tr>\n",
       "      <th>611</th>\n",
       "      <td>SixEleven</td>\n",
       "      <td>SHA-256</td>\n",
       "      <td>True</td>\n",
       "      <td>PoW</td>\n",
       "      <td>NaN</td>\n",
       "      <td>611000</td>\n",
       "    </tr>\n",
       "    <tr>\n",
       "      <th>808</th>\n",
       "      <td>808</td>\n",
       "      <td>SHA-256</td>\n",
       "      <td>True</td>\n",
       "      <td>PoW/PoS</td>\n",
       "      <td>0.000000e+00</td>\n",
       "      <td>0</td>\n",
       "    </tr>\n",
       "    <tr>\n",
       "      <th>1337</th>\n",
       "      <td>EliteCoin</td>\n",
       "      <td>X13</td>\n",
       "      <td>True</td>\n",
       "      <td>PoW/PoS</td>\n",
       "      <td>2.927942e+10</td>\n",
       "      <td>314159265359</td>\n",
       "    </tr>\n",
       "    <tr>\n",
       "      <th>2015</th>\n",
       "      <td>2015 coin</td>\n",
       "      <td>X11</td>\n",
       "      <td>True</td>\n",
       "      <td>PoW/PoS</td>\n",
       "      <td>NaN</td>\n",
       "      <td>0</td>\n",
       "    </tr>\n",
       "    <tr>\n",
       "      <th>BTC</th>\n",
       "      <td>Bitcoin</td>\n",
       "      <td>SHA-256</td>\n",
       "      <td>True</td>\n",
       "      <td>PoW</td>\n",
       "      <td>1.792718e+07</td>\n",
       "      <td>21000000</td>\n",
       "    </tr>\n",
       "    <tr>\n",
       "      <th>ETH</th>\n",
       "      <td>Ethereum</td>\n",
       "      <td>Ethash</td>\n",
       "      <td>True</td>\n",
       "      <td>PoW</td>\n",
       "      <td>1.076842e+08</td>\n",
       "      <td>0</td>\n",
       "    </tr>\n",
       "    <tr>\n",
       "      <th>LTC</th>\n",
       "      <td>Litecoin</td>\n",
       "      <td>Scrypt</td>\n",
       "      <td>True</td>\n",
       "      <td>PoW</td>\n",
       "      <td>6.303924e+07</td>\n",
       "      <td>84000000</td>\n",
       "    </tr>\n",
       "  </tbody>\n",
       "</table>\n",
       "</div>"
      ],
      "text/plain": [
       "       CoinName Algorithm  IsTrading ProofType  TotalCoinsMined  \\\n",
       "42      42 Coin    Scrypt       True   PoW/PoS     4.199995e+01   \n",
       "365     365Coin       X11       True   PoW/PoS              NaN   \n",
       "404     404Coin    Scrypt       True   PoW/PoS     1.055185e+09   \n",
       "611   SixEleven   SHA-256       True       PoW              NaN   \n",
       "808         808   SHA-256       True   PoW/PoS     0.000000e+00   \n",
       "1337  EliteCoin       X13       True   PoW/PoS     2.927942e+10   \n",
       "2015  2015 coin       X11       True   PoW/PoS              NaN   \n",
       "BTC     Bitcoin   SHA-256       True       PoW     1.792718e+07   \n",
       "ETH    Ethereum    Ethash       True       PoW     1.076842e+08   \n",
       "LTC    Litecoin    Scrypt       True       PoW     6.303924e+07   \n",
       "\n",
       "     TotalCoinSupply  \n",
       "42                42  \n",
       "365       2300000000  \n",
       "404        532000000  \n",
       "611           611000  \n",
       "808                0  \n",
       "1337    314159265359  \n",
       "2015               0  \n",
       "BTC         21000000  \n",
       "ETH                0  \n",
       "LTC         84000000  "
      ]
     },
     "execution_count": 7,
     "metadata": {},
     "output_type": "execute_result"
    }
   ],
   "source": [
    "# Load the crypto_data.csv dataset.\n",
    "file_path = \"crypto_data.csv\"\n",
    "crypto_df = pd.read_csv(file_path, index_col=0)\n",
    "crypto_df.head(10)"
   ]
  },
  {
   "cell_type": "code",
   "execution_count": 9,
   "metadata": {},
   "outputs": [
    {
     "name": "stdout",
     "output_type": "stream",
     "text": [
      "(1252, 6)\n"
     ]
    },
    {
     "data": {
      "text/html": [
       "<div>\n",
       "<style scoped>\n",
       "    .dataframe tbody tr th:only-of-type {\n",
       "        vertical-align: middle;\n",
       "    }\n",
       "\n",
       "    .dataframe tbody tr th {\n",
       "        vertical-align: top;\n",
       "    }\n",
       "\n",
       "    .dataframe thead th {\n",
       "        text-align: right;\n",
       "    }\n",
       "</style>\n",
       "<table border=\"1\" class=\"dataframe\">\n",
       "  <thead>\n",
       "    <tr style=\"text-align: right;\">\n",
       "      <th></th>\n",
       "      <th>CoinName</th>\n",
       "      <th>Algorithm</th>\n",
       "      <th>IsTrading</th>\n",
       "      <th>ProofType</th>\n",
       "      <th>TotalCoinsMined</th>\n",
       "      <th>TotalCoinSupply</th>\n",
       "    </tr>\n",
       "  </thead>\n",
       "  <tbody>\n",
       "    <tr>\n",
       "      <th>42</th>\n",
       "      <td>42 Coin</td>\n",
       "      <td>Scrypt</td>\n",
       "      <td>True</td>\n",
       "      <td>PoW/PoS</td>\n",
       "      <td>4.199995e+01</td>\n",
       "      <td>42</td>\n",
       "    </tr>\n",
       "    <tr>\n",
       "      <th>365</th>\n",
       "      <td>365Coin</td>\n",
       "      <td>X11</td>\n",
       "      <td>True</td>\n",
       "      <td>PoW/PoS</td>\n",
       "      <td>NaN</td>\n",
       "      <td>2300000000</td>\n",
       "    </tr>\n",
       "    <tr>\n",
       "      <th>404</th>\n",
       "      <td>404Coin</td>\n",
       "      <td>Scrypt</td>\n",
       "      <td>True</td>\n",
       "      <td>PoW/PoS</td>\n",
       "      <td>1.055185e+09</td>\n",
       "      <td>532000000</td>\n",
       "    </tr>\n",
       "    <tr>\n",
       "      <th>611</th>\n",
       "      <td>SixEleven</td>\n",
       "      <td>SHA-256</td>\n",
       "      <td>True</td>\n",
       "      <td>PoW</td>\n",
       "      <td>NaN</td>\n",
       "      <td>611000</td>\n",
       "    </tr>\n",
       "    <tr>\n",
       "      <th>808</th>\n",
       "      <td>808</td>\n",
       "      <td>SHA-256</td>\n",
       "      <td>True</td>\n",
       "      <td>PoW/PoS</td>\n",
       "      <td>0.000000e+00</td>\n",
       "      <td>0</td>\n",
       "    </tr>\n",
       "    <tr>\n",
       "      <th>1337</th>\n",
       "      <td>EliteCoin</td>\n",
       "      <td>X13</td>\n",
       "      <td>True</td>\n",
       "      <td>PoW/PoS</td>\n",
       "      <td>2.927942e+10</td>\n",
       "      <td>314159265359</td>\n",
       "    </tr>\n",
       "    <tr>\n",
       "      <th>2015</th>\n",
       "      <td>2015 coin</td>\n",
       "      <td>X11</td>\n",
       "      <td>True</td>\n",
       "      <td>PoW/PoS</td>\n",
       "      <td>NaN</td>\n",
       "      <td>0</td>\n",
       "    </tr>\n",
       "    <tr>\n",
       "      <th>BTC</th>\n",
       "      <td>Bitcoin</td>\n",
       "      <td>SHA-256</td>\n",
       "      <td>True</td>\n",
       "      <td>PoW</td>\n",
       "      <td>1.792718e+07</td>\n",
       "      <td>21000000</td>\n",
       "    </tr>\n",
       "    <tr>\n",
       "      <th>ETH</th>\n",
       "      <td>Ethereum</td>\n",
       "      <td>Ethash</td>\n",
       "      <td>True</td>\n",
       "      <td>PoW</td>\n",
       "      <td>1.076842e+08</td>\n",
       "      <td>0</td>\n",
       "    </tr>\n",
       "    <tr>\n",
       "      <th>LTC</th>\n",
       "      <td>Litecoin</td>\n",
       "      <td>Scrypt</td>\n",
       "      <td>True</td>\n",
       "      <td>PoW</td>\n",
       "      <td>6.303924e+07</td>\n",
       "      <td>84000000</td>\n",
       "    </tr>\n",
       "  </tbody>\n",
       "</table>\n",
       "</div>"
      ],
      "text/plain": [
       "       CoinName Algorithm  IsTrading ProofType  TotalCoinsMined  \\\n",
       "42      42 Coin    Scrypt       True   PoW/PoS     4.199995e+01   \n",
       "365     365Coin       X11       True   PoW/PoS              NaN   \n",
       "404     404Coin    Scrypt       True   PoW/PoS     1.055185e+09   \n",
       "611   SixEleven   SHA-256       True       PoW              NaN   \n",
       "808         808   SHA-256       True   PoW/PoS     0.000000e+00   \n",
       "1337  EliteCoin       X13       True   PoW/PoS     2.927942e+10   \n",
       "2015  2015 coin       X11       True   PoW/PoS              NaN   \n",
       "BTC     Bitcoin   SHA-256       True       PoW     1.792718e+07   \n",
       "ETH    Ethereum    Ethash       True       PoW     1.076842e+08   \n",
       "LTC    Litecoin    Scrypt       True       PoW     6.303924e+07   \n",
       "\n",
       "     TotalCoinSupply  \n",
       "42                42  \n",
       "365       2300000000  \n",
       "404        532000000  \n",
       "611           611000  \n",
       "808                0  \n",
       "1337    314159265359  \n",
       "2015               0  \n",
       "BTC         21000000  \n",
       "ETH                0  \n",
       "LTC         84000000  "
      ]
     },
     "execution_count": 9,
     "metadata": {},
     "output_type": "execute_result"
    }
   ],
   "source": [
    "# Keep all the cryptocurrencies that have a working algorithm.\n",
    "crypto_df = crypto_df[crypto_df.Algorithm.isna() == False]\n",
    "print(crypto_df.shape)\n",
    "crypto_df.head(10)"
   ]
  },
  {
   "cell_type": "code",
   "execution_count": 10,
   "metadata": {},
   "outputs": [
    {
     "name": "stdout",
     "output_type": "stream",
     "text": [
      "(1252, 5)\n"
     ]
    },
    {
     "data": {
      "text/html": [
       "<div>\n",
       "<style scoped>\n",
       "    .dataframe tbody tr th:only-of-type {\n",
       "        vertical-align: middle;\n",
       "    }\n",
       "\n",
       "    .dataframe tbody tr th {\n",
       "        vertical-align: top;\n",
       "    }\n",
       "\n",
       "    .dataframe thead th {\n",
       "        text-align: right;\n",
       "    }\n",
       "</style>\n",
       "<table border=\"1\" class=\"dataframe\">\n",
       "  <thead>\n",
       "    <tr style=\"text-align: right;\">\n",
       "      <th></th>\n",
       "      <th>CoinName</th>\n",
       "      <th>Algorithm</th>\n",
       "      <th>ProofType</th>\n",
       "      <th>TotalCoinsMined</th>\n",
       "      <th>TotalCoinSupply</th>\n",
       "    </tr>\n",
       "  </thead>\n",
       "  <tbody>\n",
       "    <tr>\n",
       "      <th>42</th>\n",
       "      <td>42 Coin</td>\n",
       "      <td>Scrypt</td>\n",
       "      <td>PoW/PoS</td>\n",
       "      <td>4.199995e+01</td>\n",
       "      <td>42</td>\n",
       "    </tr>\n",
       "    <tr>\n",
       "      <th>365</th>\n",
       "      <td>365Coin</td>\n",
       "      <td>X11</td>\n",
       "      <td>PoW/PoS</td>\n",
       "      <td>NaN</td>\n",
       "      <td>2300000000</td>\n",
       "    </tr>\n",
       "    <tr>\n",
       "      <th>404</th>\n",
       "      <td>404Coin</td>\n",
       "      <td>Scrypt</td>\n",
       "      <td>PoW/PoS</td>\n",
       "      <td>1.055185e+09</td>\n",
       "      <td>532000000</td>\n",
       "    </tr>\n",
       "    <tr>\n",
       "      <th>611</th>\n",
       "      <td>SixEleven</td>\n",
       "      <td>SHA-256</td>\n",
       "      <td>PoW</td>\n",
       "      <td>NaN</td>\n",
       "      <td>611000</td>\n",
       "    </tr>\n",
       "    <tr>\n",
       "      <th>808</th>\n",
       "      <td>808</td>\n",
       "      <td>SHA-256</td>\n",
       "      <td>PoW/PoS</td>\n",
       "      <td>0.000000e+00</td>\n",
       "      <td>0</td>\n",
       "    </tr>\n",
       "    <tr>\n",
       "      <th>1337</th>\n",
       "      <td>EliteCoin</td>\n",
       "      <td>X13</td>\n",
       "      <td>PoW/PoS</td>\n",
       "      <td>2.927942e+10</td>\n",
       "      <td>314159265359</td>\n",
       "    </tr>\n",
       "    <tr>\n",
       "      <th>2015</th>\n",
       "      <td>2015 coin</td>\n",
       "      <td>X11</td>\n",
       "      <td>PoW/PoS</td>\n",
       "      <td>NaN</td>\n",
       "      <td>0</td>\n",
       "    </tr>\n",
       "    <tr>\n",
       "      <th>BTC</th>\n",
       "      <td>Bitcoin</td>\n",
       "      <td>SHA-256</td>\n",
       "      <td>PoW</td>\n",
       "      <td>1.792718e+07</td>\n",
       "      <td>21000000</td>\n",
       "    </tr>\n",
       "    <tr>\n",
       "      <th>ETH</th>\n",
       "      <td>Ethereum</td>\n",
       "      <td>Ethash</td>\n",
       "      <td>PoW</td>\n",
       "      <td>1.076842e+08</td>\n",
       "      <td>0</td>\n",
       "    </tr>\n",
       "    <tr>\n",
       "      <th>LTC</th>\n",
       "      <td>Litecoin</td>\n",
       "      <td>Scrypt</td>\n",
       "      <td>PoW</td>\n",
       "      <td>6.303924e+07</td>\n",
       "      <td>84000000</td>\n",
       "    </tr>\n",
       "  </tbody>\n",
       "</table>\n",
       "</div>"
      ],
      "text/plain": [
       "       CoinName Algorithm ProofType  TotalCoinsMined TotalCoinSupply\n",
       "42      42 Coin    Scrypt   PoW/PoS     4.199995e+01              42\n",
       "365     365Coin       X11   PoW/PoS              NaN      2300000000\n",
       "404     404Coin    Scrypt   PoW/PoS     1.055185e+09       532000000\n",
       "611   SixEleven   SHA-256       PoW              NaN          611000\n",
       "808         808   SHA-256   PoW/PoS     0.000000e+00               0\n",
       "1337  EliteCoin       X13   PoW/PoS     2.927942e+10    314159265359\n",
       "2015  2015 coin       X11   PoW/PoS              NaN               0\n",
       "BTC     Bitcoin   SHA-256       PoW     1.792718e+07        21000000\n",
       "ETH    Ethereum    Ethash       PoW     1.076842e+08               0\n",
       "LTC    Litecoin    Scrypt       PoW     6.303924e+07        84000000"
      ]
     },
     "execution_count": 10,
     "metadata": {},
     "output_type": "execute_result"
    }
   ],
   "source": [
    "# Remove the \"IsTrading\" column. \n",
    "crypto_df = crypto_df.drop(columns=\"IsTrading\")\n",
    "print(crypto_df.shape)\n",
    "crypto_df.head(10)\n"
   ]
  },
  {
   "cell_type": "code",
   "execution_count": 11,
   "metadata": {},
   "outputs": [
    {
     "name": "stdout",
     "output_type": "stream",
     "text": [
      "(744, 5)\n"
     ]
    },
    {
     "data": {
      "text/html": [
       "<div>\n",
       "<style scoped>\n",
       "    .dataframe tbody tr th:only-of-type {\n",
       "        vertical-align: middle;\n",
       "    }\n",
       "\n",
       "    .dataframe tbody tr th {\n",
       "        vertical-align: top;\n",
       "    }\n",
       "\n",
       "    .dataframe thead th {\n",
       "        text-align: right;\n",
       "    }\n",
       "</style>\n",
       "<table border=\"1\" class=\"dataframe\">\n",
       "  <thead>\n",
       "    <tr style=\"text-align: right;\">\n",
       "      <th></th>\n",
       "      <th>CoinName</th>\n",
       "      <th>Algorithm</th>\n",
       "      <th>ProofType</th>\n",
       "      <th>TotalCoinsMined</th>\n",
       "      <th>TotalCoinSupply</th>\n",
       "    </tr>\n",
       "  </thead>\n",
       "  <tbody>\n",
       "    <tr>\n",
       "      <th>42</th>\n",
       "      <td>42 Coin</td>\n",
       "      <td>Scrypt</td>\n",
       "      <td>PoW/PoS</td>\n",
       "      <td>4.199995e+01</td>\n",
       "      <td>42</td>\n",
       "    </tr>\n",
       "    <tr>\n",
       "      <th>404</th>\n",
       "      <td>404Coin</td>\n",
       "      <td>Scrypt</td>\n",
       "      <td>PoW/PoS</td>\n",
       "      <td>1.055185e+09</td>\n",
       "      <td>532000000</td>\n",
       "    </tr>\n",
       "    <tr>\n",
       "      <th>808</th>\n",
       "      <td>808</td>\n",
       "      <td>SHA-256</td>\n",
       "      <td>PoW/PoS</td>\n",
       "      <td>0.000000e+00</td>\n",
       "      <td>0</td>\n",
       "    </tr>\n",
       "    <tr>\n",
       "      <th>1337</th>\n",
       "      <td>EliteCoin</td>\n",
       "      <td>X13</td>\n",
       "      <td>PoW/PoS</td>\n",
       "      <td>2.927942e+10</td>\n",
       "      <td>314159265359</td>\n",
       "    </tr>\n",
       "    <tr>\n",
       "      <th>BTC</th>\n",
       "      <td>Bitcoin</td>\n",
       "      <td>SHA-256</td>\n",
       "      <td>PoW</td>\n",
       "      <td>1.792718e+07</td>\n",
       "      <td>21000000</td>\n",
       "    </tr>\n",
       "    <tr>\n",
       "      <th>ETH</th>\n",
       "      <td>Ethereum</td>\n",
       "      <td>Ethash</td>\n",
       "      <td>PoW</td>\n",
       "      <td>1.076842e+08</td>\n",
       "      <td>0</td>\n",
       "    </tr>\n",
       "    <tr>\n",
       "      <th>LTC</th>\n",
       "      <td>Litecoin</td>\n",
       "      <td>Scrypt</td>\n",
       "      <td>PoW</td>\n",
       "      <td>6.303924e+07</td>\n",
       "      <td>84000000</td>\n",
       "    </tr>\n",
       "    <tr>\n",
       "      <th>DASH</th>\n",
       "      <td>Dash</td>\n",
       "      <td>X11</td>\n",
       "      <td>PoW/PoS</td>\n",
       "      <td>9.031294e+06</td>\n",
       "      <td>22000000</td>\n",
       "    </tr>\n",
       "    <tr>\n",
       "      <th>XMR</th>\n",
       "      <td>Monero</td>\n",
       "      <td>CryptoNight-V7</td>\n",
       "      <td>PoW</td>\n",
       "      <td>1.720114e+07</td>\n",
       "      <td>0</td>\n",
       "    </tr>\n",
       "    <tr>\n",
       "      <th>ETC</th>\n",
       "      <td>Ethereum Classic</td>\n",
       "      <td>Ethash</td>\n",
       "      <td>PoW</td>\n",
       "      <td>1.133597e+08</td>\n",
       "      <td>210000000</td>\n",
       "    </tr>\n",
       "  </tbody>\n",
       "</table>\n",
       "</div>"
      ],
      "text/plain": [
       "              CoinName       Algorithm ProofType  TotalCoinsMined  \\\n",
       "42             42 Coin          Scrypt   PoW/PoS     4.199995e+01   \n",
       "404            404Coin          Scrypt   PoW/PoS     1.055185e+09   \n",
       "808                808         SHA-256   PoW/PoS     0.000000e+00   \n",
       "1337         EliteCoin             X13   PoW/PoS     2.927942e+10   \n",
       "BTC            Bitcoin         SHA-256       PoW     1.792718e+07   \n",
       "ETH           Ethereum          Ethash       PoW     1.076842e+08   \n",
       "LTC           Litecoin          Scrypt       PoW     6.303924e+07   \n",
       "DASH              Dash             X11   PoW/PoS     9.031294e+06   \n",
       "XMR             Monero  CryptoNight-V7       PoW     1.720114e+07   \n",
       "ETC   Ethereum Classic          Ethash       PoW     1.133597e+08   \n",
       "\n",
       "     TotalCoinSupply  \n",
       "42                42  \n",
       "404        532000000  \n",
       "808                0  \n",
       "1337    314159265359  \n",
       "BTC         21000000  \n",
       "ETH                0  \n",
       "LTC         84000000  \n",
       "DASH        22000000  \n",
       "XMR                0  \n",
       "ETC        210000000  "
      ]
     },
     "execution_count": 11,
     "metadata": {},
     "output_type": "execute_result"
    }
   ],
   "source": [
    "# Remove rows that have at least 1 null value.\n",
    "crypto_df = crypto_df[~(crypto_df.isna() == True).any(axis=1)]\n",
    "print(crypto_df.shape)\n",
    "crypto_df.head(10)"
   ]
  },
  {
   "cell_type": "code",
   "execution_count": 12,
   "metadata": {},
   "outputs": [
    {
     "name": "stdout",
     "output_type": "stream",
     "text": [
      "(577, 5)\n"
     ]
    },
    {
     "data": {
      "text/html": [
       "<div>\n",
       "<style scoped>\n",
       "    .dataframe tbody tr th:only-of-type {\n",
       "        vertical-align: middle;\n",
       "    }\n",
       "\n",
       "    .dataframe tbody tr th {\n",
       "        vertical-align: top;\n",
       "    }\n",
       "\n",
       "    .dataframe thead th {\n",
       "        text-align: right;\n",
       "    }\n",
       "</style>\n",
       "<table border=\"1\" class=\"dataframe\">\n",
       "  <thead>\n",
       "    <tr style=\"text-align: right;\">\n",
       "      <th></th>\n",
       "      <th>CoinName</th>\n",
       "      <th>Algorithm</th>\n",
       "      <th>ProofType</th>\n",
       "      <th>TotalCoinsMined</th>\n",
       "      <th>TotalCoinSupply</th>\n",
       "    </tr>\n",
       "  </thead>\n",
       "  <tbody>\n",
       "    <tr>\n",
       "      <th>42</th>\n",
       "      <td>42 Coin</td>\n",
       "      <td>Scrypt</td>\n",
       "      <td>PoW/PoS</td>\n",
       "      <td>4.199995e+01</td>\n",
       "      <td>42</td>\n",
       "    </tr>\n",
       "    <tr>\n",
       "      <th>404</th>\n",
       "      <td>404Coin</td>\n",
       "      <td>Scrypt</td>\n",
       "      <td>PoW/PoS</td>\n",
       "      <td>1.055185e+09</td>\n",
       "      <td>532000000</td>\n",
       "    </tr>\n",
       "    <tr>\n",
       "      <th>1337</th>\n",
       "      <td>EliteCoin</td>\n",
       "      <td>X13</td>\n",
       "      <td>PoW/PoS</td>\n",
       "      <td>2.927942e+10</td>\n",
       "      <td>314159265359</td>\n",
       "    </tr>\n",
       "    <tr>\n",
       "      <th>BTC</th>\n",
       "      <td>Bitcoin</td>\n",
       "      <td>SHA-256</td>\n",
       "      <td>PoW</td>\n",
       "      <td>1.792718e+07</td>\n",
       "      <td>21000000</td>\n",
       "    </tr>\n",
       "    <tr>\n",
       "      <th>ETH</th>\n",
       "      <td>Ethereum</td>\n",
       "      <td>Ethash</td>\n",
       "      <td>PoW</td>\n",
       "      <td>1.076842e+08</td>\n",
       "      <td>0</td>\n",
       "    </tr>\n",
       "    <tr>\n",
       "      <th>LTC</th>\n",
       "      <td>Litecoin</td>\n",
       "      <td>Scrypt</td>\n",
       "      <td>PoW</td>\n",
       "      <td>6.303924e+07</td>\n",
       "      <td>84000000</td>\n",
       "    </tr>\n",
       "    <tr>\n",
       "      <th>DASH</th>\n",
       "      <td>Dash</td>\n",
       "      <td>X11</td>\n",
       "      <td>PoW/PoS</td>\n",
       "      <td>9.031294e+06</td>\n",
       "      <td>22000000</td>\n",
       "    </tr>\n",
       "    <tr>\n",
       "      <th>XMR</th>\n",
       "      <td>Monero</td>\n",
       "      <td>CryptoNight-V7</td>\n",
       "      <td>PoW</td>\n",
       "      <td>1.720114e+07</td>\n",
       "      <td>0</td>\n",
       "    </tr>\n",
       "    <tr>\n",
       "      <th>ETC</th>\n",
       "      <td>Ethereum Classic</td>\n",
       "      <td>Ethash</td>\n",
       "      <td>PoW</td>\n",
       "      <td>1.133597e+08</td>\n",
       "      <td>210000000</td>\n",
       "    </tr>\n",
       "    <tr>\n",
       "      <th>ZEC</th>\n",
       "      <td>ZCash</td>\n",
       "      <td>Equihash</td>\n",
       "      <td>PoW</td>\n",
       "      <td>7.383056e+06</td>\n",
       "      <td>21000000</td>\n",
       "    </tr>\n",
       "  </tbody>\n",
       "</table>\n",
       "</div>"
      ],
      "text/plain": [
       "              CoinName       Algorithm ProofType  TotalCoinsMined  \\\n",
       "42             42 Coin          Scrypt   PoW/PoS     4.199995e+01   \n",
       "404            404Coin          Scrypt   PoW/PoS     1.055185e+09   \n",
       "1337         EliteCoin             X13   PoW/PoS     2.927942e+10   \n",
       "BTC            Bitcoin         SHA-256       PoW     1.792718e+07   \n",
       "ETH           Ethereum          Ethash       PoW     1.076842e+08   \n",
       "LTC           Litecoin          Scrypt       PoW     6.303924e+07   \n",
       "DASH              Dash             X11   PoW/PoS     9.031294e+06   \n",
       "XMR             Monero  CryptoNight-V7       PoW     1.720114e+07   \n",
       "ETC   Ethereum Classic          Ethash       PoW     1.133597e+08   \n",
       "ZEC              ZCash        Equihash       PoW     7.383056e+06   \n",
       "\n",
       "     TotalCoinSupply  \n",
       "42                42  \n",
       "404        532000000  \n",
       "1337    314159265359  \n",
       "BTC         21000000  \n",
       "ETH                0  \n",
       "LTC         84000000  \n",
       "DASH        22000000  \n",
       "XMR                0  \n",
       "ETC        210000000  \n",
       "ZEC         21000000  "
      ]
     },
     "execution_count": 12,
     "metadata": {},
     "output_type": "execute_result"
    }
   ],
   "source": [
    "# Keep the rows where coins are mined.\n",
    "crypto_df = crypto_df[~(crypto_df.TotalCoinsMined <= 0)]\n",
    "print(crypto_df.shape)\n",
    "crypto_df.head(10)"
   ]
  },
  {
   "cell_type": "code",
   "execution_count": 13,
   "metadata": {},
   "outputs": [
    {
     "name": "stdout",
     "output_type": "stream",
     "text": [
      "(577, 1)\n"
     ]
    },
    {
     "data": {
      "text/html": [
       "<div>\n",
       "<style scoped>\n",
       "    .dataframe tbody tr th:only-of-type {\n",
       "        vertical-align: middle;\n",
       "    }\n",
       "\n",
       "    .dataframe tbody tr th {\n",
       "        vertical-align: top;\n",
       "    }\n",
       "\n",
       "    .dataframe thead th {\n",
       "        text-align: right;\n",
       "    }\n",
       "</style>\n",
       "<table border=\"1\" class=\"dataframe\">\n",
       "  <thead>\n",
       "    <tr style=\"text-align: right;\">\n",
       "      <th></th>\n",
       "      <th>CoinName</th>\n",
       "    </tr>\n",
       "  </thead>\n",
       "  <tbody>\n",
       "    <tr>\n",
       "      <th>42</th>\n",
       "      <td>42 Coin</td>\n",
       "    </tr>\n",
       "    <tr>\n",
       "      <th>404</th>\n",
       "      <td>404Coin</td>\n",
       "    </tr>\n",
       "    <tr>\n",
       "      <th>1337</th>\n",
       "      <td>EliteCoin</td>\n",
       "    </tr>\n",
       "    <tr>\n",
       "      <th>BTC</th>\n",
       "      <td>Bitcoin</td>\n",
       "    </tr>\n",
       "    <tr>\n",
       "      <th>ETH</th>\n",
       "      <td>Ethereum</td>\n",
       "    </tr>\n",
       "  </tbody>\n",
       "</table>\n",
       "</div>"
      ],
      "text/plain": [
       "       CoinName\n",
       "42      42 Coin\n",
       "404     404Coin\n",
       "1337  EliteCoin\n",
       "BTC     Bitcoin\n",
       "ETH    Ethereum"
      ]
     },
     "execution_count": 13,
     "metadata": {},
     "output_type": "execute_result"
    }
   ],
   "source": [
    "# Create a new DataFrame that holds only the cryptocurrencies names.\n",
    "crypto_name_df = pd.DataFrame(crypto_df.CoinName)\n",
    "print(crypto_name_df.shape)\n",
    "crypto_name_df.head()"
   ]
  },
  {
   "cell_type": "code",
   "execution_count": 14,
   "metadata": {},
   "outputs": [
    {
     "name": "stdout",
     "output_type": "stream",
     "text": [
      "(577, 4)\n"
     ]
    },
    {
     "data": {
      "text/html": [
       "<div>\n",
       "<style scoped>\n",
       "    .dataframe tbody tr th:only-of-type {\n",
       "        vertical-align: middle;\n",
       "    }\n",
       "\n",
       "    .dataframe tbody tr th {\n",
       "        vertical-align: top;\n",
       "    }\n",
       "\n",
       "    .dataframe thead th {\n",
       "        text-align: right;\n",
       "    }\n",
       "</style>\n",
       "<table border=\"1\" class=\"dataframe\">\n",
       "  <thead>\n",
       "    <tr style=\"text-align: right;\">\n",
       "      <th></th>\n",
       "      <th>Algorithm</th>\n",
       "      <th>ProofType</th>\n",
       "      <th>TotalCoinsMined</th>\n",
       "      <th>TotalCoinSupply</th>\n",
       "    </tr>\n",
       "  </thead>\n",
       "  <tbody>\n",
       "    <tr>\n",
       "      <th>42</th>\n",
       "      <td>Scrypt</td>\n",
       "      <td>PoW/PoS</td>\n",
       "      <td>4.199995e+01</td>\n",
       "      <td>42</td>\n",
       "    </tr>\n",
       "    <tr>\n",
       "      <th>404</th>\n",
       "      <td>Scrypt</td>\n",
       "      <td>PoW/PoS</td>\n",
       "      <td>1.055185e+09</td>\n",
       "      <td>532000000</td>\n",
       "    </tr>\n",
       "    <tr>\n",
       "      <th>1337</th>\n",
       "      <td>X13</td>\n",
       "      <td>PoW/PoS</td>\n",
       "      <td>2.927942e+10</td>\n",
       "      <td>314159265359</td>\n",
       "    </tr>\n",
       "    <tr>\n",
       "      <th>BTC</th>\n",
       "      <td>SHA-256</td>\n",
       "      <td>PoW</td>\n",
       "      <td>1.792718e+07</td>\n",
       "      <td>21000000</td>\n",
       "    </tr>\n",
       "    <tr>\n",
       "      <th>ETH</th>\n",
       "      <td>Ethash</td>\n",
       "      <td>PoW</td>\n",
       "      <td>1.076842e+08</td>\n",
       "      <td>0</td>\n",
       "    </tr>\n",
       "    <tr>\n",
       "      <th>LTC</th>\n",
       "      <td>Scrypt</td>\n",
       "      <td>PoW</td>\n",
       "      <td>6.303924e+07</td>\n",
       "      <td>84000000</td>\n",
       "    </tr>\n",
       "    <tr>\n",
       "      <th>DASH</th>\n",
       "      <td>X11</td>\n",
       "      <td>PoW/PoS</td>\n",
       "      <td>9.031294e+06</td>\n",
       "      <td>22000000</td>\n",
       "    </tr>\n",
       "    <tr>\n",
       "      <th>XMR</th>\n",
       "      <td>CryptoNight-V7</td>\n",
       "      <td>PoW</td>\n",
       "      <td>1.720114e+07</td>\n",
       "      <td>0</td>\n",
       "    </tr>\n",
       "    <tr>\n",
       "      <th>ETC</th>\n",
       "      <td>Ethash</td>\n",
       "      <td>PoW</td>\n",
       "      <td>1.133597e+08</td>\n",
       "      <td>210000000</td>\n",
       "    </tr>\n",
       "    <tr>\n",
       "      <th>ZEC</th>\n",
       "      <td>Equihash</td>\n",
       "      <td>PoW</td>\n",
       "      <td>7.383056e+06</td>\n",
       "      <td>21000000</td>\n",
       "    </tr>\n",
       "  </tbody>\n",
       "</table>\n",
       "</div>"
      ],
      "text/plain": [
       "           Algorithm ProofType  TotalCoinsMined TotalCoinSupply\n",
       "42            Scrypt   PoW/PoS     4.199995e+01              42\n",
       "404           Scrypt   PoW/PoS     1.055185e+09       532000000\n",
       "1337             X13   PoW/PoS     2.927942e+10    314159265359\n",
       "BTC          SHA-256       PoW     1.792718e+07        21000000\n",
       "ETH           Ethash       PoW     1.076842e+08               0\n",
       "LTC           Scrypt       PoW     6.303924e+07        84000000\n",
       "DASH             X11   PoW/PoS     9.031294e+06        22000000\n",
       "XMR   CryptoNight-V7       PoW     1.720114e+07               0\n",
       "ETC           Ethash       PoW     1.133597e+08       210000000\n",
       "ZEC         Equihash       PoW     7.383056e+06        21000000"
      ]
     },
     "execution_count": 14,
     "metadata": {},
     "output_type": "execute_result"
    }
   ],
   "source": [
    "# Drop the 'CoinName' column since it's not going to be used on the clustering algorithm.\n",
    "crypto_df = crypto_df.drop(columns=\"CoinName\")\n",
    "print(crypto_df.shape)\n",
    "crypto_df.head(10)"
   ]
  },
  {
   "cell_type": "code",
   "execution_count": 15,
   "metadata": {},
   "outputs": [
    {
     "name": "stdout",
     "output_type": "stream",
     "text": [
      "(577, 101)\n"
     ]
    },
    {
     "data": {
      "text/html": [
       "<div>\n",
       "<style scoped>\n",
       "    .dataframe tbody tr th:only-of-type {\n",
       "        vertical-align: middle;\n",
       "    }\n",
       "\n",
       "    .dataframe tbody tr th {\n",
       "        vertical-align: top;\n",
       "    }\n",
       "\n",
       "    .dataframe thead th {\n",
       "        text-align: right;\n",
       "    }\n",
       "</style>\n",
       "<table border=\"1\" class=\"dataframe\">\n",
       "  <thead>\n",
       "    <tr style=\"text-align: right;\">\n",
       "      <th></th>\n",
       "      <th>TotalCoinsMined</th>\n",
       "      <th>TotalCoinSupply</th>\n",
       "      <th>Algorithm_1GB AES Pattern Search</th>\n",
       "      <th>Algorithm_536</th>\n",
       "      <th>Algorithm_Argon2d</th>\n",
       "      <th>Algorithm_BLAKE256</th>\n",
       "      <th>Algorithm_Blake</th>\n",
       "      <th>Algorithm_Blake2S</th>\n",
       "      <th>Algorithm_Blake2b</th>\n",
       "      <th>Algorithm_C11</th>\n",
       "      <th>...</th>\n",
       "      <th>ProofType_PoW/PoS</th>\n",
       "      <th>ProofType_PoW/PoS</th>\n",
       "      <th>ProofType_PoW/PoW</th>\n",
       "      <th>ProofType_PoW/nPoS</th>\n",
       "      <th>ProofType_Pos</th>\n",
       "      <th>ProofType_Proof of Authority</th>\n",
       "      <th>ProofType_Proof of Trust</th>\n",
       "      <th>ProofType_TPoS</th>\n",
       "      <th>ProofType_Zero-Knowledge Proof</th>\n",
       "      <th>ProofType_dPoW/PoW</th>\n",
       "    </tr>\n",
       "  </thead>\n",
       "  <tbody>\n",
       "    <tr>\n",
       "      <th>42</th>\n",
       "      <td>4.199995e+01</td>\n",
       "      <td>42</td>\n",
       "      <td>0</td>\n",
       "      <td>0</td>\n",
       "      <td>0</td>\n",
       "      <td>0</td>\n",
       "      <td>0</td>\n",
       "      <td>0</td>\n",
       "      <td>0</td>\n",
       "      <td>0</td>\n",
       "      <td>...</td>\n",
       "      <td>1</td>\n",
       "      <td>0</td>\n",
       "      <td>0</td>\n",
       "      <td>0</td>\n",
       "      <td>0</td>\n",
       "      <td>0</td>\n",
       "      <td>0</td>\n",
       "      <td>0</td>\n",
       "      <td>0</td>\n",
       "      <td>0</td>\n",
       "    </tr>\n",
       "    <tr>\n",
       "      <th>404</th>\n",
       "      <td>1.055185e+09</td>\n",
       "      <td>532000000</td>\n",
       "      <td>0</td>\n",
       "      <td>0</td>\n",
       "      <td>0</td>\n",
       "      <td>0</td>\n",
       "      <td>0</td>\n",
       "      <td>0</td>\n",
       "      <td>0</td>\n",
       "      <td>0</td>\n",
       "      <td>...</td>\n",
       "      <td>1</td>\n",
       "      <td>0</td>\n",
       "      <td>0</td>\n",
       "      <td>0</td>\n",
       "      <td>0</td>\n",
       "      <td>0</td>\n",
       "      <td>0</td>\n",
       "      <td>0</td>\n",
       "      <td>0</td>\n",
       "      <td>0</td>\n",
       "    </tr>\n",
       "    <tr>\n",
       "      <th>1337</th>\n",
       "      <td>2.927942e+10</td>\n",
       "      <td>314159265359</td>\n",
       "      <td>0</td>\n",
       "      <td>0</td>\n",
       "      <td>0</td>\n",
       "      <td>0</td>\n",
       "      <td>0</td>\n",
       "      <td>0</td>\n",
       "      <td>0</td>\n",
       "      <td>0</td>\n",
       "      <td>...</td>\n",
       "      <td>1</td>\n",
       "      <td>0</td>\n",
       "      <td>0</td>\n",
       "      <td>0</td>\n",
       "      <td>0</td>\n",
       "      <td>0</td>\n",
       "      <td>0</td>\n",
       "      <td>0</td>\n",
       "      <td>0</td>\n",
       "      <td>0</td>\n",
       "    </tr>\n",
       "    <tr>\n",
       "      <th>BTC</th>\n",
       "      <td>1.792718e+07</td>\n",
       "      <td>21000000</td>\n",
       "      <td>0</td>\n",
       "      <td>0</td>\n",
       "      <td>0</td>\n",
       "      <td>0</td>\n",
       "      <td>0</td>\n",
       "      <td>0</td>\n",
       "      <td>0</td>\n",
       "      <td>0</td>\n",
       "      <td>...</td>\n",
       "      <td>0</td>\n",
       "      <td>0</td>\n",
       "      <td>0</td>\n",
       "      <td>0</td>\n",
       "      <td>0</td>\n",
       "      <td>0</td>\n",
       "      <td>0</td>\n",
       "      <td>0</td>\n",
       "      <td>0</td>\n",
       "      <td>0</td>\n",
       "    </tr>\n",
       "    <tr>\n",
       "      <th>ETH</th>\n",
       "      <td>1.076842e+08</td>\n",
       "      <td>0</td>\n",
       "      <td>0</td>\n",
       "      <td>0</td>\n",
       "      <td>0</td>\n",
       "      <td>0</td>\n",
       "      <td>0</td>\n",
       "      <td>0</td>\n",
       "      <td>0</td>\n",
       "      <td>0</td>\n",
       "      <td>...</td>\n",
       "      <td>0</td>\n",
       "      <td>0</td>\n",
       "      <td>0</td>\n",
       "      <td>0</td>\n",
       "      <td>0</td>\n",
       "      <td>0</td>\n",
       "      <td>0</td>\n",
       "      <td>0</td>\n",
       "      <td>0</td>\n",
       "      <td>0</td>\n",
       "    </tr>\n",
       "    <tr>\n",
       "      <th>LTC</th>\n",
       "      <td>6.303924e+07</td>\n",
       "      <td>84000000</td>\n",
       "      <td>0</td>\n",
       "      <td>0</td>\n",
       "      <td>0</td>\n",
       "      <td>0</td>\n",
       "      <td>0</td>\n",
       "      <td>0</td>\n",
       "      <td>0</td>\n",
       "      <td>0</td>\n",
       "      <td>...</td>\n",
       "      <td>0</td>\n",
       "      <td>0</td>\n",
       "      <td>0</td>\n",
       "      <td>0</td>\n",
       "      <td>0</td>\n",
       "      <td>0</td>\n",
       "      <td>0</td>\n",
       "      <td>0</td>\n",
       "      <td>0</td>\n",
       "      <td>0</td>\n",
       "    </tr>\n",
       "    <tr>\n",
       "      <th>DASH</th>\n",
       "      <td>9.031294e+06</td>\n",
       "      <td>22000000</td>\n",
       "      <td>0</td>\n",
       "      <td>0</td>\n",
       "      <td>0</td>\n",
       "      <td>0</td>\n",
       "      <td>0</td>\n",
       "      <td>0</td>\n",
       "      <td>0</td>\n",
       "      <td>0</td>\n",
       "      <td>...</td>\n",
       "      <td>1</td>\n",
       "      <td>0</td>\n",
       "      <td>0</td>\n",
       "      <td>0</td>\n",
       "      <td>0</td>\n",
       "      <td>0</td>\n",
       "      <td>0</td>\n",
       "      <td>0</td>\n",
       "      <td>0</td>\n",
       "      <td>0</td>\n",
       "    </tr>\n",
       "    <tr>\n",
       "      <th>XMR</th>\n",
       "      <td>1.720114e+07</td>\n",
       "      <td>0</td>\n",
       "      <td>0</td>\n",
       "      <td>0</td>\n",
       "      <td>0</td>\n",
       "      <td>0</td>\n",
       "      <td>0</td>\n",
       "      <td>0</td>\n",
       "      <td>0</td>\n",
       "      <td>0</td>\n",
       "      <td>...</td>\n",
       "      <td>0</td>\n",
       "      <td>0</td>\n",
       "      <td>0</td>\n",
       "      <td>0</td>\n",
       "      <td>0</td>\n",
       "      <td>0</td>\n",
       "      <td>0</td>\n",
       "      <td>0</td>\n",
       "      <td>0</td>\n",
       "      <td>0</td>\n",
       "    </tr>\n",
       "    <tr>\n",
       "      <th>ETC</th>\n",
       "      <td>1.133597e+08</td>\n",
       "      <td>210000000</td>\n",
       "      <td>0</td>\n",
       "      <td>0</td>\n",
       "      <td>0</td>\n",
       "      <td>0</td>\n",
       "      <td>0</td>\n",
       "      <td>0</td>\n",
       "      <td>0</td>\n",
       "      <td>0</td>\n",
       "      <td>...</td>\n",
       "      <td>0</td>\n",
       "      <td>0</td>\n",
       "      <td>0</td>\n",
       "      <td>0</td>\n",
       "      <td>0</td>\n",
       "      <td>0</td>\n",
       "      <td>0</td>\n",
       "      <td>0</td>\n",
       "      <td>0</td>\n",
       "      <td>0</td>\n",
       "    </tr>\n",
       "    <tr>\n",
       "      <th>ZEC</th>\n",
       "      <td>7.383056e+06</td>\n",
       "      <td>21000000</td>\n",
       "      <td>0</td>\n",
       "      <td>0</td>\n",
       "      <td>0</td>\n",
       "      <td>0</td>\n",
       "      <td>0</td>\n",
       "      <td>0</td>\n",
       "      <td>0</td>\n",
       "      <td>0</td>\n",
       "      <td>...</td>\n",
       "      <td>0</td>\n",
       "      <td>0</td>\n",
       "      <td>0</td>\n",
       "      <td>0</td>\n",
       "      <td>0</td>\n",
       "      <td>0</td>\n",
       "      <td>0</td>\n",
       "      <td>0</td>\n",
       "      <td>0</td>\n",
       "      <td>0</td>\n",
       "    </tr>\n",
       "  </tbody>\n",
       "</table>\n",
       "<p>10 rows × 101 columns</p>\n",
       "</div>"
      ],
      "text/plain": [
       "      TotalCoinsMined TotalCoinSupply  Algorithm_1GB AES Pattern Search  \\\n",
       "42       4.199995e+01              42                                 0   \n",
       "404      1.055185e+09       532000000                                 0   \n",
       "1337     2.927942e+10    314159265359                                 0   \n",
       "BTC      1.792718e+07        21000000                                 0   \n",
       "ETH      1.076842e+08               0                                 0   \n",
       "LTC      6.303924e+07        84000000                                 0   \n",
       "DASH     9.031294e+06        22000000                                 0   \n",
       "XMR      1.720114e+07               0                                 0   \n",
       "ETC      1.133597e+08       210000000                                 0   \n",
       "ZEC      7.383056e+06        21000000                                 0   \n",
       "\n",
       "      Algorithm_536  Algorithm_Argon2d  Algorithm_BLAKE256  Algorithm_Blake  \\\n",
       "42                0                  0                   0                0   \n",
       "404               0                  0                   0                0   \n",
       "1337              0                  0                   0                0   \n",
       "BTC               0                  0                   0                0   \n",
       "ETH               0                  0                   0                0   \n",
       "LTC               0                  0                   0                0   \n",
       "DASH              0                  0                   0                0   \n",
       "XMR               0                  0                   0                0   \n",
       "ETC               0                  0                   0                0   \n",
       "ZEC               0                  0                   0                0   \n",
       "\n",
       "      Algorithm_Blake2S  Algorithm_Blake2b  Algorithm_C11  ...  \\\n",
       "42                    0                  0              0  ...   \n",
       "404                   0                  0              0  ...   \n",
       "1337                  0                  0              0  ...   \n",
       "BTC                   0                  0              0  ...   \n",
       "ETH                   0                  0              0  ...   \n",
       "LTC                   0                  0              0  ...   \n",
       "DASH                  0                  0              0  ...   \n",
       "XMR                   0                  0              0  ...   \n",
       "ETC                   0                  0              0  ...   \n",
       "ZEC                   0                  0              0  ...   \n",
       "\n",
       "      ProofType_PoW/PoS  ProofType_PoW/PoS   ProofType_PoW/PoW  \\\n",
       "42                    1                   0                  0   \n",
       "404                   1                   0                  0   \n",
       "1337                  1                   0                  0   \n",
       "BTC                   0                   0                  0   \n",
       "ETH                   0                   0                  0   \n",
       "LTC                   0                   0                  0   \n",
       "DASH                  1                   0                  0   \n",
       "XMR                   0                   0                  0   \n",
       "ETC                   0                   0                  0   \n",
       "ZEC                   0                   0                  0   \n",
       "\n",
       "      ProofType_PoW/nPoS  ProofType_Pos  ProofType_Proof of Authority  \\\n",
       "42                     0              0                             0   \n",
       "404                    0              0                             0   \n",
       "1337                   0              0                             0   \n",
       "BTC                    0              0                             0   \n",
       "ETH                    0              0                             0   \n",
       "LTC                    0              0                             0   \n",
       "DASH                   0              0                             0   \n",
       "XMR                    0              0                             0   \n",
       "ETC                    0              0                             0   \n",
       "ZEC                    0              0                             0   \n",
       "\n",
       "      ProofType_Proof of Trust  ProofType_TPoS  \\\n",
       "42                           0               0   \n",
       "404                          0               0   \n",
       "1337                         0               0   \n",
       "BTC                          0               0   \n",
       "ETH                          0               0   \n",
       "LTC                          0               0   \n",
       "DASH                         0               0   \n",
       "XMR                          0               0   \n",
       "ETC                          0               0   \n",
       "ZEC                          0               0   \n",
       "\n",
       "      ProofType_Zero-Knowledge Proof  ProofType_dPoW/PoW  \n",
       "42                                 0                   0  \n",
       "404                                0                   0  \n",
       "1337                               0                   0  \n",
       "BTC                                0                   0  \n",
       "ETH                                0                   0  \n",
       "LTC                                0                   0  \n",
       "DASH                               0                   0  \n",
       "XMR                                0                   0  \n",
       "ETC                                0                   0  \n",
       "ZEC                                0                   0  \n",
       "\n",
       "[10 rows x 101 columns]"
      ]
     },
     "execution_count": 15,
     "metadata": {},
     "output_type": "execute_result"
    }
   ],
   "source": [
    "# Use get_dummies() to create variables for text features.\n",
    "dummies_df = pd.get_dummies(crypto_df, columns=[\"Algorithm\", \"ProofType\"])\n",
    "print(dummies_df.shape)\n",
    "dummies_df.head(10)"
   ]
  },
  {
   "cell_type": "code",
   "execution_count": 17,
   "metadata": {},
   "outputs": [
    {
     "data": {
      "text/plain": [
       "array([[-0.11450078, -0.15072489, -0.04166667, -0.04166667, -0.04166667,\n",
       "        -0.05897678, -0.0934947 , -0.04166667, -0.05897678, -0.05897678,\n",
       "        -0.04166667, -0.04166667, -0.18949048, -0.05897678, -0.0934947 ,\n",
       "        -0.04166667, -0.11081833, -0.0722944 , -0.04166667, -0.04166667,\n",
       "        -0.1518211 , -0.04166667, -0.13280318, -0.04166667, -0.04166667,\n",
       "        -0.0835512 , -0.05897678, -0.04166667, -0.04166667, -0.04166667,\n",
       "        -0.05897678, -0.04166667, -0.0835512 , -0.0934947 , -0.10250796,\n",
       "        -0.04166667, -0.1258772 , -0.13280318, -0.1518211 , -0.04166667,\n",
       "        -0.0835512 , -0.04166667, -0.04166667, -0.0722944 , -0.17423301,\n",
       "        -0.04166667, -0.04166667, -0.04166667, -0.0722944 , -0.16888013,\n",
       "        -0.30802055, -0.04166667, -0.0934947 , -0.0934947 , -0.05897678,\n",
       "         1.39963365, -0.04166667, -0.04166667, -0.04166667, -0.0835512 ,\n",
       "        -0.04166667, -0.04166667, -0.04166667, -0.04166667, -0.04166667,\n",
       "        -0.05897678, -0.04166667, -0.04166667, -0.39536391, -0.04166667,\n",
       "        -0.17423301, -0.04166667, -0.0835512 , -0.0835512 , -0.10250796,\n",
       "        -0.04166667, -0.1258772 , -0.04166667, -0.04166667, -0.04166667,\n",
       "        -0.04166667, -0.04166667, -0.0722944 , -0.44395432, -0.04166667,\n",
       "        -0.05897678, -0.04166667, -0.04166667, -0.88990194, -0.04166667,\n",
       "        -0.04166667,  1.41054504, -0.04166667, -0.04166667, -0.04166667,\n",
       "        -0.04166667, -0.04166667, -0.04166667, -0.04166667, -0.04166667,\n",
       "        -0.04166667],\n",
       "       [-0.09041991, -0.14255828, -0.04166667, -0.04166667, -0.04166667,\n",
       "        -0.05897678, -0.0934947 , -0.04166667, -0.05897678, -0.05897678,\n",
       "        -0.04166667, -0.04166667, -0.18949048, -0.05897678, -0.0934947 ,\n",
       "        -0.04166667, -0.11081833, -0.0722944 , -0.04166667, -0.04166667,\n",
       "        -0.1518211 , -0.04166667, -0.13280318, -0.04166667, -0.04166667,\n",
       "        -0.0835512 , -0.05897678, -0.04166667, -0.04166667, -0.04166667,\n",
       "        -0.05897678, -0.04166667, -0.0835512 , -0.0934947 , -0.10250796,\n",
       "        -0.04166667, -0.1258772 , -0.13280318, -0.1518211 , -0.04166667,\n",
       "        -0.0835512 , -0.04166667, -0.04166667, -0.0722944 , -0.17423301,\n",
       "        -0.04166667, -0.04166667, -0.04166667, -0.0722944 , -0.16888013,\n",
       "        -0.30802055, -0.04166667, -0.0934947 , -0.0934947 , -0.05897678,\n",
       "         1.39963365, -0.04166667, -0.04166667, -0.04166667, -0.0835512 ,\n",
       "        -0.04166667, -0.04166667, -0.04166667, -0.04166667, -0.04166667,\n",
       "        -0.05897678, -0.04166667, -0.04166667, -0.39536391, -0.04166667,\n",
       "        -0.17423301, -0.04166667, -0.0835512 , -0.0835512 , -0.10250796,\n",
       "        -0.04166667, -0.1258772 , -0.04166667, -0.04166667, -0.04166667,\n",
       "        -0.04166667, -0.04166667, -0.0722944 , -0.44395432, -0.04166667,\n",
       "        -0.05897678, -0.04166667, -0.04166667, -0.88990194, -0.04166667,\n",
       "        -0.04166667,  1.41054504, -0.04166667, -0.04166667, -0.04166667,\n",
       "        -0.04166667, -0.04166667, -0.04166667, -0.04166667, -0.04166667,\n",
       "        -0.04166667],\n",
       "       [ 0.55369883,  4.67185916, -0.04166667, -0.04166667, -0.04166667,\n",
       "        -0.05897678, -0.0934947 , -0.04166667, -0.05897678, -0.05897678,\n",
       "        -0.04166667, -0.04166667, -0.18949048, -0.05897678, -0.0934947 ,\n",
       "        -0.04166667, -0.11081833, -0.0722944 , -0.04166667, -0.04166667,\n",
       "        -0.1518211 , -0.04166667, -0.13280318, -0.04166667, -0.04166667,\n",
       "        -0.0835512 , -0.05897678, -0.04166667, -0.04166667, -0.04166667,\n",
       "        -0.05897678, -0.04166667, -0.0835512 , -0.0934947 , -0.10250796,\n",
       "        -0.04166667, -0.1258772 , -0.13280318, -0.1518211 , -0.04166667,\n",
       "        -0.0835512 , -0.04166667, -0.04166667, -0.0722944 , -0.17423301,\n",
       "        -0.04166667, -0.04166667, -0.04166667, -0.0722944 , -0.16888013,\n",
       "        -0.30802055, -0.04166667, -0.0934947 , -0.0934947 , -0.05897678,\n",
       "        -0.71447268, -0.04166667, -0.04166667, -0.04166667, -0.0835512 ,\n",
       "        -0.04166667, -0.04166667, -0.04166667, -0.04166667, -0.04166667,\n",
       "        -0.05897678, -0.04166667, -0.04166667, -0.39536391, -0.04166667,\n",
       "         5.73944043, -0.04166667, -0.0835512 , -0.0835512 , -0.10250796,\n",
       "        -0.04166667, -0.1258772 , -0.04166667, -0.04166667, -0.04166667,\n",
       "        -0.04166667, -0.04166667, -0.0722944 , -0.44395432, -0.04166667,\n",
       "        -0.05897678, -0.04166667, -0.04166667, -0.88990194, -0.04166667,\n",
       "        -0.04166667,  1.41054504, -0.04166667, -0.04166667, -0.04166667,\n",
       "        -0.04166667, -0.04166667, -0.04166667, -0.04166667, -0.04166667,\n",
       "        -0.04166667],\n",
       "       [-0.11409166, -0.15040252, -0.04166667, -0.04166667, -0.04166667,\n",
       "        -0.05897678, -0.0934947 , -0.04166667, -0.05897678, -0.05897678,\n",
       "        -0.04166667, -0.04166667, -0.18949048, -0.05897678, -0.0934947 ,\n",
       "        -0.04166667, -0.11081833, -0.0722944 , -0.04166667, -0.04166667,\n",
       "        -0.1518211 , -0.04166667, -0.13280318, -0.04166667, -0.04166667,\n",
       "        -0.0835512 , -0.05897678, -0.04166667, -0.04166667, -0.04166667,\n",
       "        -0.05897678, -0.04166667, -0.0835512 , -0.0934947 , -0.10250796,\n",
       "        -0.04166667, -0.1258772 , -0.13280318, -0.1518211 , -0.04166667,\n",
       "        -0.0835512 , -0.04166667, -0.04166667, -0.0722944 , -0.17423301,\n",
       "        -0.04166667, -0.04166667, -0.04166667, -0.0722944 , -0.16888013,\n",
       "         3.24653662, -0.04166667, -0.0934947 , -0.0934947 , -0.05897678,\n",
       "        -0.71447268, -0.04166667, -0.04166667, -0.04166667, -0.0835512 ,\n",
       "        -0.04166667, -0.04166667, -0.04166667, -0.04166667, -0.04166667,\n",
       "        -0.05897678, -0.04166667, -0.04166667, -0.39536391, -0.04166667,\n",
       "        -0.17423301, -0.04166667, -0.0835512 , -0.0835512 , -0.10250796,\n",
       "        -0.04166667, -0.1258772 , -0.04166667, -0.04166667, -0.04166667,\n",
       "        -0.04166667, -0.04166667, -0.0722944 , -0.44395432, -0.04166667,\n",
       "        -0.05897678, -0.04166667, -0.04166667,  1.12371931, -0.04166667,\n",
       "        -0.04166667, -0.70894581, -0.04166667, -0.04166667, -0.04166667,\n",
       "        -0.04166667, -0.04166667, -0.04166667, -0.04166667, -0.04166667,\n",
       "        -0.04166667],\n",
       "       [-0.11204327, -0.15072489, -0.04166667, -0.04166667, -0.04166667,\n",
       "        -0.05897678, -0.0934947 , -0.04166667, -0.05897678, -0.05897678,\n",
       "        -0.04166667, -0.04166667, -0.18949048, -0.05897678, -0.0934947 ,\n",
       "        -0.04166667, -0.11081833, -0.0722944 , -0.04166667, -0.04166667,\n",
       "        -0.1518211 , -0.04166667,  7.52994024, -0.04166667, -0.04166667,\n",
       "        -0.0835512 , -0.05897678, -0.04166667, -0.04166667, -0.04166667,\n",
       "        -0.05897678, -0.04166667, -0.0835512 , -0.0934947 , -0.10250796,\n",
       "        -0.04166667, -0.1258772 , -0.13280318, -0.1518211 , -0.04166667,\n",
       "        -0.0835512 , -0.04166667, -0.04166667, -0.0722944 , -0.17423301,\n",
       "        -0.04166667, -0.04166667, -0.04166667, -0.0722944 , -0.16888013,\n",
       "        -0.30802055, -0.04166667, -0.0934947 , -0.0934947 , -0.05897678,\n",
       "        -0.71447268, -0.04166667, -0.04166667, -0.04166667, -0.0835512 ,\n",
       "        -0.04166667, -0.04166667, -0.04166667, -0.04166667, -0.04166667,\n",
       "        -0.05897678, -0.04166667, -0.04166667, -0.39536391, -0.04166667,\n",
       "        -0.17423301, -0.04166667, -0.0835512 , -0.0835512 , -0.10250796,\n",
       "        -0.04166667, -0.1258772 , -0.04166667, -0.04166667, -0.04166667,\n",
       "        -0.04166667, -0.04166667, -0.0722944 , -0.44395432, -0.04166667,\n",
       "        -0.05897678, -0.04166667, -0.04166667,  1.12371931, -0.04166667,\n",
       "        -0.04166667, -0.70894581, -0.04166667, -0.04166667, -0.04166667,\n",
       "        -0.04166667, -0.04166667, -0.04166667, -0.04166667, -0.04166667,\n",
       "        -0.04166667]])"
      ]
     },
     "execution_count": 17,
     "metadata": {},
     "output_type": "execute_result"
    }
   ],
   "source": [
    "# Standardize the data with StandardScaler().\n",
    "scaler = StandardScaler()\n",
    "crypto_scaled = scaler.fit_transform(dummies_df)\n",
    "crypto_scaled[0:5]"
   ]
  },
  {
   "cell_type": "markdown",
   "metadata": {},
   "source": [
    "### Deliverable 2: Reducing Data Dimensions Using PCA"
   ]
  },
  {
   "cell_type": "code",
   "execution_count": 18,
   "metadata": {},
   "outputs": [
    {
     "data": {
      "text/plain": [
       "array([[-0.33690748,  1.12738969, -0.56886718],\n",
       "       [-0.3195569 ,  1.12760082, -0.56933657],\n",
       "       [ 2.42766077,  1.74488494, -0.59499903],\n",
       "       ...,\n",
       "       [-0.17862615, -2.07301648,  0.19465419],\n",
       "       [-0.28353914,  0.77961537, -0.24774565],\n",
       "       [-0.33589716,  1.12735276, -0.56888174]])"
      ]
     },
     "execution_count": 18,
     "metadata": {},
     "output_type": "execute_result"
    }
   ],
   "source": [
    "# Using PCA to reduce dimension to three principal components.\n",
    "pca = PCA(n_components=3)\n",
    "crypto_pca = pca.fit_transform(crypto_scaled)\n",
    "crypto_pca"
   ]
  },
  {
   "cell_type": "code",
   "execution_count": 19,
   "metadata": {},
   "outputs": [
    {
     "name": "stdout",
     "output_type": "stream",
     "text": [
      "(577, 3)\n"
     ]
    },
    {
     "data": {
      "text/html": [
       "<div>\n",
       "<style scoped>\n",
       "    .dataframe tbody tr th:only-of-type {\n",
       "        vertical-align: middle;\n",
       "    }\n",
       "\n",
       "    .dataframe tbody tr th {\n",
       "        vertical-align: top;\n",
       "    }\n",
       "\n",
       "    .dataframe thead th {\n",
       "        text-align: right;\n",
       "    }\n",
       "</style>\n",
       "<table border=\"1\" class=\"dataframe\">\n",
       "  <thead>\n",
       "    <tr style=\"text-align: right;\">\n",
       "      <th></th>\n",
       "      <th>PC 1</th>\n",
       "      <th>PC 2</th>\n",
       "      <th>PC 3</th>\n",
       "    </tr>\n",
       "  </thead>\n",
       "  <tbody>\n",
       "    <tr>\n",
       "      <th>42</th>\n",
       "      <td>-0.336907</td>\n",
       "      <td>1.127390</td>\n",
       "      <td>-0.568867</td>\n",
       "    </tr>\n",
       "    <tr>\n",
       "      <th>404</th>\n",
       "      <td>-0.319557</td>\n",
       "      <td>1.127601</td>\n",
       "      <td>-0.569337</td>\n",
       "    </tr>\n",
       "    <tr>\n",
       "      <th>1337</th>\n",
       "      <td>2.427661</td>\n",
       "      <td>1.744885</td>\n",
       "      <td>-0.594999</td>\n",
       "    </tr>\n",
       "    <tr>\n",
       "      <th>BTC</th>\n",
       "      <td>-0.135848</td>\n",
       "      <td>-1.338578</td>\n",
       "      <td>0.184732</td>\n",
       "    </tr>\n",
       "    <tr>\n",
       "      <th>ETH</th>\n",
       "      <td>-0.122529</td>\n",
       "      <td>-2.051149</td>\n",
       "      <td>0.321994</td>\n",
       "    </tr>\n",
       "    <tr>\n",
       "      <th>LTC</th>\n",
       "      <td>-0.168796</td>\n",
       "      <td>-1.090481</td>\n",
       "      <td>-0.063655</td>\n",
       "    </tr>\n",
       "    <tr>\n",
       "      <th>DASH</th>\n",
       "      <td>-0.378986</td>\n",
       "      <td>1.287091</td>\n",
       "      <td>-0.389717</td>\n",
       "    </tr>\n",
       "    <tr>\n",
       "      <th>XMR</th>\n",
       "      <td>-0.136229</td>\n",
       "      <td>-2.259506</td>\n",
       "      <td>0.402620</td>\n",
       "    </tr>\n",
       "    <tr>\n",
       "      <th>ETC</th>\n",
       "      <td>-0.120910</td>\n",
       "      <td>-2.051243</td>\n",
       "      <td>0.321980</td>\n",
       "    </tr>\n",
       "    <tr>\n",
       "      <th>ZEC</th>\n",
       "      <td>-0.178625</td>\n",
       "      <td>-2.073016</td>\n",
       "      <td>0.194654</td>\n",
       "    </tr>\n",
       "  </tbody>\n",
       "</table>\n",
       "</div>"
      ],
      "text/plain": [
       "          PC 1      PC 2      PC 3\n",
       "42   -0.336907  1.127390 -0.568867\n",
       "404  -0.319557  1.127601 -0.569337\n",
       "1337  2.427661  1.744885 -0.594999\n",
       "BTC  -0.135848 -1.338578  0.184732\n",
       "ETH  -0.122529 -2.051149  0.321994\n",
       "LTC  -0.168796 -1.090481 -0.063655\n",
       "DASH -0.378986  1.287091 -0.389717\n",
       "XMR  -0.136229 -2.259506  0.402620\n",
       "ETC  -0.120910 -2.051243  0.321980\n",
       "ZEC  -0.178625 -2.073016  0.194654"
      ]
     },
     "execution_count": 19,
     "metadata": {},
     "output_type": "execute_result"
    }
   ],
   "source": [
    "# Create a DataFrame with the three principal components.\n",
    "pcs_df = pd.DataFrame(crypto_pca, columns=[\"PC 1\", \"PC 2\", \"PC 3\"], index=crypto_name_df.index)\n",
    "print(pcs_df.shape)\n",
    "pcs_df.head(10)"
   ]
  },
  {
   "cell_type": "markdown",
   "metadata": {},
   "source": [
    "### Deliverable 3: Clustering Crytocurrencies Using K-Means\n",
    "\n",
    "#### Finding the Best Value for `k` Using the Elbow Curve"
   ]
  },
  {
   "cell_type": "code",
   "execution_count": 20,
   "metadata": {},
   "outputs": [
    {
     "data": {},
     "metadata": {},
     "output_type": "display_data"
    },
    {
     "data": {
      "application/vnd.holoviews_exec.v0+json": "",
      "text/html": [
       "<div id='1002'>\n",
       "\n",
       "\n",
       "\n",
       "\n",
       "\n",
       "  <div class=\"bk-root\" id=\"239c4241-d3eb-4cf9-8ce3-0929e8b3d48c\" data-root-id=\"1002\"></div>\n",
       "</div>\n",
       "<script type=\"application/javascript\">(function(root) {\n",
       "  function embed_document(root) {\n",
       "    var docs_json = {\"5016e1dd-7d02-4a31-b309-c92f8cb31667\":{\"defs\":[{\"extends\":null,\"module\":null,\"name\":\"ReactiveHTML1\",\"overrides\":[],\"properties\":[]},{\"extends\":null,\"module\":null,\"name\":\"FlexBox1\",\"overrides\":[],\"properties\":[{\"default\":\"flex-start\",\"kind\":null,\"name\":\"align_content\"},{\"default\":\"flex-start\",\"kind\":null,\"name\":\"align_items\"},{\"default\":\"row\",\"kind\":null,\"name\":\"flex_direction\"},{\"default\":\"wrap\",\"kind\":null,\"name\":\"flex_wrap\"},{\"default\":\"flex-start\",\"kind\":null,\"name\":\"justify_content\"}]},{\"extends\":null,\"module\":null,\"name\":\"TemplateActions1\",\"overrides\":[],\"properties\":[{\"default\":0,\"kind\":null,\"name\":\"open_modal\"},{\"default\":0,\"kind\":null,\"name\":\"close_modal\"}]},{\"extends\":null,\"module\":null,\"name\":\"MaterialTemplateActions1\",\"overrides\":[],\"properties\":[{\"default\":0,\"kind\":null,\"name\":\"open_modal\"},{\"default\":0,\"kind\":null,\"name\":\"close_modal\"}]}],\"roots\":{\"references\":[{\"attributes\":{\"tools\":[{\"id\":\"1006\"},{\"id\":\"1024\"},{\"id\":\"1025\"},{\"id\":\"1026\"},{\"id\":\"1027\"},{\"id\":\"1028\"}]},\"id\":\"1030\",\"type\":\"Toolbar\"},{\"attributes\":{},\"id\":\"1025\",\"type\":\"PanTool\"},{\"attributes\":{\"line_color\":\"#30a2da\",\"line_width\":2,\"x\":{\"field\":\"k\"},\"y\":{\"field\":\"inertia\"}},\"id\":\"1040\",\"type\":\"Line\"},{\"attributes\":{\"axis_label\":\"inertia\",\"coordinates\":null,\"formatter\":{\"id\":\"1053\"},\"group\":null,\"major_label_policy\":{\"id\":\"1054\"},\"ticker\":{\"id\":\"1021\"}},\"id\":\"1020\",\"type\":\"LinearAxis\"},{\"attributes\":{\"axis\":{\"id\":\"1020\"},\"coordinates\":null,\"dimension\":1,\"grid_line_color\":null,\"group\":null,\"ticker\":null},\"id\":\"1023\",\"type\":\"Grid\"},{\"attributes\":{},\"id\":\"1021\",\"type\":\"BasicTicker\"},{\"attributes\":{},\"id\":\"1026\",\"type\":\"WheelZoomTool\"},{\"attributes\":{},\"id\":\"1048\",\"type\":\"BasicTickFormatter\"},{\"attributes\":{},\"id\":\"1024\",\"type\":\"SaveTool\"},{\"attributes\":{\"overlay\":{\"id\":\"1029\"}},\"id\":\"1027\",\"type\":\"BoxZoomTool\"},{\"attributes\":{},\"id\":\"1028\",\"type\":\"ResetTool\"},{\"attributes\":{\"source\":{\"id\":\"1037\"}},\"id\":\"1044\",\"type\":\"CDSView\"},{\"attributes\":{\"bottom_units\":\"screen\",\"coordinates\":null,\"fill_alpha\":0.5,\"fill_color\":\"lightgrey\",\"group\":null,\"left_units\":\"screen\",\"level\":\"overlay\",\"line_alpha\":1.0,\"line_color\":\"black\",\"line_dash\":[4,4],\"line_width\":2,\"right_units\":\"screen\",\"syncable\":false,\"top_units\":\"screen\"},\"id\":\"1029\",\"type\":\"BoxAnnotation\"},{\"attributes\":{\"line_alpha\":0.2,\"line_color\":\"#30a2da\",\"line_width\":2,\"x\":{\"field\":\"k\"},\"y\":{\"field\":\"inertia\"}},\"id\":\"1042\",\"type\":\"Line\"},{\"attributes\":{\"coordinates\":null,\"data_source\":{\"id\":\"1037\"},\"glyph\":{\"id\":\"1040\"},\"group\":null,\"hover_glyph\":null,\"muted_glyph\":{\"id\":\"1042\"},\"nonselection_glyph\":{\"id\":\"1041\"},\"selection_glyph\":{\"id\":\"1045\"},\"view\":{\"id\":\"1044\"}},\"id\":\"1043\",\"type\":\"GlyphRenderer\"},{\"attributes\":{\"line_color\":\"#30a2da\",\"line_width\":2,\"x\":{\"field\":\"k\"},\"y\":{\"field\":\"inertia\"}},\"id\":\"1045\",\"type\":\"Line\"},{\"attributes\":{\"margin\":[5,5,5,5],\"name\":\"HSpacer01632\",\"sizing_mode\":\"stretch_width\"},\"id\":\"1073\",\"type\":\"Spacer\"},{\"attributes\":{},\"id\":\"1049\",\"type\":\"AllLabels\"},{\"attributes\":{},\"id\":\"1038\",\"type\":\"Selection\"},{\"attributes\":{\"ticks\":[1,2,3,4,5,6,7,8,9,10]},\"id\":\"1046\",\"type\":\"FixedTicker\"},{\"attributes\":{\"below\":[{\"id\":\"1016\"}],\"center\":[{\"id\":\"1019\"},{\"id\":\"1023\"}],\"height\":300,\"left\":[{\"id\":\"1020\"}],\"margin\":[5,5,5,5],\"min_border_bottom\":10,\"min_border_left\":10,\"min_border_right\":10,\"min_border_top\":10,\"renderers\":[{\"id\":\"1043\"}],\"sizing_mode\":\"fixed\",\"title\":{\"id\":\"1008\"},\"toolbar\":{\"id\":\"1030\"},\"width\":700,\"x_range\":{\"id\":\"1004\"},\"x_scale\":{\"id\":\"1012\"},\"y_range\":{\"id\":\"1005\"},\"y_scale\":{\"id\":\"1014\"}},\"id\":\"1007\",\"subtype\":\"Figure\",\"type\":\"Plot\"},{\"attributes\":{},\"id\":\"1054\",\"type\":\"AllLabels\"},{\"attributes\":{\"line_alpha\":0.1,\"line_color\":\"#30a2da\",\"line_width\":2,\"x\":{\"field\":\"k\"},\"y\":{\"field\":\"inertia\"}},\"id\":\"1041\",\"type\":\"Line\"},{\"attributes\":{},\"id\":\"1012\",\"type\":\"LinearScale\"},{\"attributes\":{\"coordinates\":null,\"group\":null,\"text\":\"Elbow Curve\",\"text_color\":\"black\",\"text_font_size\":\"12pt\"},\"id\":\"1008\",\"type\":\"Title\"},{\"attributes\":{\"end\":10.0,\"reset_end\":10.0,\"reset_start\":1.0,\"start\":1.0,\"tags\":[[[\"k\",\"k\",null]]]},\"id\":\"1004\",\"type\":\"Range1d\"},{\"attributes\":{\"end\":4321.16726888527,\"reset_end\":4321.16726888527,\"reset_start\":-247.3456647055946,\"start\":-247.3456647055946,\"tags\":[[[\"inertia\",\"inertia\",null]]]},\"id\":\"1005\",\"type\":\"Range1d\"},{\"attributes\":{},\"id\":\"1053\",\"type\":\"BasicTickFormatter\"},{\"attributes\":{},\"id\":\"1014\",\"type\":\"LinearScale\"},{\"attributes\":{\"children\":[{\"id\":\"1003\"},{\"id\":\"1007\"},{\"id\":\"1073\"}],\"margin\":[0,0,0,0],\"name\":\"Row01627\",\"tags\":[\"embedded\"]},\"id\":\"1002\",\"type\":\"Row\"},{\"attributes\":{\"axis\":{\"id\":\"1016\"},\"coordinates\":null,\"grid_line_color\":null,\"group\":null,\"ticker\":null},\"id\":\"1019\",\"type\":\"Grid\"},{\"attributes\":{\"margin\":[5,5,5,5],\"name\":\"HSpacer01631\",\"sizing_mode\":\"stretch_width\"},\"id\":\"1003\",\"type\":\"Spacer\"},{\"attributes\":{\"data\":{\"inertia\":{\"__ndarray__\":\"HdRUbOrIrkAmLAJ+WOWkQNKvGMCgJ5lAqEqls8FHg0Bx2Mv1OON6QKVe9D3nIXVA73cupzYGcEARbGKHZt1pQF02V8dxLWRA9/yLz6OrYEA=\",\"dtype\":\"float64\",\"order\":\"little\",\"shape\":[10]},\"k\":[1,2,3,4,5,6,7,8,9,10]},\"selected\":{\"id\":\"1038\"},\"selection_policy\":{\"id\":\"1061\"}},\"id\":\"1037\",\"type\":\"ColumnDataSource\"},{\"attributes\":{},\"id\":\"1061\",\"type\":\"UnionRenderers\"},{\"attributes\":{\"callback\":null,\"renderers\":[{\"id\":\"1043\"}],\"tags\":[\"hv_created\"],\"tooltips\":[[\"k\",\"@{k}\"],[\"inertia\",\"@{inertia}\"]]},\"id\":\"1006\",\"type\":\"HoverTool\"},{\"attributes\":{\"axis_label\":\"k\",\"coordinates\":null,\"formatter\":{\"id\":\"1048\"},\"group\":null,\"major_label_policy\":{\"id\":\"1049\"},\"ticker\":{\"id\":\"1046\"}},\"id\":\"1016\",\"type\":\"LinearAxis\"}],\"root_ids\":[\"1002\"]},\"title\":\"Bokeh Application\",\"version\":\"2.4.2\"}};\n",
       "    var render_items = [{\"docid\":\"5016e1dd-7d02-4a31-b309-c92f8cb31667\",\"root_ids\":[\"1002\"],\"roots\":{\"1002\":\"239c4241-d3eb-4cf9-8ce3-0929e8b3d48c\"}}];\n",
       "    root.Bokeh.embed.embed_items_notebook(docs_json, render_items);\n",
       "  }\n",
       "  if (root.Bokeh !== undefined && root.Bokeh.Panel !== undefined) {\n",
       "    embed_document(root);\n",
       "  } else {\n",
       "    var attempts = 0;\n",
       "    var timer = setInterval(function(root) {\n",
       "      if (root.Bokeh !== undefined && root.Bokeh.Panel !== undefined) {\n",
       "        clearInterval(timer);\n",
       "        embed_document(root);\n",
       "      } else if (document.readyState == \"complete\") {\n",
       "        attempts++;\n",
       "        if (attempts > 200) {\n",
       "          clearInterval(timer);\n",
       "          console.log(\"Bokeh: ERROR: Unable to run BokehJS code because BokehJS library is missing\");\n",
       "        }\n",
       "      }\n",
       "    }, 25, root)\n",
       "  }\n",
       "})(window);</script>"
      ],
      "text/plain": [
       ":Curve   [k]   (inertia)"
      ]
     },
     "execution_count": 20,
     "metadata": {
      "application/vnd.holoviews_exec.v0+json": {
       "id": "1002"
      }
     },
     "output_type": "execute_result"
    }
   ],
   "source": [
    "# Create an elbow curve to find the best value for K.\n",
    "inertia = []\n",
    "k = list(range(1, 11))\n",
    "# Calculate the inertia for the range of K values\n",
    "for i in k:\n",
    "   km = KMeans(n_clusters=i, random_state=0)\n",
    "   km.fit(pcs_df)\n",
    "   inertia.append(km.inertia_)\n",
    "\n",
    "elbow_data = {\"k\":k,\"inertia\":inertia}\n",
    "df_elbow = pd.DataFrame(elbow_data)\n",
    "df_elbow.hvplot.line(x=\"k\",y=\"inertia\",xticks=k,title=\"Elbow Curve\")\n"
   ]
  },
  {
   "cell_type": "markdown",
   "metadata": {},
   "source": [
    "Running K-Means with `k=4`"
   ]
  },
  {
   "cell_type": "code",
   "execution_count": 21,
   "metadata": {},
   "outputs": [
    {
     "data": {
      "text/plain": [
       "array([0, 0, 0, 1, 1, 1, 0, 1, 1, 1, 0, 1, 0, 0, 1, 0, 1, 1, 0, 0, 1, 1,\n",
       "       1, 1, 1, 0, 1, 1, 1, 0, 1, 0, 1, 1, 0, 0, 1, 1, 1, 1, 1, 1, 0, 0,\n",
       "       1, 1, 1, 1, 1, 0, 0, 1, 0, 1, 1, 1, 1, 0, 1, 1, 0, 1, 0, 0, 0, 1,\n",
       "       1, 1, 0, 0, 0, 0, 0, 1, 1, 1, 0, 0, 1, 0, 1, 0, 0, 1, 1, 1, 1, 0,\n",
       "       0, 1, 0, 1, 1, 0, 0, 1, 0, 0, 1, 1, 0, 0, 1, 0, 0, 1, 0, 1, 0, 1,\n",
       "       0, 1, 0, 0, 1, 1, 0, 1, 1, 1, 0, 1, 1, 1, 1, 1, 0, 0, 1, 1, 1, 0,\n",
       "       1, 0, 1, 1, 0, 1, 0, 1, 0, 0, 1, 1, 0, 1, 1, 0, 0, 1, 0, 1, 0, 0,\n",
       "       0, 1, 1, 1, 1, 0, 0, 0, 0, 0, 1, 1, 1, 0, 0, 0, 0, 0, 1, 0, 0, 0,\n",
       "       0, 0, 1, 0, 1, 0, 0, 1, 0, 1, 0, 0, 1, 0, 1, 0, 1, 0, 1, 0, 0, 0,\n",
       "       0, 1, 0, 0, 0, 0, 0, 1, 1, 0, 0, 1, 1, 0, 0, 0, 0, 0, 1, 0, 0, 0,\n",
       "       0, 0, 0, 0, 0, 1, 0, 0, 0, 0, 0, 0, 1, 1, 1, 0, 0, 0, 0, 1, 0, 1,\n",
       "       0, 0, 1, 0, 1, 1, 0, 1, 1, 0, 1, 0, 0, 0, 1, 0, 0, 1, 0, 0, 0, 0,\n",
       "       0, 0, 0, 1, 0, 1, 0, 0, 0, 0, 1, 0, 1, 0, 1, 1, 1, 1, 0, 1, 0, 0,\n",
       "       1, 0, 1, 1, 1, 0, 1, 0, 1, 1, 1, 0, 1, 0, 1, 0, 0, 3, 1, 0, 1, 1,\n",
       "       1, 1, 1, 0, 0, 1, 0, 0, 0, 1, 0, 1, 0, 1, 0, 1, 0, 0, 0, 0, 1, 0,\n",
       "       0, 1, 0, 0, 0, 1, 1, 1, 1, 0, 0, 0, 0, 0, 1, 0, 1, 1, 1, 0, 1, 0,\n",
       "       1, 1, 0, 0, 1, 0, 1, 1, 0, 0, 1, 1, 0, 1, 1, 0, 0, 0, 0, 1, 1, 1,\n",
       "       0, 1, 1, 0, 1, 1, 0, 1, 0, 1, 0, 1, 1, 0, 3, 0, 1, 1, 0, 0, 0, 1,\n",
       "       0, 3, 0, 0, 0, 0, 1, 1, 1, 1, 1, 0, 1, 0, 0, 0, 1, 0, 1, 0, 0, 0,\n",
       "       1, 0, 1, 0, 0, 1, 0, 0, 1, 1, 0, 1, 0, 1, 0, 0, 1, 0, 0, 1, 1, 0,\n",
       "       0, 0, 0, 1, 0, 1, 0, 0, 0, 0, 0, 1, 0, 0, 1, 1, 1, 0, 0, 0, 0, 0,\n",
       "       0, 0, 1, 1, 0, 1, 1, 1, 1, 1, 0, 1, 0, 0, 0, 1, 0, 0, 1, 0, 0, 0,\n",
       "       0, 1, 3, 1, 0, 1, 1, 0, 1, 0, 1, 0, 0, 1, 0, 1, 1, 1, 1, 1, 1, 1,\n",
       "       0, 1, 0, 1, 0, 0, 1, 1, 0, 0, 0, 0, 0, 1, 1, 1, 0, 0, 1, 0, 1, 0,\n",
       "       1, 0, 1, 0, 0, 0, 0, 1, 0, 0, 0, 1, 0, 1, 0, 1, 0, 0, 0, 1, 1, 0,\n",
       "       0, 0, 0, 0, 0, 1, 0, 1, 1, 0, 0, 1, 0, 0, 0, 0, 0, 0, 2, 1, 0, 0,\n",
       "       0, 1, 1, 0, 0], dtype=int32)"
      ]
     },
     "execution_count": 21,
     "metadata": {},
     "output_type": "execute_result"
    }
   ],
   "source": [
    "# Initialize the K-Means model.\n",
    "kmean_model = KMeans(n_clusters=4, random_state=0)\n",
    "\n",
    "# Fit the model\n",
    "kmean_model.fit(pcs_df)\n",
    "\n",
    "# Predict clusters\n",
    "predictions = kmean_model.predict(pcs_df)\n",
    "predictions"
   ]
  },
  {
   "cell_type": "code",
   "execution_count": 22,
   "metadata": {},
   "outputs": [
    {
     "name": "stdout",
     "output_type": "stream",
     "text": [
      "(577, 9)\n"
     ]
    },
    {
     "data": {
      "text/html": [
       "<div>\n",
       "<style scoped>\n",
       "    .dataframe tbody tr th:only-of-type {\n",
       "        vertical-align: middle;\n",
       "    }\n",
       "\n",
       "    .dataframe tbody tr th {\n",
       "        vertical-align: top;\n",
       "    }\n",
       "\n",
       "    .dataframe thead th {\n",
       "        text-align: right;\n",
       "    }\n",
       "</style>\n",
       "<table border=\"1\" class=\"dataframe\">\n",
       "  <thead>\n",
       "    <tr style=\"text-align: right;\">\n",
       "      <th></th>\n",
       "      <th>Algorithm</th>\n",
       "      <th>ProofType</th>\n",
       "      <th>TotalCoinsMined</th>\n",
       "      <th>TotalCoinSupply</th>\n",
       "      <th>PC 1</th>\n",
       "      <th>PC 2</th>\n",
       "      <th>PC 3</th>\n",
       "      <th>CoinName</th>\n",
       "      <th>Class</th>\n",
       "    </tr>\n",
       "  </thead>\n",
       "  <tbody>\n",
       "    <tr>\n",
       "      <th>42</th>\n",
       "      <td>Scrypt</td>\n",
       "      <td>PoW/PoS</td>\n",
       "      <td>4.199995e+01</td>\n",
       "      <td>42</td>\n",
       "      <td>-0.336907</td>\n",
       "      <td>1.127390</td>\n",
       "      <td>-0.568867</td>\n",
       "      <td>42 Coin</td>\n",
       "      <td>0</td>\n",
       "    </tr>\n",
       "    <tr>\n",
       "      <th>404</th>\n",
       "      <td>Scrypt</td>\n",
       "      <td>PoW/PoS</td>\n",
       "      <td>1.055185e+09</td>\n",
       "      <td>532000000</td>\n",
       "      <td>-0.319557</td>\n",
       "      <td>1.127601</td>\n",
       "      <td>-0.569337</td>\n",
       "      <td>404Coin</td>\n",
       "      <td>0</td>\n",
       "    </tr>\n",
       "    <tr>\n",
       "      <th>1337</th>\n",
       "      <td>X13</td>\n",
       "      <td>PoW/PoS</td>\n",
       "      <td>2.927942e+10</td>\n",
       "      <td>314159265359</td>\n",
       "      <td>2.427661</td>\n",
       "      <td>1.744885</td>\n",
       "      <td>-0.594999</td>\n",
       "      <td>EliteCoin</td>\n",
       "      <td>0</td>\n",
       "    </tr>\n",
       "    <tr>\n",
       "      <th>BTC</th>\n",
       "      <td>SHA-256</td>\n",
       "      <td>PoW</td>\n",
       "      <td>1.792718e+07</td>\n",
       "      <td>21000000</td>\n",
       "      <td>-0.135848</td>\n",
       "      <td>-1.338578</td>\n",
       "      <td>0.184732</td>\n",
       "      <td>Bitcoin</td>\n",
       "      <td>1</td>\n",
       "    </tr>\n",
       "    <tr>\n",
       "      <th>ETH</th>\n",
       "      <td>Ethash</td>\n",
       "      <td>PoW</td>\n",
       "      <td>1.076842e+08</td>\n",
       "      <td>0</td>\n",
       "      <td>-0.122529</td>\n",
       "      <td>-2.051149</td>\n",
       "      <td>0.321994</td>\n",
       "      <td>Ethereum</td>\n",
       "      <td>1</td>\n",
       "    </tr>\n",
       "    <tr>\n",
       "      <th>LTC</th>\n",
       "      <td>Scrypt</td>\n",
       "      <td>PoW</td>\n",
       "      <td>6.303924e+07</td>\n",
       "      <td>84000000</td>\n",
       "      <td>-0.168796</td>\n",
       "      <td>-1.090481</td>\n",
       "      <td>-0.063655</td>\n",
       "      <td>Litecoin</td>\n",
       "      <td>1</td>\n",
       "    </tr>\n",
       "    <tr>\n",
       "      <th>DASH</th>\n",
       "      <td>X11</td>\n",
       "      <td>PoW/PoS</td>\n",
       "      <td>9.031294e+06</td>\n",
       "      <td>22000000</td>\n",
       "      <td>-0.378986</td>\n",
       "      <td>1.287091</td>\n",
       "      <td>-0.389717</td>\n",
       "      <td>Dash</td>\n",
       "      <td>0</td>\n",
       "    </tr>\n",
       "    <tr>\n",
       "      <th>XMR</th>\n",
       "      <td>CryptoNight-V7</td>\n",
       "      <td>PoW</td>\n",
       "      <td>1.720114e+07</td>\n",
       "      <td>0</td>\n",
       "      <td>-0.136229</td>\n",
       "      <td>-2.259506</td>\n",
       "      <td>0.402620</td>\n",
       "      <td>Monero</td>\n",
       "      <td>1</td>\n",
       "    </tr>\n",
       "    <tr>\n",
       "      <th>ETC</th>\n",
       "      <td>Ethash</td>\n",
       "      <td>PoW</td>\n",
       "      <td>1.133597e+08</td>\n",
       "      <td>210000000</td>\n",
       "      <td>-0.120910</td>\n",
       "      <td>-2.051243</td>\n",
       "      <td>0.321980</td>\n",
       "      <td>Ethereum Classic</td>\n",
       "      <td>1</td>\n",
       "    </tr>\n",
       "    <tr>\n",
       "      <th>ZEC</th>\n",
       "      <td>Equihash</td>\n",
       "      <td>PoW</td>\n",
       "      <td>7.383056e+06</td>\n",
       "      <td>21000000</td>\n",
       "      <td>-0.178625</td>\n",
       "      <td>-2.073016</td>\n",
       "      <td>0.194654</td>\n",
       "      <td>ZCash</td>\n",
       "      <td>1</td>\n",
       "    </tr>\n",
       "  </tbody>\n",
       "</table>\n",
       "</div>"
      ],
      "text/plain": [
       "           Algorithm ProofType  TotalCoinsMined TotalCoinSupply      PC 1  \\\n",
       "42            Scrypt   PoW/PoS     4.199995e+01              42 -0.336907   \n",
       "404           Scrypt   PoW/PoS     1.055185e+09       532000000 -0.319557   \n",
       "1337             X13   PoW/PoS     2.927942e+10    314159265359  2.427661   \n",
       "BTC          SHA-256       PoW     1.792718e+07        21000000 -0.135848   \n",
       "ETH           Ethash       PoW     1.076842e+08               0 -0.122529   \n",
       "LTC           Scrypt       PoW     6.303924e+07        84000000 -0.168796   \n",
       "DASH             X11   PoW/PoS     9.031294e+06        22000000 -0.378986   \n",
       "XMR   CryptoNight-V7       PoW     1.720114e+07               0 -0.136229   \n",
       "ETC           Ethash       PoW     1.133597e+08       210000000 -0.120910   \n",
       "ZEC         Equihash       PoW     7.383056e+06        21000000 -0.178625   \n",
       "\n",
       "          PC 2      PC 3          CoinName  Class  \n",
       "42    1.127390 -0.568867           42 Coin      0  \n",
       "404   1.127601 -0.569337           404Coin      0  \n",
       "1337  1.744885 -0.594999         EliteCoin      0  \n",
       "BTC  -1.338578  0.184732           Bitcoin      1  \n",
       "ETH  -2.051149  0.321994          Ethereum      1  \n",
       "LTC  -1.090481 -0.063655          Litecoin      1  \n",
       "DASH  1.287091 -0.389717              Dash      0  \n",
       "XMR  -2.259506  0.402620            Monero      1  \n",
       "ETC  -2.051243  0.321980  Ethereum Classic      1  \n",
       "ZEC  -2.073016  0.194654             ZCash      1  "
      ]
     },
     "execution_count": 22,
     "metadata": {},
     "output_type": "execute_result"
    }
   ],
   "source": [
    "# Create a new DataFrame including predicted clusters and cryptocurrencies features.\n",
    "# Concatentate the crypto_df and pcs_df DataFrames on the same columns.\n",
    "clustered_df = pd.concat([crypto_df, pcs_df], axis=1, join='inner')\n",
    "\n",
    "#  Add a new column, \"CoinName\" to the clustered_df DataFrame that holds the names of the cryptocurrencies. \n",
    "clustered_df[\"CoinName\"] = crypto_name_df.CoinName\n",
    "\n",
    "#  Add a new column, \"Class\" to the clustered_df DataFrame that holds the predictions.\n",
    "clustered_df[\"Class\"] = kmean_model.labels_\n",
    "\n",
    "# Print the shape of the clustered_df\n",
    "print(clustered_df.shape)\n",
    "clustered_df.head(10)"
   ]
  },
  {
   "cell_type": "markdown",
   "metadata": {},
   "source": [
    "### Deliverable 4: Visualizing Cryptocurrencies Results\n",
    "\n",
    "#### 3D-Scatter with Clusters"
   ]
  },
  {
   "cell_type": "code",
   "execution_count": 53,
   "metadata": {},
   "outputs": [
    {
     "data": {
      "application/vnd.plotly.v1+json": {
       "config": {
        "plotlyServerURL": "https://plot.ly"
       },
       "data": [
        {
         "customdata": [
          [
           "Scrypt"
          ],
          [
           "Scrypt"
          ],
          [
           "X13"
          ],
          [
           "X11"
          ],
          [
           "SHA-512"
          ],
          [
           "SHA-256"
          ],
          [
           "SHA-256"
          ],
          [
           "X15"
          ],
          [
           "Scrypt"
          ],
          [
           "Scrypt"
          ],
          [
           "Scrypt"
          ],
          [
           "Scrypt"
          ],
          [
           "Scrypt"
          ],
          [
           "Scrypt"
          ],
          [
           "Groestl"
          ],
          [
           "PoS"
          ],
          [
           "Scrypt"
          ],
          [
           "Scrypt"
          ],
          [
           "X11"
          ],
          [
           "X11"
          ],
          [
           "SHA3"
          ],
          [
           "Scrypt"
          ],
          [
           "SHA-256"
          ],
          [
           "Scrypt"
          ],
          [
           "X13"
          ],
          [
           "X13"
          ],
          [
           "NeoScrypt"
          ],
          [
           "Scrypt"
          ],
          [
           "Scrypt"
          ],
          [
           "Scrypt"
          ],
          [
           "X11"
          ],
          [
           "X11"
          ],
          [
           "Multiple"
          ],
          [
           "PHI1612"
          ],
          [
           "X11"
          ],
          [
           "Scrypt"
          ],
          [
           "Scrypt"
          ],
          [
           "Scrypt"
          ],
          [
           "X11"
          ],
          [
           "Multiple"
          ],
          [
           "X13"
          ],
          [
           "Scrypt"
          ],
          [
           "Shabal256"
          ],
          [
           "Counterparty"
          ],
          [
           "SHA-256"
          ],
          [
           "Groestl"
          ],
          [
           "Scrypt"
          ],
          [
           "X13"
          ],
          [
           "Scrypt"
          ],
          [
           "Scrypt"
          ],
          [
           "X13"
          ],
          [
           "X11"
          ],
          [
           "Scrypt"
          ],
          [
           "X11"
          ],
          [
           "SHA3"
          ],
          [
           "QUAIT"
          ],
          [
           "X11"
          ],
          [
           "Scrypt"
          ],
          [
           "X13"
          ],
          [
           "SHA-256"
          ],
          [
           "X15"
          ],
          [
           "BLAKE256"
          ],
          [
           "SHA-256"
          ],
          [
           "X11"
          ],
          [
           "SHA-256"
          ],
          [
           "NIST5"
          ],
          [
           "Scrypt"
          ],
          [
           "Scrypt"
          ],
          [
           "X11"
          ],
          [
           "Scrypt"
          ],
          [
           "SHA-256"
          ],
          [
           "Scrypt"
          ],
          [
           "PoS"
          ],
          [
           "X11"
          ],
          [
           "SHA-256"
          ],
          [
           "SHA-256"
          ],
          [
           "NIST5"
          ],
          [
           "X11"
          ],
          [
           "POS 3.0"
          ],
          [
           "Scrypt"
          ],
          [
           "Scrypt"
          ],
          [
           "Scrypt"
          ],
          [
           "X13"
          ],
          [
           "X11"
          ],
          [
           "X11"
          ],
          [
           "Scrypt"
          ],
          [
           "SHA-256"
          ],
          [
           "X11"
          ],
          [
           "Scrypt"
          ],
          [
           "Scrypt"
          ],
          [
           "Scrypt"
          ],
          [
           "Scrypt"
          ],
          [
           "SHA-256D"
          ],
          [
           "PoS"
          ],
          [
           "Scrypt"
          ],
          [
           "X11"
          ],
          [
           "PoS"
          ],
          [
           "X13"
          ],
          [
           "X14"
          ],
          [
           "PoS"
          ],
          [
           "SHA-256D"
          ],
          [
           "DPoS"
          ],
          [
           "X11"
          ],
          [
           "X13"
          ],
          [
           "X11"
          ],
          [
           "PoS"
          ],
          [
           "Scrypt"
          ],
          [
           "Scrypt"
          ],
          [
           "PoS"
          ],
          [
           "X11"
          ],
          [
           "SHA-256"
          ],
          [
           "Scrypt"
          ],
          [
           "X11"
          ],
          [
           "Scrypt"
          ],
          [
           "Scrypt"
          ],
          [
           "X11"
          ],
          [
           "Scrypt"
          ],
          [
           "Scrypt"
          ],
          [
           "Scrypt"
          ],
          [
           "Scrypt"
          ],
          [
           "Quark"
          ],
          [
           "QuBit"
          ],
          [
           "Scrypt"
          ],
          [
           "SHA-256"
          ],
          [
           "X11"
          ],
          [
           "Scrypt"
          ],
          [
           "Scrypt"
          ],
          [
           "Scrypt"
          ],
          [
           "Scrypt"
          ],
          [
           "X13"
          ],
          [
           "Scrypt"
          ],
          [
           "Scrypt"
          ],
          [
           "X11"
          ],
          [
           "Blake2S"
          ],
          [
           "X11"
          ],
          [
           "PoS"
          ],
          [
           "X11"
          ],
          [
           "PoS"
          ],
          [
           "X11"
          ],
          [
           "Scrypt"
          ],
          [
           "Scrypt"
          ],
          [
           "Scrypt"
          ],
          [
           "SHA-256"
          ],
          [
           "X11"
          ],
          [
           "Scrypt"
          ],
          [
           "PoS"
          ],
          [
           "Scrypt"
          ],
          [
           "X15"
          ],
          [
           "SHA-256"
          ],
          [
           "POS 3.0"
          ],
          [
           "536"
          ],
          [
           "NIST5"
          ],
          [
           "NIST5"
          ],
          [
           "Skein"
          ],
          [
           "X13"
          ],
          [
           "Scrypt"
          ],
          [
           "X13"
          ],
          [
           "SkunkHash v2 Raptor"
          ],
          [
           "Skein"
          ],
          [
           "X11"
          ],
          [
           "Scrypt"
          ],
          [
           "PoS"
          ],
          [
           "Scrypt"
          ],
          [
           "Scrypt"
          ],
          [
           "SHA-512"
          ],
          [
           "Ouroboros"
          ],
          [
           "X11"
          ],
          [
           "NeoScrypt"
          ],
          [
           "Scrypt"
          ],
          [
           "Lyra2REv2"
          ],
          [
           "Scrypt"
          ],
          [
           "SHA-256"
          ],
          [
           "NIST5"
          ],
          [
           "PHI1612"
          ],
          [
           "Scrypt"
          ],
          [
           "Quark"
          ],
          [
           "POS 2.0"
          ],
          [
           "Scrypt"
          ],
          [
           "SHA-256"
          ],
          [
           "Quark"
          ],
          [
           "X11"
          ],
          [
           "DPoS"
          ],
          [
           "NIST5"
          ],
          [
           "X13"
          ],
          [
           "Scrypt"
          ],
          [
           "NIST5"
          ],
          [
           "Quark"
          ],
          [
           "Scrypt"
          ],
          [
           "Scrypt"
          ],
          [
           "X11"
          ],
          [
           "Scrypt"
          ],
          [
           "Scrypt"
          ],
          [
           "Quark"
          ],
          [
           "Scrypt"
          ],
          [
           "Scrypt"
          ],
          [
           "X11"
          ],
          [
           "Scrypt"
          ],
          [
           "POS 3.0"
          ],
          [
           "Scrypt"
          ],
          [
           "Scrypt"
          ],
          [
           "X11"
          ],
          [
           "SHA-256"
          ],
          [
           "X13"
          ],
          [
           "SHA-256 + Hive"
          ],
          [
           "Skein"
          ],
          [
           "X11"
          ],
          [
           "Skein"
          ],
          [
           "C11"
          ],
          [
           "X11"
          ],
          [
           "XEVAN"
          ],
          [
           "Scrypt"
          ],
          [
           "VBFT"
          ],
          [
           "PHI1612"
          ],
          [
           "NIST5"
          ],
          [
           "Scrypt"
          ],
          [
           "Scrypt"
          ],
          [
           "Scrypt"
          ],
          [
           "Green Protocol"
          ],
          [
           "PoS"
          ],
          [
           "Scrypt"
          ],
          [
           "Semux BFT consensus"
          ],
          [
           "Quark"
          ],
          [
           "PoS"
          ],
          [
           "X16R"
          ],
          [
           "Scrypt"
          ],
          [
           "XEVAN"
          ],
          [
           "Scrypt"
          ],
          [
           "Scrypt"
          ],
          [
           "Scrypt"
          ],
          [
           "X11"
          ],
          [
           "SHA-256D"
          ],
          [
           "Scrypt"
          ],
          [
           "Scrypt"
          ],
          [
           "X11"
          ],
          [
           "Scrypt"
          ],
          [
           "SHA-256D"
          ],
          [
           "Scrypt"
          ],
          [
           "X15"
          ],
          [
           "Scrypt"
          ],
          [
           "Quark"
          ],
          [
           "Scrypt"
          ],
          [
           "SHA-256"
          ],
          [
           "DPoS"
          ],
          [
           "Scrypt"
          ],
          [
           "X16R"
          ],
          [
           "Quark"
          ],
          [
           "Quark"
          ],
          [
           "Scrypt"
          ],
          [
           "Lyra2REv2"
          ],
          [
           "Quark"
          ],
          [
           "Scrypt"
          ],
          [
           "X11"
          ],
          [
           "X11"
          ],
          [
           "Scrypt"
          ],
          [
           "PoS"
          ],
          [
           "Keccak"
          ],
          [
           "X11"
          ],
          [
           "Tribus"
          ],
          [
           "Scrypt"
          ],
          [
           "NeoScrypt"
          ],
          [
           "SHA-512"
          ],
          [
           "XEVAN"
          ],
          [
           "SHA-512"
          ],
          [
           "Quark"
          ],
          [
           "XEVAN"
          ],
          [
           "X11"
          ],
          [
           "Quark"
          ],
          [
           "Scrypt"
          ],
          [
           "Quark"
          ],
          [
           "Quark"
          ],
          [
           "Scrypt"
          ],
          [
           "X11"
          ],
          [
           "Scrypt"
          ],
          [
           "XEVAN"
          ],
          [
           "SHA-256D"
          ],
          [
           "X11"
          ],
          [
           "X11"
          ],
          [
           "DPoS"
          ],
          [
           "Scrypt"
          ],
          [
           "X11"
          ],
          [
           "Scrypt"
          ],
          [
           "Scrypt"
          ],
          [
           "SHA-256"
          ],
          [
           "Scrypt"
          ],
          [
           "X11"
          ],
          [
           "Scrypt"
          ],
          [
           "SHA-256"
          ],
          [
           "X11"
          ],
          [
           "Scrypt"
          ],
          [
           "Scrypt"
          ],
          [
           "X11"
          ],
          [
           "Scrypt"
          ],
          [
           "PoS"
          ],
          [
           "X11"
          ],
          [
           "SHA-256"
          ],
          [
           "DPoS"
          ],
          [
           "Scrypt"
          ],
          [
           "Scrypt"
          ],
          [
           "NeoScrypt"
          ],
          [
           "X13"
          ],
          [
           "PHI2"
          ],
          [
           "DPoS"
          ],
          [
           "DPoS"
          ],
          [
           "SHA-256"
          ],
          [
           "Lyra2Z"
          ],
          [
           "Leased POS"
          ],
          [
           "PoS"
          ],
          [
           "Scrypt"
          ],
          [
           "PoS"
          ],
          [
           "SHA-256"
          ],
          [
           "Scrypt"
          ],
          [
           "Scrypt"
          ],
          [
           "Scrypt"
          ]
         ],
         "hovertemplate": "<b>%{hovertext}</b><br><br>Class=%{marker.color}<br>PC 1=%{x}<br>PC 2=%{y}<br>PC 3=%{z}<br>Algorithm=%{customdata[0]}<extra></extra>",
         "hovertext": [
          "42 Coin",
          "404Coin",
          "EliteCoin",
          "Dash",
          "Bitshares",
          "BitcoinDark",
          "PayCoin",
          "KoboCoin",
          "Aurora Coin",
          "BlueCoin",
          "EnergyCoin",
          "BitBar",
          "CryptoBullion",
          "CasinoCoin",
          "Diamond",
          "Exclusive Coin",
          "FlutterCoin",
          "HoboNickels",
          "HyperStake",
          "IOCoin",
          "MaxCoin",
          "MintCoin",
          "MazaCoin",
          "Nautilus Coin",
          "NavCoin",
          "OpalCoin",
          "Orbitcoin",
          "PotCoin",
          "PhoenixCoin",
          "Reddcoin",
          "SuperCoin",
          "SyncCoin",
          "TeslaCoin",
          "TittieCoin",
          "TorCoin",
          "UnitaryStatus Dollar",
          "UltraCoin",
          "VeriCoin",
          "X11 Coin",
          "Crypti",
          "StealthCoin",
          "ZCC Coin",
          "BurstCoin",
          "StorjCoin",
          "Neutron",
          "FairCoin",
          "RubyCoin",
          "Kore",
          "Dnotes",
          "8BIT Coin",
          "Sativa Coin",
          "Ucoin",
          "Vtorrent",
          "IslaCoin",
          "Nexus",
          "Droidz",
          "Squall Coin",
          "Diggits",
          "Paycon",
          "Emercoin",
          "EverGreenCoin",
          "Decred",
          "EDRCoin",
          "Hitcoin",
          "DubaiCoin",
          "PWR Coin",
          "BillaryCoin",
          "GPU Coin",
          "EuropeCoin",
          "ZeitCoin",
          "SwingCoin",
          "SafeExchangeCoin",
          "Nebuchadnezzar",
          "Ratecoin",
          "Revenu",
          "Clockcoin",
          "VIP Tokens",
          "BitSend",
          "Let it Ride",
          "PutinCoin",
          "iBankCoin",
          "Frankywillcoin",
          "MudraCoin",
          "Lutetium Coin",
          "GoldBlocks",
          "CarterCoin",
          "BitTokens",
          "MustangCoin",
          "ZoneCoin",
          "RootCoin",
          "BitCurrency",
          "Swiscoin",
          "BuzzCoin",
          "Opair",
          "PesoBit",
          "Halloween Coin",
          "CoffeeCoin",
          "RoyalCoin",
          "GanjaCoin V2",
          "TeamUP",
          "LanaCoin",
          "ARK",
          "InsaneCoin",
          "EmberCoin",
          "XenixCoin",
          "FreeCoin",
          "PLNCoin",
          "AquariusCoin",
          "Creatio",
          "Eternity",
          "Eurocoin",
          "BitcoinFast",
          "Stakenet",
          "BitConnect Coin",
          "MoneyCoin",
          "Enigma",
          "Russiacoin",
          "PandaCoin",
          "GameUnits",
          "GAKHcoin",
          "Allsafe",
          "LiteCreed",
          "Klingon Empire Darsek",
          "Internet of People",
          "KushCoin",
          "Printerium",
          "Impeach",
          "Zilbercoin",
          "FirstCoin",
          "FindCoin",
          "OpenChat",
          "RenosCoin",
          "VirtacoinPlus",
          "TajCoin",
          "Impact",
          "Atmos",
          "HappyCoin",
          "MacronCoin",
          "Condensate",
          "Independent Money System",
          "ArgusCoin",
          "LomoCoin",
          "ProCurrency",
          "GoldReserve",
          "GrowthCoin",
          "Phreak",
          "Degas Coin",
          "HTML5 Coin",
          "Ultimate Secure Cash",
          "QTUM",
          "Espers",
          "Denarius",
          "Virta Unique Coin",
          "Bitcoin Planet",
          "BritCoin",
          "Linda",
          "DeepOnion",
          "Signatum",
          "Cream",
          "Monoeci",
          "Draftcoin",
          "Stakecoin",
          "CoinonatX",
          "Ethereum Dark",
          "Obsidian",
          "Cardano",
          "Regalcoin",
          "TrezarCoin",
          "TerraNovaCoin",
          "Rupee",
          "WomenCoin",
          "Theresa May Coin",
          "NamoCoin",
          "LUXCoin",
          "Xios",
          "Bitcloud 2.0",
          "KekCoin",
          "BlackholeCoin",
          "Infinity Economics",
          "Alqo",
          "Magnet",
          "Lamden Tau",
          "Electra",
          "Bitcoin Diamond",
          "Cash & Back Coin",
          "Bulwark",
          "Kalkulus",
          "GermanCoin",
          "LiteCoin Ultra",
          "PhantomX",
          "Accolade",
          "OmiseGO Classic",
          "Digiwage",
          "Trollcoin",
          "Litecoin Plus",
          "Monkey Project",
          "ECC",
          "TokenPay",
          "My Big Coin",
          "Unified Society USDEX",
          "BitSoar Coin",
          "Credence Coin",
          "Tokyo Coin",
          "LitecoinCash",
          "BashCoin",
          "DigiMoney",
          "Lizus Payment",
          "Stipend",
          "Pushi",
          "Ellerium",
          "Velox",
          "Ontology",
          "Seraph",
          "Bitspace",
          "Briacoin",
          "Ignition",
          "MedicCoin",
          "Bitcoin Green",
          "Deviant Coin",
          "Abjcoin",
          "Semux",
          "Carebit",
          "Zealium",
          "Proton",
          "iDealCash",
          "Bitcoin Incognito",
          "HollyWoodCoin",
          "Parlay",
          "Listerclassic Coin",
          "BetKings",
          "Cognitio",
          "Mercoin",
          "Swisscoin",
          "Reliance",
          "Xt3ch",
          "TheVig",
          "EmaratCoin",
          "Dekado",
          "Lynx",
          "Poseidon Quark",
          "MYCE",
          "BitcoinWSpectrum",
          "Muse",
          "GambleCoin",
          "Trivechain",
          "Dystem",
          "Giant",
          "Peony Coin",
          "Absolute Coin",
          "Vitae",
          "TPCash",
          "ARENON",
          "EUNO",
          "MMOCoin",
          "Ketan",
          "XDNA",
          "PAXEX",
          "Averopay",
          "ThunderStake",
          "SimpleBank",
          "Kcash",
          "Bettex coin",
          "TWIST",
          "DACH Coin",
          "BitMoney",
          "Junson Ming Chan Coin",
          "HerbCoin",
          "Oduwa",
          "Galilel",
          "Crypto Sports",
          "Credit",
          "Dash Platinum",
          "Nasdacoin",
          "Beetle Coin",
          "Titan Coin",
          "Award",
          "Insane Coin",
          "ALAX",
          "LiteDoge",
          "TruckCoin",
          "OrangeCoin",
          "BitstarCoin",
          "NeosCoin",
          "HyperCoin",
          "PinkCoin",
          "AudioCoin",
          "IncaKoin",
          "Piggy Coin",
          "Genstake",
          "XiaoMiCoin",
          "CapriCoin",
          " ClubCoin",
          "Radium",
          "Creditbit ",
          "OKCash",
          "Lisk",
          "HiCoin",
          "WhiteCoin",
          "FriendshipCoin",
          "Triangles Coin",
          "Gexan",
          "EOS",
          "Oxycoin",
          "TigerCash",
          "LAPO",
          "Waves",
          "Particl",
          "ShardCoin",
          "Nxt",
          "ZEPHYR",
          "Gapcoin",
          "BitcoinPlus",
          "DivotyCoin"
         ],
         "legendgroup": "0",
         "marker": {
          "color": [
           0,
           0,
           0,
           0,
           0,
           0,
           0,
           0,
           0,
           0,
           0,
           0,
           0,
           0,
           0,
           0,
           0,
           0,
           0,
           0,
           0,
           0,
           0,
           0,
           0,
           0,
           0,
           0,
           0,
           0,
           0,
           0,
           0,
           0,
           0,
           0,
           0,
           0,
           0,
           0,
           0,
           0,
           0,
           0,
           0,
           0,
           0,
           0,
           0,
           0,
           0,
           0,
           0,
           0,
           0,
           0,
           0,
           0,
           0,
           0,
           0,
           0,
           0,
           0,
           0,
           0,
           0,
           0,
           0,
           0,
           0,
           0,
           0,
           0,
           0,
           0,
           0,
           0,
           0,
           0,
           0,
           0,
           0,
           0,
           0,
           0,
           0,
           0,
           0,
           0,
           0,
           0,
           0,
           0,
           0,
           0,
           0,
           0,
           0,
           0,
           0,
           0,
           0,
           0,
           0,
           0,
           0,
           0,
           0,
           0,
           0,
           0,
           0,
           0,
           0,
           0,
           0,
           0,
           0,
           0,
           0,
           0,
           0,
           0,
           0,
           0,
           0,
           0,
           0,
           0,
           0,
           0,
           0,
           0,
           0,
           0,
           0,
           0,
           0,
           0,
           0,
           0,
           0,
           0,
           0,
           0,
           0,
           0,
           0,
           0,
           0,
           0,
           0,
           0,
           0,
           0,
           0,
           0,
           0,
           0,
           0,
           0,
           0,
           0,
           0,
           0,
           0,
           0,
           0,
           0,
           0,
           0,
           0,
           0,
           0,
           0,
           0,
           0,
           0,
           0,
           0,
           0,
           0,
           0,
           0,
           0,
           0,
           0,
           0,
           0,
           0,
           0,
           0,
           0,
           0,
           0,
           0,
           0,
           0,
           0,
           0,
           0,
           0,
           0,
           0,
           0,
           0,
           0,
           0,
           0,
           0,
           0,
           0,
           0,
           0,
           0,
           0,
           0,
           0,
           0,
           0,
           0,
           0,
           0,
           0,
           0,
           0,
           0,
           0,
           0,
           0,
           0,
           0,
           0,
           0,
           0,
           0,
           0,
           0,
           0,
           0,
           0,
           0,
           0,
           0,
           0,
           0,
           0,
           0,
           0,
           0,
           0,
           0,
           0,
           0,
           0,
           0,
           0,
           0,
           0,
           0,
           0,
           0,
           0,
           0,
           0,
           0,
           0,
           0,
           0,
           0,
           0,
           0,
           0,
           0,
           0,
           0,
           0,
           0,
           0,
           0,
           0,
           0,
           0,
           0,
           0,
           0,
           0,
           0,
           0,
           0,
           0,
           0,
           0,
           0,
           0,
           0,
           0,
           0,
           0,
           0,
           0,
           0,
           0,
           0,
           0,
           0,
           0,
           0,
           0,
           0,
           0,
           0
          ],
          "coloraxis": "coloraxis",
          "symbol": "circle"
         },
         "mode": "markers",
         "name": "0",
         "scene": "scene",
         "showlegend": true,
         "type": "scatter3d",
         "x": [
          -0.3369074838921825,
          -0.3195569026447455,
          2.427660774762491,
          -0.3789864472483953,
          -0.2683715670033149,
          -0.3027427679804292,
          -0.24931714219457737,
          -0.2304972130612771,
          -0.33655310487564827,
          -0.3288194889412525,
          -0.33534107935228363,
          -0.3369032588753871,
          -0.3368868905599612,
          0.7141498691138389,
          -0.36082518945471753,
          -0.3264333087758151,
          -0.32538290099198236,
          -0.3348871171240653,
          -0.304539100846333,
          -0.37887673238392655,
          -0.3992914566648714,
          -0.012508322495975562,
          -0.26455542202783106,
          -0.2832229846604513,
          -0.2588362791934893,
          -0.2594845512293015,
          -0.3481109018361043,
          -0.33097867098035944,
          -0.33524405178984396,
          0.036235835795067124,
          -0.3252587182244962,
          -0.3792634708305583,
          -0.21678741257548312,
          -0.28529584541990416,
          -0.37917159010247165,
          -0.31113102109005697,
          -0.3355312880809291,
          -0.30059419666802367,
          -0.37913449673111077,
          -0.21727293536283943,
          -0.25925623545301135,
          -0.32765601478603357,
          0.06900476267833461,
          -0.31035033141984825,
          -0.30192229494179623,
          -0.36022244359545463,
          -0.2832021245669204,
          -0.2595633128168714,
          -0.2776412708783126,
          -0.3368888013158609,
          -0.2595134592393457,
          -0.3257225581162223,
          -0.3366124184716168,
          -0.379244225992026,
          -0.38655628500886163,
          -0.4090299693839607,
          -0.2974113241762419,
          -0.2815385144872211,
          -0.25901578241531,
          -0.2950054019675542,
          -0.23303507128000747,
          -0.06212635822027733,
          -0.30271246357769194,
          -0.04368237013553069,
          -0.30277861800865935,
          -0.20439443627041812,
          -0.3364834976204727,
          -0.2814042640834616,
          -0.3763017983792138,
          0.9164501742302011,
          -0.302570839603627,
          -0.04654485645940113,
          -0.32610367732880274,
          -0.37699822687444673,
          -0.3012650592673267,
          -0.298841089373836,
          -0.33083816219405443,
          -0.37792895311970304,
          -0.3113503222315798,
          -0.31182248430837767,
          -0.33652323335377426,
          -0.33489785675575867,
          -0.20478092917083873,
          -0.3127008950795551,
          -0.3786969995775148,
          -0.3356949526848696,
          -0.30275896212087944,
          -0.3792330191260388,
          -0.3367198968329771,
          -0.3368827928508991,
          -0.2813894057676053,
          -0.24309972810028005,
          0.044636965364174386,
          -0.32501804790941624,
          -0.33648078763646433,
          -0.3648428689340024,
          -0.32431795003258085,
          -0.2062678836167117,
          -0.40945355564442576,
          -0.3240610973038056,
          -0.2828376588844858,
          3.863621234533845,
          -0.3788089833396078,
          0.9200618735897786,
          -0.3791860556466925,
          -0.32550078893466167,
          -0.3364060056195554,
          -0.33656685870534875,
          -0.32610367732880274,
          -0.3787441712166666,
          -0.3026158646569693,
          -0.33640667200164,
          -0.3298572100080517,
          -0.3365601459983837,
          -0.33197464489148587,
          -0.3792162847586139,
          -0.3357398872606956,
          0.3864052122245283,
          -0.33676749777489146,
          -0.3368408497127117,
          -0.3264447696275245,
          -0.35061666510028744,
          -0.33291855360699246,
          -0.30273438784087936,
          -0.3791225431674754,
          -0.3366096563098293,
          -0.33674196220323793,
          -0.283105714306547,
          -0.322332799643193,
          -0.20602623132864403,
          -0.31681120493152515,
          -0.28283562908580234,
          -0.378359173514347,
          -0.38380117756337845,
          -0.37704487850684865,
          -0.32427841776578864,
          -0.37825278138357843,
          -0.3184489986943832,
          -0.374030986174146,
          -0.3366828600900078,
          -0.33668214990772743,
          -0.3295333449030923,
          0.30430104345669073,
          -0.3787502161482289,
          -0.265055958275497,
          -0.32613958911804386,
          -0.33586200318243475,
          0.9472272573061452,
          -0.2479560942196695,
          -0.31007870527566717,
          0.6458889194755197,
          -0.332436687594184,
          -0.33087816926619223,
          -0.4121953444385008,
          -0.25918572481041746,
          0.14660973602896496,
          -0.25925926061460447,
          -0.3189763156671281,
          -0.41167949074120924,
          -0.37903345782939024,
          -0.2831823439084294,
          -0.32600083419008324,
          -0.3363032651005065,
          -0.33682308036104947,
          -0.3288043018999145,
          0.7405871637037594,
          -0.3789721237240219,
          -0.3429078480997418,
          -0.33677704522033697,
          -0.2910852929400565,
          0.4641035045973955,
          -0.30101281777392697,
          -0.3165869987927608,
          -0.3757030744797738,
          -0.33672539913623983,
          -0.37818403682767743,
          -0.32163317074029457,
          -0.3365902573144562,
          -0.06869540394503316,
          -0.378791278861712,
          -0.37771632252043,
          3.868673861698673,
          0.24994850999877455,
          -0.2557941225936859,
          -0.33394768094000393,
          -0.27883129560302256,
          -0.32632598473918195,
          0.09399734623880412,
          -0.33569515200107153,
          -0.37832010422565887,
          -0.33646814844565753,
          -0.33575616527250984,
          -0.325457544614066,
          -0.32275365116909827,
          -0.3368461352703773,
          -0.3256933298983473,
          0.2188588526499104,
          -0.31164389363171435,
          -0.2829545351175258,
          -0.33220891911550793,
          -0.2497357242153231,
          -0.30269344927875125,
          -0.1974925455037709,
          -0.40029417924958705,
          -0.41233981366860817,
          -0.3790344737079284,
          -0.41247234788748455,
          -0.3403343699067637,
          -0.3790517055938592,
          -0.2655790203916485,
          -0.2823090702754585,
          -0.31746061851625557,
          -0.3759977783443854,
          -0.33201957325848347,
          -0.3368746177050054,
          -0.33685559881250615,
          -0.2764619550752558,
          -0.3454281018865037,
          -0.3255787824456082,
          -0.336560687452627,
          4.079453431453833,
          -0.376796272883956,
          -0.32577520945991384,
          -0.2998647637907428,
          -0.2812972725658666,
          -0.18388491773923127,
          -0.28286390051480487,
          -0.2832789538320864,
          -0.3359939944922652,
          -0.32569952609411923,
          -0.35185085296083785,
          -0.33584829095444635,
          -0.13192543072824756,
          -0.32535498341604274,
          -0.2831268418547037,
          -0.3507546441527945,
          -0.33601366430116913,
          -0.1789931381945285,
          2.3120060922818984,
          -0.32186553365838066,
          -0.33425583099673883,
          -0.24808736506397122,
          1.072342146273686,
          -0.2833283125756785,
          -0.35253354909201934,
          -0.32644429022913724,
          -0.3799352063819781,
          -0.1591668274000906,
          -0.3443704334221237,
          -0.3251116171575237,
          -0.3294709268323111,
          -0.3252536512156299,
          -0.37850343399377795,
          -0.2802608479686749,
          -0.3248396496189533,
          -0.33587509891299216,
          -0.32511003603660565,
          -0.36461009491763685,
          -0.19079589428806534,
          -0.34799463612735365,
          -0.3829720410416685,
          -0.21221229911186312,
          -0.32577659178928015,
          -0.3262271290483542,
          0.6734010748517751,
          -0.10684756404604487,
          -0.37920117285774996,
          -0.3365646653491495,
          -0.3796757648030956,
          -0.32656602875801094,
          0.6065673086577201,
          -0.32574989645806457,
          -0.33602706501637103,
          -0.25981035087366233,
          -0.30366627925484274,
          -0.37597275091529403,
          -0.37873982750098784,
          3.881419291707716,
          0.11595117951240164,
          -0.37617588765688653,
          -0.33538890699130924,
          -0.3362458293530689,
          -0.24935129189524155,
          -0.33678489396643774,
          -0.3700254764369283,
          -0.24706258299804926,
          -0.07317552095705145,
          -0.36560477319369983,
          -0.336033257849093,
          -0.32881403053713537,
          -0.37516792916677094,
          -0.33440968915480723,
          -0.3263906542021072,
          -0.3569018928915934,
          -0.30119713328450537,
          3.8640288298163714,
          -0.08251713106371446,
          -0.3314894981737059,
          -0.34772210576320267,
          -0.2596747930534017,
          -0.4174958042910541,
          3.874313017175389,
          3.8756092595374696,
          -0.22946564225538077,
          0.6291518272932657,
          -0.45052424548125736,
          -0.32632382806345295,
          -0.27659988665398827,
          -0.3448811365996435,
          2.579976320127332,
          -0.33487549095692926,
          -0.28353914128139557,
          -0.3358971561767722
         ],
         "y": [
          1.1273896940201211,
          1.127600820145327,
          1.7448849371004362,
          1.2870907053261873,
          0.8456467121300941,
          0.8792735117466833,
          0.5315086298872735,
          1.9403149147741259,
          1.1273897961356867,
          1.127664991082754,
          1.1274430109134557,
          1.1273894812356458,
          1.1273896817516007,
          0.562746454970865,
          0.9998333220683346,
          1.3956787168126275,
          0.3772358850972489,
          1.12737287289512,
          0.9400502708432766,
          1.287094439771729,
          2.1303268776857847,
          0.7888413618526793,
          0.8788635223320926,
          0.7796153074255207,
          1.8775164024973763,
          1.8774943367853043,
          0.5471231170315803,
          1.1272919328896445,
          1.1273764151225567,
          1.1400906476604893,
          0.9393450219877806,
          1.2870969668327072,
          -0.016478553100971044,
          1.089044369924687,
          1.287092962469159,
          1.1271258682781127,
          1.1273652117519184,
          0.25599424417272193,
          1.2870974346634432,
          -0.016423754310028457,
          1.8775021081373025,
          1.1269913442368156,
          1.00279458096371,
          1.4589259276053697,
          0.8792686293428504,
          0.9998569622025091,
          0.7796275578226068,
          1.8774830969327627,
          0.7794602122537504,
          1.1273903299626682,
          1.8774862203333902,
          0.9393149689508129,
          1.1273854724313814,
          1.2870976225966793,
          2.341133780308062,
          2.005727469988555,
          0.723289023520962,
          0.7796128584552889,
          1.8774746301706218,
          0.8788393167680207,
          1.9404594119135907,
          1.017493265245317,
          0.8792745432399278,
          1.2795826307449256,
          0.8792804938549279,
          1.6232131018415334,
          1.127374169130038,
          0.7795310873818577,
          1.2869238886027798,
          0.749849367157774,
          0.8792665253196077,
          0.5638523936942731,
          1.3956756717431966,
          1.287120577655164,
          0.8791806427252465,
          0.8790475518686617,
          1.618845051347424,
          1.2870432499136533,
          1.4026199775241,
          1.1268170328874085,
          1.12737115236853,
          1.127386772319807,
          1.5296235293863885,
          0.9393038573415967,
          1.2870805865010486,
          1.127366773468137,
          0.8792736737836858,
          1.287095864306405,
          1.1273811008624766,
          1.1273905344772093,
          0.7796892586655914,
          0.4796396416194174,
          2.065461719106588,
          1.3956741086711404,
          1.1274042178243584,
          1.2865179388715242,
          1.3957221889518612,
          1.529713783387966,
          2.0223507990290766,
          1.395544773608895,
          2.063226555871198,
          1.8023224593141691,
          1.2870910398048068,
          1.9170371644350335,
          1.287096854202531,
          1.3956747952327346,
          1.1273792746233622,
          1.127371331707482,
          1.3956756717431966,
          1.2870718483965584,
          0.8792792577461817,
          1.1273832033399727,
          0.7669644152575202,
          1.1273815456770264,
          1.1270935143275356,
          1.2870950074086334,
          1.1273267285578719,
          0.7792282474422059,
          1.1273851866251794,
          1.1273895971438896,
          1.2785344038011417,
          0.6184988925643146,
          1.127168843768226,
          0.8792745102365283,
          1.2870950926745297,
          1.1273855664491137,
          1.1273796841085315,
          0.7795916107216156,
          0.2657919464297227,
          1.5297134320613184,
          1.1273604770059384,
          0.7796154778914928,
          1.2870564228916506,
          2.061911790068702,
          1.28709402602874,
          1.3956734001833768,
          1.2870600442388545,
          1.3956651850985564,
          1.2869184450388431,
          1.1273822102142728,
          1.1273769649909102,
          1.1269274441708887,
          0.496867789496377,
          1.2870859076182062,
          0.778818714487815,
          1.3956673168984992,
          1.1273503887144176,
          1.9164592274338474,
          0.5314211626592589,
          1.4026158294357207,
          2.120852910287098,
          1.6188477010724196,
          1.6188222921311415,
          2.0220321521288778,
          1.8774831106937593,
          1.108185081706797,
          1.8774885260566583,
          1.2040905527860861,
          2.0220497106205713,
          1.2870980156173346,
          0.7796158163791749,
          1.3956495011626586,
          1.1273758446049325,
          1.1273895713098832,
          0.8460926384701454,
          1.3340316344380334,
          1.2870876266221707,
          0.547017606597988,
          1.127382912105079,
          0.4014689298420147,
          1.1368230724035222,
          0.8792767619222258,
          1.6185384224301829,
          1.4371549350907191,
          1.1273809135765338,
          1.6262315103110676,
          1.3642664677813685,
          1.1273899440032547,
          0.5312462606028366,
          1.6263122085962303,
          1.287046921133388,
          1.8022269709742678,
          1.617280440718317,
          1.8774701683559905,
          1.1273406567770183,
          1.2710695261799636,
          1.2785348807253911,
          1.1063942751003226,
          1.127323971751577,
          1.2870934151653377,
          1.1273689855902183,
          1.1273789549077005,
          1.2784931155735006,
          1.1272295344799663,
          1.1273889292227526,
          0.9393152505642902,
          0.7788853547715933,
          1.4026160476338465,
          0.5015184846664067,
          1.1273841488168854,
          0.9390769231718317,
          0.8792730506969909,
          1.5294436601388193,
          3.3880032014460912,
          2.02204720569184,
          1.2870869308676545,
          2.0220448342737707,
          1.0466767085945183,
          1.287086344333279,
          1.4422465268542934,
          0.7795695125082839,
          1.409830634951499,
          1.4371648750069324,
          1.6188333687449825,
          1.127388672994048,
          1.127387893856337,
          0.7795003534930981,
          1.2929149799886432,
          1.3956450370531246,
          1.127380100749407,
          1.8268441893654335,
          1.6262787466530881,
          1.3956440571133422,
          0.656299397663783,
          1.1256293137856284,
          0.8784610200753564,
          0.7796205257327664,
          0.7796035452622581,
          1.1273423297847711,
          0.939324206235172,
          2.0662257996895255,
          1.1273544216919642,
          1.1270916804641715,
          0.9392975239086239,
          0.7795987373253063,
          2.06619713663435,
          1.127360204739677,
          1.5926632965151282,
          0.2647279200116632,
          1.2782373575903616,
          1.1273016380920415,
          0.5314878924222664,
          1.5572903931532236,
          0.7796121359861492,
          1.0040700364792834,
          1.2785301406255474,
          1.6263108802943604,
          0.7718097975069704,
          0.7492250417744759,
          1.27851915513819,
          1.1269295687406709,
          0.9393059657693571,
          1.2870871750351858,
          0.7795422275108399,
          1.395583179098441,
          0.9617029515020183,
          0.9392787579056151,
          1.035822167043611,
          1.119524522000684,
          0.5471147851749645,
          0.36465059460555144,
          1.094479996643323,
          0.8461182281542967,
          1.27852540706956,
          0.9193328954375233,
          0.9467792430788671,
          1.6263010236391668,
          1.127386384590661,
          1.626309807638327,
          1.2785314390105942,
          1.10615242388204,
          0.9393142523902261,
          1.1273597486096776,
          1.4421290497979533,
          2.0643049984725845,
          1.2869094116739435,
          1.2870933937129476,
          1.8023041721137187,
          1.1178402669420047,
          1.2872020618852833,
          1.1272987331946367,
          1.1273735171566095,
          0.531501404893388,
          1.1273938667335421,
          1.287054783519728,
          1.122958697870231,
          0.8869676351645727,
          1.2868486298116082,
          1.127408751991807,
          1.127379877325882,
          1.2870880147444768,
          1.1273605935071882,
          1.3956737494378817,
          0.6281974562943595,
          0.8792669219952751,
          1.8023114274251837,
          0.7793196298242423,
          1.127360135353339,
          0.5470961248561902,
          1.8774877757945536,
          2.0803698642638633,
          1.8027755394924299,
          1.8028196606470646,
          0.5314799967304452,
          0.17372301668589005,
          2.5528856163361318,
          1.395676284997544,
          0.7792103590659202,
          1.5817191933784345,
          0.7764932964060126,
          1.1272805462702309,
          0.7796153732879568,
          1.1273527584304526
         ],
         "z": [
          -0.5688671775164607,
          -0.5693365749898947,
          -0.5949990266039188,
          -0.38971719382707787,
          -0.06043184832780389,
          -0.3205042558150957,
          0.0006134551682935169,
          -0.6045318005618329,
          -0.5688756728469184,
          -0.5691318640219236,
          -0.5689184394419426,
          -0.5688672232961619,
          -0.5688676664678456,
          -0.2881900876899732,
          -0.4195476537156111,
          0.009492822705036222,
          -0.50421878710682,
          -0.5689110968625231,
          -0.06928974887164824,
          -0.3897207843391173,
          -0.4535255761144087,
          -0.2566155480122804,
          -0.321310509517637,
          -0.2477531878340113,
          -0.5651976590480154,
          -0.5651764437955636,
          -0.29306607429294773,
          -0.5689835068826702,
          -0.5689034856671138,
          -0.5810786092851703,
          -0.0686116818116824,
          -0.3897121976046995,
          0.1987012492936471,
          -0.16469035466573975,
          -0.3897133547579356,
          -0.5694147490943989,
          -0.5688937156344498,
          -0.3516845690404965,
          -0.3897154011279336,
          0.19869863937339532,
          -0.565183915623076,
          -0.5689849490464036,
          0.027390539967920322,
          -0.11759623015762784,
          -0.3205225969213761,
          -0.4195681893443716,
          -0.24775686364706234,
          -0.5651716463679247,
          -0.2478463519753385,
          -0.5688677889273921,
          -0.5651736478498607,
          -0.06859280244455238,
          -0.5688731339774,
          -0.38971282759336096,
          -0.12031280054615573,
          -0.6485649008212034,
          0.2301889764240055,
          -0.24779280763309783,
          -0.5651825351200424,
          -0.3205765468231762,
          -0.604508628843011,
          -0.340186667480196,
          -0.32050524755238957,
          -0.3957828721845089,
          -0.3205052099850286,
          -0.5406028992556624,
          -0.5688732832272483,
          -0.24777480748585462,
          -0.38973808462240933,
          -0.2687024282739639,
          -0.3205065524853325,
          -0.27029806909593623,
          0.009485735049320163,
          -0.3897724555211996,
          -0.32051548283749215,
          -0.320538891258986,
          -0.5364482718743155,
          -0.3897301573131849,
          0.026580944508777717,
          -0.5693181241120526,
          -0.5688715511968601,
          -0.5689144452120528,
          -0.2440618007825,
          -0.06890110836981629,
          -0.38972148650939037,
          -0.5688902094779562,
          -0.3205039108387626,
          -0.3897126393755964,
          -0.5688694316661711,
          -0.5688679855595064,
          -0.24781618640792036,
          -0.43845628319297986,
          -0.6967341390310922,
          0.009460196400721531,
          -0.568881141521263,
          -0.38990663824135946,
          0.009430995402524267,
          -0.24404967456785376,
          -0.6141777712118445,
          0.009470872258720044,
          -0.6883285273170056,
          -0.5316398808176669,
          -0.38972152155884404,
          -0.603620859374741,
          -0.389714018437829,
          0.009471554734686142,
          -0.5688764592863972,
          -0.5688705551650112,
          0.009485735049320163,
          -0.3897180928709276,
          -0.3205087788153465,
          -0.5688774623267042,
          0.042552050729121896,
          -0.5688733647132053,
          -0.5689082428778403,
          -0.38971281704066085,
          -0.5688787494604907,
          -0.2636553761692319,
          -0.5688693538101919,
          -0.5688687447943163,
          -0.10072683616615545,
          -0.2774459510135118,
          -0.5689052233253009,
          -0.3205047150529278,
          -0.389715079364464,
          -0.568873224371488,
          -0.5688685369003235,
          -0.24774984426864274,
          -0.40052206985683547,
          -0.24405535838182355,
          -0.5693398546510645,
          -0.2477624889561422,
          -0.3897232926212392,
          -0.6759086984313524,
          -0.3897644541340364,
          0.009442704693072705,
          -0.3897267743939956,
          0.009305525644473973,
          -0.3897909399627562,
          -0.568870604484609,
          -0.568869261037355,
          -0.5689235118253474,
          -0.003632183016132315,
          -0.3897215948585029,
          -0.2479807310275678,
          0.00948876019964017,
          -0.5688819677488582,
          -0.6264894210164297,
          0.0006036150423522264,
          0.0265516316434117,
          -0.6884155948456296,
          -0.5364107580265556,
          -0.5364414128892976,
          -0.6304325491291468,
          -0.5651806734240507,
          -0.5754411561013956,
          -0.565180320633999,
          0.19084169733254489,
          -0.6304494308791095,
          -0.38971796640404227,
          -0.24775429105869118,
          0.009490065025091496,
          -0.5688780249278256,
          -0.5688691627406559,
          -0.05910330159197036,
          -0.02420272662334993,
          -0.3897167376232978,
          -0.293163049794399,
          -0.5688685357208779,
          0.050745619828837685,
          -0.590456175443906,
          -0.3205464406324717,
          -0.5367093136627066,
          -0.48501394777918677,
          -0.5688692515986278,
          -0.42186726880532777,
          -0.01861095384783018,
          -0.5688748233403083,
          -0.003634940972035243,
          -0.42187368729580976,
          -0.38973619087669725,
          -0.5317358608335179,
          -0.5499219380621551,
          -0.5652583681666684,
          -0.5689251915498839,
          -0.21529389531673568,
          -0.10072979854914683,
          -0.573719371002198,
          -0.5688791035158944,
          -0.38973382072958773,
          -0.5688723056167824,
          -0.5688919060571743,
          -0.1007397199236913,
          -0.5691638821210315,
          -0.5688684452473161,
          -0.06859357397212909,
          -0.2595624687790844,
          0.0265889794613887,
          -0.5023667321889032,
          -0.5689780242115875,
          -0.07034697306944514,
          -0.3205053148394931,
          -0.2441893249297368,
          6.285031093878311,
          -0.630433000989331,
          -0.38971506714847737,
          -0.6304292186665218,
          -0.3929928633225475,
          -0.3897145032203884,
          -0.18543295898381615,
          -0.24776315076537833,
          0.04980383262583746,
          -0.4850094830834775,
          -0.5364170088209466,
          -0.5688676981261291,
          -0.5688679505542155,
          -0.24788494608568118,
          -0.024955151902635416,
          0.009481136783382724,
          -0.568872977012347,
          -0.5434230771895886,
          -0.42191268455794867,
          0.009486085098864453,
          -0.04692472585926218,
          -0.5697395557684662,
          0.43446617271842236,
          -0.24776312255914484,
          -0.2477487996245328,
          -0.5688767232679722,
          -0.06859574867054255,
          -0.6874571644036606,
          -0.5688833414464265,
          -0.5736884844720712,
          -0.06859706203102604,
          -0.24775118774890142,
          -0.687475927131532,
          -0.5688808893138023,
          -0.28339754535306844,
          -0.4921009884739486,
          -0.10075922648327122,
          -0.568907707451622,
          0.0005894448559316117,
          -0.2660321499268485,
          -0.2477498481831908,
          -0.3680620167374821,
          -0.10072574191094756,
          -0.42184600553977697,
          -0.24869338174693137,
          -0.270373173832889,
          -0.10075474050632723,
          -0.5689255545096776,
          -0.06860167314784983,
          -0.3897278211073649,
          -0.2478050218493393,
          0.009479516894300743,
          -0.3555064968668052,
          -0.06859804849699315,
          -0.4190056757446661,
          -0.5703189714935223,
          -0.29306669179794465,
          -0.1792518325852049,
          0.1356865872041895,
          -0.059182293944486146,
          -0.10072970385373056,
          0.5258768179759576,
          -0.07575937216110086,
          -0.4218609908012271,
          -0.5688745117481984,
          -0.42185192739053773,
          -0.10072316939298506,
          -0.5859058897230713,
          -0.0685919632713146,
          -0.5688804507640268,
          -0.1855403477007169,
          -0.6881104796217921,
          -0.38974219331631155,
          -0.3897237847423437,
          -0.5320604705182257,
          -0.5772126886420405,
          -0.3898132415689628,
          -0.5688798761109731,
          -0.5688787938554928,
          0.0006161451667878824,
          -0.5688711893835707,
          -0.3899220236677114,
          -0.5698650262700957,
          -0.327985960339215,
          -0.38997419960520807,
          -0.5688930124534811,
          -0.5690580463910323,
          -0.3898077498097023,
          -0.5689193214717503,
          0.009493091713808605,
          0.048283353891845786,
          -0.3205394837977178,
          -0.5316467601414753,
          -0.25247290929231037,
          -0.568988988507854,
          -0.2930683648445837,
          -0.5651701957715648,
          -0.656449402302274,
          -0.5320129023087459,
          -0.5320553229399498,
          0.00014647625945743095,
          -0.21403162702496933,
          6.895366921834625,
          0.009490837091036125,
          -0.2478064358959298,
          0.08215217294308869,
          -0.26589043831099873,
          -0.5688874285536234,
          -0.24774564949845695,
          -0.5688817422905623
         ]
        },
        {
         "customdata": [
          [
           "SHA-256"
          ],
          [
           "Ethash"
          ],
          [
           "Scrypt"
          ],
          [
           "CryptoNight-V7"
          ],
          [
           "Ethash"
          ],
          [
           "Equihash"
          ],
          [
           "Multiple"
          ],
          [
           "Scrypt"
          ],
          [
           "X11"
          ],
          [
           "Scrypt"
          ],
          [
           "Multiple"
          ],
          [
           "Scrypt"
          ],
          [
           "SHA-256"
          ],
          [
           "Scrypt"
          ],
          [
           "Scrypt"
          ],
          [
           "Quark"
          ],
          [
           "Groestl"
          ],
          [
           "Scrypt"
          ],
          [
           "Scrypt"
          ],
          [
           "Scrypt"
          ],
          [
           "X11"
          ],
          [
           "Multiple"
          ],
          [
           "SHA-256"
          ],
          [
           "Scrypt"
          ],
          [
           "Scrypt"
          ],
          [
           "Scrypt"
          ],
          [
           "Scrypt"
          ],
          [
           "Scrypt"
          ],
          [
           "NeoScrypt"
          ],
          [
           "Scrypt"
          ],
          [
           "Scrypt"
          ],
          [
           "Scrypt"
          ],
          [
           "Scrypt"
          ],
          [
           "SHA-256"
          ],
          [
           "Scrypt"
          ],
          [
           "Scrypt"
          ],
          [
           "Scrypt"
          ],
          [
           "Scrypt"
          ],
          [
           "HybridScryptHash256"
          ],
          [
           "Scrypt"
          ],
          [
           "Scrypt"
          ],
          [
           "SHA-256"
          ],
          [
           "Scrypt"
          ],
          [
           "Scrypt"
          ],
          [
           "Scrypt"
          ],
          [
           "Scrypt"
          ],
          [
           "SHA-256"
          ],
          [
           "SHA-256"
          ],
          [
           "SHA-256"
          ],
          [
           "SHA-256"
          ],
          [
           "SHA-256"
          ],
          [
           "X11"
          ],
          [
           "Scrypt"
          ],
          [
           "Lyra2REv2"
          ],
          [
           "Scrypt"
          ],
          [
           "SHA-256"
          ],
          [
           "CryptoNight"
          ],
          [
           "CryptoNight"
          ],
          [
           "Scrypt"
          ],
          [
           "Scrypt"
          ],
          [
           "Scrypt"
          ],
          [
           "Scrypt"
          ],
          [
           "Scrypt"
          ],
          [
           "Scrypt"
          ],
          [
           "Stanford Folding"
          ],
          [
           "Multiple"
          ],
          [
           "QuBit"
          ],
          [
           "Scrypt"
          ],
          [
           "Scrypt"
          ],
          [
           "M7 POW"
          ],
          [
           "Scrypt"
          ],
          [
           "SHA-256"
          ],
          [
           "Scrypt"
          ],
          [
           "X11"
          ],
          [
           "Lyra2RE"
          ],
          [
           "SHA-256"
          ],
          [
           "X11"
          ],
          [
           "Scrypt"
          ],
          [
           "Scrypt"
          ],
          [
           "Ethash"
          ],
          [
           "Blake2b"
          ],
          [
           "X11"
          ],
          [
           "SHA-256"
          ],
          [
           "Scrypt"
          ],
          [
           "1GB AES Pattern Search"
          ],
          [
           "Scrypt"
          ],
          [
           "SHA-256"
          ],
          [
           "X11"
          ],
          [
           "Dagger"
          ],
          [
           "Scrypt"
          ],
          [
           "X11GOST"
          ],
          [
           "Scrypt"
          ],
          [
           "ScryptOG"
          ],
          [
           "X11"
          ],
          [
           "Scrypt"
          ],
          [
           "X11"
          ],
          [
           "Equihash"
          ],
          [
           "CryptoNight"
          ],
          [
           "SHA-256"
          ],
          [
           "Multiple"
          ],
          [
           "Scrypt"
          ],
          [
           "SHA-256"
          ],
          [
           "Scrypt"
          ],
          [
           "Lyra2Z"
          ],
          [
           "Ethash"
          ],
          [
           "Equihash"
          ],
          [
           "Scrypt"
          ],
          [
           "X11"
          ],
          [
           "X11"
          ],
          [
           "CryptoNight"
          ],
          [
           "Scrypt"
          ],
          [
           "CryptoNight"
          ],
          [
           "Lyra2RE"
          ],
          [
           "X11"
          ],
          [
           "CryptoNight-V7"
          ],
          [
           "Scrypt"
          ],
          [
           "X11"
          ],
          [
           "Equihash"
          ],
          [
           "Scrypt"
          ],
          [
           "Lyra2RE"
          ],
          [
           "Dagger-Hashimoto"
          ],
          [
           "Scrypt"
          ],
          [
           "NIST5"
          ],
          [
           "Scrypt"
          ],
          [
           "SHA-256"
          ],
          [
           "Scrypt"
          ],
          [
           "CryptoNight-V7"
          ],
          [
           "Argon2d"
          ],
          [
           "Blake2b"
          ],
          [
           "Cloverhash"
          ],
          [
           "CryptoNight"
          ],
          [
           "X11"
          ],
          [
           "Scrypt"
          ],
          [
           "Scrypt"
          ],
          [
           "X11"
          ],
          [
           "X11"
          ],
          [
           "CryptoNight"
          ],
          [
           "Time Travel"
          ],
          [
           "Scrypt"
          ],
          [
           "Keccak"
          ],
          [
           "X11"
          ],
          [
           "SHA-256"
          ],
          [
           "Scrypt"
          ],
          [
           "Scrypt"
          ],
          [
           "Scrypt"
          ],
          [
           "Scrypt"
          ],
          [
           "Scrypt"
          ],
          [
           "Scrypt"
          ],
          [
           "CryptoNight"
          ],
          [
           "Equihash"
          ],
          [
           "X11"
          ],
          [
           "NeoScrypt"
          ],
          [
           "Equihash"
          ],
          [
           "Dagger"
          ],
          [
           "Scrypt"
          ],
          [
           "X11"
          ],
          [
           "NeoScrypt"
          ],
          [
           "Ethash"
          ],
          [
           "NeoScrypt"
          ],
          [
           "Multiple"
          ],
          [
           "CryptoNight"
          ],
          [
           "CryptoNight"
          ],
          [
           "Ethash"
          ],
          [
           "Scrypt"
          ],
          [
           "X11"
          ],
          [
           "CryptoNight-V7"
          ],
          [
           "Scrypt"
          ],
          [
           "BLAKE256"
          ],
          [
           "X11"
          ],
          [
           "NeoScrypt"
          ],
          [
           "NeoScrypt"
          ],
          [
           "NeoScrypt"
          ],
          [
           "Scrypt"
          ],
          [
           "X11"
          ],
          [
           "SHA-256"
          ],
          [
           "C11"
          ],
          [
           "Ethash"
          ],
          [
           "Scrypt"
          ],
          [
           "CryptoNight"
          ],
          [
           "SkunkHash"
          ],
          [
           "CryptoNight"
          ],
          [
           "Scrypt"
          ],
          [
           "Dagger"
          ],
          [
           "Lyra2REv2"
          ],
          [
           "Scrypt"
          ],
          [
           "Scrypt"
          ],
          [
           "X11"
          ],
          [
           "Ethash"
          ],
          [
           "CryptoNight"
          ],
          [
           "Scrypt"
          ],
          [
           "SHA-256"
          ],
          [
           "IMesh"
          ],
          [
           "Quark"
          ],
          [
           "Equihash"
          ],
          [
           "Lyra2Z"
          ],
          [
           "NeoScrypt"
          ],
          [
           "X11"
          ],
          [
           "CryptoNight"
          ],
          [
           "NIST5"
          ],
          [
           "Lyra2RE"
          ],
          [
           "Tribus"
          ],
          [
           "Lyra2Z"
          ],
          [
           "CryptoNight"
          ],
          [
           "CryptoNight Heavy"
          ],
          [
           "CryptoNight"
          ],
          [
           "Jump Consistent Hash"
          ],
          [
           "CryptoNight"
          ],
          [
           "SHA-512"
          ],
          [
           "X16R"
          ],
          [
           "HMQ1725"
          ],
          [
           "X11"
          ],
          [
           "Scrypt"
          ],
          [
           "Scrypt"
          ],
          [
           "CryptoNight-V7"
          ],
          [
           "Cryptonight-GPU"
          ],
          [
           "XEVAN"
          ],
          [
           "CryptoNight Heavy"
          ],
          [
           "CryptoNight"
          ],
          [
           "X11"
          ],
          [
           "SHA-256"
          ],
          [
           "X11"
          ],
          [
           "X16R"
          ],
          [
           "Equihash"
          ],
          [
           "HMQ1725"
          ],
          [
           "Lyra2Z"
          ],
          [
           "SHA-256"
          ],
          [
           "PHI1612"
          ],
          [
           "CryptoNight"
          ],
          [
           "Blake"
          ],
          [
           "Blake"
          ],
          [
           "Blake"
          ],
          [
           "Blake"
          ],
          [
           "Equihash"
          ],
          [
           "Exosis"
          ],
          [
           "Scrypt"
          ],
          [
           "Equihash"
          ],
          [
           "Equihash"
          ],
          [
           "Lyra2REv2"
          ],
          [
           "QuBit"
          ],
          [
           "SHA-256"
          ],
          [
           "X13"
          ],
          [
           "SHA-256"
          ],
          [
           "Ethash"
          ],
          [
           "Scrypt"
          ],
          [
           "NeoScrypt"
          ],
          [
           "Blake"
          ],
          [
           "Scrypt"
          ],
          [
           "SHA-256"
          ],
          [
           "Scrypt"
          ],
          [
           "Groestl"
          ],
          [
           "Scrypt"
          ],
          [
           "Scrypt"
          ],
          [
           "Multiple"
          ],
          [
           "Equihash+Scrypt"
          ],
          [
           "Lyra2Z"
          ],
          [
           "Ethash"
          ],
          [
           "Equihash"
          ],
          [
           "CryptoNight"
          ],
          [
           "Equihash"
          ]
         ],
         "hovertemplate": "<b>%{hovertext}</b><br><br>Class=%{marker.color}<br>PC 1=%{x}<br>PC 2=%{y}<br>PC 3=%{z}<br>Algorithm=%{customdata[0]}<extra></extra>",
         "hovertext": [
          "Bitcoin",
          "Ethereum",
          "Litecoin",
          "Monero",
          "Ethereum Classic",
          "ZCash",
          "DigiByte",
          "ProsperCoin",
          "Spreadcoin",
          "Argentum",
          "MyriadCoin",
          "MoonCoin",
          "ZetaCoin",
          "SexCoin",
          "Quatloo",
          "QuarkCoin",
          "Riecoin",
          "Digitalcoin ",
          "Catcoin",
          "CannaCoin",
          "CryptCoin",
          "Verge",
          "DevCoin",
          "EarthCoin",
          "E-Gulden",
          "Einsteinium",
          "Emerald",
          "Franko",
          "FeatherCoin",
          "GrandCoin",
          "GlobalCoin",
          "GoldCoin",
          "Infinite Coin",
          "IXcoin",
          "KrugerCoin",
          "LuckyCoin",
          "Litebar ",
          "MegaCoin",
          "MediterraneanCoin",
          "MinCoin",
          "NobleCoin",
          "Namecoin",
          "NyanCoin",
          "RonPaulCoin",
          "StableCoin",
          "SmartCoin",
          "SysCoin",
          "TigerCoin",
          "TerraCoin",
          "UnbreakableCoin",
          "Unobtanium",
          "UroCoin",
          "ViaCoin",
          "Vertcoin",
          "WorldCoin",
          "JouleCoin",
          "ByteCoin",
          "DigitalNote ",
          "MonaCoin",
          "Gulden",
          "PesetaCoin",
          "Wild Beast Coin",
          "Flo",
          "ArtByte",
          "Folding Coin",
          "Unitus",
          "CypherPunkCoin",
          "OmniCron",
          "GreenCoin",
          "Cryptonite",
          "MasterCoin",
          "SoonCoin",
          "1Credit",
          "MarsCoin ",
          "Crypto",
          "Anarchists Prime",
          "BowsCoin",
          "Song Coin",
          "BitZeny",
          "Expanse",
          "Siacoin",
          "MindCoin",
          "I0coin",
          "Revolution VR",
          "HOdlcoin",
          "Gamecredits",
          "CarpeDiemCoin",
          "Adzcoin",
          "SoilCoin",
          "YoCoin",
          "SibCoin",
          "Francs",
          "Aiden",
          "BolivarCoin",
          "Omni",
          "PizzaCoin",
          "Komodo",
          "Karbo",
          "ZayedCoin",
          "Circuits of Value",
          "DopeCoin",
          "DollarCoin",
          "Shilling",
          "ZCoin",
          "Elementrem",
          "ZClassic",
          "KiloCoin",
          "ArtexCoin",
          "Kurrent",
          "Cannabis Industry Coin",
          "OsmiumCoin",
          "Bikercoins",
          "HexxCoin",
          "PacCoin",
          "Citadel",
          "BeaverCoin",
          "VaultCoin",
          "Zero",
          "Canada eCoin",
          "Zoin",
          "DubaiCoin",
          "EB3coin",
          "Coinonat",
          "BenjiRolls",
          "ILCoin",
          "EquiTrader",
          "Quantum Resistant Ledger",
          "Dynamic",
          "Nano",
          "ChanCoin",
          "Dinastycoin",
          "DigitalPrice",
          "Unify",
          "SocialCoin",
          "ArcticCoin",
          "DAS",
          "LeviarCoin",
          "Bitcore",
          "gCn Coin",
          "SmartCash",
          "Onix",
          "Bitcoin Cash",
          "Sojourn Coin",
          "NewYorkCoin",
          "FrazCoin",
          "Kronecoin",
          "AdCoin",
          "Linx",
          "Sumokoin",
          "BitcoinZ",
          "Elements",
          "VIVO Coin",
          "Bitcoin Gold",
          "Pirl",
          "eBoost",
          "Pura",
          "Innova",
          "Ellaism",
          "GoByte",
          "SHIELD",
          "UltraNote",
          "BitCoal",
          "DaxxCoin",
          "BoxyCoin",
          "AC3",
          "Lethean",
          "PopularCoin",
          "Photon",
          "Sucre",
          "SparksPay",
          "GoaCoin",
          "GunCoin",
          "IrishCoin",
          "Pioneer Coin",
          "UnitedBitcoin",
          "Interzone",
          "1717 Masonic Commemorative Token",
          "Crypto Wisdom Coin",
          "TurtleCoin",
          "MUNcoin",
          "Niobio Cash",
          "ShareChain",
          "Travelflex",
          "KREDS",
          "BitFlip",
          "LottoCoin",
          "Crypto Improvement Fund",
          "Callisto Network",
          "BitTube",
          "Poseidon",
          "Manna",
          "Aidos Kuneen",
          "Cosmo",
          "Bitrolium",
          "Alpenschillling",
          "Rapture",
          "FuturoCoin",
          "Monero Classic",
          "Jumpcoin",
          "Infinex",
          "KEYCO",
          "GINcoin",
          "PlatinCoin",
          "Loki",
          "Newton Coin",
          "MassGrid",
          "PluraCoin",
          "Arionum",
          "Motion",
          "PlusOneCoin",
          "Axe",
          "HexCoin",
          "Deimos",
          "Webchain",
          "Ryo",
          "Urals Coin",
          "Qwertycoin",
          "Bitcoin Nova",
          "DACash",
          "Project Pai",
          "Azart",
          "Xchange",
          "CrypticCoin",
          "Brazio",
          "Actinium",
          "Bitcoin SV",
          "Argoneum",
          "FREDEnergy",
          "BlakeBitcoin",
          "Universal Molecule",
          "Lithium",
          "Electron",
          "PirateCash",
          "Exosis",
          "Block-Logic",
          "Beam",
          "Bithereum",
          "Scribe Network",
          "SLICE",
          "BLAST",
          "Bitcoin Rhodium",
          "GlobalToken",
          "Media Protocol Token",
          "SolarCoin",
          "UFO Coin",
          "BlakeCoin",
          "Crypto Escudo",
          "Crown Coin",
          "SmileyCoin",
          "Groestlcoin",
          "Bata",
          "Pakcoin",
          "JoinCoin",
          "Vollar",
          "TecraCoin",
          "Reality Clash",
          "ChainZilla",
          "Beldex",
          "Horizen"
         ],
         "legendgroup": "1",
         "marker": {
          "color": [
           1,
           1,
           1,
           1,
           1,
           1,
           1,
           1,
           1,
           1,
           1,
           1,
           1,
           1,
           1,
           1,
           1,
           1,
           1,
           1,
           1,
           1,
           1,
           1,
           1,
           1,
           1,
           1,
           1,
           1,
           1,
           1,
           1,
           1,
           1,
           1,
           1,
           1,
           1,
           1,
           1,
           1,
           1,
           1,
           1,
           1,
           1,
           1,
           1,
           1,
           1,
           1,
           1,
           1,
           1,
           1,
           1,
           1,
           1,
           1,
           1,
           1,
           1,
           1,
           1,
           1,
           1,
           1,
           1,
           1,
           1,
           1,
           1,
           1,
           1,
           1,
           1,
           1,
           1,
           1,
           1,
           1,
           1,
           1,
           1,
           1,
           1,
           1,
           1,
           1,
           1,
           1,
           1,
           1,
           1,
           1,
           1,
           1,
           1,
           1,
           1,
           1,
           1,
           1,
           1,
           1,
           1,
           1,
           1,
           1,
           1,
           1,
           1,
           1,
           1,
           1,
           1,
           1,
           1,
           1,
           1,
           1,
           1,
           1,
           1,
           1,
           1,
           1,
           1,
           1,
           1,
           1,
           1,
           1,
           1,
           1,
           1,
           1,
           1,
           1,
           1,
           1,
           1,
           1,
           1,
           1,
           1,
           1,
           1,
           1,
           1,
           1,
           1,
           1,
           1,
           1,
           1,
           1,
           1,
           1,
           1,
           1,
           1,
           1,
           1,
           1,
           1,
           1,
           1,
           1,
           1,
           1,
           1,
           1,
           1,
           1,
           1,
           1,
           1,
           1,
           1,
           1,
           1,
           1,
           1,
           1,
           1,
           1,
           1,
           1,
           1,
           1,
           1,
           1,
           1,
           1,
           1,
           1,
           1,
           1,
           1,
           1,
           1,
           1,
           1,
           1,
           1,
           1,
           1,
           1,
           1,
           1,
           1,
           1,
           1,
           1,
           1,
           1,
           1,
           1,
           1,
           1,
           1,
           1,
           1,
           1,
           1,
           1,
           1,
           1,
           1,
           1,
           1,
           1,
           1,
           1,
           1,
           1,
           1,
           1,
           1,
           1,
           1,
           1,
           1,
           1,
           1,
           1,
           1,
           1,
           1,
           1,
           1,
           1,
           1,
           1,
           1,
           1,
           1
          ],
          "coloraxis": "coloraxis",
          "symbol": "diamond"
         },
         "mode": "markers",
         "name": "1",
         "scene": "scene",
         "showlegend": true,
         "type": "scatter3d",
         "x": [
          -0.13584787135818752,
          -0.12252924366360328,
          -0.16879571275229402,
          -0.13622936114858492,
          -0.12090977041644599,
          -0.17862505171054713,
          0.19469275122073418,
          -0.1699888559303018,
          -0.21228373467135406,
          -0.16959010201964161,
          -0.06899014197939855,
          2.65900882305798,
          -0.13281331768717972,
          -0.1667338318387069,
          -0.16938656989550596,
          -0.2082344054455675,
          -0.19295946541343023,
          -0.1694364456786766,
          -0.1699703786398335,
          -0.17006031525425142,
          -0.21237678549877212,
          0.2195179786537781,
          0.2574556309169285,
          0.08885087693437528,
          -0.16979611877069564,
          -0.16522228576522907,
          -0.16973306743021085,
          -0.17011967295606065,
          -0.17635757039050598,
          -0.1484966693464827,
          -0.16886534138513593,
          -0.16915445879438734,
          1.6504518914101989,
          -0.13580762161308524,
          -0.16633373823662015,
          -0.16982365052923187,
          -0.1701929980284793,
          -0.16942193670824474,
          -0.14668909511795378,
          -0.17006944457346007,
          -0.029583882493895534,
          -0.13588848515125188,
          -0.1634737130400869,
          -0.17004822361609453,
          -0.16806683423758176,
          -0.1695140010747243,
          -0.12251776450685573,
          -0.1353302487955634,
          -0.1356294009088344,
          -0.1356123612797161,
          -0.13622638151761302,
          -0.21255764236882174,
          -0.16975286610859625,
          -0.17696620425483206,
          -0.16673902283306588,
          -0.1354003277329285,
          4.010977213327349,
          0.4705553853678494,
          -0.16857448439949435,
          -0.1525563962886462,
          -0.1672407124228386,
          -0.17019532310161428,
          -0.16709997928191653,
          -0.15276141186062892,
          -0.12139868149923011,
          -0.10438584955369294,
          -0.1848107550877853,
          -0.17006309432275635,
          -0.03785650504528456,
          -0.10976339348887094,
          -0.17020455197248088,
          -0.13591742696958561,
          0.5076194750981349,
          -0.21191974057387955,
          -0.1444987577906815,
          -0.13564697935536935,
          -0.21221636340943204,
          -0.16825349247895174,
          -0.16741259779782422,
          -0.12364175101756034,
          0.39552747058764987,
          -0.21225315318713212,
          -0.13580879100793064,
          -0.16599678241671387,
          -0.12943127217380773,
          -0.1687091989330804,
          0.2998241214452552,
          -0.21137992952088447,
          -0.13422653419649364,
          -0.1689685253621469,
          -0.13918900854034677,
          -0.16998600911106893,
          -0.1205524585329426,
          -0.21221501918297397,
          -0.1702046128642087,
          -0.21237127640737613,
          -0.37605180867684246,
          0.3091403456114134,
          -0.1360795733612264,
          -0.08364480957230871,
          -0.16725618108138202,
          -0.1360364853282543,
          -0.169854437124107,
          -0.08179994945291125,
          -0.12337326890271455,
          -0.17864757487832394,
          -0.09404066581247938,
          -0.1984008343484321,
          -0.2101120745053266,
          0.3091342735975966,
          -0.17018562331187392,
          0.30927039611128615,
          -0.145060843327463,
          0.5310395270801856,
          -0.13494564447211704,
          -0.17015259287513865,
          -0.20481847156400226,
          -0.17866039577463438,
          -0.16820936637314454,
          -0.14476761857396536,
          -0.1447005722771753,
          -0.1399300519829991,
          -0.16538861414157993,
          -0.16969721042632724,
          -0.10103838719604019,
          -0.16951247932233948,
          -0.13479596430389154,
          -0.14344862762324365,
          -0.02156116096564087,
          -0.14316089364987147,
          0.3467344613219652,
          -0.21138896546945032,
          -0.16984416559023513,
          -0.1695986399612104,
          -0.21179946273947114,
          -0.21240037324524547,
          0.3095452184383069,
          -0.15177551448678261,
          3.378785612250445,
          -0.106577123001015,
          -0.20290952479958704,
          -0.1358470005420655,
          -0.09284918152649169,
          1.650043998645649,
          -0.1699461277244974,
          -0.16937594790388444,
          -0.16906467956337404,
          -0.16905106267400036,
          0.30973589087656034,
          0.04218481459768748,
          -0.16490770377642228,
          -0.18123723194086885,
          -0.17850006664743034,
          -0.1329359096590854,
          -0.16820750046126404,
          -0.2077640523645603,
          -0.18107649100466672,
          -0.1216745561129665,
          -0.18118065661126181,
          -0.09422020305852831,
          1.1806567696766148,
          0.30911647545140053,
          -0.04359197371483282,
          -0.16940688817745797,
          -0.20749842786966297,
          -0.12346789500524784,
          -0.08291977093817317,
          1.1503737839670651,
          -0.21237329830283527,
          -0.1812345792455539,
          -0.18120273292263173,
          -0.17398932111590726,
          -0.16916653235288848,
          -0.2122956371939958,
          -0.1358255191895535,
          -0.17360845707873407,
          -0.23719852759498017,
          -0.16981576402890658,
          8.35313329797665,
          -0.1356437070305427,
          0.31314743256460603,
          0.030745796871338785,
          -0.1324172783459315,
          -0.1619373502450268,
          -0.16976386991600698,
          0.14985043367296216,
          -0.20619961894463676,
          -0.07285762531638366,
          0.31735378065852327,
          -0.17001047017596654,
          -0.0321786580056642,
          -0.13741104189882425,
          -0.21315675165216744,
          -0.17744975747936143,
          -0.07949561638514024,
          -0.18127745541621204,
          -0.2114314470281183,
          0.309306537779396,
          -0.16545007269290912,
          -0.14489989050655305,
          -0.19806945869801015,
          -0.08188766468845084,
          0.31338884216565993,
          0.5994674528234973,
          2.190255279347406,
          -0.14878791305162486,
          0.3234639319794618,
          -0.21168203453235143,
          -0.1866551472761649,
          -0.12037835448885309,
          -0.21235473251973414,
          -0.17003610255693913,
          -0.15942342568220977,
          -0.1233563860722562,
          -0.14253646992029262,
          -0.09760101077044354,
          3.2244142386784547,
          0.32250125289953513,
          -0.21186465220728445,
          -0.09402859317821664,
          -0.21232497056248678,
          -0.18606029793460974,
          -0.06897202117820483,
          -0.11815597362175952,
          -0.0812615083555757,
          -0.1358470396822158,
          -0.20891102801213451,
          0.3922635425227482,
          -0.12475399269620263,
          -0.12437627594650193,
          -0.12478328049163415,
          -0.07328895513583819,
          -0.2912597468117546,
          -0.14968062619355837,
          -0.16888374643439882,
          -0.17648325008866442,
          -0.17832605723889214,
          -0.1779186485063597,
          -0.18399047210870056,
          -0.1350936208105203,
          -0.09295661711442327,
          -0.13391599626975456,
          0.07706289530014873,
          0.5532690436323162,
          -0.10333556676384663,
          -0.07329913961730984,
          -0.15291831040436726,
          -0.1356287449697389,
          0.5747317109256267,
          -0.1925024450037085,
          -0.17011585081843092,
          -0.16798908713457888,
          -0.10515159160347232,
          -0.12590918465401393,
          -0.07998644923720372,
          -0.12340778617120618,
          -0.35644870093278647,
          0.3317603933821913,
          -0.17862615296482182
         ],
         "y": [
          -1.3385776518518746,
          -2.051148704479741,
          -1.0904806760496164,
          -2.2595059066934353,
          -2.0512433635407477,
          -2.0730164463832774,
          -1.891322057694647,
          -1.090476353262593,
          -0.9307662865331869,
          -1.090493450283934,
          -1.8867454977052367,
          -1.2680562670182913,
          -1.3385804908019516,
          -1.0905288936051587,
          -1.090512199470705,
          -0.5915499129796138,
          -1.2180422988873592,
          -1.090476926587416,
          -1.0904757243374676,
          -1.0904731794400289,
          -0.9307680272748937,
          -1.8873066719364575,
          -1.3401537393538967,
          -1.0912799164429987,
          -1.0904697929261375,
          -1.0905129584142248,
          -1.0904754925388747,
          -1.0904738416825526,
          -1.670800352369069,
          -1.0907430778785177,
          -1.090473060566402,
          -1.0904845032112909,
          -1.0931180421822864,
          -1.3385762818416984,
          -1.090526274193162,
          -1.0904700167959802,
          -1.090469286457006,
          -1.090472034842376,
          -2.275629710488325,
          -1.0904712505799248,
          -1.096381040762866,
          -1.3385790342534203,
          -1.0904799791956865,
          -1.090478374004178,
          -1.0905742659882014,
          -1.0904817303945475,
          -1.3387423119725563,
          -1.3385785861588326,
          -1.3385851938388114,
          -1.338611717305539,
          -1.338575735566474,
          -0.930761344753509,
          -1.0904697472012088,
          -1.4686319658859674,
          -1.090540069163049,
          -1.3385795364532596,
          -2.3441242568157334,
          -2.340193493259652,
          -1.0904882097536293,
          -1.0910662716903667,
          -1.090486509081261,
          -1.090470277129288,
          -1.0904771640365443,
          -1.0905882407235767,
          -2.338363003937328,
          -1.8865237896937253,
          -1.5993338218038444,
          -1.090466306545367,
          -1.0930963777436302,
          -2.1982538994080922,
          -1.0904691586831032,
          -1.3385800193673774,
          -1.1330160180829671,
          -0.9307631692337112,
          -2.2116764968779137,
          -1.338594179976053,
          -0.9307647066168662,
          -1.0905522606369162,
          -1.090551997261326,
          -2.0511986301793494,
          -2.1059516882945255,
          -0.9307623926132306,
          -1.3385763216452506,
          -1.0904752761570409,
          -2.2549187344074757,
          -1.0904777313151228,
          -1.3391583053839695,
          -0.9307811709803265,
          -2.2034310403895594,
          -1.0905467216690492,
          -2.2752856553606624,
          -1.090475543114441,
          -2.246016116219626,
          -0.9307675138579276,
          -1.0904691585945758,
          -0.930772832499998,
          -1.4838024359221766,
          -2.33856233945888,
          -1.338577504428076,
          -1.8866737103070887,
          -1.0905110107469342,
          -1.338576681372038,
          -1.0904781971906674,
          -2.002699149397834,
          -2.051196124258681,
          -2.073017213020905,
          -1.0950087593458044,
          -0.9306361035026502,
          -0.9308407239041755,
          -2.338570391874067,
          -1.0904700085138024,
          -2.338568611567438,
          -2.2116558374834017,
          -0.9767758681453516,
          -2.259594162925996,
          -1.0904693447873162,
          -0.9312111697763132,
          -2.073014796419696,
          -1.0904721301286084,
          -2.211653702515106,
          -2.284651514648471,
          -1.0922912369046582,
          -0.5990262451784097,
          -1.0904767829689888,
          -1.3391609597902525,
          -1.0904965141740683,
          -2.2595320082423065,
          -2.3182229554195106,
          -2.1203911468199172,
          -2.2966962571957508,
          -2.3387020861470655,
          -0.9307928905254971,
          -1.090470199260616,
          -1.0905015866337173,
          -0.9307783329681294,
          -0.9307694720723532,
          -2.338579941455041,
          -2.2293639818019195,
          -1.112318902715435,
          -1.2573300611099976,
          -0.9312175184384536,
          -1.3385776222112666,
          -1.095324828354587,
          -1.0285115781733354,
          -1.0904741856423545,
          -1.0905004259402207,
          -1.0905012430527274,
          -1.0905007795646486,
          -2.3385983358570175,
          -2.0804638266377538,
          -0.9304232967168621,
          -1.6707460510968533,
          -2.073012192174761,
          -2.2034771985875206,
          -1.0904720666171939,
          -0.930847818909974,
          -1.670753418319073,
          -2.051319322534986,
          -1.6707475489953323,
          -1.886648518362542,
          -2.3695169155389904,
          -2.338564935067251,
          -2.0555943472806475,
          -1.0905128910590116,
          -0.9309814274279741,
          -2.259784414347893,
          -1.091063984909757,
          -1.2289459970463126,
          -0.9307691924266092,
          -1.6707416813118825,
          -1.6707484430727535,
          -1.6708367153416386,
          -1.090479032931662,
          -0.9307688314147186,
          -1.3385762961851129,
          -1.1711835301457991,
          -0.18111048514450473,
          -1.090472601352854,
          -2.778004774148831,
          -2.3295137723046695,
          -2.3386584664252332,
          -1.0907613107378997,
          -2.203419384838512,
          -1.4688450785820757,
          -1.0904822469767101,
          -1.0927035274997294,
          -0.9309015564697755,
          -2.0540941127382766,
          -2.338988889112145,
          -1.090477088962569,
          -1.3421983472613308,
          -2.1468388968803227,
          -0.5915497679820455,
          -2.0730113912238313,
          -2.002819426254014,
          -1.6707431407196376,
          -0.9307943365015539,
          -2.338562673944349,
          -0.5990088996300774,
          -2.2116619707062006,
          -1.182028572921571,
          -2.002694360613119,
          -2.3388385474606226,
          -2.235313957011077,
          -2.4057641068044497,
          -2.191176473648332,
          -2.338780913397759,
          -1.0241870630826209,
          -1.213773308773975,
          -2.3220454297003084,
          -0.9307694163880409,
          -1.0904787497583595,
          -1.0908150005877775,
          -2.2603159252980576,
          -2.1732365595263583,
          -0.775675470610107,
          -2.2774327446626645,
          -2.3388136808136313,
          -0.9307734193812761,
          -1.3386370627271402,
          -0.9307712563538988,
          -1.213808640868474,
          -2.0746898187326535,
          -2.3221024491783173,
          -2.0027254714615466,
          -1.3385776235435087,
          -0.7807032955385538,
          -2.3414889324631787,
          -2.2818484438984705,
          -2.281895585771754,
          -2.281852456975532,
          -2.285074454437666,
          -0.20296773309663027,
          -2.195393320775169,
          -1.0905093494761737,
          -2.0731160078833493,
          -2.073013320466886,
          -1.4686277952643514,
          -1.5993772261159322,
          -1.3385826485727237,
          -0.34037152845751206,
          -1.338616742782747,
          -2.05148752876514,
          -1.1358130282605283,
          -1.6709281925907045,
          -2.2850748010943525,
          -1.0905935811947045,
          -1.3385851715121302,
          -1.1007752169509781,
          -1.218041721173846,
          -1.090469263899058,
          -1.0905231187296156,
          -1.8865518509158987,
          -2.2957545169705766,
          -2.0027719406943634,
          -2.0511960740756408,
          -1.511155415779221,
          -2.33878397896406,
          -2.0730164838674794
         ],
         "z": [
          0.18473204812833627,
          0.32199419918314715,
          -0.06365497262631033,
          0.40262001722089036,
          0.3219800485844063,
          0.1946541576170477,
          0.3769319151680842,
          -0.06362758041462233,
          0.11552521451165257,
          -0.0636326753765609,
          0.3820463391561155,
          -0.08517640343318439,
          0.18466026557774806,
          -0.06369174098013353,
          -0.06363267647446497,
          0.08327794590246453,
          0.08567179302332203,
          -0.06364063305272462,
          -0.0636281850996314,
          -0.06362669587415483,
          0.11552788969762748,
          0.37529720507609854,
          0.17574177622629475,
          -0.06960484127456515,
          -0.06363388790171409,
          -0.06373199646858956,
          -0.06363391641313312,
          -0.06362510559979544,
          0.21207287768415076,
          -0.06407201575886173,
          -0.06365528383938102,
          -0.06364540679332491,
          -0.10644678008068686,
          0.18473073092127715,
          -0.06370198167886937,
          -0.06363317189220881,
          -0.06362453475759898,
          -0.06364224852346904,
          0.4254227130385076,
          -0.06362697798009229,
          -0.06545147729480826,
          0.18473337724917888,
          -0.06378233694719354,
          -0.06362563755672929,
          -0.06364811734553477,
          -0.063637533724935,
          0.18445619596804946,
          0.18471992046174246,
          0.18472878330124892,
          0.184735255309798,
          0.18474059663840336,
          0.11553047856038173,
          -0.06363493340047363,
          0.23485247396709474,
          -0.06368871839655363,
          0.18472184165915473,
          0.2977572450825819,
          0.38134570751534397,
          -0.06365830550925176,
          -0.06389117295259397,
          -0.06369062069149824,
          -0.06362422224955144,
          -0.06369640765327106,
          -0.0640102572890951,
          0.333989596085119,
          0.38283471241189687,
          0.227811592156176,
          -0.06362841203814178,
          -0.06610570197470168,
          0.3179379204163527,
          -0.0636242917847206,
          0.18473432439474197,
          -0.06878763261031154,
          0.1155157073744603,
          0.38917419374022233,
          0.18473153406092443,
          0.11552319472059386,
          -0.06364936402462311,
          -0.06366952778816659,
          0.3220337344557546,
          0.2728732095287044,
          0.11552347374401395,
          0.1847307691907157,
          -0.06372326117405837,
          0.3885922887180682,
          -0.06365780386445348,
          0.17447108736981784,
          0.11550747612308315,
          0.4080006562149591,
          -0.06363371298482097,
          0.4187249405934539,
          -0.0636278585698518,
          0.3225328822846897,
          0.11552389069226048,
          -0.06362429035250887,
          0.1155290043425183,
          -0.13567637994682077,
          0.38478009501884963,
          0.18473754703826256,
          0.38237793306445683,
          -0.06368389619066155,
          0.18473630386251966,
          -0.06363031446822331,
          0.3014380325268962,
          0.3220266684050953,
          0.19465489470682532,
          -0.06426702763951747,
          0.11515968033265249,
          0.11549262314613029,
          0.3847823286278537,
          -0.0636245237212976,
          0.38477861386570683,
          0.38918226800405364,
          0.10969469567342037,
          0.40261222977445915,
          -0.06362548521931169,
          0.11546219828335239,
          0.19465457431891797,
          -0.06367120145862969,
          0.3891747068725691,
          0.36214311550827666,
          -0.0638752024654293,
          -0.031172205671699798,
          -0.06363443862291109,
          0.1840514700546525,
          -0.0636337357199595,
          0.40259253211158597,
          0.3296749078067909,
          0.2865857379672649,
          0.4036870648444374,
          0.3839179270848439,
          0.11551073168263915,
          -0.06363263430467112,
          -0.06363036106797884,
          0.11551676592794108,
          0.1155288281182348,
          0.38477498480083955,
          0.23324028716709458,
          -0.14276999004048796,
          0.14854504503942617,
          0.11541822544613325,
          0.18473201963014227,
          -0.06421352464654181,
          -0.12319358474111046,
          -0.063629163722068,
          -0.06363598393862581,
          -0.06364321060871836,
          -0.06364365623297759,
          0.3847751990017318,
          0.19130888631844964,
          0.11430407706552255,
          0.21217540663669807,
          0.1946500673748038,
          0.40798178499698706,
          -0.06367126252217929,
          0.11543835098904943,
          0.21217347608494785,
          0.32201802619108566,
          0.21217444311617228,
          0.3826241268364294,
          0.37198133625697744,
          0.384781338666727,
          0.3212608165882022,
          -0.06363201154144733,
          0.11546665633296205,
          0.40238728215263325,
          -0.06555592163337856,
          0.1474767766637164,
          0.11552810855935945,
          0.21217420988106592,
          0.21217520258032524,
          0.2120257131844406,
          -0.06364653705331805,
          0.11552615900376915,
          0.18473116235244777,
          0.11224983270550634,
          0.13791674941143672,
          -0.06363269002200597,
          0.30652240465302344,
          0.4604969152889302,
          0.38470926665152905,
          -0.06835077051619522,
          0.40795439612785217,
          0.23454859247212217,
          -0.06363142845041252,
          -0.07069335811673662,
          0.11541490217608429,
          0.3215710925789821,
          0.38469444413551784,
          -0.06362687307009247,
          0.1831936676675579,
          0.2611829055043921,
          0.0833955410760484,
          0.1946247596581275,
          0.3014141596682946,
          0.21217561304013252,
          0.11551212192769361,
          0.384776210160631,
          -0.031175235753774354,
          0.38918001233445576,
          0.08623898433459184,
          0.3014388866842743,
          0.3847502039461025,
          0.30466025638477445,
          0.35725544314602214,
          0.2708238492115811,
          0.3844944842488791,
          0.1249781591533799,
          0.1371965513069654,
          0.41455687092038973,
          0.11552772296713913,
          -0.06362582976534946,
          -0.06379223723384975,
          0.40252247183374795,
          0.32933978780557244,
          0.3197958327564997,
          0.25285412290195186,
          0.3845259887386341,
          0.11551704940204571,
          0.18374807233558427,
          0.11552748894445235,
          0.13719149962477206,
          0.19246771331915216,
          0.414518549882488,
          0.30143199200007265,
          0.18473202091103683,
          0.02022664697610124,
          0.3835526924489805,
          0.35487534983995495,
          0.3548785501529388,
          0.3548770905963919,
          0.3544821625937641,
          0.010525364093445266,
          0.3415972462703693,
          -0.0636454319858018,
          0.19462879608184108,
          0.194646201586867,
          0.2348741534928302,
          0.22780324676509825,
          0.18471531923730367,
          -0.05992755722166721,
          0.18469601950302206,
          0.31731228362012803,
          -0.06915311048330823,
          0.21036097641200627,
          0.3544824958895624,
          -0.06400512265111782,
          0.18472876183508538,
          -0.07875354496346211,
          0.08566072144636161,
          -0.06362638424962089,
          -0.06366324104995716,
          0.3828602899440654,
          0.3869883801029202,
          0.30141357343096126,
          0.3220274802729726,
          -0.14100406625633702,
          0.38429701295222674,
          0.1946541936565287
         ]
        },
        {
         "customdata": [
          [
           "VeChainThor Authority"
          ],
          [
           "Proof-of-BibleHash"
          ],
          [
           "Proof-of-Authority"
          ],
          [
           "ECC 256K1"
          ]
         ],
         "hovertemplate": "<b>%{hovertext}</b><br><br>Class=%{marker.color}<br>PC 1=%{x}<br>PC 2=%{y}<br>PC 3=%{z}<br>Algorithm=%{customdata[0]}<extra></extra>",
         "hovertext": [
          "Vechain",
          "BiblePay",
          "Poa Network",
          "Acute Angle Cloud"
         ],
         "legendgroup": "3",
         "marker": {
          "color": [
           3,
           3,
           3,
           3
          ],
          "coloraxis": "coloraxis",
          "symbol": "square"
         },
         "mode": "markers",
         "name": "3",
         "scene": "scene",
         "showlegend": true,
         "type": "scatter3d",
         "x": [
          4.630021646113983,
          -0.21200673520510058,
          -0.4126317172445825,
          -0.35914168767912785
         ],
         "y": [
          2.821379539912019,
          3.314135177501724,
          2.695897791978721,
          2.8575901101531334
         ],
         "z": [
          12.584573040141718,
          21.38844018317848,
          14.242351267132772,
          13.443223024850868
         ]
        },
        {
         "customdata": [
          [
           "TRC10"
          ]
         ],
         "hovertemplate": "<b>%{hovertext}</b><br><br>Class=%{marker.color}<br>PC 1=%{x}<br>PC 2=%{y}<br>PC 3=%{z}<br>Algorithm=%{customdata[0]}<extra></extra>",
         "hovertext": [
          "BitTorrent"
         ],
         "legendgroup": "2",
         "marker": {
          "color": [
           2
          ],
          "coloraxis": "coloraxis",
          "symbol": "x"
         },
         "mode": "markers",
         "name": "2",
         "scene": "scene",
         "showlegend": true,
         "type": "scatter3d",
         "x": [
          35.47402487199168
         ],
         "y": [
          1.7473366519801536
         ],
         "z": [
          -1.460020725123801
         ]
        }
       ],
       "layout": {
        "coloraxis": {
         "colorbar": {
          "title": {
           "text": "Class"
          }
         },
         "colorscale": [
          [
           0,
           "#0d0887"
          ],
          [
           0.1111111111111111,
           "#46039f"
          ],
          [
           0.2222222222222222,
           "#7201a8"
          ],
          [
           0.3333333333333333,
           "#9c179e"
          ],
          [
           0.4444444444444444,
           "#bd3786"
          ],
          [
           0.5555555555555556,
           "#d8576b"
          ],
          [
           0.6666666666666666,
           "#ed7953"
          ],
          [
           0.7777777777777778,
           "#fb9f3a"
          ],
          [
           0.8888888888888888,
           "#fdca26"
          ],
          [
           1,
           "#f0f921"
          ]
         ]
        },
        "legend": {
         "title": {
          "text": "Class"
         },
         "tracegroupgap": 0,
         "x": 0,
         "y": 1
        },
        "margin": {
         "t": 60
        },
        "scene": {
         "domain": {
          "x": [
           0,
           1
          ],
          "y": [
           0,
           1
          ]
         },
         "xaxis": {
          "title": {
           "text": "PC 1"
          }
         },
         "yaxis": {
          "title": {
           "text": "PC 2"
          }
         },
         "zaxis": {
          "title": {
           "text": "PC 3"
          }
         }
        },
        "template": {
         "data": {
          "bar": [
           {
            "error_x": {
             "color": "#2a3f5f"
            },
            "error_y": {
             "color": "#2a3f5f"
            },
            "marker": {
             "line": {
              "color": "#E5ECF6",
              "width": 0.5
             },
             "pattern": {
              "fillmode": "overlay",
              "size": 10,
              "solidity": 0.2
             }
            },
            "type": "bar"
           }
          ],
          "barpolar": [
           {
            "marker": {
             "line": {
              "color": "#E5ECF6",
              "width": 0.5
             },
             "pattern": {
              "fillmode": "overlay",
              "size": 10,
              "solidity": 0.2
             }
            },
            "type": "barpolar"
           }
          ],
          "carpet": [
           {
            "aaxis": {
             "endlinecolor": "#2a3f5f",
             "gridcolor": "white",
             "linecolor": "white",
             "minorgridcolor": "white",
             "startlinecolor": "#2a3f5f"
            },
            "baxis": {
             "endlinecolor": "#2a3f5f",
             "gridcolor": "white",
             "linecolor": "white",
             "minorgridcolor": "white",
             "startlinecolor": "#2a3f5f"
            },
            "type": "carpet"
           }
          ],
          "choropleth": [
           {
            "colorbar": {
             "outlinewidth": 0,
             "ticks": ""
            },
            "type": "choropleth"
           }
          ],
          "contour": [
           {
            "colorbar": {
             "outlinewidth": 0,
             "ticks": ""
            },
            "colorscale": [
             [
              0,
              "#0d0887"
             ],
             [
              0.1111111111111111,
              "#46039f"
             ],
             [
              0.2222222222222222,
              "#7201a8"
             ],
             [
              0.3333333333333333,
              "#9c179e"
             ],
             [
              0.4444444444444444,
              "#bd3786"
             ],
             [
              0.5555555555555556,
              "#d8576b"
             ],
             [
              0.6666666666666666,
              "#ed7953"
             ],
             [
              0.7777777777777778,
              "#fb9f3a"
             ],
             [
              0.8888888888888888,
              "#fdca26"
             ],
             [
              1,
              "#f0f921"
             ]
            ],
            "type": "contour"
           }
          ],
          "contourcarpet": [
           {
            "colorbar": {
             "outlinewidth": 0,
             "ticks": ""
            },
            "type": "contourcarpet"
           }
          ],
          "heatmap": [
           {
            "colorbar": {
             "outlinewidth": 0,
             "ticks": ""
            },
            "colorscale": [
             [
              0,
              "#0d0887"
             ],
             [
              0.1111111111111111,
              "#46039f"
             ],
             [
              0.2222222222222222,
              "#7201a8"
             ],
             [
              0.3333333333333333,
              "#9c179e"
             ],
             [
              0.4444444444444444,
              "#bd3786"
             ],
             [
              0.5555555555555556,
              "#d8576b"
             ],
             [
              0.6666666666666666,
              "#ed7953"
             ],
             [
              0.7777777777777778,
              "#fb9f3a"
             ],
             [
              0.8888888888888888,
              "#fdca26"
             ],
             [
              1,
              "#f0f921"
             ]
            ],
            "type": "heatmap"
           }
          ],
          "heatmapgl": [
           {
            "colorbar": {
             "outlinewidth": 0,
             "ticks": ""
            },
            "colorscale": [
             [
              0,
              "#0d0887"
             ],
             [
              0.1111111111111111,
              "#46039f"
             ],
             [
              0.2222222222222222,
              "#7201a8"
             ],
             [
              0.3333333333333333,
              "#9c179e"
             ],
             [
              0.4444444444444444,
              "#bd3786"
             ],
             [
              0.5555555555555556,
              "#d8576b"
             ],
             [
              0.6666666666666666,
              "#ed7953"
             ],
             [
              0.7777777777777778,
              "#fb9f3a"
             ],
             [
              0.8888888888888888,
              "#fdca26"
             ],
             [
              1,
              "#f0f921"
             ]
            ],
            "type": "heatmapgl"
           }
          ],
          "histogram": [
           {
            "marker": {
             "pattern": {
              "fillmode": "overlay",
              "size": 10,
              "solidity": 0.2
             }
            },
            "type": "histogram"
           }
          ],
          "histogram2d": [
           {
            "colorbar": {
             "outlinewidth": 0,
             "ticks": ""
            },
            "colorscale": [
             [
              0,
              "#0d0887"
             ],
             [
              0.1111111111111111,
              "#46039f"
             ],
             [
              0.2222222222222222,
              "#7201a8"
             ],
             [
              0.3333333333333333,
              "#9c179e"
             ],
             [
              0.4444444444444444,
              "#bd3786"
             ],
             [
              0.5555555555555556,
              "#d8576b"
             ],
             [
              0.6666666666666666,
              "#ed7953"
             ],
             [
              0.7777777777777778,
              "#fb9f3a"
             ],
             [
              0.8888888888888888,
              "#fdca26"
             ],
             [
              1,
              "#f0f921"
             ]
            ],
            "type": "histogram2d"
           }
          ],
          "histogram2dcontour": [
           {
            "colorbar": {
             "outlinewidth": 0,
             "ticks": ""
            },
            "colorscale": [
             [
              0,
              "#0d0887"
             ],
             [
              0.1111111111111111,
              "#46039f"
             ],
             [
              0.2222222222222222,
              "#7201a8"
             ],
             [
              0.3333333333333333,
              "#9c179e"
             ],
             [
              0.4444444444444444,
              "#bd3786"
             ],
             [
              0.5555555555555556,
              "#d8576b"
             ],
             [
              0.6666666666666666,
              "#ed7953"
             ],
             [
              0.7777777777777778,
              "#fb9f3a"
             ],
             [
              0.8888888888888888,
              "#fdca26"
             ],
             [
              1,
              "#f0f921"
             ]
            ],
            "type": "histogram2dcontour"
           }
          ],
          "mesh3d": [
           {
            "colorbar": {
             "outlinewidth": 0,
             "ticks": ""
            },
            "type": "mesh3d"
           }
          ],
          "parcoords": [
           {
            "line": {
             "colorbar": {
              "outlinewidth": 0,
              "ticks": ""
             }
            },
            "type": "parcoords"
           }
          ],
          "pie": [
           {
            "automargin": true,
            "type": "pie"
           }
          ],
          "scatter": [
           {
            "fillpattern": {
             "fillmode": "overlay",
             "size": 10,
             "solidity": 0.2
            },
            "type": "scatter"
           }
          ],
          "scatter3d": [
           {
            "line": {
             "colorbar": {
              "outlinewidth": 0,
              "ticks": ""
             }
            },
            "marker": {
             "colorbar": {
              "outlinewidth": 0,
              "ticks": ""
             }
            },
            "type": "scatter3d"
           }
          ],
          "scattercarpet": [
           {
            "marker": {
             "colorbar": {
              "outlinewidth": 0,
              "ticks": ""
             }
            },
            "type": "scattercarpet"
           }
          ],
          "scattergeo": [
           {
            "marker": {
             "colorbar": {
              "outlinewidth": 0,
              "ticks": ""
             }
            },
            "type": "scattergeo"
           }
          ],
          "scattergl": [
           {
            "marker": {
             "colorbar": {
              "outlinewidth": 0,
              "ticks": ""
             }
            },
            "type": "scattergl"
           }
          ],
          "scattermapbox": [
           {
            "marker": {
             "colorbar": {
              "outlinewidth": 0,
              "ticks": ""
             }
            },
            "type": "scattermapbox"
           }
          ],
          "scatterpolar": [
           {
            "marker": {
             "colorbar": {
              "outlinewidth": 0,
              "ticks": ""
             }
            },
            "type": "scatterpolar"
           }
          ],
          "scatterpolargl": [
           {
            "marker": {
             "colorbar": {
              "outlinewidth": 0,
              "ticks": ""
             }
            },
            "type": "scatterpolargl"
           }
          ],
          "scatterternary": [
           {
            "marker": {
             "colorbar": {
              "outlinewidth": 0,
              "ticks": ""
             }
            },
            "type": "scatterternary"
           }
          ],
          "surface": [
           {
            "colorbar": {
             "outlinewidth": 0,
             "ticks": ""
            },
            "colorscale": [
             [
              0,
              "#0d0887"
             ],
             [
              0.1111111111111111,
              "#46039f"
             ],
             [
              0.2222222222222222,
              "#7201a8"
             ],
             [
              0.3333333333333333,
              "#9c179e"
             ],
             [
              0.4444444444444444,
              "#bd3786"
             ],
             [
              0.5555555555555556,
              "#d8576b"
             ],
             [
              0.6666666666666666,
              "#ed7953"
             ],
             [
              0.7777777777777778,
              "#fb9f3a"
             ],
             [
              0.8888888888888888,
              "#fdca26"
             ],
             [
              1,
              "#f0f921"
             ]
            ],
            "type": "surface"
           }
          ],
          "table": [
           {
            "cells": {
             "fill": {
              "color": "#EBF0F8"
             },
             "line": {
              "color": "white"
             }
            },
            "header": {
             "fill": {
              "color": "#C8D4E3"
             },
             "line": {
              "color": "white"
             }
            },
            "type": "table"
           }
          ]
         },
         "layout": {
          "annotationdefaults": {
           "arrowcolor": "#2a3f5f",
           "arrowhead": 0,
           "arrowwidth": 1
          },
          "autotypenumbers": "strict",
          "coloraxis": {
           "colorbar": {
            "outlinewidth": 0,
            "ticks": ""
           }
          },
          "colorscale": {
           "diverging": [
            [
             0,
             "#8e0152"
            ],
            [
             0.1,
             "#c51b7d"
            ],
            [
             0.2,
             "#de77ae"
            ],
            [
             0.3,
             "#f1b6da"
            ],
            [
             0.4,
             "#fde0ef"
            ],
            [
             0.5,
             "#f7f7f7"
            ],
            [
             0.6,
             "#e6f5d0"
            ],
            [
             0.7,
             "#b8e186"
            ],
            [
             0.8,
             "#7fbc41"
            ],
            [
             0.9,
             "#4d9221"
            ],
            [
             1,
             "#276419"
            ]
           ],
           "sequential": [
            [
             0,
             "#0d0887"
            ],
            [
             0.1111111111111111,
             "#46039f"
            ],
            [
             0.2222222222222222,
             "#7201a8"
            ],
            [
             0.3333333333333333,
             "#9c179e"
            ],
            [
             0.4444444444444444,
             "#bd3786"
            ],
            [
             0.5555555555555556,
             "#d8576b"
            ],
            [
             0.6666666666666666,
             "#ed7953"
            ],
            [
             0.7777777777777778,
             "#fb9f3a"
            ],
            [
             0.8888888888888888,
             "#fdca26"
            ],
            [
             1,
             "#f0f921"
            ]
           ],
           "sequentialminus": [
            [
             0,
             "#0d0887"
            ],
            [
             0.1111111111111111,
             "#46039f"
            ],
            [
             0.2222222222222222,
             "#7201a8"
            ],
            [
             0.3333333333333333,
             "#9c179e"
            ],
            [
             0.4444444444444444,
             "#bd3786"
            ],
            [
             0.5555555555555556,
             "#d8576b"
            ],
            [
             0.6666666666666666,
             "#ed7953"
            ],
            [
             0.7777777777777778,
             "#fb9f3a"
            ],
            [
             0.8888888888888888,
             "#fdca26"
            ],
            [
             1,
             "#f0f921"
            ]
           ]
          },
          "colorway": [
           "#636efa",
           "#EF553B",
           "#00cc96",
           "#ab63fa",
           "#FFA15A",
           "#19d3f3",
           "#FF6692",
           "#B6E880",
           "#FF97FF",
           "#FECB52"
          ],
          "font": {
           "color": "#2a3f5f"
          },
          "geo": {
           "bgcolor": "white",
           "lakecolor": "white",
           "landcolor": "#E5ECF6",
           "showlakes": true,
           "showland": true,
           "subunitcolor": "white"
          },
          "hoverlabel": {
           "align": "left"
          },
          "hovermode": "closest",
          "mapbox": {
           "style": "light"
          },
          "paper_bgcolor": "white",
          "plot_bgcolor": "#E5ECF6",
          "polar": {
           "angularaxis": {
            "gridcolor": "white",
            "linecolor": "white",
            "ticks": ""
           },
           "bgcolor": "#E5ECF6",
           "radialaxis": {
            "gridcolor": "white",
            "linecolor": "white",
            "ticks": ""
           }
          },
          "scene": {
           "xaxis": {
            "backgroundcolor": "#E5ECF6",
            "gridcolor": "white",
            "gridwidth": 2,
            "linecolor": "white",
            "showbackground": true,
            "ticks": "",
            "zerolinecolor": "white"
           },
           "yaxis": {
            "backgroundcolor": "#E5ECF6",
            "gridcolor": "white",
            "gridwidth": 2,
            "linecolor": "white",
            "showbackground": true,
            "ticks": "",
            "zerolinecolor": "white"
           },
           "zaxis": {
            "backgroundcolor": "#E5ECF6",
            "gridcolor": "white",
            "gridwidth": 2,
            "linecolor": "white",
            "showbackground": true,
            "ticks": "",
            "zerolinecolor": "white"
           }
          },
          "shapedefaults": {
           "line": {
            "color": "#2a3f5f"
           }
          },
          "ternary": {
           "aaxis": {
            "gridcolor": "white",
            "linecolor": "white",
            "ticks": ""
           },
           "baxis": {
            "gridcolor": "white",
            "linecolor": "white",
            "ticks": ""
           },
           "bgcolor": "#E5ECF6",
           "caxis": {
            "gridcolor": "white",
            "linecolor": "white",
            "ticks": ""
           }
          },
          "title": {
           "x": 0.05
          },
          "xaxis": {
           "automargin": true,
           "gridcolor": "white",
           "linecolor": "white",
           "ticks": "",
           "title": {
            "standoff": 15
           },
           "zerolinecolor": "white",
           "zerolinewidth": 2
          },
          "yaxis": {
           "automargin": true,
           "gridcolor": "white",
           "linecolor": "white",
           "ticks": "",
           "title": {
            "standoff": 15
           },
           "zerolinecolor": "white",
           "zerolinewidth": 2
          }
         }
        },
        "width": 800
       }
      },
      "text/html": [
       "<div>                            <div id=\"09458cd1-54bf-4d65-acd8-ae16c1db0553\" class=\"plotly-graph-div\" style=\"height:525px; width:800px;\"></div>            <script type=\"text/javascript\">                require([\"plotly\"], function(Plotly) {                    window.PLOTLYENV=window.PLOTLYENV || {};                                    if (document.getElementById(\"09458cd1-54bf-4d65-acd8-ae16c1db0553\")) {                    Plotly.newPlot(                        \"09458cd1-54bf-4d65-acd8-ae16c1db0553\",                        [{\"customdata\":[[\"Scrypt\"],[\"Scrypt\"],[\"X13\"],[\"X11\"],[\"SHA-512\"],[\"SHA-256\"],[\"SHA-256\"],[\"X15\"],[\"Scrypt\"],[\"Scrypt\"],[\"Scrypt\"],[\"Scrypt\"],[\"Scrypt\"],[\"Scrypt\"],[\"Groestl\"],[\"PoS\"],[\"Scrypt\"],[\"Scrypt\"],[\"X11\"],[\"X11\"],[\"SHA3\"],[\"Scrypt\"],[\"SHA-256\"],[\"Scrypt\"],[\"X13\"],[\"X13\"],[\"NeoScrypt\"],[\"Scrypt\"],[\"Scrypt\"],[\"Scrypt\"],[\"X11\"],[\"X11\"],[\"Multiple\"],[\"PHI1612\"],[\"X11\"],[\"Scrypt\"],[\"Scrypt\"],[\"Scrypt\"],[\"X11\"],[\"Multiple\"],[\"X13\"],[\"Scrypt\"],[\"Shabal256\"],[\"Counterparty\"],[\"SHA-256\"],[\"Groestl\"],[\"Scrypt\"],[\"X13\"],[\"Scrypt\"],[\"Scrypt\"],[\"X13\"],[\"X11\"],[\"Scrypt\"],[\"X11\"],[\"SHA3\"],[\"QUAIT\"],[\"X11\"],[\"Scrypt\"],[\"X13\"],[\"SHA-256\"],[\"X15\"],[\"BLAKE256\"],[\"SHA-256\"],[\"X11\"],[\"SHA-256\"],[\"NIST5\"],[\"Scrypt\"],[\"Scrypt\"],[\"X11\"],[\"Scrypt\"],[\"SHA-256\"],[\"Scrypt\"],[\"PoS\"],[\"X11\"],[\"SHA-256\"],[\"SHA-256\"],[\"NIST5\"],[\"X11\"],[\"POS 3.0\"],[\"Scrypt\"],[\"Scrypt\"],[\"Scrypt\"],[\"X13\"],[\"X11\"],[\"X11\"],[\"Scrypt\"],[\"SHA-256\"],[\"X11\"],[\"Scrypt\"],[\"Scrypt\"],[\"Scrypt\"],[\"Scrypt\"],[\"SHA-256D\"],[\"PoS\"],[\"Scrypt\"],[\"X11\"],[\"PoS\"],[\"X13\"],[\"X14\"],[\"PoS\"],[\"SHA-256D\"],[\"DPoS\"],[\"X11\"],[\"X13\"],[\"X11\"],[\"PoS\"],[\"Scrypt\"],[\"Scrypt\"],[\"PoS\"],[\"X11\"],[\"SHA-256\"],[\"Scrypt\"],[\"X11\"],[\"Scrypt\"],[\"Scrypt\"],[\"X11\"],[\"Scrypt\"],[\"Scrypt\"],[\"Scrypt\"],[\"Scrypt\"],[\"Quark\"],[\"QuBit\"],[\"Scrypt\"],[\"SHA-256\"],[\"X11\"],[\"Scrypt\"],[\"Scrypt\"],[\"Scrypt\"],[\"Scrypt\"],[\"X13\"],[\"Scrypt\"],[\"Scrypt\"],[\"X11\"],[\"Blake2S\"],[\"X11\"],[\"PoS\"],[\"X11\"],[\"PoS\"],[\"X11\"],[\"Scrypt\"],[\"Scrypt\"],[\"Scrypt\"],[\"SHA-256\"],[\"X11\"],[\"Scrypt\"],[\"PoS\"],[\"Scrypt\"],[\"X15\"],[\"SHA-256\"],[\"POS 3.0\"],[\"536\"],[\"NIST5\"],[\"NIST5\"],[\"Skein\"],[\"X13\"],[\"Scrypt\"],[\"X13\"],[\"SkunkHash v2 Raptor\"],[\"Skein\"],[\"X11\"],[\"Scrypt\"],[\"PoS\"],[\"Scrypt\"],[\"Scrypt\"],[\"SHA-512\"],[\"Ouroboros\"],[\"X11\"],[\"NeoScrypt\"],[\"Scrypt\"],[\"Lyra2REv2\"],[\"Scrypt\"],[\"SHA-256\"],[\"NIST5\"],[\"PHI1612\"],[\"Scrypt\"],[\"Quark\"],[\"POS 2.0\"],[\"Scrypt\"],[\"SHA-256\"],[\"Quark\"],[\"X11\"],[\"DPoS\"],[\"NIST5\"],[\"X13\"],[\"Scrypt\"],[\"NIST5\"],[\"Quark\"],[\"Scrypt\"],[\"Scrypt\"],[\"X11\"],[\"Scrypt\"],[\"Scrypt\"],[\"Quark\"],[\"Scrypt\"],[\"Scrypt\"],[\"X11\"],[\"Scrypt\"],[\"POS 3.0\"],[\"Scrypt\"],[\"Scrypt\"],[\"X11\"],[\"SHA-256\"],[\"X13\"],[\"SHA-256 + Hive\"],[\"Skein\"],[\"X11\"],[\"Skein\"],[\"C11\"],[\"X11\"],[\"XEVAN\"],[\"Scrypt\"],[\"VBFT\"],[\"PHI1612\"],[\"NIST5\"],[\"Scrypt\"],[\"Scrypt\"],[\"Scrypt\"],[\"Green Protocol\"],[\"PoS\"],[\"Scrypt\"],[\"Semux BFT consensus\"],[\"Quark\"],[\"PoS\"],[\"X16R\"],[\"Scrypt\"],[\"XEVAN\"],[\"Scrypt\"],[\"Scrypt\"],[\"Scrypt\"],[\"X11\"],[\"SHA-256D\"],[\"Scrypt\"],[\"Scrypt\"],[\"X11\"],[\"Scrypt\"],[\"SHA-256D\"],[\"Scrypt\"],[\"X15\"],[\"Scrypt\"],[\"Quark\"],[\"Scrypt\"],[\"SHA-256\"],[\"DPoS\"],[\"Scrypt\"],[\"X16R\"],[\"Quark\"],[\"Quark\"],[\"Scrypt\"],[\"Lyra2REv2\"],[\"Quark\"],[\"Scrypt\"],[\"X11\"],[\"X11\"],[\"Scrypt\"],[\"PoS\"],[\"Keccak\"],[\"X11\"],[\"Tribus\"],[\"Scrypt\"],[\"NeoScrypt\"],[\"SHA-512\"],[\"XEVAN\"],[\"SHA-512\"],[\"Quark\"],[\"XEVAN\"],[\"X11\"],[\"Quark\"],[\"Scrypt\"],[\"Quark\"],[\"Quark\"],[\"Scrypt\"],[\"X11\"],[\"Scrypt\"],[\"XEVAN\"],[\"SHA-256D\"],[\"X11\"],[\"X11\"],[\"DPoS\"],[\"Scrypt\"],[\"X11\"],[\"Scrypt\"],[\"Scrypt\"],[\"SHA-256\"],[\"Scrypt\"],[\"X11\"],[\"Scrypt\"],[\"SHA-256\"],[\"X11\"],[\"Scrypt\"],[\"Scrypt\"],[\"X11\"],[\"Scrypt\"],[\"PoS\"],[\"X11\"],[\"SHA-256\"],[\"DPoS\"],[\"Scrypt\"],[\"Scrypt\"],[\"NeoScrypt\"],[\"X13\"],[\"PHI2\"],[\"DPoS\"],[\"DPoS\"],[\"SHA-256\"],[\"Lyra2Z\"],[\"Leased POS\"],[\"PoS\"],[\"Scrypt\"],[\"PoS\"],[\"SHA-256\"],[\"Scrypt\"],[\"Scrypt\"],[\"Scrypt\"]],\"hovertemplate\":\"<b>%{hovertext}</b><br><br>Class=%{marker.color}<br>PC 1=%{x}<br>PC 2=%{y}<br>PC 3=%{z}<br>Algorithm=%{customdata[0]}<extra></extra>\",\"hovertext\":[\"42 Coin\",\"404Coin\",\"EliteCoin\",\"Dash\",\"Bitshares\",\"BitcoinDark\",\"PayCoin\",\"KoboCoin\",\"Aurora Coin\",\"BlueCoin\",\"EnergyCoin\",\"BitBar\",\"CryptoBullion\",\"CasinoCoin\",\"Diamond\",\"Exclusive Coin\",\"FlutterCoin\",\"HoboNickels\",\"HyperStake\",\"IOCoin\",\"MaxCoin\",\"MintCoin\",\"MazaCoin\",\"Nautilus Coin\",\"NavCoin\",\"OpalCoin\",\"Orbitcoin\",\"PotCoin\",\"PhoenixCoin\",\"Reddcoin\",\"SuperCoin\",\"SyncCoin\",\"TeslaCoin\",\"TittieCoin\",\"TorCoin\",\"UnitaryStatus Dollar\",\"UltraCoin\",\"VeriCoin\",\"X11 Coin\",\"Crypti\",\"StealthCoin\",\"ZCC Coin\",\"BurstCoin\",\"StorjCoin\",\"Neutron\",\"FairCoin\",\"RubyCoin\",\"Kore\",\"Dnotes\",\"8BIT Coin\",\"Sativa Coin\",\"Ucoin\",\"Vtorrent\",\"IslaCoin\",\"Nexus\",\"Droidz\",\"Squall Coin\",\"Diggits\",\"Paycon\",\"Emercoin\",\"EverGreenCoin\",\"Decred\",\"EDRCoin\",\"Hitcoin\",\"DubaiCoin\",\"PWR Coin\",\"BillaryCoin\",\"GPU Coin\",\"EuropeCoin\",\"ZeitCoin\",\"SwingCoin\",\"SafeExchangeCoin\",\"Nebuchadnezzar\",\"Ratecoin\",\"Revenu\",\"Clockcoin\",\"VIP Tokens\",\"BitSend\",\"Let it Ride\",\"PutinCoin\",\"iBankCoin\",\"Frankywillcoin\",\"MudraCoin\",\"Lutetium Coin\",\"GoldBlocks\",\"CarterCoin\",\"BitTokens\",\"MustangCoin\",\"ZoneCoin\",\"RootCoin\",\"BitCurrency\",\"Swiscoin\",\"BuzzCoin\",\"Opair\",\"PesoBit\",\"Halloween Coin\",\"CoffeeCoin\",\"RoyalCoin\",\"GanjaCoin V2\",\"TeamUP\",\"LanaCoin\",\"ARK\",\"InsaneCoin\",\"EmberCoin\",\"XenixCoin\",\"FreeCoin\",\"PLNCoin\",\"AquariusCoin\",\"Creatio\",\"Eternity\",\"Eurocoin\",\"BitcoinFast\",\"Stakenet\",\"BitConnect Coin\",\"MoneyCoin\",\"Enigma\",\"Russiacoin\",\"PandaCoin\",\"GameUnits\",\"GAKHcoin\",\"Allsafe\",\"LiteCreed\",\"Klingon Empire Darsek\",\"Internet of People\",\"KushCoin\",\"Printerium\",\"Impeach\",\"Zilbercoin\",\"FirstCoin\",\"FindCoin\",\"OpenChat\",\"RenosCoin\",\"VirtacoinPlus\",\"TajCoin\",\"Impact\",\"Atmos\",\"HappyCoin\",\"MacronCoin\",\"Condensate\",\"Independent Money System\",\"ArgusCoin\",\"LomoCoin\",\"ProCurrency\",\"GoldReserve\",\"GrowthCoin\",\"Phreak\",\"Degas Coin\",\"HTML5 Coin\",\"Ultimate Secure Cash\",\"QTUM\",\"Espers\",\"Denarius\",\"Virta Unique Coin\",\"Bitcoin Planet\",\"BritCoin\",\"Linda\",\"DeepOnion\",\"Signatum\",\"Cream\",\"Monoeci\",\"Draftcoin\",\"Stakecoin\",\"CoinonatX\",\"Ethereum Dark\",\"Obsidian\",\"Cardano\",\"Regalcoin\",\"TrezarCoin\",\"TerraNovaCoin\",\"Rupee\",\"WomenCoin\",\"Theresa May Coin\",\"NamoCoin\",\"LUXCoin\",\"Xios\",\"Bitcloud 2.0\",\"KekCoin\",\"BlackholeCoin\",\"Infinity Economics\",\"Alqo\",\"Magnet\",\"Lamden Tau\",\"Electra\",\"Bitcoin Diamond\",\"Cash & Back Coin\",\"Bulwark\",\"Kalkulus\",\"GermanCoin\",\"LiteCoin Ultra\",\"PhantomX\",\"Accolade\",\"OmiseGO Classic\",\"Digiwage\",\"Trollcoin\",\"Litecoin Plus\",\"Monkey Project\",\"ECC\",\"TokenPay\",\"My Big Coin\",\"Unified Society USDEX\",\"BitSoar Coin\",\"Credence Coin\",\"Tokyo Coin\",\"LitecoinCash\",\"BashCoin\",\"DigiMoney\",\"Lizus Payment\",\"Stipend\",\"Pushi\",\"Ellerium\",\"Velox\",\"Ontology\",\"Seraph\",\"Bitspace\",\"Briacoin\",\"Ignition\",\"MedicCoin\",\"Bitcoin Green\",\"Deviant Coin\",\"Abjcoin\",\"Semux\",\"Carebit\",\"Zealium\",\"Proton\",\"iDealCash\",\"Bitcoin Incognito\",\"HollyWoodCoin\",\"Parlay\",\"Listerclassic Coin\",\"BetKings\",\"Cognitio\",\"Mercoin\",\"Swisscoin\",\"Reliance\",\"Xt3ch\",\"TheVig\",\"EmaratCoin\",\"Dekado\",\"Lynx\",\"Poseidon Quark\",\"MYCE\",\"BitcoinWSpectrum\",\"Muse\",\"GambleCoin\",\"Trivechain\",\"Dystem\",\"Giant\",\"Peony Coin\",\"Absolute Coin\",\"Vitae\",\"TPCash\",\"ARENON\",\"EUNO\",\"MMOCoin\",\"Ketan\",\"XDNA\",\"PAXEX\",\"Averopay\",\"ThunderStake\",\"SimpleBank\",\"Kcash\",\"Bettex coin\",\"TWIST\",\"DACH Coin\",\"BitMoney\",\"Junson Ming Chan Coin\",\"HerbCoin\",\"Oduwa\",\"Galilel\",\"Crypto Sports\",\"Credit\",\"Dash Platinum\",\"Nasdacoin\",\"Beetle Coin\",\"Titan Coin\",\"Award\",\"Insane Coin\",\"ALAX\",\"LiteDoge\",\"TruckCoin\",\"OrangeCoin\",\"BitstarCoin\",\"NeosCoin\",\"HyperCoin\",\"PinkCoin\",\"AudioCoin\",\"IncaKoin\",\"Piggy Coin\",\"Genstake\",\"XiaoMiCoin\",\"CapriCoin\",\" ClubCoin\",\"Radium\",\"Creditbit \",\"OKCash\",\"Lisk\",\"HiCoin\",\"WhiteCoin\",\"FriendshipCoin\",\"Triangles Coin\",\"Gexan\",\"EOS\",\"Oxycoin\",\"TigerCash\",\"LAPO\",\"Waves\",\"Particl\",\"ShardCoin\",\"Nxt\",\"ZEPHYR\",\"Gapcoin\",\"BitcoinPlus\",\"DivotyCoin\"],\"legendgroup\":\"0\",\"marker\":{\"color\":[0,0,0,0,0,0,0,0,0,0,0,0,0,0,0,0,0,0,0,0,0,0,0,0,0,0,0,0,0,0,0,0,0,0,0,0,0,0,0,0,0,0,0,0,0,0,0,0,0,0,0,0,0,0,0,0,0,0,0,0,0,0,0,0,0,0,0,0,0,0,0,0,0,0,0,0,0,0,0,0,0,0,0,0,0,0,0,0,0,0,0,0,0,0,0,0,0,0,0,0,0,0,0,0,0,0,0,0,0,0,0,0,0,0,0,0,0,0,0,0,0,0,0,0,0,0,0,0,0,0,0,0,0,0,0,0,0,0,0,0,0,0,0,0,0,0,0,0,0,0,0,0,0,0,0,0,0,0,0,0,0,0,0,0,0,0,0,0,0,0,0,0,0,0,0,0,0,0,0,0,0,0,0,0,0,0,0,0,0,0,0,0,0,0,0,0,0,0,0,0,0,0,0,0,0,0,0,0,0,0,0,0,0,0,0,0,0,0,0,0,0,0,0,0,0,0,0,0,0,0,0,0,0,0,0,0,0,0,0,0,0,0,0,0,0,0,0,0,0,0,0,0,0,0,0,0,0,0,0,0,0,0,0,0,0,0,0,0,0,0,0,0,0,0,0,0,0,0,0,0,0,0,0,0,0,0,0,0,0,0,0,0,0,0,0,0,0,0,0,0,0,0,0,0,0,0,0,0,0,0,0,0,0],\"coloraxis\":\"coloraxis\",\"symbol\":\"circle\"},\"mode\":\"markers\",\"name\":\"0\",\"scene\":\"scene\",\"showlegend\":true,\"x\":[-0.3369074838921825,-0.3195569026447455,2.427660774762491,-0.3789864472483953,-0.2683715670033149,-0.3027427679804292,-0.24931714219457737,-0.2304972130612771,-0.33655310487564827,-0.3288194889412525,-0.33534107935228363,-0.3369032588753871,-0.3368868905599612,0.7141498691138389,-0.36082518945471753,-0.3264333087758151,-0.32538290099198236,-0.3348871171240653,-0.304539100846333,-0.37887673238392655,-0.3992914566648714,-0.012508322495975562,-0.26455542202783106,-0.2832229846604513,-0.2588362791934893,-0.2594845512293015,-0.3481109018361043,-0.33097867098035944,-0.33524405178984396,0.036235835795067124,-0.3252587182244962,-0.3792634708305583,-0.21678741257548312,-0.28529584541990416,-0.37917159010247165,-0.31113102109005697,-0.3355312880809291,-0.30059419666802367,-0.37913449673111077,-0.21727293536283943,-0.25925623545301135,-0.32765601478603357,0.06900476267833461,-0.31035033141984825,-0.30192229494179623,-0.36022244359545463,-0.2832021245669204,-0.2595633128168714,-0.2776412708783126,-0.3368888013158609,-0.2595134592393457,-0.3257225581162223,-0.3366124184716168,-0.379244225992026,-0.38655628500886163,-0.4090299693839607,-0.2974113241762419,-0.2815385144872211,-0.25901578241531,-0.2950054019675542,-0.23303507128000747,-0.06212635822027733,-0.30271246357769194,-0.04368237013553069,-0.30277861800865935,-0.20439443627041812,-0.3364834976204727,-0.2814042640834616,-0.3763017983792138,0.9164501742302011,-0.302570839603627,-0.04654485645940113,-0.32610367732880274,-0.37699822687444673,-0.3012650592673267,-0.298841089373836,-0.33083816219405443,-0.37792895311970304,-0.3113503222315798,-0.31182248430837767,-0.33652323335377426,-0.33489785675575867,-0.20478092917083873,-0.3127008950795551,-0.3786969995775148,-0.3356949526848696,-0.30275896212087944,-0.3792330191260388,-0.3367198968329771,-0.3368827928508991,-0.2813894057676053,-0.24309972810028005,0.044636965364174386,-0.32501804790941624,-0.33648078763646433,-0.3648428689340024,-0.32431795003258085,-0.2062678836167117,-0.40945355564442576,-0.3240610973038056,-0.2828376588844858,3.863621234533845,-0.3788089833396078,0.9200618735897786,-0.3791860556466925,-0.32550078893466167,-0.3364060056195554,-0.33656685870534875,-0.32610367732880274,-0.3787441712166666,-0.3026158646569693,-0.33640667200164,-0.3298572100080517,-0.3365601459983837,-0.33197464489148587,-0.3792162847586139,-0.3357398872606956,0.3864052122245283,-0.33676749777489146,-0.3368408497127117,-0.3264447696275245,-0.35061666510028744,-0.33291855360699246,-0.30273438784087936,-0.3791225431674754,-0.3366096563098293,-0.33674196220323793,-0.283105714306547,-0.322332799643193,-0.20602623132864403,-0.31681120493152515,-0.28283562908580234,-0.378359173514347,-0.38380117756337845,-0.37704487850684865,-0.32427841776578864,-0.37825278138357843,-0.3184489986943832,-0.374030986174146,-0.3366828600900078,-0.33668214990772743,-0.3295333449030923,0.30430104345669073,-0.3787502161482289,-0.265055958275497,-0.32613958911804386,-0.33586200318243475,0.9472272573061452,-0.2479560942196695,-0.31007870527566717,0.6458889194755197,-0.332436687594184,-0.33087816926619223,-0.4121953444385008,-0.25918572481041746,0.14660973602896496,-0.25925926061460447,-0.3189763156671281,-0.41167949074120924,-0.37903345782939024,-0.2831823439084294,-0.32600083419008324,-0.3363032651005065,-0.33682308036104947,-0.3288043018999145,0.7405871637037594,-0.3789721237240219,-0.3429078480997418,-0.33677704522033697,-0.2910852929400565,0.4641035045973955,-0.30101281777392697,-0.3165869987927608,-0.3757030744797738,-0.33672539913623983,-0.37818403682767743,-0.32163317074029457,-0.3365902573144562,-0.06869540394503316,-0.378791278861712,-0.37771632252043,3.868673861698673,0.24994850999877455,-0.2557941225936859,-0.33394768094000393,-0.27883129560302256,-0.32632598473918195,0.09399734623880412,-0.33569515200107153,-0.37832010422565887,-0.33646814844565753,-0.33575616527250984,-0.325457544614066,-0.32275365116909827,-0.3368461352703773,-0.3256933298983473,0.2188588526499104,-0.31164389363171435,-0.2829545351175258,-0.33220891911550793,-0.2497357242153231,-0.30269344927875125,-0.1974925455037709,-0.40029417924958705,-0.41233981366860817,-0.3790344737079284,-0.41247234788748455,-0.3403343699067637,-0.3790517055938592,-0.2655790203916485,-0.2823090702754585,-0.31746061851625557,-0.3759977783443854,-0.33201957325848347,-0.3368746177050054,-0.33685559881250615,-0.2764619550752558,-0.3454281018865037,-0.3255787824456082,-0.336560687452627,4.079453431453833,-0.376796272883956,-0.32577520945991384,-0.2998647637907428,-0.2812972725658666,-0.18388491773923127,-0.28286390051480487,-0.2832789538320864,-0.3359939944922652,-0.32569952609411923,-0.35185085296083785,-0.33584829095444635,-0.13192543072824756,-0.32535498341604274,-0.2831268418547037,-0.3507546441527945,-0.33601366430116913,-0.1789931381945285,2.3120060922818984,-0.32186553365838066,-0.33425583099673883,-0.24808736506397122,1.072342146273686,-0.2833283125756785,-0.35253354909201934,-0.32644429022913724,-0.3799352063819781,-0.1591668274000906,-0.3443704334221237,-0.3251116171575237,-0.3294709268323111,-0.3252536512156299,-0.37850343399377795,-0.2802608479686749,-0.3248396496189533,-0.33587509891299216,-0.32511003603660565,-0.36461009491763685,-0.19079589428806534,-0.34799463612735365,-0.3829720410416685,-0.21221229911186312,-0.32577659178928015,-0.3262271290483542,0.6734010748517751,-0.10684756404604487,-0.37920117285774996,-0.3365646653491495,-0.3796757648030956,-0.32656602875801094,0.6065673086577201,-0.32574989645806457,-0.33602706501637103,-0.25981035087366233,-0.30366627925484274,-0.37597275091529403,-0.37873982750098784,3.881419291707716,0.11595117951240164,-0.37617588765688653,-0.33538890699130924,-0.3362458293530689,-0.24935129189524155,-0.33678489396643774,-0.3700254764369283,-0.24706258299804926,-0.07317552095705145,-0.36560477319369983,-0.336033257849093,-0.32881403053713537,-0.37516792916677094,-0.33440968915480723,-0.3263906542021072,-0.3569018928915934,-0.30119713328450537,3.8640288298163714,-0.08251713106371446,-0.3314894981737059,-0.34772210576320267,-0.2596747930534017,-0.4174958042910541,3.874313017175389,3.8756092595374696,-0.22946564225538077,0.6291518272932657,-0.45052424548125736,-0.32632382806345295,-0.27659988665398827,-0.3448811365996435,2.579976320127332,-0.33487549095692926,-0.28353914128139557,-0.3358971561767722],\"y\":[1.1273896940201211,1.127600820145327,1.7448849371004362,1.2870907053261873,0.8456467121300941,0.8792735117466833,0.5315086298872735,1.9403149147741259,1.1273897961356867,1.127664991082754,1.1274430109134557,1.1273894812356458,1.1273896817516007,0.562746454970865,0.9998333220683346,1.3956787168126275,0.3772358850972489,1.12737287289512,0.9400502708432766,1.287094439771729,2.1303268776857847,0.7888413618526793,0.8788635223320926,0.7796153074255207,1.8775164024973763,1.8774943367853043,0.5471231170315803,1.1272919328896445,1.1273764151225567,1.1400906476604893,0.9393450219877806,1.2870969668327072,-0.016478553100971044,1.089044369924687,1.287092962469159,1.1271258682781127,1.1273652117519184,0.25599424417272193,1.2870974346634432,-0.016423754310028457,1.8775021081373025,1.1269913442368156,1.00279458096371,1.4589259276053697,0.8792686293428504,0.9998569622025091,0.7796275578226068,1.8774830969327627,0.7794602122537504,1.1273903299626682,1.8774862203333902,0.9393149689508129,1.1273854724313814,1.2870976225966793,2.341133780308062,2.005727469988555,0.723289023520962,0.7796128584552889,1.8774746301706218,0.8788393167680207,1.9404594119135907,1.017493265245317,0.8792745432399278,1.2795826307449256,0.8792804938549279,1.6232131018415334,1.127374169130038,0.7795310873818577,1.2869238886027798,0.749849367157774,0.8792665253196077,0.5638523936942731,1.3956756717431966,1.287120577655164,0.8791806427252465,0.8790475518686617,1.618845051347424,1.2870432499136533,1.4026199775241,1.1268170328874085,1.12737115236853,1.127386772319807,1.5296235293863885,0.9393038573415967,1.2870805865010486,1.127366773468137,0.8792736737836858,1.287095864306405,1.1273811008624766,1.1273905344772093,0.7796892586655914,0.4796396416194174,2.065461719106588,1.3956741086711404,1.1274042178243584,1.2865179388715242,1.3957221889518612,1.529713783387966,2.0223507990290766,1.395544773608895,2.063226555871198,1.8023224593141691,1.2870910398048068,1.9170371644350335,1.287096854202531,1.3956747952327346,1.1273792746233622,1.127371331707482,1.3956756717431966,1.2870718483965584,0.8792792577461817,1.1273832033399727,0.7669644152575202,1.1273815456770264,1.1270935143275356,1.2870950074086334,1.1273267285578719,0.7792282474422059,1.1273851866251794,1.1273895971438896,1.2785344038011417,0.6184988925643146,1.127168843768226,0.8792745102365283,1.2870950926745297,1.1273855664491137,1.1273796841085315,0.7795916107216156,0.2657919464297227,1.5297134320613184,1.1273604770059384,0.7796154778914928,1.2870564228916506,2.061911790068702,1.28709402602874,1.3956734001833768,1.2870600442388545,1.3956651850985564,1.2869184450388431,1.1273822102142728,1.1273769649909102,1.1269274441708887,0.496867789496377,1.2870859076182062,0.778818714487815,1.3956673168984992,1.1273503887144176,1.9164592274338474,0.5314211626592589,1.4026158294357207,2.120852910287098,1.6188477010724196,1.6188222921311415,2.0220321521288778,1.8774831106937593,1.108185081706797,1.8774885260566583,1.2040905527860861,2.0220497106205713,1.2870980156173346,0.7796158163791749,1.3956495011626586,1.1273758446049325,1.1273895713098832,0.8460926384701454,1.3340316344380334,1.2870876266221707,0.547017606597988,1.127382912105079,0.4014689298420147,1.1368230724035222,0.8792767619222258,1.6185384224301829,1.4371549350907191,1.1273809135765338,1.6262315103110676,1.3642664677813685,1.1273899440032547,0.5312462606028366,1.6263122085962303,1.287046921133388,1.8022269709742678,1.617280440718317,1.8774701683559905,1.1273406567770183,1.2710695261799636,1.2785348807253911,1.1063942751003226,1.127323971751577,1.2870934151653377,1.1273689855902183,1.1273789549077005,1.2784931155735006,1.1272295344799663,1.1273889292227526,0.9393152505642902,0.7788853547715933,1.4026160476338465,0.5015184846664067,1.1273841488168854,0.9390769231718317,0.8792730506969909,1.5294436601388193,3.3880032014460912,2.02204720569184,1.2870869308676545,2.0220448342737707,1.0466767085945183,1.287086344333279,1.4422465268542934,0.7795695125082839,1.409830634951499,1.4371648750069324,1.6188333687449825,1.127388672994048,1.127387893856337,0.7795003534930981,1.2929149799886432,1.3956450370531246,1.127380100749407,1.8268441893654335,1.6262787466530881,1.3956440571133422,0.656299397663783,1.1256293137856284,0.8784610200753564,0.7796205257327664,0.7796035452622581,1.1273423297847711,0.939324206235172,2.0662257996895255,1.1273544216919642,1.1270916804641715,0.9392975239086239,0.7795987373253063,2.06619713663435,1.127360204739677,1.5926632965151282,0.2647279200116632,1.2782373575903616,1.1273016380920415,0.5314878924222664,1.5572903931532236,0.7796121359861492,1.0040700364792834,1.2785301406255474,1.6263108802943604,0.7718097975069704,0.7492250417744759,1.27851915513819,1.1269295687406709,0.9393059657693571,1.2870871750351858,0.7795422275108399,1.395583179098441,0.9617029515020183,0.9392787579056151,1.035822167043611,1.119524522000684,0.5471147851749645,0.36465059460555144,1.094479996643323,0.8461182281542967,1.27852540706956,0.9193328954375233,0.9467792430788671,1.6263010236391668,1.127386384590661,1.626309807638327,1.2785314390105942,1.10615242388204,0.9393142523902261,1.1273597486096776,1.4421290497979533,2.0643049984725845,1.2869094116739435,1.2870933937129476,1.8023041721137187,1.1178402669420047,1.2872020618852833,1.1272987331946367,1.1273735171566095,0.531501404893388,1.1273938667335421,1.287054783519728,1.122958697870231,0.8869676351645727,1.2868486298116082,1.127408751991807,1.127379877325882,1.2870880147444768,1.1273605935071882,1.3956737494378817,0.6281974562943595,0.8792669219952751,1.8023114274251837,0.7793196298242423,1.127360135353339,0.5470961248561902,1.8774877757945536,2.0803698642638633,1.8027755394924299,1.8028196606470646,0.5314799967304452,0.17372301668589005,2.5528856163361318,1.395676284997544,0.7792103590659202,1.5817191933784345,0.7764932964060126,1.1272805462702309,0.7796153732879568,1.1273527584304526],\"z\":[-0.5688671775164607,-0.5693365749898947,-0.5949990266039188,-0.38971719382707787,-0.06043184832780389,-0.3205042558150957,0.0006134551682935169,-0.6045318005618329,-0.5688756728469184,-0.5691318640219236,-0.5689184394419426,-0.5688672232961619,-0.5688676664678456,-0.2881900876899732,-0.4195476537156111,0.009492822705036222,-0.50421878710682,-0.5689110968625231,-0.06928974887164824,-0.3897207843391173,-0.4535255761144087,-0.2566155480122804,-0.321310509517637,-0.2477531878340113,-0.5651976590480154,-0.5651764437955636,-0.29306607429294773,-0.5689835068826702,-0.5689034856671138,-0.5810786092851703,-0.0686116818116824,-0.3897121976046995,0.1987012492936471,-0.16469035466573975,-0.3897133547579356,-0.5694147490943989,-0.5688937156344498,-0.3516845690404965,-0.3897154011279336,0.19869863937339532,-0.565183915623076,-0.5689849490464036,0.027390539967920322,-0.11759623015762784,-0.3205225969213761,-0.4195681893443716,-0.24775686364706234,-0.5651716463679247,-0.2478463519753385,-0.5688677889273921,-0.5651736478498607,-0.06859280244455238,-0.5688731339774,-0.38971282759336096,-0.12031280054615573,-0.6485649008212034,0.2301889764240055,-0.24779280763309783,-0.5651825351200424,-0.3205765468231762,-0.604508628843011,-0.340186667480196,-0.32050524755238957,-0.3957828721845089,-0.3205052099850286,-0.5406028992556624,-0.5688732832272483,-0.24777480748585462,-0.38973808462240933,-0.2687024282739639,-0.3205065524853325,-0.27029806909593623,0.009485735049320163,-0.3897724555211996,-0.32051548283749215,-0.320538891258986,-0.5364482718743155,-0.3897301573131849,0.026580944508777717,-0.5693181241120526,-0.5688715511968601,-0.5689144452120528,-0.2440618007825,-0.06890110836981629,-0.38972148650939037,-0.5688902094779562,-0.3205039108387626,-0.3897126393755964,-0.5688694316661711,-0.5688679855595064,-0.24781618640792036,-0.43845628319297986,-0.6967341390310922,0.009460196400721531,-0.568881141521263,-0.38990663824135946,0.009430995402524267,-0.24404967456785376,-0.6141777712118445,0.009470872258720044,-0.6883285273170056,-0.5316398808176669,-0.38972152155884404,-0.603620859374741,-0.389714018437829,0.009471554734686142,-0.5688764592863972,-0.5688705551650112,0.009485735049320163,-0.3897180928709276,-0.3205087788153465,-0.5688774623267042,0.042552050729121896,-0.5688733647132053,-0.5689082428778403,-0.38971281704066085,-0.5688787494604907,-0.2636553761692319,-0.5688693538101919,-0.5688687447943163,-0.10072683616615545,-0.2774459510135118,-0.5689052233253009,-0.3205047150529278,-0.389715079364464,-0.568873224371488,-0.5688685369003235,-0.24774984426864274,-0.40052206985683547,-0.24405535838182355,-0.5693398546510645,-0.2477624889561422,-0.3897232926212392,-0.6759086984313524,-0.3897644541340364,0.009442704693072705,-0.3897267743939956,0.009305525644473973,-0.3897909399627562,-0.568870604484609,-0.568869261037355,-0.5689235118253474,-0.003632183016132315,-0.3897215948585029,-0.2479807310275678,0.00948876019964017,-0.5688819677488582,-0.6264894210164297,0.0006036150423522264,0.0265516316434117,-0.6884155948456296,-0.5364107580265556,-0.5364414128892976,-0.6304325491291468,-0.5651806734240507,-0.5754411561013956,-0.565180320633999,0.19084169733254489,-0.6304494308791095,-0.38971796640404227,-0.24775429105869118,0.009490065025091496,-0.5688780249278256,-0.5688691627406559,-0.05910330159197036,-0.02420272662334993,-0.3897167376232978,-0.293163049794399,-0.5688685357208779,0.050745619828837685,-0.590456175443906,-0.3205464406324717,-0.5367093136627066,-0.48501394777918677,-0.5688692515986278,-0.42186726880532777,-0.01861095384783018,-0.5688748233403083,-0.003634940972035243,-0.42187368729580976,-0.38973619087669725,-0.5317358608335179,-0.5499219380621551,-0.5652583681666684,-0.5689251915498839,-0.21529389531673568,-0.10072979854914683,-0.573719371002198,-0.5688791035158944,-0.38973382072958773,-0.5688723056167824,-0.5688919060571743,-0.1007397199236913,-0.5691638821210315,-0.5688684452473161,-0.06859357397212909,-0.2595624687790844,0.0265889794613887,-0.5023667321889032,-0.5689780242115875,-0.07034697306944514,-0.3205053148394931,-0.2441893249297368,6.285031093878311,-0.630433000989331,-0.38971506714847737,-0.6304292186665218,-0.3929928633225475,-0.3897145032203884,-0.18543295898381615,-0.24776315076537833,0.04980383262583746,-0.4850094830834775,-0.5364170088209466,-0.5688676981261291,-0.5688679505542155,-0.24788494608568118,-0.024955151902635416,0.009481136783382724,-0.568872977012347,-0.5434230771895886,-0.42191268455794867,0.009486085098864453,-0.04692472585926218,-0.5697395557684662,0.43446617271842236,-0.24776312255914484,-0.2477487996245328,-0.5688767232679722,-0.06859574867054255,-0.6874571644036606,-0.5688833414464265,-0.5736884844720712,-0.06859706203102604,-0.24775118774890142,-0.687475927131532,-0.5688808893138023,-0.28339754535306844,-0.4921009884739486,-0.10075922648327122,-0.568907707451622,0.0005894448559316117,-0.2660321499268485,-0.2477498481831908,-0.3680620167374821,-0.10072574191094756,-0.42184600553977697,-0.24869338174693137,-0.270373173832889,-0.10075474050632723,-0.5689255545096776,-0.06860167314784983,-0.3897278211073649,-0.2478050218493393,0.009479516894300743,-0.3555064968668052,-0.06859804849699315,-0.4190056757446661,-0.5703189714935223,-0.29306669179794465,-0.1792518325852049,0.1356865872041895,-0.059182293944486146,-0.10072970385373056,0.5258768179759576,-0.07575937216110086,-0.4218609908012271,-0.5688745117481984,-0.42185192739053773,-0.10072316939298506,-0.5859058897230713,-0.0685919632713146,-0.5688804507640268,-0.1855403477007169,-0.6881104796217921,-0.38974219331631155,-0.3897237847423437,-0.5320604705182257,-0.5772126886420405,-0.3898132415689628,-0.5688798761109731,-0.5688787938554928,0.0006161451667878824,-0.5688711893835707,-0.3899220236677114,-0.5698650262700957,-0.327985960339215,-0.38997419960520807,-0.5688930124534811,-0.5690580463910323,-0.3898077498097023,-0.5689193214717503,0.009493091713808605,0.048283353891845786,-0.3205394837977178,-0.5316467601414753,-0.25247290929231037,-0.568988988507854,-0.2930683648445837,-0.5651701957715648,-0.656449402302274,-0.5320129023087459,-0.5320553229399498,0.00014647625945743095,-0.21403162702496933,6.895366921834625,0.009490837091036125,-0.2478064358959298,0.08215217294308869,-0.26589043831099873,-0.5688874285536234,-0.24774564949845695,-0.5688817422905623],\"type\":\"scatter3d\"},{\"customdata\":[[\"SHA-256\"],[\"Ethash\"],[\"Scrypt\"],[\"CryptoNight-V7\"],[\"Ethash\"],[\"Equihash\"],[\"Multiple\"],[\"Scrypt\"],[\"X11\"],[\"Scrypt\"],[\"Multiple\"],[\"Scrypt\"],[\"SHA-256\"],[\"Scrypt\"],[\"Scrypt\"],[\"Quark\"],[\"Groestl\"],[\"Scrypt\"],[\"Scrypt\"],[\"Scrypt\"],[\"X11\"],[\"Multiple\"],[\"SHA-256\"],[\"Scrypt\"],[\"Scrypt\"],[\"Scrypt\"],[\"Scrypt\"],[\"Scrypt\"],[\"NeoScrypt\"],[\"Scrypt\"],[\"Scrypt\"],[\"Scrypt\"],[\"Scrypt\"],[\"SHA-256\"],[\"Scrypt\"],[\"Scrypt\"],[\"Scrypt\"],[\"Scrypt\"],[\"HybridScryptHash256\"],[\"Scrypt\"],[\"Scrypt\"],[\"SHA-256\"],[\"Scrypt\"],[\"Scrypt\"],[\"Scrypt\"],[\"Scrypt\"],[\"SHA-256\"],[\"SHA-256\"],[\"SHA-256\"],[\"SHA-256\"],[\"SHA-256\"],[\"X11\"],[\"Scrypt\"],[\"Lyra2REv2\"],[\"Scrypt\"],[\"SHA-256\"],[\"CryptoNight\"],[\"CryptoNight\"],[\"Scrypt\"],[\"Scrypt\"],[\"Scrypt\"],[\"Scrypt\"],[\"Scrypt\"],[\"Scrypt\"],[\"Stanford Folding\"],[\"Multiple\"],[\"QuBit\"],[\"Scrypt\"],[\"Scrypt\"],[\"M7 POW\"],[\"Scrypt\"],[\"SHA-256\"],[\"Scrypt\"],[\"X11\"],[\"Lyra2RE\"],[\"SHA-256\"],[\"X11\"],[\"Scrypt\"],[\"Scrypt\"],[\"Ethash\"],[\"Blake2b\"],[\"X11\"],[\"SHA-256\"],[\"Scrypt\"],[\"1GB AES Pattern Search\"],[\"Scrypt\"],[\"SHA-256\"],[\"X11\"],[\"Dagger\"],[\"Scrypt\"],[\"X11GOST\"],[\"Scrypt\"],[\"ScryptOG\"],[\"X11\"],[\"Scrypt\"],[\"X11\"],[\"Equihash\"],[\"CryptoNight\"],[\"SHA-256\"],[\"Multiple\"],[\"Scrypt\"],[\"SHA-256\"],[\"Scrypt\"],[\"Lyra2Z\"],[\"Ethash\"],[\"Equihash\"],[\"Scrypt\"],[\"X11\"],[\"X11\"],[\"CryptoNight\"],[\"Scrypt\"],[\"CryptoNight\"],[\"Lyra2RE\"],[\"X11\"],[\"CryptoNight-V7\"],[\"Scrypt\"],[\"X11\"],[\"Equihash\"],[\"Scrypt\"],[\"Lyra2RE\"],[\"Dagger-Hashimoto\"],[\"Scrypt\"],[\"NIST5\"],[\"Scrypt\"],[\"SHA-256\"],[\"Scrypt\"],[\"CryptoNight-V7\"],[\"Argon2d\"],[\"Blake2b\"],[\"Cloverhash\"],[\"CryptoNight\"],[\"X11\"],[\"Scrypt\"],[\"Scrypt\"],[\"X11\"],[\"X11\"],[\"CryptoNight\"],[\"Time Travel\"],[\"Scrypt\"],[\"Keccak\"],[\"X11\"],[\"SHA-256\"],[\"Scrypt\"],[\"Scrypt\"],[\"Scrypt\"],[\"Scrypt\"],[\"Scrypt\"],[\"Scrypt\"],[\"CryptoNight\"],[\"Equihash\"],[\"X11\"],[\"NeoScrypt\"],[\"Equihash\"],[\"Dagger\"],[\"Scrypt\"],[\"X11\"],[\"NeoScrypt\"],[\"Ethash\"],[\"NeoScrypt\"],[\"Multiple\"],[\"CryptoNight\"],[\"CryptoNight\"],[\"Ethash\"],[\"Scrypt\"],[\"X11\"],[\"CryptoNight-V7\"],[\"Scrypt\"],[\"BLAKE256\"],[\"X11\"],[\"NeoScrypt\"],[\"NeoScrypt\"],[\"NeoScrypt\"],[\"Scrypt\"],[\"X11\"],[\"SHA-256\"],[\"C11\"],[\"Ethash\"],[\"Scrypt\"],[\"CryptoNight\"],[\"SkunkHash\"],[\"CryptoNight\"],[\"Scrypt\"],[\"Dagger\"],[\"Lyra2REv2\"],[\"Scrypt\"],[\"Scrypt\"],[\"X11\"],[\"Ethash\"],[\"CryptoNight\"],[\"Scrypt\"],[\"SHA-256\"],[\"IMesh\"],[\"Quark\"],[\"Equihash\"],[\"Lyra2Z\"],[\"NeoScrypt\"],[\"X11\"],[\"CryptoNight\"],[\"NIST5\"],[\"Lyra2RE\"],[\"Tribus\"],[\"Lyra2Z\"],[\"CryptoNight\"],[\"CryptoNight Heavy\"],[\"CryptoNight\"],[\"Jump Consistent Hash\"],[\"CryptoNight\"],[\"SHA-512\"],[\"X16R\"],[\"HMQ1725\"],[\"X11\"],[\"Scrypt\"],[\"Scrypt\"],[\"CryptoNight-V7\"],[\"Cryptonight-GPU\"],[\"XEVAN\"],[\"CryptoNight Heavy\"],[\"CryptoNight\"],[\"X11\"],[\"SHA-256\"],[\"X11\"],[\"X16R\"],[\"Equihash\"],[\"HMQ1725\"],[\"Lyra2Z\"],[\"SHA-256\"],[\"PHI1612\"],[\"CryptoNight\"],[\"Blake\"],[\"Blake\"],[\"Blake\"],[\"Blake\"],[\"Equihash\"],[\"Exosis\"],[\"Scrypt\"],[\"Equihash\"],[\"Equihash\"],[\"Lyra2REv2\"],[\"QuBit\"],[\"SHA-256\"],[\"X13\"],[\"SHA-256\"],[\"Ethash\"],[\"Scrypt\"],[\"NeoScrypt\"],[\"Blake\"],[\"Scrypt\"],[\"SHA-256\"],[\"Scrypt\"],[\"Groestl\"],[\"Scrypt\"],[\"Scrypt\"],[\"Multiple\"],[\"Equihash+Scrypt\"],[\"Lyra2Z\"],[\"Ethash\"],[\"Equihash\"],[\"CryptoNight\"],[\"Equihash\"]],\"hovertemplate\":\"<b>%{hovertext}</b><br><br>Class=%{marker.color}<br>PC 1=%{x}<br>PC 2=%{y}<br>PC 3=%{z}<br>Algorithm=%{customdata[0]}<extra></extra>\",\"hovertext\":[\"Bitcoin\",\"Ethereum\",\"Litecoin\",\"Monero\",\"Ethereum Classic\",\"ZCash\",\"DigiByte\",\"ProsperCoin\",\"Spreadcoin\",\"Argentum\",\"MyriadCoin\",\"MoonCoin\",\"ZetaCoin\",\"SexCoin\",\"Quatloo\",\"QuarkCoin\",\"Riecoin\",\"Digitalcoin \",\"Catcoin\",\"CannaCoin\",\"CryptCoin\",\"Verge\",\"DevCoin\",\"EarthCoin\",\"E-Gulden\",\"Einsteinium\",\"Emerald\",\"Franko\",\"FeatherCoin\",\"GrandCoin\",\"GlobalCoin\",\"GoldCoin\",\"Infinite Coin\",\"IXcoin\",\"KrugerCoin\",\"LuckyCoin\",\"Litebar \",\"MegaCoin\",\"MediterraneanCoin\",\"MinCoin\",\"NobleCoin\",\"Namecoin\",\"NyanCoin\",\"RonPaulCoin\",\"StableCoin\",\"SmartCoin\",\"SysCoin\",\"TigerCoin\",\"TerraCoin\",\"UnbreakableCoin\",\"Unobtanium\",\"UroCoin\",\"ViaCoin\",\"Vertcoin\",\"WorldCoin\",\"JouleCoin\",\"ByteCoin\",\"DigitalNote \",\"MonaCoin\",\"Gulden\",\"PesetaCoin\",\"Wild Beast Coin\",\"Flo\",\"ArtByte\",\"Folding Coin\",\"Unitus\",\"CypherPunkCoin\",\"OmniCron\",\"GreenCoin\",\"Cryptonite\",\"MasterCoin\",\"SoonCoin\",\"1Credit\",\"MarsCoin \",\"Crypto\",\"Anarchists Prime\",\"BowsCoin\",\"Song Coin\",\"BitZeny\",\"Expanse\",\"Siacoin\",\"MindCoin\",\"I0coin\",\"Revolution VR\",\"HOdlcoin\",\"Gamecredits\",\"CarpeDiemCoin\",\"Adzcoin\",\"SoilCoin\",\"YoCoin\",\"SibCoin\",\"Francs\",\"Aiden\",\"BolivarCoin\",\"Omni\",\"PizzaCoin\",\"Komodo\",\"Karbo\",\"ZayedCoin\",\"Circuits of Value\",\"DopeCoin\",\"DollarCoin\",\"Shilling\",\"ZCoin\",\"Elementrem\",\"ZClassic\",\"KiloCoin\",\"ArtexCoin\",\"Kurrent\",\"Cannabis Industry Coin\",\"OsmiumCoin\",\"Bikercoins\",\"HexxCoin\",\"PacCoin\",\"Citadel\",\"BeaverCoin\",\"VaultCoin\",\"Zero\",\"Canada eCoin\",\"Zoin\",\"DubaiCoin\",\"EB3coin\",\"Coinonat\",\"BenjiRolls\",\"ILCoin\",\"EquiTrader\",\"Quantum Resistant Ledger\",\"Dynamic\",\"Nano\",\"ChanCoin\",\"Dinastycoin\",\"DigitalPrice\",\"Unify\",\"SocialCoin\",\"ArcticCoin\",\"DAS\",\"LeviarCoin\",\"Bitcore\",\"gCn Coin\",\"SmartCash\",\"Onix\",\"Bitcoin Cash\",\"Sojourn Coin\",\"NewYorkCoin\",\"FrazCoin\",\"Kronecoin\",\"AdCoin\",\"Linx\",\"Sumokoin\",\"BitcoinZ\",\"Elements\",\"VIVO Coin\",\"Bitcoin Gold\",\"Pirl\",\"eBoost\",\"Pura\",\"Innova\",\"Ellaism\",\"GoByte\",\"SHIELD\",\"UltraNote\",\"BitCoal\",\"DaxxCoin\",\"BoxyCoin\",\"AC3\",\"Lethean\",\"PopularCoin\",\"Photon\",\"Sucre\",\"SparksPay\",\"GoaCoin\",\"GunCoin\",\"IrishCoin\",\"Pioneer Coin\",\"UnitedBitcoin\",\"Interzone\",\"1717 Masonic Commemorative Token\",\"Crypto Wisdom Coin\",\"TurtleCoin\",\"MUNcoin\",\"Niobio Cash\",\"ShareChain\",\"Travelflex\",\"KREDS\",\"BitFlip\",\"LottoCoin\",\"Crypto Improvement Fund\",\"Callisto Network\",\"BitTube\",\"Poseidon\",\"Manna\",\"Aidos Kuneen\",\"Cosmo\",\"Bitrolium\",\"Alpenschillling\",\"Rapture\",\"FuturoCoin\",\"Monero Classic\",\"Jumpcoin\",\"Infinex\",\"KEYCO\",\"GINcoin\",\"PlatinCoin\",\"Loki\",\"Newton Coin\",\"MassGrid\",\"PluraCoin\",\"Arionum\",\"Motion\",\"PlusOneCoin\",\"Axe\",\"HexCoin\",\"Deimos\",\"Webchain\",\"Ryo\",\"Urals Coin\",\"Qwertycoin\",\"Bitcoin Nova\",\"DACash\",\"Project Pai\",\"Azart\",\"Xchange\",\"CrypticCoin\",\"Brazio\",\"Actinium\",\"Bitcoin SV\",\"Argoneum\",\"FREDEnergy\",\"BlakeBitcoin\",\"Universal Molecule\",\"Lithium\",\"Electron\",\"PirateCash\",\"Exosis\",\"Block-Logic\",\"Beam\",\"Bithereum\",\"Scribe Network\",\"SLICE\",\"BLAST\",\"Bitcoin Rhodium\",\"GlobalToken\",\"Media Protocol Token\",\"SolarCoin\",\"UFO Coin\",\"BlakeCoin\",\"Crypto Escudo\",\"Crown Coin\",\"SmileyCoin\",\"Groestlcoin\",\"Bata\",\"Pakcoin\",\"JoinCoin\",\"Vollar\",\"TecraCoin\",\"Reality Clash\",\"ChainZilla\",\"Beldex\",\"Horizen\"],\"legendgroup\":\"1\",\"marker\":{\"color\":[1,1,1,1,1,1,1,1,1,1,1,1,1,1,1,1,1,1,1,1,1,1,1,1,1,1,1,1,1,1,1,1,1,1,1,1,1,1,1,1,1,1,1,1,1,1,1,1,1,1,1,1,1,1,1,1,1,1,1,1,1,1,1,1,1,1,1,1,1,1,1,1,1,1,1,1,1,1,1,1,1,1,1,1,1,1,1,1,1,1,1,1,1,1,1,1,1,1,1,1,1,1,1,1,1,1,1,1,1,1,1,1,1,1,1,1,1,1,1,1,1,1,1,1,1,1,1,1,1,1,1,1,1,1,1,1,1,1,1,1,1,1,1,1,1,1,1,1,1,1,1,1,1,1,1,1,1,1,1,1,1,1,1,1,1,1,1,1,1,1,1,1,1,1,1,1,1,1,1,1,1,1,1,1,1,1,1,1,1,1,1,1,1,1,1,1,1,1,1,1,1,1,1,1,1,1,1,1,1,1,1,1,1,1,1,1,1,1,1,1,1,1,1,1,1,1,1,1,1,1,1,1,1,1,1,1,1,1,1,1,1,1,1,1,1,1,1,1,1,1,1,1,1,1,1,1,1,1,1],\"coloraxis\":\"coloraxis\",\"symbol\":\"diamond\"},\"mode\":\"markers\",\"name\":\"1\",\"scene\":\"scene\",\"showlegend\":true,\"x\":[-0.13584787135818752,-0.12252924366360328,-0.16879571275229402,-0.13622936114858492,-0.12090977041644599,-0.17862505171054713,0.19469275122073418,-0.1699888559303018,-0.21228373467135406,-0.16959010201964161,-0.06899014197939855,2.65900882305798,-0.13281331768717972,-0.1667338318387069,-0.16938656989550596,-0.2082344054455675,-0.19295946541343023,-0.1694364456786766,-0.1699703786398335,-0.17006031525425142,-0.21237678549877212,0.2195179786537781,0.2574556309169285,0.08885087693437528,-0.16979611877069564,-0.16522228576522907,-0.16973306743021085,-0.17011967295606065,-0.17635757039050598,-0.1484966693464827,-0.16886534138513593,-0.16915445879438734,1.6504518914101989,-0.13580762161308524,-0.16633373823662015,-0.16982365052923187,-0.1701929980284793,-0.16942193670824474,-0.14668909511795378,-0.17006944457346007,-0.029583882493895534,-0.13588848515125188,-0.1634737130400869,-0.17004822361609453,-0.16806683423758176,-0.1695140010747243,-0.12251776450685573,-0.1353302487955634,-0.1356294009088344,-0.1356123612797161,-0.13622638151761302,-0.21255764236882174,-0.16975286610859625,-0.17696620425483206,-0.16673902283306588,-0.1354003277329285,4.010977213327349,0.4705553853678494,-0.16857448439949435,-0.1525563962886462,-0.1672407124228386,-0.17019532310161428,-0.16709997928191653,-0.15276141186062892,-0.12139868149923011,-0.10438584955369294,-0.1848107550877853,-0.17006309432275635,-0.03785650504528456,-0.10976339348887094,-0.17020455197248088,-0.13591742696958561,0.5076194750981349,-0.21191974057387955,-0.1444987577906815,-0.13564697935536935,-0.21221636340943204,-0.16825349247895174,-0.16741259779782422,-0.12364175101756034,0.39552747058764987,-0.21225315318713212,-0.13580879100793064,-0.16599678241671387,-0.12943127217380773,-0.1687091989330804,0.2998241214452552,-0.21137992952088447,-0.13422653419649364,-0.1689685253621469,-0.13918900854034677,-0.16998600911106893,-0.1205524585329426,-0.21221501918297397,-0.1702046128642087,-0.21237127640737613,-0.37605180867684246,0.3091403456114134,-0.1360795733612264,-0.08364480957230871,-0.16725618108138202,-0.1360364853282543,-0.169854437124107,-0.08179994945291125,-0.12337326890271455,-0.17864757487832394,-0.09404066581247938,-0.1984008343484321,-0.2101120745053266,0.3091342735975966,-0.17018562331187392,0.30927039611128615,-0.145060843327463,0.5310395270801856,-0.13494564447211704,-0.17015259287513865,-0.20481847156400226,-0.17866039577463438,-0.16820936637314454,-0.14476761857396536,-0.1447005722771753,-0.1399300519829991,-0.16538861414157993,-0.16969721042632724,-0.10103838719604019,-0.16951247932233948,-0.13479596430389154,-0.14344862762324365,-0.02156116096564087,-0.14316089364987147,0.3467344613219652,-0.21138896546945032,-0.16984416559023513,-0.1695986399612104,-0.21179946273947114,-0.21240037324524547,0.3095452184383069,-0.15177551448678261,3.378785612250445,-0.106577123001015,-0.20290952479958704,-0.1358470005420655,-0.09284918152649169,1.650043998645649,-0.1699461277244974,-0.16937594790388444,-0.16906467956337404,-0.16905106267400036,0.30973589087656034,0.04218481459768748,-0.16490770377642228,-0.18123723194086885,-0.17850006664743034,-0.1329359096590854,-0.16820750046126404,-0.2077640523645603,-0.18107649100466672,-0.1216745561129665,-0.18118065661126181,-0.09422020305852831,1.1806567696766148,0.30911647545140053,-0.04359197371483282,-0.16940688817745797,-0.20749842786966297,-0.12346789500524784,-0.08291977093817317,1.1503737839670651,-0.21237329830283527,-0.1812345792455539,-0.18120273292263173,-0.17398932111590726,-0.16916653235288848,-0.2122956371939958,-0.1358255191895535,-0.17360845707873407,-0.23719852759498017,-0.16981576402890658,8.35313329797665,-0.1356437070305427,0.31314743256460603,0.030745796871338785,-0.1324172783459315,-0.1619373502450268,-0.16976386991600698,0.14985043367296216,-0.20619961894463676,-0.07285762531638366,0.31735378065852327,-0.17001047017596654,-0.0321786580056642,-0.13741104189882425,-0.21315675165216744,-0.17744975747936143,-0.07949561638514024,-0.18127745541621204,-0.2114314470281183,0.309306537779396,-0.16545007269290912,-0.14489989050655305,-0.19806945869801015,-0.08188766468845084,0.31338884216565993,0.5994674528234973,2.190255279347406,-0.14878791305162486,0.3234639319794618,-0.21168203453235143,-0.1866551472761649,-0.12037835448885309,-0.21235473251973414,-0.17003610255693913,-0.15942342568220977,-0.1233563860722562,-0.14253646992029262,-0.09760101077044354,3.2244142386784547,0.32250125289953513,-0.21186465220728445,-0.09402859317821664,-0.21232497056248678,-0.18606029793460974,-0.06897202117820483,-0.11815597362175952,-0.0812615083555757,-0.1358470396822158,-0.20891102801213451,0.3922635425227482,-0.12475399269620263,-0.12437627594650193,-0.12478328049163415,-0.07328895513583819,-0.2912597468117546,-0.14968062619355837,-0.16888374643439882,-0.17648325008866442,-0.17832605723889214,-0.1779186485063597,-0.18399047210870056,-0.1350936208105203,-0.09295661711442327,-0.13391599626975456,0.07706289530014873,0.5532690436323162,-0.10333556676384663,-0.07329913961730984,-0.15291831040436726,-0.1356287449697389,0.5747317109256267,-0.1925024450037085,-0.17011585081843092,-0.16798908713457888,-0.10515159160347232,-0.12590918465401393,-0.07998644923720372,-0.12340778617120618,-0.35644870093278647,0.3317603933821913,-0.17862615296482182],\"y\":[-1.3385776518518746,-2.051148704479741,-1.0904806760496164,-2.2595059066934353,-2.0512433635407477,-2.0730164463832774,-1.891322057694647,-1.090476353262593,-0.9307662865331869,-1.090493450283934,-1.8867454977052367,-1.2680562670182913,-1.3385804908019516,-1.0905288936051587,-1.090512199470705,-0.5915499129796138,-1.2180422988873592,-1.090476926587416,-1.0904757243374676,-1.0904731794400289,-0.9307680272748937,-1.8873066719364575,-1.3401537393538967,-1.0912799164429987,-1.0904697929261375,-1.0905129584142248,-1.0904754925388747,-1.0904738416825526,-1.670800352369069,-1.0907430778785177,-1.090473060566402,-1.0904845032112909,-1.0931180421822864,-1.3385762818416984,-1.090526274193162,-1.0904700167959802,-1.090469286457006,-1.090472034842376,-2.275629710488325,-1.0904712505799248,-1.096381040762866,-1.3385790342534203,-1.0904799791956865,-1.090478374004178,-1.0905742659882014,-1.0904817303945475,-1.3387423119725563,-1.3385785861588326,-1.3385851938388114,-1.338611717305539,-1.338575735566474,-0.930761344753509,-1.0904697472012088,-1.4686319658859674,-1.090540069163049,-1.3385795364532596,-2.3441242568157334,-2.340193493259652,-1.0904882097536293,-1.0910662716903667,-1.090486509081261,-1.090470277129288,-1.0904771640365443,-1.0905882407235767,-2.338363003937328,-1.8865237896937253,-1.5993338218038444,-1.090466306545367,-1.0930963777436302,-2.1982538994080922,-1.0904691586831032,-1.3385800193673774,-1.1330160180829671,-0.9307631692337112,-2.2116764968779137,-1.338594179976053,-0.9307647066168662,-1.0905522606369162,-1.090551997261326,-2.0511986301793494,-2.1059516882945255,-0.9307623926132306,-1.3385763216452506,-1.0904752761570409,-2.2549187344074757,-1.0904777313151228,-1.3391583053839695,-0.9307811709803265,-2.2034310403895594,-1.0905467216690492,-2.2752856553606624,-1.090475543114441,-2.246016116219626,-0.9307675138579276,-1.0904691585945758,-0.930772832499998,-1.4838024359221766,-2.33856233945888,-1.338577504428076,-1.8866737103070887,-1.0905110107469342,-1.338576681372038,-1.0904781971906674,-2.002699149397834,-2.051196124258681,-2.073017213020905,-1.0950087593458044,-0.9306361035026502,-0.9308407239041755,-2.338570391874067,-1.0904700085138024,-2.338568611567438,-2.2116558374834017,-0.9767758681453516,-2.259594162925996,-1.0904693447873162,-0.9312111697763132,-2.073014796419696,-1.0904721301286084,-2.211653702515106,-2.284651514648471,-1.0922912369046582,-0.5990262451784097,-1.0904767829689888,-1.3391609597902525,-1.0904965141740683,-2.2595320082423065,-2.3182229554195106,-2.1203911468199172,-2.2966962571957508,-2.3387020861470655,-0.9307928905254971,-1.090470199260616,-1.0905015866337173,-0.9307783329681294,-0.9307694720723532,-2.338579941455041,-2.2293639818019195,-1.112318902715435,-1.2573300611099976,-0.9312175184384536,-1.3385776222112666,-1.095324828354587,-1.0285115781733354,-1.0904741856423545,-1.0905004259402207,-1.0905012430527274,-1.0905007795646486,-2.3385983358570175,-2.0804638266377538,-0.9304232967168621,-1.6707460510968533,-2.073012192174761,-2.2034771985875206,-1.0904720666171939,-0.930847818909974,-1.670753418319073,-2.051319322534986,-1.6707475489953323,-1.886648518362542,-2.3695169155389904,-2.338564935067251,-2.0555943472806475,-1.0905128910590116,-0.9309814274279741,-2.259784414347893,-1.091063984909757,-1.2289459970463126,-0.9307691924266092,-1.6707416813118825,-1.6707484430727535,-1.6708367153416386,-1.090479032931662,-0.9307688314147186,-1.3385762961851129,-1.1711835301457991,-0.18111048514450473,-1.090472601352854,-2.778004774148831,-2.3295137723046695,-2.3386584664252332,-1.0907613107378997,-2.203419384838512,-1.4688450785820757,-1.0904822469767101,-1.0927035274997294,-0.9309015564697755,-2.0540941127382766,-2.338988889112145,-1.090477088962569,-1.3421983472613308,-2.1468388968803227,-0.5915497679820455,-2.0730113912238313,-2.002819426254014,-1.6707431407196376,-0.9307943365015539,-2.338562673944349,-0.5990088996300774,-2.2116619707062006,-1.182028572921571,-2.002694360613119,-2.3388385474606226,-2.235313957011077,-2.4057641068044497,-2.191176473648332,-2.338780913397759,-1.0241870630826209,-1.213773308773975,-2.3220454297003084,-0.9307694163880409,-1.0904787497583595,-1.0908150005877775,-2.2603159252980576,-2.1732365595263583,-0.775675470610107,-2.2774327446626645,-2.3388136808136313,-0.9307734193812761,-1.3386370627271402,-0.9307712563538988,-1.213808640868474,-2.0746898187326535,-2.3221024491783173,-2.0027254714615466,-1.3385776235435087,-0.7807032955385538,-2.3414889324631787,-2.2818484438984705,-2.281895585771754,-2.281852456975532,-2.285074454437666,-0.20296773309663027,-2.195393320775169,-1.0905093494761737,-2.0731160078833493,-2.073013320466886,-1.4686277952643514,-1.5993772261159322,-1.3385826485727237,-0.34037152845751206,-1.338616742782747,-2.05148752876514,-1.1358130282605283,-1.6709281925907045,-2.2850748010943525,-1.0905935811947045,-1.3385851715121302,-1.1007752169509781,-1.218041721173846,-1.090469263899058,-1.0905231187296156,-1.8865518509158987,-2.2957545169705766,-2.0027719406943634,-2.0511960740756408,-1.511155415779221,-2.33878397896406,-2.0730164838674794],\"z\":[0.18473204812833627,0.32199419918314715,-0.06365497262631033,0.40262001722089036,0.3219800485844063,0.1946541576170477,0.3769319151680842,-0.06362758041462233,0.11552521451165257,-0.0636326753765609,0.3820463391561155,-0.08517640343318439,0.18466026557774806,-0.06369174098013353,-0.06363267647446497,0.08327794590246453,0.08567179302332203,-0.06364063305272462,-0.0636281850996314,-0.06362669587415483,0.11552788969762748,0.37529720507609854,0.17574177622629475,-0.06960484127456515,-0.06363388790171409,-0.06373199646858956,-0.06363391641313312,-0.06362510559979544,0.21207287768415076,-0.06407201575886173,-0.06365528383938102,-0.06364540679332491,-0.10644678008068686,0.18473073092127715,-0.06370198167886937,-0.06363317189220881,-0.06362453475759898,-0.06364224852346904,0.4254227130385076,-0.06362697798009229,-0.06545147729480826,0.18473337724917888,-0.06378233694719354,-0.06362563755672929,-0.06364811734553477,-0.063637533724935,0.18445619596804946,0.18471992046174246,0.18472878330124892,0.184735255309798,0.18474059663840336,0.11553047856038173,-0.06363493340047363,0.23485247396709474,-0.06368871839655363,0.18472184165915473,0.2977572450825819,0.38134570751534397,-0.06365830550925176,-0.06389117295259397,-0.06369062069149824,-0.06362422224955144,-0.06369640765327106,-0.0640102572890951,0.333989596085119,0.38283471241189687,0.227811592156176,-0.06362841203814178,-0.06610570197470168,0.3179379204163527,-0.0636242917847206,0.18473432439474197,-0.06878763261031154,0.1155157073744603,0.38917419374022233,0.18473153406092443,0.11552319472059386,-0.06364936402462311,-0.06366952778816659,0.3220337344557546,0.2728732095287044,0.11552347374401395,0.1847307691907157,-0.06372326117405837,0.3885922887180682,-0.06365780386445348,0.17447108736981784,0.11550747612308315,0.4080006562149591,-0.06363371298482097,0.4187249405934539,-0.0636278585698518,0.3225328822846897,0.11552389069226048,-0.06362429035250887,0.1155290043425183,-0.13567637994682077,0.38478009501884963,0.18473754703826256,0.38237793306445683,-0.06368389619066155,0.18473630386251966,-0.06363031446822331,0.3014380325268962,0.3220266684050953,0.19465489470682532,-0.06426702763951747,0.11515968033265249,0.11549262314613029,0.3847823286278537,-0.0636245237212976,0.38477861386570683,0.38918226800405364,0.10969469567342037,0.40261222977445915,-0.06362548521931169,0.11546219828335239,0.19465457431891797,-0.06367120145862969,0.3891747068725691,0.36214311550827666,-0.0638752024654293,-0.031172205671699798,-0.06363443862291109,0.1840514700546525,-0.0636337357199595,0.40259253211158597,0.3296749078067909,0.2865857379672649,0.4036870648444374,0.3839179270848439,0.11551073168263915,-0.06363263430467112,-0.06363036106797884,0.11551676592794108,0.1155288281182348,0.38477498480083955,0.23324028716709458,-0.14276999004048796,0.14854504503942617,0.11541822544613325,0.18473201963014227,-0.06421352464654181,-0.12319358474111046,-0.063629163722068,-0.06363598393862581,-0.06364321060871836,-0.06364365623297759,0.3847751990017318,0.19130888631844964,0.11430407706552255,0.21217540663669807,0.1946500673748038,0.40798178499698706,-0.06367126252217929,0.11543835098904943,0.21217347608494785,0.32201802619108566,0.21217444311617228,0.3826241268364294,0.37198133625697744,0.384781338666727,0.3212608165882022,-0.06363201154144733,0.11546665633296205,0.40238728215263325,-0.06555592163337856,0.1474767766637164,0.11552810855935945,0.21217420988106592,0.21217520258032524,0.2120257131844406,-0.06364653705331805,0.11552615900376915,0.18473116235244777,0.11224983270550634,0.13791674941143672,-0.06363269002200597,0.30652240465302344,0.4604969152889302,0.38470926665152905,-0.06835077051619522,0.40795439612785217,0.23454859247212217,-0.06363142845041252,-0.07069335811673662,0.11541490217608429,0.3215710925789821,0.38469444413551784,-0.06362687307009247,0.1831936676675579,0.2611829055043921,0.0833955410760484,0.1946247596581275,0.3014141596682946,0.21217561304013252,0.11551212192769361,0.384776210160631,-0.031175235753774354,0.38918001233445576,0.08623898433459184,0.3014388866842743,0.3847502039461025,0.30466025638477445,0.35725544314602214,0.2708238492115811,0.3844944842488791,0.1249781591533799,0.1371965513069654,0.41455687092038973,0.11552772296713913,-0.06362582976534946,-0.06379223723384975,0.40252247183374795,0.32933978780557244,0.3197958327564997,0.25285412290195186,0.3845259887386341,0.11551704940204571,0.18374807233558427,0.11552748894445235,0.13719149962477206,0.19246771331915216,0.414518549882488,0.30143199200007265,0.18473202091103683,0.02022664697610124,0.3835526924489805,0.35487534983995495,0.3548785501529388,0.3548770905963919,0.3544821625937641,0.010525364093445266,0.3415972462703693,-0.0636454319858018,0.19462879608184108,0.194646201586867,0.2348741534928302,0.22780324676509825,0.18471531923730367,-0.05992755722166721,0.18469601950302206,0.31731228362012803,-0.06915311048330823,0.21036097641200627,0.3544824958895624,-0.06400512265111782,0.18472876183508538,-0.07875354496346211,0.08566072144636161,-0.06362638424962089,-0.06366324104995716,0.3828602899440654,0.3869883801029202,0.30141357343096126,0.3220274802729726,-0.14100406625633702,0.38429701295222674,0.1946541936565287],\"type\":\"scatter3d\"},{\"customdata\":[[\"VeChainThor Authority\"],[\"Proof-of-BibleHash\"],[\"Proof-of-Authority\"],[\"ECC 256K1\"]],\"hovertemplate\":\"<b>%{hovertext}</b><br><br>Class=%{marker.color}<br>PC 1=%{x}<br>PC 2=%{y}<br>PC 3=%{z}<br>Algorithm=%{customdata[0]}<extra></extra>\",\"hovertext\":[\"Vechain\",\"BiblePay\",\"Poa Network\",\"Acute Angle Cloud\"],\"legendgroup\":\"3\",\"marker\":{\"color\":[3,3,3,3],\"coloraxis\":\"coloraxis\",\"symbol\":\"square\"},\"mode\":\"markers\",\"name\":\"3\",\"scene\":\"scene\",\"showlegend\":true,\"x\":[4.630021646113983,-0.21200673520510058,-0.4126317172445825,-0.35914168767912785],\"y\":[2.821379539912019,3.314135177501724,2.695897791978721,2.8575901101531334],\"z\":[12.584573040141718,21.38844018317848,14.242351267132772,13.443223024850868],\"type\":\"scatter3d\"},{\"customdata\":[[\"TRC10\"]],\"hovertemplate\":\"<b>%{hovertext}</b><br><br>Class=%{marker.color}<br>PC 1=%{x}<br>PC 2=%{y}<br>PC 3=%{z}<br>Algorithm=%{customdata[0]}<extra></extra>\",\"hovertext\":[\"BitTorrent\"],\"legendgroup\":\"2\",\"marker\":{\"color\":[2],\"coloraxis\":\"coloraxis\",\"symbol\":\"x\"},\"mode\":\"markers\",\"name\":\"2\",\"scene\":\"scene\",\"showlegend\":true,\"x\":[35.47402487199168],\"y\":[1.7473366519801536],\"z\":[-1.460020725123801],\"type\":\"scatter3d\"}],                        {\"template\":{\"data\":{\"histogram2dcontour\":[{\"type\":\"histogram2dcontour\",\"colorbar\":{\"outlinewidth\":0,\"ticks\":\"\"},\"colorscale\":[[0.0,\"#0d0887\"],[0.1111111111111111,\"#46039f\"],[0.2222222222222222,\"#7201a8\"],[0.3333333333333333,\"#9c179e\"],[0.4444444444444444,\"#bd3786\"],[0.5555555555555556,\"#d8576b\"],[0.6666666666666666,\"#ed7953\"],[0.7777777777777778,\"#fb9f3a\"],[0.8888888888888888,\"#fdca26\"],[1.0,\"#f0f921\"]]}],\"choropleth\":[{\"type\":\"choropleth\",\"colorbar\":{\"outlinewidth\":0,\"ticks\":\"\"}}],\"histogram2d\":[{\"type\":\"histogram2d\",\"colorbar\":{\"outlinewidth\":0,\"ticks\":\"\"},\"colorscale\":[[0.0,\"#0d0887\"],[0.1111111111111111,\"#46039f\"],[0.2222222222222222,\"#7201a8\"],[0.3333333333333333,\"#9c179e\"],[0.4444444444444444,\"#bd3786\"],[0.5555555555555556,\"#d8576b\"],[0.6666666666666666,\"#ed7953\"],[0.7777777777777778,\"#fb9f3a\"],[0.8888888888888888,\"#fdca26\"],[1.0,\"#f0f921\"]]}],\"heatmap\":[{\"type\":\"heatmap\",\"colorbar\":{\"outlinewidth\":0,\"ticks\":\"\"},\"colorscale\":[[0.0,\"#0d0887\"],[0.1111111111111111,\"#46039f\"],[0.2222222222222222,\"#7201a8\"],[0.3333333333333333,\"#9c179e\"],[0.4444444444444444,\"#bd3786\"],[0.5555555555555556,\"#d8576b\"],[0.6666666666666666,\"#ed7953\"],[0.7777777777777778,\"#fb9f3a\"],[0.8888888888888888,\"#fdca26\"],[1.0,\"#f0f921\"]]}],\"heatmapgl\":[{\"type\":\"heatmapgl\",\"colorbar\":{\"outlinewidth\":0,\"ticks\":\"\"},\"colorscale\":[[0.0,\"#0d0887\"],[0.1111111111111111,\"#46039f\"],[0.2222222222222222,\"#7201a8\"],[0.3333333333333333,\"#9c179e\"],[0.4444444444444444,\"#bd3786\"],[0.5555555555555556,\"#d8576b\"],[0.6666666666666666,\"#ed7953\"],[0.7777777777777778,\"#fb9f3a\"],[0.8888888888888888,\"#fdca26\"],[1.0,\"#f0f921\"]]}],\"contourcarpet\":[{\"type\":\"contourcarpet\",\"colorbar\":{\"outlinewidth\":0,\"ticks\":\"\"}}],\"contour\":[{\"type\":\"contour\",\"colorbar\":{\"outlinewidth\":0,\"ticks\":\"\"},\"colorscale\":[[0.0,\"#0d0887\"],[0.1111111111111111,\"#46039f\"],[0.2222222222222222,\"#7201a8\"],[0.3333333333333333,\"#9c179e\"],[0.4444444444444444,\"#bd3786\"],[0.5555555555555556,\"#d8576b\"],[0.6666666666666666,\"#ed7953\"],[0.7777777777777778,\"#fb9f3a\"],[0.8888888888888888,\"#fdca26\"],[1.0,\"#f0f921\"]]}],\"surface\":[{\"type\":\"surface\",\"colorbar\":{\"outlinewidth\":0,\"ticks\":\"\"},\"colorscale\":[[0.0,\"#0d0887\"],[0.1111111111111111,\"#46039f\"],[0.2222222222222222,\"#7201a8\"],[0.3333333333333333,\"#9c179e\"],[0.4444444444444444,\"#bd3786\"],[0.5555555555555556,\"#d8576b\"],[0.6666666666666666,\"#ed7953\"],[0.7777777777777778,\"#fb9f3a\"],[0.8888888888888888,\"#fdca26\"],[1.0,\"#f0f921\"]]}],\"mesh3d\":[{\"type\":\"mesh3d\",\"colorbar\":{\"outlinewidth\":0,\"ticks\":\"\"}}],\"scatter\":[{\"fillpattern\":{\"fillmode\":\"overlay\",\"size\":10,\"solidity\":0.2},\"type\":\"scatter\"}],\"parcoords\":[{\"type\":\"parcoords\",\"line\":{\"colorbar\":{\"outlinewidth\":0,\"ticks\":\"\"}}}],\"scatterpolargl\":[{\"type\":\"scatterpolargl\",\"marker\":{\"colorbar\":{\"outlinewidth\":0,\"ticks\":\"\"}}}],\"bar\":[{\"error_x\":{\"color\":\"#2a3f5f\"},\"error_y\":{\"color\":\"#2a3f5f\"},\"marker\":{\"line\":{\"color\":\"#E5ECF6\",\"width\":0.5},\"pattern\":{\"fillmode\":\"overlay\",\"size\":10,\"solidity\":0.2}},\"type\":\"bar\"}],\"scattergeo\":[{\"type\":\"scattergeo\",\"marker\":{\"colorbar\":{\"outlinewidth\":0,\"ticks\":\"\"}}}],\"scatterpolar\":[{\"type\":\"scatterpolar\",\"marker\":{\"colorbar\":{\"outlinewidth\":0,\"ticks\":\"\"}}}],\"histogram\":[{\"marker\":{\"pattern\":{\"fillmode\":\"overlay\",\"size\":10,\"solidity\":0.2}},\"type\":\"histogram\"}],\"scattergl\":[{\"type\":\"scattergl\",\"marker\":{\"colorbar\":{\"outlinewidth\":0,\"ticks\":\"\"}}}],\"scatter3d\":[{\"type\":\"scatter3d\",\"line\":{\"colorbar\":{\"outlinewidth\":0,\"ticks\":\"\"}},\"marker\":{\"colorbar\":{\"outlinewidth\":0,\"ticks\":\"\"}}}],\"scattermapbox\":[{\"type\":\"scattermapbox\",\"marker\":{\"colorbar\":{\"outlinewidth\":0,\"ticks\":\"\"}}}],\"scatterternary\":[{\"type\":\"scatterternary\",\"marker\":{\"colorbar\":{\"outlinewidth\":0,\"ticks\":\"\"}}}],\"scattercarpet\":[{\"type\":\"scattercarpet\",\"marker\":{\"colorbar\":{\"outlinewidth\":0,\"ticks\":\"\"}}}],\"carpet\":[{\"aaxis\":{\"endlinecolor\":\"#2a3f5f\",\"gridcolor\":\"white\",\"linecolor\":\"white\",\"minorgridcolor\":\"white\",\"startlinecolor\":\"#2a3f5f\"},\"baxis\":{\"endlinecolor\":\"#2a3f5f\",\"gridcolor\":\"white\",\"linecolor\":\"white\",\"minorgridcolor\":\"white\",\"startlinecolor\":\"#2a3f5f\"},\"type\":\"carpet\"}],\"table\":[{\"cells\":{\"fill\":{\"color\":\"#EBF0F8\"},\"line\":{\"color\":\"white\"}},\"header\":{\"fill\":{\"color\":\"#C8D4E3\"},\"line\":{\"color\":\"white\"}},\"type\":\"table\"}],\"barpolar\":[{\"marker\":{\"line\":{\"color\":\"#E5ECF6\",\"width\":0.5},\"pattern\":{\"fillmode\":\"overlay\",\"size\":10,\"solidity\":0.2}},\"type\":\"barpolar\"}],\"pie\":[{\"automargin\":true,\"type\":\"pie\"}]},\"layout\":{\"autotypenumbers\":\"strict\",\"colorway\":[\"#636efa\",\"#EF553B\",\"#00cc96\",\"#ab63fa\",\"#FFA15A\",\"#19d3f3\",\"#FF6692\",\"#B6E880\",\"#FF97FF\",\"#FECB52\"],\"font\":{\"color\":\"#2a3f5f\"},\"hovermode\":\"closest\",\"hoverlabel\":{\"align\":\"left\"},\"paper_bgcolor\":\"white\",\"plot_bgcolor\":\"#E5ECF6\",\"polar\":{\"bgcolor\":\"#E5ECF6\",\"angularaxis\":{\"gridcolor\":\"white\",\"linecolor\":\"white\",\"ticks\":\"\"},\"radialaxis\":{\"gridcolor\":\"white\",\"linecolor\":\"white\",\"ticks\":\"\"}},\"ternary\":{\"bgcolor\":\"#E5ECF6\",\"aaxis\":{\"gridcolor\":\"white\",\"linecolor\":\"white\",\"ticks\":\"\"},\"baxis\":{\"gridcolor\":\"white\",\"linecolor\":\"white\",\"ticks\":\"\"},\"caxis\":{\"gridcolor\":\"white\",\"linecolor\":\"white\",\"ticks\":\"\"}},\"coloraxis\":{\"colorbar\":{\"outlinewidth\":0,\"ticks\":\"\"}},\"colorscale\":{\"sequential\":[[0.0,\"#0d0887\"],[0.1111111111111111,\"#46039f\"],[0.2222222222222222,\"#7201a8\"],[0.3333333333333333,\"#9c179e\"],[0.4444444444444444,\"#bd3786\"],[0.5555555555555556,\"#d8576b\"],[0.6666666666666666,\"#ed7953\"],[0.7777777777777778,\"#fb9f3a\"],[0.8888888888888888,\"#fdca26\"],[1.0,\"#f0f921\"]],\"sequentialminus\":[[0.0,\"#0d0887\"],[0.1111111111111111,\"#46039f\"],[0.2222222222222222,\"#7201a8\"],[0.3333333333333333,\"#9c179e\"],[0.4444444444444444,\"#bd3786\"],[0.5555555555555556,\"#d8576b\"],[0.6666666666666666,\"#ed7953\"],[0.7777777777777778,\"#fb9f3a\"],[0.8888888888888888,\"#fdca26\"],[1.0,\"#f0f921\"]],\"diverging\":[[0,\"#8e0152\"],[0.1,\"#c51b7d\"],[0.2,\"#de77ae\"],[0.3,\"#f1b6da\"],[0.4,\"#fde0ef\"],[0.5,\"#f7f7f7\"],[0.6,\"#e6f5d0\"],[0.7,\"#b8e186\"],[0.8,\"#7fbc41\"],[0.9,\"#4d9221\"],[1,\"#276419\"]]},\"xaxis\":{\"gridcolor\":\"white\",\"linecolor\":\"white\",\"ticks\":\"\",\"title\":{\"standoff\":15},\"zerolinecolor\":\"white\",\"automargin\":true,\"zerolinewidth\":2},\"yaxis\":{\"gridcolor\":\"white\",\"linecolor\":\"white\",\"ticks\":\"\",\"title\":{\"standoff\":15},\"zerolinecolor\":\"white\",\"automargin\":true,\"zerolinewidth\":2},\"scene\":{\"xaxis\":{\"backgroundcolor\":\"#E5ECF6\",\"gridcolor\":\"white\",\"linecolor\":\"white\",\"showbackground\":true,\"ticks\":\"\",\"zerolinecolor\":\"white\",\"gridwidth\":2},\"yaxis\":{\"backgroundcolor\":\"#E5ECF6\",\"gridcolor\":\"white\",\"linecolor\":\"white\",\"showbackground\":true,\"ticks\":\"\",\"zerolinecolor\":\"white\",\"gridwidth\":2},\"zaxis\":{\"backgroundcolor\":\"#E5ECF6\",\"gridcolor\":\"white\",\"linecolor\":\"white\",\"showbackground\":true,\"ticks\":\"\",\"zerolinecolor\":\"white\",\"gridwidth\":2}},\"shapedefaults\":{\"line\":{\"color\":\"#2a3f5f\"}},\"annotationdefaults\":{\"arrowcolor\":\"#2a3f5f\",\"arrowhead\":0,\"arrowwidth\":1},\"geo\":{\"bgcolor\":\"white\",\"landcolor\":\"#E5ECF6\",\"subunitcolor\":\"white\",\"showland\":true,\"showlakes\":true,\"lakecolor\":\"white\"},\"title\":{\"x\":0.05},\"mapbox\":{\"style\":\"light\"}}},\"scene\":{\"domain\":{\"x\":[0.0,1.0],\"y\":[0.0,1.0]},\"xaxis\":{\"title\":{\"text\":\"PC 1\"}},\"yaxis\":{\"title\":{\"text\":\"PC 2\"}},\"zaxis\":{\"title\":{\"text\":\"PC 3\"}}},\"coloraxis\":{\"colorbar\":{\"title\":{\"text\":\"Class\"}},\"colorscale\":[[0.0,\"#0d0887\"],[0.1111111111111111,\"#46039f\"],[0.2222222222222222,\"#7201a8\"],[0.3333333333333333,\"#9c179e\"],[0.4444444444444444,\"#bd3786\"],[0.5555555555555556,\"#d8576b\"],[0.6666666666666666,\"#ed7953\"],[0.7777777777777778,\"#fb9f3a\"],[0.8888888888888888,\"#fdca26\"],[1.0,\"#f0f921\"]]},\"legend\":{\"title\":{\"text\":\"Class\"},\"tracegroupgap\":0,\"x\":0,\"y\":1},\"margin\":{\"t\":60},\"width\":800},                        {\"responsive\": true}                    ).then(function(){\n",
       "                            \n",
       "var gd = document.getElementById('09458cd1-54bf-4d65-acd8-ae16c1db0553');\n",
       "var x = new MutationObserver(function (mutations, observer) {{\n",
       "        var display = window.getComputedStyle(gd).display;\n",
       "        if (!display || display === 'none') {{\n",
       "            console.log([gd, 'removed!']);\n",
       "            Plotly.purge(gd);\n",
       "            observer.disconnect();\n",
       "        }}\n",
       "}});\n",
       "\n",
       "// Listen for the removal of the full notebook cells\n",
       "var notebookContainer = gd.closest('#notebook-container');\n",
       "if (notebookContainer) {{\n",
       "    x.observe(notebookContainer, {childList: true});\n",
       "}}\n",
       "\n",
       "// Listen for the clearing of the current output cell\n",
       "var outputEl = gd.closest('.output');\n",
       "if (outputEl) {{\n",
       "    x.observe(outputEl, {childList: true});\n",
       "}}\n",
       "\n",
       "                        })                };                });            </script>        </div>"
      ]
     },
     "metadata": {},
     "output_type": "display_data"
    }
   ],
   "source": [
    "# Creating a 3D-Scatter with the PCA data and the clusters\n",
    "fig = px.scatter_3d(\n",
    "    clustered_df,\n",
    "    x=\"PC 1\",\n",
    "    y=\"PC 2\",\n",
    "    z=\"PC 3\",\n",
    "    hover_data=[\"Algorithm\"],\n",
    "    hover_name=\"CoinName\",\n",
    "    color=\"Class\",\n",
    "    symbol=\"Class\",\n",
    "    width=800\n",
    ")\n",
    "fig.update_layout(legend=dict(x=0, y=1))\n",
    "fig.show()\n"
   ]
  },
  {
   "cell_type": "code",
   "execution_count": 48,
   "metadata": {},
   "outputs": [
    {
     "data": {},
     "metadata": {},
     "output_type": "display_data"
    },
    {
     "data": {
      "application/vnd.holoviews_exec.v0+json": "",
      "text/html": [
       "<div id='2615'>\n",
       "\n",
       "\n",
       "\n",
       "\n",
       "\n",
       "  <div class=\"bk-root\" id=\"5ba87a53-d843-403e-b8a8-132f276dfcb2\" data-root-id=\"2615\"></div>\n",
       "</div>\n",
       "<script type=\"application/javascript\">(function(root) {\n",
       "  function embed_document(root) {\n",
       "    var docs_json = {\"a40cae94-7385-44c1-9591-7f52007431d6\":{\"defs\":[{\"extends\":null,\"module\":null,\"name\":\"ReactiveHTML1\",\"overrides\":[],\"properties\":[]},{\"extends\":null,\"module\":null,\"name\":\"FlexBox1\",\"overrides\":[],\"properties\":[{\"default\":\"flex-start\",\"kind\":null,\"name\":\"align_content\"},{\"default\":\"flex-start\",\"kind\":null,\"name\":\"align_items\"},{\"default\":\"row\",\"kind\":null,\"name\":\"flex_direction\"},{\"default\":\"wrap\",\"kind\":null,\"name\":\"flex_wrap\"},{\"default\":\"flex-start\",\"kind\":null,\"name\":\"justify_content\"}]},{\"extends\":null,\"module\":null,\"name\":\"TemplateActions1\",\"overrides\":[],\"properties\":[{\"default\":0,\"kind\":null,\"name\":\"open_modal\"},{\"default\":0,\"kind\":null,\"name\":\"close_modal\"}]},{\"extends\":null,\"module\":null,\"name\":\"MaterialTemplateActions1\",\"overrides\":[],\"properties\":[{\"default\":0,\"kind\":null,\"name\":\"open_modal\"},{\"default\":0,\"kind\":null,\"name\":\"close_modal\"}]}],\"roots\":{\"references\":[{\"attributes\":{\"source\":{\"id\":\"2617\"}},\"id\":\"2651\",\"type\":\"CDSView\"},{\"attributes\":{\"editor\":{\"id\":\"2625\"},\"field\":\"Algorithm\",\"formatter\":{\"id\":\"2624\"},\"title\":\"Algorithm\"},\"id\":\"2626\",\"type\":\"TableColumn\"},{\"attributes\":{\"columns\":[{\"id\":\"2621\"},{\"id\":\"2626\"},{\"id\":\"2631\"},{\"id\":\"2636\"},{\"id\":\"2641\"},{\"id\":\"2646\"}],\"height\":300,\"reorderable\":false,\"source\":{\"id\":\"2617\"},\"view\":{\"id\":\"2651\"},\"width\":700},\"id\":\"2649\",\"type\":\"DataTable\"},{\"attributes\":{\"editor\":{\"id\":\"2645\"},\"field\":\"Class\",\"formatter\":{\"id\":\"2644\"},\"title\":\"Class\"},\"id\":\"2646\",\"type\":\"TableColumn\"},{\"attributes\":{},\"id\":\"2618\",\"type\":\"Selection\"},{\"attributes\":{},\"id\":\"2630\",\"type\":\"StringEditor\"},{\"attributes\":{\"editor\":{\"id\":\"2620\"},\"field\":\"CoinName\",\"formatter\":{\"id\":\"2619\"},\"title\":\"CoinName\"},\"id\":\"2621\",\"type\":\"TableColumn\"},{\"attributes\":{},\"id\":\"2625\",\"type\":\"StringEditor\"},{\"attributes\":{\"margin\":[5,5,5,5],\"name\":\"HSpacer04942\",\"sizing_mode\":\"stretch_width\"},\"id\":\"2656\",\"type\":\"Spacer\"},{\"attributes\":{},\"id\":\"2624\",\"type\":\"StringFormatter\"},{\"attributes\":{},\"id\":\"2629\",\"type\":\"StringFormatter\"},{\"attributes\":{},\"id\":\"2644\",\"type\":\"NumberFormatter\"},{\"attributes\":{\"children\":[{\"id\":\"2616\"},{\"id\":\"2649\"},{\"id\":\"2656\"}],\"margin\":[0,0,0,0],\"name\":\"Row04937\",\"tags\":[\"embedded\"]},\"id\":\"2615\",\"type\":\"Row\"},{\"attributes\":{},\"id\":\"2620\",\"type\":\"StringEditor\"},{\"attributes\":{\"margin\":[5,5,5,5],\"name\":\"HSpacer04941\",\"sizing_mode\":\"stretch_width\"},\"id\":\"2616\",\"type\":\"Spacer\"},{\"attributes\":{},\"id\":\"2634\",\"type\":\"StringFormatter\"},{\"attributes\":{},\"id\":\"2635\",\"type\":\"StringEditor\"},{\"attributes\":{\"data\":{\"Algorithm\":[\"Scrypt\",\"Scrypt\",\"X13\",\"SHA-256\",\"Ethash\",\"Scrypt\",\"X11\",\"CryptoNight-V7\",\"Ethash\",\"Equihash\",\"SHA-512\",\"Multiple\",\"SHA-256\",\"SHA-256\",\"Scrypt\",\"X15\",\"X11\",\"Scrypt\",\"Scrypt\",\"Scrypt\",\"Multiple\",\"Scrypt\",\"SHA-256\",\"Scrypt\",\"Scrypt\",\"Scrypt\",\"Quark\",\"Groestl\",\"Scrypt\",\"Scrypt\",\"Scrypt\",\"Scrypt\",\"Scrypt\",\"X11\",\"Scrypt\",\"Groestl\",\"Multiple\",\"SHA-256\",\"Scrypt\",\"Scrypt\",\"Scrypt\",\"Scrypt\",\"PoS\",\"Scrypt\",\"Scrypt\",\"NeoScrypt\",\"Scrypt\",\"Scrypt\",\"Scrypt\",\"Scrypt\",\"X11\",\"Scrypt\",\"X11\",\"SHA-256\",\"Scrypt\",\"Scrypt\",\"Scrypt\",\"SHA3\",\"Scrypt\",\"HybridScryptHash256\",\"Scrypt\",\"Scrypt\",\"SHA-256\",\"Scrypt\",\"X13\",\"Scrypt\",\"SHA-256\",\"Scrypt\",\"X13\",\"NeoScrypt\",\"Scrypt\",\"Scrypt\",\"Scrypt\",\"Scrypt\",\"Scrypt\",\"Scrypt\",\"X11\",\"X11\",\"SHA-256\",\"Multiple\",\"SHA-256\",\"PHI1612\",\"X11\",\"SHA-256\",\"SHA-256\",\"SHA-256\",\"X11\",\"Scrypt\",\"Scrypt\",\"Scrypt\",\"Scrypt\",\"Lyra2REv2\",\"Scrypt\",\"X11\",\"Multiple\",\"SHA-256\",\"X13\",\"Scrypt\",\"CryptoNight\",\"CryptoNight\",\"Shabal256\",\"Counterparty\",\"Scrypt\",\"SHA-256\",\"Groestl\",\"Scrypt\",\"Scrypt\",\"Scrypt\",\"X13\",\"Scrypt\",\"Scrypt\",\"Scrypt\",\"Scrypt\",\"X13\",\"Scrypt\",\"Stanford Folding\",\"X11\",\"Multiple\",\"QuBit\",\"Scrypt\",\"Scrypt\",\"Scrypt\",\"M7 POW\",\"Scrypt\",\"SHA-256\",\"Scrypt\",\"X11\",\"SHA3\",\"X11\",\"Lyra2RE\",\"SHA-256\",\"QUAIT\",\"X11\",\"X11\",\"Scrypt\",\"Scrypt\",\"Scrypt\",\"Ethash\",\"X13\",\"Blake2b\",\"SHA-256\",\"X15\",\"X11\",\"SHA-256\",\"BLAKE256\",\"Scrypt\",\"1GB AES Pattern Search\",\"SHA-256\",\"X11\",\"Scrypt\",\"SHA-256\",\"SHA-256\",\"NIST5\",\"Scrypt\",\"Scrypt\",\"X11\",\"Dagger\",\"Scrypt\",\"X11GOST\",\"X11\",\"Scrypt\",\"SHA-256\",\"Scrypt\",\"PoS\",\"Scrypt\",\"ScryptOG\",\"X11\",\"X11\",\"SHA-256\",\"SHA-256\",\"NIST5\",\"X11\",\"Scrypt\",\"POS 3.0\",\"Scrypt\",\"Scrypt\",\"Scrypt\",\"X13\",\"X11\",\"X11\",\"Equihash\",\"X11\",\"Scrypt\",\"CryptoNight\",\"SHA-256\",\"SHA-256\",\"X11\",\"Scrypt\",\"Multiple\",\"Scrypt\",\"Scrypt\",\"Scrypt\",\"SHA-256\",\"Scrypt\",\"Scrypt\",\"SHA-256D\",\"PoS\",\"Scrypt\",\"X11\",\"Lyra2Z\",\"PoS\",\"X13\",\"X14\",\"PoS\",\"SHA-256D\",\"Ethash\",\"Equihash\",\"DPoS\",\"X11\",\"Scrypt\",\"X11\",\"X13\",\"X11\",\"PoS\",\"Scrypt\",\"Scrypt\",\"X11\",\"PoS\",\"X11\",\"SHA-256\",\"Scrypt\",\"X11\",\"Scrypt\",\"Scrypt\",\"X11\",\"CryptoNight\",\"Scrypt\",\"Scrypt\",\"Scrypt\",\"Scrypt\",\"Quark\",\"QuBit\",\"Scrypt\",\"CryptoNight\",\"Lyra2RE\",\"Scrypt\",\"SHA-256\",\"X11\",\"Scrypt\",\"X11\",\"Scrypt\",\"CryptoNight-V7\",\"Scrypt\",\"Scrypt\",\"Scrypt\",\"X13\",\"X11\",\"Equihash\",\"Scrypt\",\"Scrypt\",\"Lyra2RE\",\"Scrypt\",\"Dagger-Hashimoto\",\"X11\",\"Blake2S\",\"X11\",\"Scrypt\",\"PoS\",\"X11\",\"NIST5\",\"PoS\",\"X11\",\"Scrypt\",\"Scrypt\",\"Scrypt\",\"SHA-256\",\"X11\",\"Scrypt\",\"Scrypt\",\"SHA-256\",\"PoS\",\"Scrypt\",\"X15\",\"SHA-256\",\"Scrypt\",\"POS 3.0\",\"CryptoNight-V7\",\"536\",\"Argon2d\",\"Blake2b\",\"Cloverhash\",\"CryptoNight\",\"NIST5\",\"X11\",\"NIST5\",\"Skein\",\"Scrypt\",\"X13\",\"Scrypt\",\"X11\",\"X11\",\"Scrypt\",\"CryptoNight\",\"X13\",\"Time Travel\",\"Scrypt\",\"Keccak\",\"SkunkHash v2 Raptor\",\"X11\",\"Skein\",\"SHA-256\",\"X11\",\"Scrypt\",\"VeChainThor Authority\",\"Scrypt\",\"PoS\",\"Scrypt\",\"Scrypt\",\"Scrypt\",\"Scrypt\",\"Scrypt\",\"Scrypt\",\"Scrypt\",\"CryptoNight\",\"SHA-512\",\"Ouroboros\",\"X11\",\"Equihash\",\"NeoScrypt\",\"X11\",\"Scrypt\",\"NeoScrypt\",\"Lyra2REv2\",\"Equihash\",\"Scrypt\",\"SHA-256\",\"NIST5\",\"PHI1612\",\"Dagger\",\"Scrypt\",\"Quark\",\"Scrypt\",\"POS 2.0\",\"Scrypt\",\"SHA-256\",\"X11\",\"NeoScrypt\",\"Ethash\",\"NeoScrypt\",\"Quark\",\"X11\",\"DPoS\",\"NIST5\",\"X13\",\"Multiple\",\"Scrypt\",\"CryptoNight\",\"CryptoNight\",\"Ethash\",\"NIST5\",\"Scrypt\",\"Quark\",\"X11\",\"CryptoNight-V7\",\"Scrypt\",\"Scrypt\",\"Scrypt\",\"X11\",\"BLAKE256\",\"X11\",\"Scrypt\",\"Scrypt\",\"NeoScrypt\",\"NeoScrypt\",\"Quark\",\"NeoScrypt\",\"Scrypt\",\"Scrypt\",\"Scrypt\",\"X11\",\"Scrypt\",\"X11\",\"SHA-256\",\"C11\",\"POS 3.0\",\"Ethash\",\"Scrypt\",\"Scrypt\",\"CryptoNight\",\"SkunkHash\",\"Scrypt\",\"CryptoNight\",\"X11\",\"Scrypt\",\"SHA-256\",\"Dagger\",\"Lyra2REv2\",\"X13\",\"Proof-of-BibleHash\",\"SHA-256 + Hive\",\"Scrypt\",\"Scrypt\",\"Skein\",\"X11\",\"Skein\",\"X11\",\"C11\",\"Proof-of-Authority\",\"X11\",\"XEVAN\",\"Scrypt\",\"VBFT\",\"Ethash\",\"CryptoNight\",\"Scrypt\",\"SHA-256\",\"IMesh\",\"PHI1612\",\"Quark\",\"NIST5\",\"Scrypt\",\"Scrypt\",\"Equihash\",\"Scrypt\",\"Lyra2Z\",\"Green Protocol\",\"PoS\",\"Scrypt\",\"NeoScrypt\",\"Semux BFT consensus\",\"X11\",\"Quark\",\"PoS\",\"CryptoNight\",\"X16R\",\"Scrypt\",\"NIST5\",\"Lyra2RE\",\"XEVAN\",\"Tribus\",\"Scrypt\",\"Lyra2Z\",\"Scrypt\",\"Scrypt\",\"CryptoNight\",\"X11\",\"SHA-256D\",\"CryptoNight Heavy\",\"CryptoNight\",\"Scrypt\",\"Scrypt\",\"X11\",\"Scrypt\",\"Jump Consistent Hash\",\"SHA-256D\",\"CryptoNight\",\"Scrypt\",\"X15\",\"Scrypt\",\"Quark\",\"Scrypt\",\"SHA-512\",\"SHA-256\",\"DPoS\",\"X16R\",\"HMQ1725\",\"X11\",\"Scrypt\",\"X16R\",\"Quark\",\"Quark\",\"Scrypt\",\"Lyra2REv2\",\"Quark\",\"Scrypt\",\"Scrypt\",\"Scrypt\",\"CryptoNight-V7\",\"Cryptonight-GPU\",\"XEVAN\",\"CryptoNight Heavy\",\"CryptoNight\",\"X11\",\"X11\",\"X11\",\"Scrypt\",\"PoS\",\"SHA-256\",\"Keccak\",\"X11\",\"X11\",\"Tribus\",\"Scrypt\",\"NeoScrypt\",\"SHA-512\",\"X16R\",\"ECC 256K1\",\"Equihash\",\"XEVAN\",\"HMQ1725\",\"Lyra2Z\",\"SHA-512\",\"SHA-256\",\"Quark\",\"PHI1612\",\"XEVAN\",\"X11\",\"CryptoNight\",\"Quark\",\"Blake\",\"Blake\",\"Blake\",\"Blake\",\"Equihash\",\"Exosis\",\"Scrypt\",\"Scrypt\",\"Equihash\",\"Quark\",\"Equihash\",\"Quark\",\"Scrypt\",\"Lyra2REv2\",\"QuBit\",\"X11\",\"Scrypt\",\"XEVAN\",\"SHA-256D\",\"X11\",\"SHA-256\",\"X13\",\"SHA-256\",\"X11\",\"DPoS\",\"Ethash\",\"Scrypt\",\"Scrypt\",\"X11\",\"NeoScrypt\",\"Scrypt\",\"Blake\",\"Scrypt\",\"SHA-256\",\"Scrypt\",\"X11\",\"Scrypt\",\"Scrypt\",\"SHA-256\",\"X11\",\"SHA-256\",\"Scrypt\",\"Scrypt\",\"Scrypt\",\"Groestl\",\"X11\",\"Scrypt\",\"PoS\",\"Scrypt\",\"Scrypt\",\"X11\",\"SHA-256\",\"DPoS\",\"Scrypt\",\"Scrypt\",\"NeoScrypt\",\"Multiple\",\"X13\",\"Equihash+Scrypt\",\"Lyra2Z\",\"PHI2\",\"DPoS\",\"Ethash\",\"DPoS\",\"SHA-256\",\"Lyra2Z\",\"Leased POS\",\"PoS\",\"Scrypt\",\"TRC10\",\"Equihash\",\"PoS\",\"SHA-256\",\"Scrypt\",\"CryptoNight\",\"Equihash\",\"Scrypt\",\"Scrypt\"],\"Class\":{\"__ndarray__\":\"AAAAAAAAAAAAAAAAAQAAAAEAAAABAAAAAAAAAAEAAAABAAAAAQAAAAAAAAABAAAAAAAAAAAAAAABAAAAAAAAAAEAAAABAAAAAAAAAAAAAAABAAAAAQAAAAEAAAABAAAAAQAAAAAAAAABAAAAAQAAAAEAAAAAAAAAAQAAAAAAAAABAAAAAQAAAAAAAAAAAAAAAQAAAAEAAAABAAAAAQAAAAEAAAABAAAAAAAAAAAAAAABAAAAAQAAAAEAAAABAAAAAQAAAAAAAAAAAAAAAQAAAAAAAAABAAAAAQAAAAEAAAABAAAAAAAAAAEAAAABAAAAAAAAAAEAAAAAAAAAAAAAAAAAAAABAAAAAQAAAAEAAAAAAAAAAAAAAAAAAAAAAAAAAAAAAAEAAAABAAAAAQAAAAAAAAAAAAAAAQAAAAAAAAABAAAAAAAAAAAAAAABAAAAAQAAAAEAAAABAAAAAAAAAAAAAAABAAAAAAAAAAEAAAABAAAAAAAAAAAAAAABAAAAAAAAAAAAAAABAAAAAQAAAAAAAAAAAAAAAQAAAAAAAAAAAAAAAQAAAAAAAAABAAAAAAAAAAEAAAAAAAAAAQAAAAAAAAAAAAAAAQAAAAEAAAAAAAAAAQAAAAEAAAABAAAAAAAAAAEAAAABAAAAAQAAAAEAAAABAAAAAAAAAAAAAAABAAAAAQAAAAEAAAAAAAAAAQAAAAAAAAABAAAAAQAAAAAAAAABAAAAAAAAAAEAAAAAAAAAAAAAAAEAAAABAAAAAAAAAAEAAAABAAAAAAAAAAAAAAABAAAAAAAAAAEAAAAAAAAAAAAAAAAAAAABAAAAAQAAAAEAAAABAAAAAAAAAAAAAAAAAAAAAAAAAAAAAAABAAAAAQAAAAEAAAAAAAAAAAAAAAAAAAAAAAAAAAAAAAEAAAAAAAAAAAAAAAAAAAAAAAAAAAAAAAEAAAAAAAAAAQAAAAAAAAAAAAAAAQAAAAAAAAABAAAAAAAAAAAAAAABAAAAAAAAAAEAAAAAAAAAAQAAAAAAAAABAAAAAAAAAAAAAAAAAAAAAAAAAAEAAAAAAAAAAAAAAAAAAAAAAAAAAAAAAAEAAAABAAAAAAAAAAAAAAABAAAAAQAAAAAAAAAAAAAAAAAAAAAAAAAAAAAAAQAAAAAAAAAAAAAAAAAAAAAAAAAAAAAAAAAAAAAAAAAAAAAAAQAAAAAAAAAAAAAAAAAAAAAAAAAAAAAAAAAAAAEAAAABAAAAAQAAAAAAAAAAAAAAAAAAAAAAAAABAAAAAAAAAAEAAAAAAAAAAAAAAAEAAAAAAAAAAQAAAAEAAAAAAAAAAQAAAAEAAAAAAAAAAQAAAAAAAAAAAAAAAAAAAAEAAAAAAAAAAAAAAAEAAAAAAAAAAAAAAAAAAAAAAAAAAAAAAAAAAAAAAAAAAQAAAAAAAAABAAAAAAAAAAAAAAAAAAAAAAAAAAEAAAAAAAAAAQAAAAAAAAABAAAAAQAAAAEAAAABAAAAAAAAAAEAAAAAAAAAAAAAAAEAAAAAAAAAAQAAAAEAAAABAAAAAAAAAAEAAAAAAAAAAQAAAAEAAAABAAAAAAAAAAEAAAAAAAAAAQAAAAAAAAAAAAAAAwAAAAEAAAAAAAAAAQAAAAEAAAABAAAAAQAAAAEAAAAAAAAAAAAAAAEAAAAAAAAAAAAAAAAAAAABAAAAAAAAAAEAAAAAAAAAAQAAAAAAAAABAAAAAAAAAAAAAAAAAAAAAAAAAAEAAAAAAAAAAAAAAAEAAAAAAAAAAAAAAAAAAAABAAAAAQAAAAEAAAABAAAAAAAAAAAAAAAAAAAAAAAAAAAAAAABAAAAAAAAAAEAAAABAAAAAQAAAAAAAAABAAAAAAAAAAEAAAABAAAAAAAAAAAAAAABAAAAAAAAAAEAAAABAAAAAAAAAAAAAAABAAAAAQAAAAAAAAABAAAAAQAAAAAAAAAAAAAAAAAAAAAAAAABAAAAAQAAAAEAAAAAAAAAAQAAAAEAAAAAAAAAAQAAAAEAAAAAAAAAAQAAAAAAAAABAAAAAAAAAAEAAAABAAAAAAAAAAMAAAAAAAAAAQAAAAEAAAAAAAAAAAAAAAAAAAABAAAAAAAAAAMAAAAAAAAAAAAAAAAAAAAAAAAAAQAAAAEAAAABAAAAAQAAAAEAAAAAAAAAAQAAAAAAAAAAAAAAAAAAAAEAAAAAAAAAAQAAAAAAAAAAAAAAAAAAAAEAAAAAAAAAAQAAAAAAAAAAAAAAAQAAAAAAAAAAAAAAAQAAAAEAAAAAAAAAAQAAAAAAAAABAAAAAAAAAAAAAAABAAAAAAAAAAAAAAABAAAAAQAAAAAAAAAAAAAAAAAAAAAAAAABAAAAAAAAAAEAAAAAAAAAAAAAAAAAAAAAAAAAAAAAAAEAAAAAAAAAAAAAAAEAAAABAAAAAQAAAAAAAAAAAAAAAAAAAAAAAAAAAAAAAAAAAAAAAAABAAAAAQAAAAAAAAABAAAAAQAAAAEAAAABAAAAAQAAAAAAAAABAAAAAAAAAAAAAAAAAAAAAQAAAAAAAAAAAAAAAQAAAAAAAAAAAAAAAAAAAAAAAAABAAAAAwAAAAEAAAAAAAAAAQAAAAEAAAAAAAAAAQAAAAAAAAABAAAAAAAAAAAAAAABAAAAAAAAAAEAAAABAAAAAQAAAAEAAAABAAAAAQAAAAEAAAAAAAAAAQAAAAAAAAABAAAAAAAAAAAAAAABAAAAAQAAAAAAAAAAAAAAAAAAAAAAAAAAAAAAAQAAAAEAAAABAAAAAAAAAAAAAAABAAAAAAAAAAEAAAAAAAAAAQAAAAAAAAABAAAAAAAAAAAAAAAAAAAAAAAAAAEAAAAAAAAAAAAAAAAAAAABAAAAAAAAAAEAAAAAAAAAAQAAAAAAAAAAAAAAAAAAAAEAAAABAAAAAAAAAAAAAAAAAAAAAAAAAAAAAAAAAAAAAQAAAAAAAAABAAAAAQAAAAAAAAAAAAAAAQAAAAAAAAAAAAAAAAAAAAAAAAAAAAAAAAAAAAIAAAABAAAAAAAAAAAAAAAAAAAAAQAAAAEAAAAAAAAAAAAAAA==\",\"dtype\":\"int32\",\"order\":\"little\",\"shape\":[577]},\"CoinName\":[\"42 Coin\",\"404Coin\",\"EliteCoin\",\"Bitcoin\",\"Ethereum\",\"Litecoin\",\"Dash\",\"Monero\",\"Ethereum Classic\",\"ZCash\",\"Bitshares\",\"DigiByte\",\"BitcoinDark\",\"PayCoin\",\"ProsperCoin\",\"KoboCoin\",\"Spreadcoin\",\"Argentum\",\"Aurora Coin\",\"BlueCoin\",\"MyriadCoin\",\"MoonCoin\",\"ZetaCoin\",\"SexCoin\",\"Quatloo\",\"EnergyCoin\",\"QuarkCoin\",\"Riecoin\",\"Digitalcoin \",\"BitBar\",\"Catcoin\",\"CryptoBullion\",\"CannaCoin\",\"CryptCoin\",\"CasinoCoin\",\"Diamond\",\"Verge\",\"DevCoin\",\"EarthCoin\",\"E-Gulden\",\"Einsteinium\",\"Emerald\",\"Exclusive Coin\",\"FlutterCoin\",\"Franko\",\"FeatherCoin\",\"GrandCoin\",\"GlobalCoin\",\"GoldCoin\",\"HoboNickels\",\"HyperStake\",\"Infinite Coin\",\"IOCoin\",\"IXcoin\",\"KrugerCoin\",\"LuckyCoin\",\"Litebar \",\"MaxCoin\",\"MegaCoin\",\"MediterraneanCoin\",\"MintCoin\",\"MinCoin\",\"MazaCoin\",\"Nautilus Coin\",\"NavCoin\",\"NobleCoin\",\"Namecoin\",\"NyanCoin\",\"OpalCoin\",\"Orbitcoin\",\"PotCoin\",\"PhoenixCoin\",\"Reddcoin\",\"RonPaulCoin\",\"StableCoin\",\"SmartCoin\",\"SuperCoin\",\"SyncCoin\",\"SysCoin\",\"TeslaCoin\",\"TigerCoin\",\"TittieCoin\",\"TorCoin\",\"TerraCoin\",\"UnbreakableCoin\",\"Unobtanium\",\"UroCoin\",\"UnitaryStatus Dollar\",\"UltraCoin\",\"ViaCoin\",\"VeriCoin\",\"Vertcoin\",\"WorldCoin\",\"X11 Coin\",\"Crypti\",\"JouleCoin\",\"StealthCoin\",\"ZCC Coin\",\"ByteCoin\",\"DigitalNote \",\"BurstCoin\",\"StorjCoin\",\"MonaCoin\",\"Neutron\",\"FairCoin\",\"Gulden\",\"RubyCoin\",\"PesetaCoin\",\"Kore\",\"Wild Beast Coin\",\"Dnotes\",\"Flo\",\"8BIT Coin\",\"Sativa Coin\",\"ArtByte\",\"Folding Coin\",\"Ucoin\",\"Unitus\",\"CypherPunkCoin\",\"OmniCron\",\"Vtorrent\",\"GreenCoin\",\"Cryptonite\",\"MasterCoin\",\"SoonCoin\",\"1Credit\",\"IslaCoin\",\"Nexus\",\"MarsCoin \",\"Crypto\",\"Anarchists Prime\",\"Droidz\",\"BowsCoin\",\"Squall Coin\",\"Song Coin\",\"BitZeny\",\"Diggits\",\"Expanse\",\"Paycon\",\"Siacoin\",\"Emercoin\",\"EverGreenCoin\",\"MindCoin\",\"I0coin\",\"Decred\",\"Revolution VR\",\"HOdlcoin\",\"EDRCoin\",\"Hitcoin\",\"Gamecredits\",\"DubaiCoin\",\"CarpeDiemCoin\",\"PWR Coin\",\"BillaryCoin\",\"GPU Coin\",\"Adzcoin\",\"SoilCoin\",\"YoCoin\",\"SibCoin\",\"EuropeCoin\",\"ZeitCoin\",\"SwingCoin\",\"SafeExchangeCoin\",\"Nebuchadnezzar\",\"Francs\",\"Aiden\",\"BolivarCoin\",\"Ratecoin\",\"Revenu\",\"Clockcoin\",\"VIP Tokens\",\"BitSend\",\"Omni\",\"Let it Ride\",\"PutinCoin\",\"iBankCoin\",\"Frankywillcoin\",\"MudraCoin\",\"PizzaCoin\",\"Lutetium Coin\",\"Komodo\",\"GoldBlocks\",\"CarterCoin\",\"Karbo\",\"BitTokens\",\"ZayedCoin\",\"MustangCoin\",\"ZoneCoin\",\"Circuits of Value\",\"RootCoin\",\"DopeCoin\",\"BitCurrency\",\"DollarCoin\",\"Swiscoin\",\"Shilling\",\"BuzzCoin\",\"Opair\",\"PesoBit\",\"Halloween Coin\",\"ZCoin\",\"CoffeeCoin\",\"RoyalCoin\",\"GanjaCoin V2\",\"TeamUP\",\"LanaCoin\",\"Elementrem\",\"ZClassic\",\"ARK\",\"InsaneCoin\",\"KiloCoin\",\"ArtexCoin\",\"EmberCoin\",\"XenixCoin\",\"FreeCoin\",\"PLNCoin\",\"AquariusCoin\",\"Kurrent\",\"Creatio\",\"Eternity\",\"Eurocoin\",\"BitcoinFast\",\"Stakenet\",\"BitConnect Coin\",\"MoneyCoin\",\"Enigma\",\"Cannabis Industry Coin\",\"Russiacoin\",\"PandaCoin\",\"GameUnits\",\"GAKHcoin\",\"Allsafe\",\"LiteCreed\",\"OsmiumCoin\",\"Bikercoins\",\"HexxCoin\",\"Klingon Empire Darsek\",\"Internet of People\",\"KushCoin\",\"Printerium\",\"PacCoin\",\"Impeach\",\"Citadel\",\"Zilbercoin\",\"FirstCoin\",\"BeaverCoin\",\"FindCoin\",\"VaultCoin\",\"Zero\",\"OpenChat\",\"Canada eCoin\",\"Zoin\",\"RenosCoin\",\"DubaiCoin\",\"VirtacoinPlus\",\"TajCoin\",\"Impact\",\"EB3coin\",\"Atmos\",\"HappyCoin\",\"Coinonat\",\"MacronCoin\",\"Condensate\",\"Independent Money System\",\"ArgusCoin\",\"LomoCoin\",\"ProCurrency\",\"GoldReserve\",\"BenjiRolls\",\"GrowthCoin\",\"ILCoin\",\"Phreak\",\"Degas Coin\",\"HTML5 Coin\",\"Ultimate Secure Cash\",\"EquiTrader\",\"QTUM\",\"Quantum Resistant Ledger\",\"Espers\",\"Dynamic\",\"Nano\",\"ChanCoin\",\"Dinastycoin\",\"Denarius\",\"DigitalPrice\",\"Virta Unique Coin\",\"Bitcoin Planet\",\"Unify\",\"BritCoin\",\"SocialCoin\",\"ArcticCoin\",\"DAS\",\"Linda\",\"LeviarCoin\",\"DeepOnion\",\"Bitcore\",\"gCn Coin\",\"SmartCash\",\"Signatum\",\"Onix\",\"Cream\",\"Bitcoin Cash\",\"Monoeci\",\"Draftcoin\",\"Vechain\",\"Sojourn Coin\",\"Stakecoin\",\"NewYorkCoin\",\"FrazCoin\",\"Kronecoin\",\"AdCoin\",\"Linx\",\"CoinonatX\",\"Ethereum Dark\",\"Sumokoin\",\"Obsidian\",\"Cardano\",\"Regalcoin\",\"BitcoinZ\",\"TrezarCoin\",\"Elements\",\"TerraNovaCoin\",\"VIVO Coin\",\"Rupee\",\"Bitcoin Gold\",\"WomenCoin\",\"Theresa May Coin\",\"NamoCoin\",\"LUXCoin\",\"Pirl\",\"Xios\",\"Bitcloud 2.0\",\"eBoost\",\"KekCoin\",\"BlackholeCoin\",\"Infinity Economics\",\"Pura\",\"Innova\",\"Ellaism\",\"GoByte\",\"Alqo\",\"Magnet\",\"Lamden Tau\",\"Electra\",\"Bitcoin Diamond\",\"SHIELD\",\"Cash & Back Coin\",\"UltraNote\",\"BitCoal\",\"DaxxCoin\",\"Bulwark\",\"BoxyCoin\",\"Kalkulus\",\"AC3\",\"Lethean\",\"GermanCoin\",\"LiteCoin Ultra\",\"PopularCoin\",\"PhantomX\",\"Photon\",\"Sucre\",\"Accolade\",\"OmiseGO Classic\",\"SparksPay\",\"GoaCoin\",\"Digiwage\",\"GunCoin\",\"IrishCoin\",\"Trollcoin\",\"Litecoin Plus\",\"Monkey Project\",\"ECC\",\"Pioneer Coin\",\"UnitedBitcoin\",\"Interzone\",\"TokenPay\",\"1717 Masonic Commemorative Token\",\"Crypto Wisdom Coin\",\"My Big Coin\",\"TurtleCoin\",\"MUNcoin\",\"Unified Society USDEX\",\"Niobio Cash\",\"BitSoar Coin\",\"ShareChain\",\"Credence Coin\",\"Travelflex\",\"KREDS\",\"Tokyo Coin\",\"BiblePay\",\"LitecoinCash\",\"BitFlip\",\"LottoCoin\",\"BashCoin\",\"DigiMoney\",\"Lizus Payment\",\"Crypto Improvement Fund\",\"Stipend\",\"Poa Network\",\"Pushi\",\"Ellerium\",\"Velox\",\"Ontology\",\"Callisto Network\",\"BitTube\",\"Poseidon\",\"Manna\",\"Aidos Kuneen\",\"Seraph\",\"Cosmo\",\"Bitspace\",\"Briacoin\",\"Ignition\",\"Bitrolium\",\"MedicCoin\",\"Alpenschillling\",\"Bitcoin Green\",\"Deviant Coin\",\"Abjcoin\",\"Rapture\",\"Semux\",\"FuturoCoin\",\"Carebit\",\"Zealium\",\"Monero Classic\",\"Proton\",\"iDealCash\",\"Jumpcoin\",\"Infinex\",\"Bitcoin Incognito\",\"KEYCO\",\"HollyWoodCoin\",\"GINcoin\",\"Parlay\",\"Listerclassic Coin\",\"PlatinCoin\",\"BetKings\",\"Cognitio\",\"Loki\",\"Newton Coin\",\"Mercoin\",\"Swisscoin\",\"Reliance\",\"Xt3ch\",\"MassGrid\",\"TheVig\",\"PluraCoin\",\"EmaratCoin\",\"Dekado\",\"Lynx\",\"Poseidon Quark\",\"MYCE\",\"Arionum\",\"BitcoinWSpectrum\",\"Muse\",\"Motion\",\"PlusOneCoin\",\"Axe\",\"GambleCoin\",\"Trivechain\",\"Dystem\",\"Giant\",\"Peony Coin\",\"Absolute Coin\",\"Vitae\",\"HexCoin\",\"Deimos\",\"TPCash\",\"Webchain\",\"Ryo\",\"Urals Coin\",\"Qwertycoin\",\"Bitcoin Nova\",\"ARENON\",\"DACash\",\"EUNO\",\"MMOCoin\",\"Ketan\",\"Project Pai\",\"XDNA\",\"PAXEX\",\"Azart\",\"Averopay\",\"ThunderStake\",\"SimpleBank\",\"Kcash\",\"Xchange\",\"Acute Angle Cloud\",\"CrypticCoin\",\"Bettex coin\",\"Brazio\",\"Actinium\",\"TWIST\",\"Bitcoin SV\",\"DACH Coin\",\"Argoneum\",\"BitMoney\",\"Junson Ming Chan Coin\",\"FREDEnergy\",\"HerbCoin\",\"BlakeBitcoin\",\"Universal Molecule\",\"Lithium\",\"Electron\",\"PirateCash\",\"Exosis\",\"Block-Logic\",\"Oduwa\",\"Beam\",\"Galilel\",\"Bithereum\",\"Crypto Sports\",\"Credit\",\"Scribe Network\",\"SLICE\",\"Dash Platinum\",\"Nasdacoin\",\"Beetle Coin\",\"Titan Coin\",\"Award\",\"BLAST\",\"Bitcoin Rhodium\",\"GlobalToken\",\"Insane Coin\",\"ALAX\",\"Media Protocol Token\",\"LiteDoge\",\"SolarCoin\",\"TruckCoin\",\"UFO Coin\",\"OrangeCoin\",\"BlakeCoin\",\"BitstarCoin\",\"NeosCoin\",\"HyperCoin\",\"PinkCoin\",\"Crypto Escudo\",\"AudioCoin\",\"IncaKoin\",\"Piggy Coin\",\"Crown Coin\",\"Genstake\",\"SmileyCoin\",\"XiaoMiCoin\",\"Groestlcoin\",\"CapriCoin\",\" ClubCoin\",\"Radium\",\"Bata\",\"Pakcoin\",\"Creditbit \",\"OKCash\",\"Lisk\",\"HiCoin\",\"WhiteCoin\",\"FriendshipCoin\",\"JoinCoin\",\"Triangles Coin\",\"Vollar\",\"TecraCoin\",\"Gexan\",\"EOS\",\"Reality Clash\",\"Oxycoin\",\"TigerCash\",\"LAPO\",\"Waves\",\"Particl\",\"ShardCoin\",\"BitTorrent\",\"ChainZilla\",\"Nxt\",\"ZEPHYR\",\"Gapcoin\",\"Beldex\",\"Horizen\",\"BitcoinPlus\",\"DivotyCoin\"],\"ProofType\":[\"PoW/PoS\",\"PoW/PoS\",\"PoW/PoS\",\"PoW\",\"PoW\",\"PoW\",\"PoW/PoS\",\"PoW\",\"PoW\",\"PoW\",\"PoS\",\"PoW\",\"PoW/PoS\",\"PoS\",\"PoW\",\"PoW/PoS\",\"PoW\",\"PoW\",\"PoW/PoS\",\"PoW/PoS\",\"PoW\",\"PoW\",\"PoW\",\"PoW\",\"PoW\",\"PoW/PoS\",\"PoW\",\"PoW\",\"PoW\",\"PoW/PoS\",\"PoW\",\"PoW/PoS\",\"PoW\",\"PoW\",\"PoC\",\"PoW/PoS\",\"PoW\",\"PoW\",\"PoW\",\"PoW\",\"PoW\",\"PoW\",\"PoS\",\"PoS/PoW/PoT\",\"PoW\",\"PoW\",\"PoW\",\"PoW\",\"PoW\",\"PoW/PoS\",\"PoS\",\"PoW\",\"PoW/PoS\",\"PoW\",\"PoW\",\"PoW\",\"PoW\",\"PoW/PoS\",\"PoW\",\"PoW\",\"PoS\",\"PoW\",\"PoW/PoS\",\"PoS\",\"PoW/PoS\",\"PoW\",\"PoW\",\"PoW\",\"PoW/PoS\",\"PoW/PoS\",\"PoW/PoS\",\"PoW/PoS\",\"PoW/PoS\",\"PoW\",\"PoW\",\"PoW\",\"PoS\",\"PoW/PoS\",\"PoW\",\"PoS\",\"PoW\",\"PoS\",\"PoW/PoS\",\"PoW\",\"PoW\",\"PoW\",\"PoW\",\"PoW/PoS\",\"PoW/PoS\",\"PoW\",\"PoST\",\"PoW\",\"PoW\",\"PoW/PoS\",\"PoS\",\"PoW\",\"PoW/PoS\",\"PoW/PoS\",\"PoW\",\"PoW\",\"PoC\",\"PoS\",\"PoW\",\"PoW/PoS\",\"PoW/PoS\",\"PoW\",\"PoS\",\"PoW\",\"PoW/PoS\",\"PoW\",\"PoS\",\"PoW\",\"PoW/PoS\",\"PoW/PoS\",\"PoW\",\"PoW\",\"PoS\",\"PoW\",\"PoW\",\"PoW\",\"PoW/PoS\",\"PoW\",\"PoW\",\"PoW\",\"PoW\",\"PoW\",\"PoW/PoS\",\"PoW/nPoS\",\"PoW\",\"PoW\",\"PoW\",\"PoW/PoS\",\"PoW\",\"PoS/PoW\",\"PoW\",\"PoW\",\"PoS\",\"PoW\",\"PoW/PoS\",\"PoW\",\"PoW/PoS\",\"PoW/PoS\",\"PoW\",\"PoW\",\"PoW/PoS\",\"PoW\",\"PoW\",\"PoW/PoS\",\"PoW/PoS\",\"PoW\",\"PoW/PoS\",\"PoW\",\"PoW/PoS\",\"PoW/PoS\",\"PoS\",\"PoW\",\"PoW\",\"PoW\",\"PoW\",\"PoW/PoS\",\"PoS\",\"PoW/PoS\",\"PoC\",\"PoS\",\"PoW\",\"PoW\",\"PoW\",\"PoW/PoS\",\"PoW/PoS\",\"PoW/PoS\",\"PoW/PoS\",\"PoW/PoS\",\"PoW\",\"PoS\",\"PoW/PoS\",\"PoW/PoS\",\"PoW/PoS\",\"PoS\",\"PoW\",\"PoS\",\"dPoW/PoW\",\"PoW/PoS\",\"PoW/PoS\",\"PoW\",\"PoW/PoS\",\"PoW\",\"PoW/PoS\",\"PoW/PoS\",\"PoW\",\"PoW/PoS\",\"PoW\",\"PoS\",\"PoW\",\"PoW/PoW\",\"PoW\",\"PoW/PoS\",\"PoS\",\"PoW/PoS\",\"PoW/PoS\",\"PoW\",\"PoS\",\"PoS\",\"PoW/PoS\",\"PoS\",\"PoW/PoS\",\"PoW\",\"PoW\",\"DPoS\",\"PoW/PoS\",\"PoW\",\"PoW\",\"PoW/PoS\",\"PoW/PoS\",\"PoS\",\"PoW/PoS\",\"PoW/PoS\",\"PoW\",\"PoS\",\"PoW/PoS\",\"PoW/PoS\",\"PoW/PoS\",\"TPoS\",\"PoW/PoS\",\"PoW/PoS\",\"PoW/PoS\",\"PoW\",\"PoW/PoS\",\"PoS\",\"PoW/PoS\",\"PoW/PoS\",\"PoS\",\"PoW/PoS\",\"PoW\",\"PoW\",\"PoW\",\"PoW/PoS\",\"PoW/PoS\",\"PoW/PoS\",\"PoW/PoS\",\"PoW\",\"PoW/PoS\",\"PoW\",\"PoS\",\"PoW/PoS \",\"PoW\",\"PoS\",\"PoW\",\"PoW\",\"PoW/PoS\",\"PoW\",\"PoW\",\"PoS\",\"PoW\",\"PoW/PoS\",\"PoW/PoS\",\"PoW/PoS\",\"PoW\",\"PoS\",\"PoW/PoS\",\"PoW\",\"PoS\",\"PoW/PoS\",\"PoW/PoS\",\"PoW/PoS\",\"PoW/PoS\",\"PoS\",\"PoW/PoS\",\"PoW\",\"PoS\",\"PoW\",\"PoS\",\"PoW/PoS\",\"PoW/PoS\",\"PoS\",\"PoW\",\"PoS\",\"PoW\",\"PoW/PoS\",\"PoW\",\"PoW\",\"PoW\",\"PoW\",\"PoW/PoS\",\"PoW\",\"PoW/PoS\",\"PoW/PoS\",\"PoW\",\"PoW/PoS\",\"PoW\",\"PoW\",\"PoW\",\"PoW/PoS\",\"PoW\",\"PoW/PoS\",\"PoW\",\"PoW\",\"PoW\",\"PoS\",\"PoW\",\"PoW/PoS\",\"PoW\",\"PoW/PoS\",\"PoS\",\"Proof of Authority\",\"PoW\",\"PoS\",\"PoW\",\"PoW\",\"PoW\",\"PoW\",\"PoW\",\"PoW/PoS\",\"PoW/PoS\",\"PoW\",\"PoS\",\"PoS\",\"PoW/PoS\",\"PoW\",\"PoW/PoS\",\"PoW\",\"PoW/PoS\",\"PoW\",\"PoS\",\"PoW\",\"PoW/PoS\",\"PoW/PoS\",\"PoW/PoS\",\"PoW/PoS\",\"PoW\",\"PoW/PoS\",\"PoW/PoS\",\"PoW\",\"PoS\",\"PoW/PoS\",\"PoS\",\"PoW\",\"PoW\",\"PoW\",\"PoW\",\"PoW/PoS\",\"PoW/PoS\",\"DPoS\",\"PoW/PoS\",\"PoW/PoS\",\"PoW\",\"PoW/PoS\",\"PoW\",\"PoW\",\"PoW\",\"PoS\",\"PoW\",\"PoS\",\"PoW\",\"PoW\",\"PoW/PoS\",\"PoW/PoS\",\"PoW\",\"PoW/PoS\",\"PoW\",\"PoW\",\"PoW/PoS\",\"PoW/PoS\",\"PoW\",\"PoW\",\"PoS\",\"PoW\",\"PoW\",\"PoW/PoS\",\"PoW/PoS\",\"PoS\",\"PoS\",\"PoW\",\"PoW\",\"PoW\",\"PoS\",\"PoS\",\"PoW\",\"PoW and PoS\",\"PoW\",\"PoW\",\"PoW/PoS\",\"PoW\",\"PoS\",\"PoW\",\"PoW/PoS\",\"PoW\",\"PoW\",\"PoS\",\"POBh\",\"PoW + Hive\",\"PoW\",\"PoW\",\"PoW/PoS\",\"PoW/PoS\",\"PoW/PoS\",\"PoW\",\"PoW/PoS\",\"PoA\",\"PoW/PoS\",\"PoW/PoS\",\"PoS\",\"PoS\",\"PoW\",\"PoW\",\"PoW\",\"PoW\",\"PoW\",\"PoW/PoS\",\"PoW\",\"PoW/PoS\",\"PoW/PoS\",\"PoW/PoS\",\"PoW\",\"PoS\",\"PoW\",\"PoS\",\"PoS\",\"PoW/PoS\",\"PoW\",\"DPoS\",\"PoW\",\"PoW/PoS\",\"PoS\",\"PoW\",\"PoS\",\"PoW/PoS\",\"PoW\",\"PoW\",\"PoS/PoW\",\"PoW\",\"PoS\",\"PoW\",\"PoS\",\"PoW/PoS\",\"PoW\",\"PoS\",\"PoW/PoS\",\"PoW\",\"PoW\",\"PoW/PoS\",\"PoW/PoS\",\"PoS\",\"PoS\",\"PoW\",\"PoW/PoS\",\"PoW\",\"PoW/PoS\",\"PoS\",\"HPoW\",\"PoS\",\"PoW/PoS\",\"PoW\",\"PoS\",\"PoS\",\"PoW\",\"PoW\",\"PoW\",\"PoS\",\"PoW/PoS\",\"PoS\",\"PoW/PoS\",\"PoS\",\"PoW/PoS\",\"PoS\",\"PoW\",\"PoW\",\"PoW/PoS\",\"PoW\",\"PoW\",\"PoW\",\"PoW\",\"PoW\",\"PoS\",\"PoW\",\"PoW/PoS\",\"PoS\",\"PoS\",\"PoW\",\"PoW/PoS\",\"PoS\",\"PoW\",\"PoW/PoS\",\"PoW/PoS\",\"PoW/PoS\",\"Zero-Knowledge Proof\",\"PoW\",\"DPOS\",\"PoW\",\"PoS\",\"PoW\",\"PoW\",\"PoS\",\"PoW\",\"PoS\",\"PoW\",\"Pos\",\"PoS\",\"PoW\",\"PoW/PoS\",\"PoW\",\"PoW\",\"PoW\",\"PoW\",\"PoS\",\"PoW\",\"PoW\",\"PoW/PoS\",\"PoW\",\"PoW/PoS\",\"PoW\",\"PoS\",\"PoW/PoS\",\"PoW\",\"PoW\",\"PoS\",\"PoW/PoS\",\"PoW/PoS\",\"PoW/PoS\",\"PoW/PoS\",\"PoW\",\"PoW\",\"PoW\",\"PoW/PoS\",\"DPoS\",\"PoW\",\"PoW/PoS\",\"PoW\",\"PoW/PoS\",\"PoW\",\"PoW/PoS\",\"PoW\",\"PoW/PoS\",\"PoS\",\"PoW/PoS\",\"PoW/PoS\",\"PoW\",\"PoW/PoS\",\"PoW/PoS\",\"PoW/PoS\",\"PoW\",\"PoW/PoS\",\"PoW\",\"PoW/PoS\",\"PoW\",\"PoW/PoS\",\"PoW/PoS\",\"PoS\",\"PoW\",\"PoW\",\"Proof of Trust\",\"PoW/PoS\",\"DPoS\",\"PoS\",\"PoW/PoS\",\"PoW/PoS\",\"PoW\",\"PoW/PoS\",\"PoW\",\"PoW\",\"PoW/PoS\",\"DPoS\",\"PoW\",\"DPoS\",\"PoS\",\"PoW/PoS\",\"LPoS\",\"PoS\",\"PoS\",\"DPoS\",\"DPoW\",\"PoS/LPoS\",\"DPoS\",\"PoW/PoS\",\"PoW\",\"PoW\",\"PoS\",\"PoW/PoS\"],\"TotalCoinSupply\":[\"42\",\"532000000\",\"314159265359\",\"21000000\",\"0\",\"84000000\",\"22000000\",\"0\",\"210000000\",\"21000000\",\"3600570502\",\"21000000000\",\"22000000\",\"12500000\",\"21000000\",\"350000000\",\"20000000\",\"64000000\",\"16768584\",\"0\",\"2000000000\",\"384000000000\",\"169795588\",\"250000000\",\"100000000\",\"0\",\"247000000\",\"84000000\",\"48166000\",\"500000\",\"21000000 \",\"1000000\",\"13140000\",\"18000000\",\"40000000000\",\"4380000\",\"16555000000\",\"21000000000\",\"13500000000\",\"21000000 \",\"299792458\",\"32000000\",\"0\",\"0\",\"11235813\",\"336000000\",\"1420609614\",\"70000000\",\"72245700\",\"120000000\",\"0\",\"90600000000\",\"22000000\",\"21000000\",\"265420800\",\"20000000\",\"1350000\",\"100000000\",\"42000000\",\"200000000\",\"0\",\"10000000\",\"2419200000\",\"16180000\",\"0\",\"15000000000\",\"21000000\",\"337000000\",\"0\",\"3770000\",\"420000000\",\"98000000\",\"0\",\"21000000\",\"250000000\",\"51200000\",\"0\",\"1000\",\"888000000\",\"100000000\",\"47011968\",\"2300000000\",\"10000000\",\"42000000\",\"80000000\",\"250000\",\"0\",\"1600000000\",\"100000000\",\"23000000\",\"0\",\"84000000\",\"265420800\",\"5500000\",\"0\",\"45000000\",\"0\",\"1000000000\",\"184467440735\",\"10000000000\",\"2158812800\",\"500000000\",\"105120000\",\"68000000\",\"0\",\"1680000000\",\"0\",\"166386000\",\"12000000\",\"2628000\",\"500000000\",\"160000000\",\"0\",\"10000000\",\"1000000000\",\"1000000000\",\"20000000\",\"0\",\"0\",\"3371337\",\"20000000\",\"10000000000\",\"1840000000\",\"619478\",\"21000000\",\"92000000000\",\"0\",\"78000000\",\"33000000\",\"65789100\",\"53760000\",\"5060000\",\"21000000\",\"0\",\"210240000\",\"250000000\",\"100000000\",\"16906397\",\"50000000\",\"0\",\"1000000000\",\"26298000\",\"16000000\",\"21000000\",\"21000000\",\"210000000\",\"81962100\",\"22000000\",\"26550000000\",\"84000000\",\"10500000\",\"21626280000 \",\"0\",\"42000000\",\"221052632\",\"84000000\",\"30000000\",\"168351300\",\"24000000\",\"384000000\",\" 99000000000\",\"40000000\",\"2147483647\",\"20000000\",\"20000000\",\"84000000\",\"25000000\",\"75000000\",\"222725000\",\"525000000\",\"90000000\",\"139000000\",\"616448\",\"33500000\",\"2000000000\",\"44333333\",\"100000000\",\"200000000\",\"25000000\",\"657000000\",\"200000000\",\"50000000\",\"90000000\",\"10000000\",\"21000000\",\"9736000\",\"3000000\",\"21000000\",\"1200000000\",\"0\",\"200000000\",\"0\",\"10638298\",\"3100000000\",\"30000000\",\"20000000000\",\"74000000\",\"0\",\"1500000000\",\"21400000\",\"39999898\",\"2500124\",\"100000000\",\"301000000\",\"7506000000\",\"26205539\",\"21000000\",\"125000000\",\"30000000\",\"10000000000\",\"500000000\",\"850000000\",\"3853326.77707314\",\"50000000\",\"38540000 \",\"42000000\",\"228000000\",\"20000000\",\"60000000\",\"20000000\",\"33000000\",\"76500000\",\"28000000\",\"650659833\",\"5000000\",\"21000000\",\"144000000\",\"32514916898\",\"13000000\",\"3315789\",\"15000000\",\"78835200\",\"2714286\",\"25000000\",\"9999999\",\"500000000\",\"21000000\",\"9354000\",\"20000000\",\"100000000000\",\"21933333\",\"185000000\",\"55000000\",\"110000000\",\"3360000\",\"14524851.4827\",\"1000000000\",\"17000000\",\"1000000000\",\"100000000 \",\"21000000\",\"34426423\",\"2232901\",\"100000000\",\"36900000\",\"110000000\",\"4000000000\",\"110290030\",\"100000000\",\"48252000\",\"400000000\",\"500000000\",\"21212121\",\"28600000\",\"1000000000\",\"75000000000\",\"40000000\",\"35520400\",\"2000000000\",\"2500000000\",\"30000000\",\"105000000\",\"90000000000\",\"200084200\",\"72000000\",\"100000000\",\"105000000\",\"50000000000\",\"0\",\"340282367\",\"30000000\",\"2000000000\",\"10000000\",\"100000000\",\"120000000\",\"100000000\",\"19276800\",\"30000000\",\" 75000000\",\"60000000\",\"18900000\",\"50000000000\",\"54000000\",\"18898187.6216583\",\"21000000\",\"200000000000\",\"5000000000\",\"137500000\",\"1100000000\",\"100000000\",\"21000000\",\"9507271\",\"17405891.19707116\",\"86712634466\",\"10500000000\",\"61599965\",\"0\",\"20000000\",\"84000000\",\"100000000\",\"100000000\",\"48252000\",\"4200000\",\"88888888\",\"91388946\",\"45000000000\",\"27000000\",\"21000000000\",\"400000000\",\"1800000000\",\"15733333\",\"27000000\",\"24000000\",\"21000000\",\"25000000000\",\"100000000\",\"1200000000\",\"60000000\",\"156306732.71\",\"21000000\",\"200000000\",\"100000000\",\"21000000\",\"14788275.991\",\"9000000000\",\"350000000\",\"45000000\",\"280000000\",\"31800000\",\"57879300\",\"144000000\",\"500000000\",\"30000000000\",\"210000000\",\"660000000\",\"210000000\",\"85000000000\",\"12500000\",\"10000000000\",\"27716121\",\"100000000\",\"20000000\",\"550000000\",\"999481516\",\"50000000000\",\"150000000\",\"4999999999\",\"50000000\",\" 90000000000\",\"19800000\",\"50000000\",\"70000000\",\"21000000\",\"32000000\",\"120000000\",\"500000000\",\"64000000\",\"900000000\",\"4000000\",\"21000000\",\"25000000000\",\"23000000\",\"20166000\",\"23000000\",\"25000000\",\"1618033\",\"24000000\",\"30000000\",\"1000000000000\",\"16600000\",\"232000000\",\"336000000\",\"3980000000\",\"10000000000\",\"25000000\",\"100000000\",\"1100000000\",\"800000000\",\"5200000000\",\"840000000\",\"40000000\",\"18406979840\",\"72000000\",\"25000000\",\"69000000\",\"500000000\",\"19340594\",\"252460800\",\"25000000\",\"60000000\",\"124000000\",\"1000000000\",\"6500000000\",\"1000000000\",\"21000000\",\"10044655075.56243680\",\"25000000\",\"32000000\",\"11892000\",\"50000000\",\"3000000\",\"5000000\",\"70000000\",\"500000000\",\"300000000\",\"21000000\",\"88000000\",\"30000000\",\"21000000\",\"100000000\",\"100000000\",\"200000000\",\"80000000\",\"18400000\",\"45000000\",\"5121951220\",\"21000000\",\"26280000\",\"21000000\",\"18000000\",\"26000000\",\"10500000\",\"30000000\",\"110000000\",\"600000518\",\"8148139\",\"7500000\",\"150000000\",\"184000000000\",\"100000000\",\"10200000000\",\"62000000\",\"44000000\",\"168000000\",\"100000000\",\"1000000000\",\"84000000\",\"90000000\",\"92000000000\",\"650000000 \",\"250000000\",\"545399000\",\"100262205\",\"18081806 \",\"22075700\",\"21000000\",\"21000000\",\"15600000\",\"82546564\",\"21000000\",\"5151000\",\"16880000000\",\"52500000\",\"100000000\",\"22105263\",\"1000000000\",\"1000000000\",\"1750000000\",\"88188888\",\"210000000\",\"184470000000\",\"1000000000\",\"55000000\",\"50000000\",\"50000000\",\"260000000\",\"210000000\",\"2100000000\",\"366000000\",\"100000000\",\"25000000\",\"36500000\",\"18000000000\",\"21000000\",\"1000000000\",\"100000000\",\"1000000000\",\"7600000000\",\"50000000\",\"207000000\",\"84000000\",\"200000000\",\"21000000\",\"38000000\",\"64000000\",\"70000000000\",\"0\",\"8080000000\",\"54000000\",\"21000000\",\"105120001.44\",\"25228800\",\"7000000000\",\"105000000\",\"21000000\",\"120000000\",\"21000000\",\"262800000\",\"19035999\",\"30886000\",\"13370000\",\"74800000000\",\"32700000\",\"100000000\",\"19700000\",\"84000000\",\"500000000\",\"5000000000\",\"420000000\",\"64000000\",\"2100000\",\"168000000\",\"30000000\",\"1000000000\",\"10000000000\",\"35000000000\",\"98100000000\",\"0\",\"4000000000\",\"200000000\",\"7000000000\",\"54256119\",\"21000000\",\"0\",\"500000000\",\"1000000000\",\"10500000000\",\"190000000\",\"1000000000\",\"42000000\",\"15000000\",\"50000000000\",\"400000000\",\"105000000\",\"208000000\",\"160000000\",\"9000000\",\"5000000\",\"182000000\",\"16504333\",\"105000000\",\"159918400\",\"10008835635\",\"300000000\",\"60168145\",\"2800000\",\"120000\",\"2100000000\",\"210000000\",\"21000000\",\"0\",\"24487944\",\"0\",\"1000000000\",\"100000000000\",\"100000000\",\"8634140\",\"900000000\",\"990000000000\",\"11000000\",\"1000000000\",\"2000000000\",\"250000000\",\"1400222610\",\"21000000\",\"1000000\",\"100000000\"],\"TotalCoinsMined\":{\"__ndarray__\":\"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\",\"dtype\":\"float64\",\"order\":\"little\",\"shape\":[577]}},\"selected\":{\"id\":\"2618\"},\"selection_policy\":{\"id\":\"2652\"}},\"id\":\"2617\",\"type\":\"ColumnDataSource\"},{\"attributes\":{},\"id\":\"2640\",\"type\":\"NumberEditor\"},{\"attributes\":{\"editor\":{\"id\":\"2635\"},\"field\":\"TotalCoinSupply\",\"formatter\":{\"id\":\"2634\"},\"title\":\"TotalCoinSupply\"},\"id\":\"2636\",\"type\":\"TableColumn\"},{\"attributes\":{\"editor\":{\"id\":\"2630\"},\"field\":\"ProofType\",\"formatter\":{\"id\":\"2629\"},\"title\":\"ProofType\"},\"id\":\"2631\",\"type\":\"TableColumn\"},{\"attributes\":{},\"id\":\"2645\",\"type\":\"IntEditor\"},{\"attributes\":{},\"id\":\"2652\",\"type\":\"UnionRenderers\"},{\"attributes\":{\"format\":\"0,0.0[00000]\"},\"id\":\"2639\",\"type\":\"NumberFormatter\"},{\"attributes\":{},\"id\":\"2619\",\"type\":\"StringFormatter\"},{\"attributes\":{\"editor\":{\"id\":\"2640\"},\"field\":\"TotalCoinsMined\",\"formatter\":{\"id\":\"2639\"},\"title\":\"TotalCoinsMined\"},\"id\":\"2641\",\"type\":\"TableColumn\"}],\"root_ids\":[\"2615\"]},\"title\":\"Bokeh Application\",\"version\":\"2.4.2\"}};\n",
       "    var render_items = [{\"docid\":\"a40cae94-7385-44c1-9591-7f52007431d6\",\"root_ids\":[\"2615\"],\"roots\":{\"2615\":\"5ba87a53-d843-403e-b8a8-132f276dfcb2\"}}];\n",
       "    root.Bokeh.embed.embed_items_notebook(docs_json, render_items);\n",
       "  }\n",
       "  if (root.Bokeh !== undefined && root.Bokeh.Panel !== undefined) {\n",
       "    embed_document(root);\n",
       "  } else {\n",
       "    var attempts = 0;\n",
       "    var timer = setInterval(function(root) {\n",
       "      if (root.Bokeh !== undefined && root.Bokeh.Panel !== undefined) {\n",
       "        clearInterval(timer);\n",
       "        embed_document(root);\n",
       "      } else if (document.readyState == \"complete\") {\n",
       "        attempts++;\n",
       "        if (attempts > 200) {\n",
       "          clearInterval(timer);\n",
       "          console.log(\"Bokeh: ERROR: Unable to run BokehJS code because BokehJS library is missing\");\n",
       "        }\n",
       "      }\n",
       "    }, 25, root)\n",
       "  }\n",
       "})(window);</script>"
      ],
      "text/plain": [
       ":Table   [CoinName,Algorithm,ProofType,TotalCoinSupply,TotalCoinsMined,Class]"
      ]
     },
     "execution_count": 48,
     "metadata": {
      "application/vnd.holoviews_exec.v0+json": {
       "id": "2615"
      }
     },
     "output_type": "execute_result"
    }
   ],
   "source": [
    "# Create a table with tradable cryptocurrencies.\n",
    "tradable_crypto_table = clustered_df.hvplot.table(columns=['CoinName', 'Algorithm', 'ProofType', 'TotalCoinSupply', \n",
    "                                                  'TotalCoinsMined', 'Class'], sortable=True, selectable=True)\n",
    "tradable_crypto_table"
   ]
  },
  {
   "cell_type": "code",
   "execution_count": 41,
   "metadata": {},
   "outputs": [
    {
     "name": "stdout",
     "output_type": "stream",
     "text": [
      "There are 577 tradable cryptocurrencies.\n"
     ]
    }
   ],
   "source": [
    "# Print the total number of tradable cryptocurrencies.\n",
    "# There are 532 tradable cryptocurrencies.\n",
    "print(f'There are {len(clustered_df)} tradable cryptocurrencies.')\n",
    "\n"
   ]
  },
  {
   "cell_type": "code",
   "execution_count": 49,
   "metadata": {},
   "outputs": [
    {
     "data": {
      "text/plain": [
       "array([[4.20000000e-11, 0.00000000e+00],\n",
       "       [5.32000000e-04, 1.06585544e-03],\n",
       "       [3.14159265e-01, 2.95755135e-02],\n",
       "       ...,\n",
       "       [2.10000000e-05, 7.37028150e-06],\n",
       "       [1.00000000e-06, 1.29582282e-07],\n",
       "       [1.00000000e-04, 2.17085015e-05]])"
      ]
     },
     "execution_count": 49,
     "metadata": {},
     "output_type": "execute_result"
    }
   ],
   "source": [
    "# Scaling data to create the scatter plot with tradable cryptocurrencies.\n",
    "X_cluster = clustered_df[['TotalCoinSupply', 'TotalCoinsMined']].copy()\n",
    "X_cluster_scaled = MinMaxScaler().fit_transform(X_cluster)\n",
    "X_cluster_scaled"
   ]
  },
  {
   "cell_type": "code",
   "execution_count": 50,
   "metadata": {},
   "outputs": [
    {
     "data": {
      "text/html": [
       "<div>\n",
       "<style scoped>\n",
       "    .dataframe tbody tr th:only-of-type {\n",
       "        vertical-align: middle;\n",
       "    }\n",
       "\n",
       "    .dataframe tbody tr th {\n",
       "        vertical-align: top;\n",
       "    }\n",
       "\n",
       "    .dataframe thead th {\n",
       "        text-align: right;\n",
       "    }\n",
       "</style>\n",
       "<table border=\"1\" class=\"dataframe\">\n",
       "  <thead>\n",
       "    <tr style=\"text-align: right;\">\n",
       "      <th></th>\n",
       "      <th>TotalCoinSupply</th>\n",
       "      <th>TotalCoinsMined</th>\n",
       "      <th>CoinName</th>\n",
       "      <th>Class</th>\n",
       "    </tr>\n",
       "  </thead>\n",
       "  <tbody>\n",
       "    <tr>\n",
       "      <th>42</th>\n",
       "      <td>4.200000e-11</td>\n",
       "      <td>0.000000</td>\n",
       "      <td>42 Coin</td>\n",
       "      <td>0</td>\n",
       "    </tr>\n",
       "    <tr>\n",
       "      <th>404</th>\n",
       "      <td>5.320000e-04</td>\n",
       "      <td>0.001066</td>\n",
       "      <td>404Coin</td>\n",
       "      <td>0</td>\n",
       "    </tr>\n",
       "    <tr>\n",
       "      <th>1337</th>\n",
       "      <td>3.141593e-01</td>\n",
       "      <td>0.029576</td>\n",
       "      <td>EliteCoin</td>\n",
       "      <td>0</td>\n",
       "    </tr>\n",
       "    <tr>\n",
       "      <th>BTC</th>\n",
       "      <td>2.100000e-05</td>\n",
       "      <td>0.000018</td>\n",
       "      <td>Bitcoin</td>\n",
       "      <td>1</td>\n",
       "    </tr>\n",
       "    <tr>\n",
       "      <th>ETH</th>\n",
       "      <td>0.000000e+00</td>\n",
       "      <td>0.000109</td>\n",
       "      <td>Ethereum</td>\n",
       "      <td>1</td>\n",
       "    </tr>\n",
       "    <tr>\n",
       "      <th>LTC</th>\n",
       "      <td>8.400000e-05</td>\n",
       "      <td>0.000064</td>\n",
       "      <td>Litecoin</td>\n",
       "      <td>1</td>\n",
       "    </tr>\n",
       "    <tr>\n",
       "      <th>DASH</th>\n",
       "      <td>2.200000e-05</td>\n",
       "      <td>0.000009</td>\n",
       "      <td>Dash</td>\n",
       "      <td>0</td>\n",
       "    </tr>\n",
       "    <tr>\n",
       "      <th>XMR</th>\n",
       "      <td>0.000000e+00</td>\n",
       "      <td>0.000017</td>\n",
       "      <td>Monero</td>\n",
       "      <td>1</td>\n",
       "    </tr>\n",
       "    <tr>\n",
       "      <th>ETC</th>\n",
       "      <td>2.100000e-04</td>\n",
       "      <td>0.000115</td>\n",
       "      <td>Ethereum Classic</td>\n",
       "      <td>1</td>\n",
       "    </tr>\n",
       "    <tr>\n",
       "      <th>ZEC</th>\n",
       "      <td>2.100000e-05</td>\n",
       "      <td>0.000007</td>\n",
       "      <td>ZCash</td>\n",
       "      <td>1</td>\n",
       "    </tr>\n",
       "  </tbody>\n",
       "</table>\n",
       "</div>"
      ],
      "text/plain": [
       "      TotalCoinSupply  TotalCoinsMined          CoinName  Class\n",
       "42       4.200000e-11         0.000000           42 Coin      0\n",
       "404      5.320000e-04         0.001066           404Coin      0\n",
       "1337     3.141593e-01         0.029576         EliteCoin      0\n",
       "BTC      2.100000e-05         0.000018           Bitcoin      1\n",
       "ETH      0.000000e+00         0.000109          Ethereum      1\n",
       "LTC      8.400000e-05         0.000064          Litecoin      1\n",
       "DASH     2.200000e-05         0.000009              Dash      0\n",
       "XMR      0.000000e+00         0.000017            Monero      1\n",
       "ETC      2.100000e-04         0.000115  Ethereum Classic      1\n",
       "ZEC      2.100000e-05         0.000007             ZCash      1"
      ]
     },
     "execution_count": 50,
     "metadata": {},
     "output_type": "execute_result"
    }
   ],
   "source": [
    "# Create a new DataFrame that has the scaled data with the clustered_df DataFrame index.\n",
    "plot_df = pd.DataFrame(X_cluster_scaled, columns=['TotalCoinSupply', 'TotalCoinsMined'], index=clustered_df.index)\n",
    "\n",
    "# Add the \"CoinName\" column from the clustered_df DataFrame to the new DataFrame.\n",
    "plot_df['CoinName'] = clustered_df.CoinName\n",
    "\n",
    "# Add the \"Class\" column from the clustered_df DataFrame to the new DataFrame. \n",
    "plot_df['Class'] = clustered_df.Class\n",
    "\n",
    "plot_df.head(10)"
   ]
  },
  {
   "cell_type": "code",
   "execution_count": 51,
   "metadata": {},
   "outputs": [
    {
     "data": {},
     "metadata": {},
     "output_type": "display_data"
    },
    {
     "data": {
      "application/vnd.holoviews_exec.v0+json": "",
      "text/html": [
       "<div id='2668'>\n",
       "\n",
       "\n",
       "\n",
       "\n",
       "\n",
       "  <div class=\"bk-root\" id=\"50e208d1-e4ef-4f57-b87b-2d86ff4378b5\" data-root-id=\"2668\"></div>\n",
       "</div>\n",
       "<script type=\"application/javascript\">(function(root) {\n",
       "  function embed_document(root) {\n",
       "    var docs_json = {\"9d06ccee-9b1e-46f7-823b-46e1729971d3\":{\"defs\":[{\"extends\":null,\"module\":null,\"name\":\"ReactiveHTML1\",\"overrides\":[],\"properties\":[]},{\"extends\":null,\"module\":null,\"name\":\"FlexBox1\",\"overrides\":[],\"properties\":[{\"default\":\"flex-start\",\"kind\":null,\"name\":\"align_content\"},{\"default\":\"flex-start\",\"kind\":null,\"name\":\"align_items\"},{\"default\":\"row\",\"kind\":null,\"name\":\"flex_direction\"},{\"default\":\"wrap\",\"kind\":null,\"name\":\"flex_wrap\"},{\"default\":\"flex-start\",\"kind\":null,\"name\":\"justify_content\"}]},{\"extends\":null,\"module\":null,\"name\":\"TemplateActions1\",\"overrides\":[],\"properties\":[{\"default\":0,\"kind\":null,\"name\":\"open_modal\"},{\"default\":0,\"kind\":null,\"name\":\"close_modal\"}]},{\"extends\":null,\"module\":null,\"name\":\"MaterialTemplateActions1\",\"overrides\":[],\"properties\":[{\"default\":0,\"kind\":null,\"name\":\"open_modal\"},{\"default\":0,\"kind\":null,\"name\":\"close_modal\"}]}],\"roots\":{\"references\":[{\"attributes\":{},\"id\":\"2710\",\"type\":\"BasicTickFormatter\"},{\"attributes\":{},\"id\":\"2711\",\"type\":\"AllLabels\"},{\"attributes\":{\"angle\":{\"value\":0.0},\"fill_alpha\":{\"value\":1.0},\"fill_color\":{\"value\":\"#fc4f30\"},\"hatch_alpha\":{\"value\":1.0},\"hatch_color\":{\"value\":\"#fc4f30\"},\"hatch_scale\":{\"value\":12.0},\"hatch_weight\":{\"value\":1.0},\"line_alpha\":{\"value\":1.0},\"line_cap\":{\"value\":\"butt\"},\"line_color\":{\"value\":\"#fc4f30\"},\"line_dash\":{\"value\":[]},\"line_dash_offset\":{\"value\":0},\"line_join\":{\"value\":\"bevel\"},\"line_width\":{\"value\":1},\"marker\":{\"value\":\"circle\"},\"size\":{\"value\":5.477225575051661},\"x\":{\"field\":\"TotalCoinsMined\"},\"y\":{\"field\":\"TotalCoinSupply\"}},\"id\":\"2754\",\"type\":\"Scatter\"},{\"attributes\":{\"source\":{\"id\":\"2779\"}},\"id\":\"2786\",\"type\":\"CDSView\"},{\"attributes\":{\"fill_alpha\":{\"value\":0.2},\"fill_color\":{\"value\":\"#e5ae38\"},\"hatch_alpha\":{\"value\":0.2},\"hatch_color\":{\"value\":\"#e5ae38\"},\"line_alpha\":{\"value\":0.2},\"line_color\":{\"value\":\"#e5ae38\"},\"size\":{\"value\":5.477225575051661},\"x\":{\"field\":\"TotalCoinsMined\"},\"y\":{\"field\":\"TotalCoinSupply\"}},\"id\":\"2760\",\"type\":\"Scatter\"},{\"attributes\":{\"end\":1.042857142857143,\"reset_end\":1.042857142857143,\"reset_start\":-0.04285714285714286,\"start\":-0.04285714285714286,\"tags\":[[[\"TotalCoinsMined\",\"TotalCoinsMined\",null]]]},\"id\":\"2670\",\"type\":\"Range1d\"},{\"attributes\":{\"click_policy\":\"mute\",\"coordinates\":null,\"group\":null,\"items\":[{\"id\":\"2731\"},{\"id\":\"2753\"},{\"id\":\"2777\"},{\"id\":\"2803\"}],\"location\":[0,0],\"title\":\"Class\"},\"id\":\"2730\",\"type\":\"Legend\"},{\"attributes\":{\"end\":1.1,\"reset_end\":1.1,\"reset_start\":-0.1,\"start\":-0.1,\"tags\":[[[\"TotalCoinSupply\",\"TotalCoinSupply\",null]]]},\"id\":\"2671\",\"type\":\"Range1d\"},{\"attributes\":{\"label\":{\"value\":\"0\"},\"renderers\":[{\"id\":\"2718\"}]},\"id\":\"2731\",\"type\":\"LegendItem\"},{\"attributes\":{\"label\":{\"value\":\"2\"},\"renderers\":[{\"id\":\"2761\"}]},\"id\":\"2777\",\"type\":\"LegendItem\"},{\"attributes\":{\"coordinates\":null,\"data_source\":{\"id\":\"2712\"},\"glyph\":{\"id\":\"2715\"},\"group\":null,\"hover_glyph\":null,\"muted_glyph\":{\"id\":\"2717\"},\"nonselection_glyph\":{\"id\":\"2716\"},\"selection_glyph\":{\"id\":\"2732\"},\"view\":{\"id\":\"2719\"}},\"id\":\"2718\",\"type\":\"GlyphRenderer\"},{\"attributes\":{\"children\":[{\"id\":\"2669\"},{\"id\":\"2676\"},{\"id\":\"2949\"}],\"margin\":[0,0,0,0],\"name\":\"Row05128\",\"tags\":[\"embedded\"]},\"id\":\"2668\",\"type\":\"Row\"},{\"attributes\":{\"coordinates\":null,\"data_source\":{\"id\":\"2779\"},\"glyph\":{\"id\":\"2782\"},\"group\":null,\"hover_glyph\":null,\"muted_glyph\":{\"id\":\"2784\"},\"nonselection_glyph\":{\"id\":\"2783\"},\"selection_glyph\":{\"id\":\"2804\"},\"view\":{\"id\":\"2786\"}},\"id\":\"2785\",\"type\":\"GlyphRenderer\"},{\"attributes\":{\"source\":{\"id\":\"2712\"}},\"id\":\"2719\",\"type\":\"CDSView\"},{\"attributes\":{\"fill_color\":{\"value\":\"#6d904f\"},\"hatch_color\":{\"value\":\"#6d904f\"},\"line_color\":{\"value\":\"#6d904f\"},\"size\":{\"value\":5.477225575051661},\"x\":{\"field\":\"TotalCoinsMined\"},\"y\":{\"field\":\"TotalCoinSupply\"}},\"id\":\"2782\",\"type\":\"Scatter\"},{\"attributes\":{\"fill_alpha\":{\"value\":0.2},\"fill_color\":{\"value\":\"#6d904f\"},\"hatch_alpha\":{\"value\":0.2},\"hatch_color\":{\"value\":\"#6d904f\"},\"line_alpha\":{\"value\":0.2},\"line_color\":{\"value\":\"#6d904f\"},\"size\":{\"value\":5.477225575051661},\"x\":{\"field\":\"TotalCoinsMined\"},\"y\":{\"field\":\"TotalCoinSupply\"}},\"id\":\"2784\",\"type\":\"Scatter\"},{\"attributes\":{\"callback\":null,\"renderers\":[{\"id\":\"2718\"},{\"id\":\"2739\"},{\"id\":\"2761\"},{\"id\":\"2785\"}],\"tags\":[\"hv_created\"],\"tooltips\":[[\"Class\",\"@{Class}\"],[\"TotalCoinsMined\",\"@{TotalCoinsMined}\"],[\"TotalCoinSupply\",\"@{TotalCoinSupply}\"],[\"CoinName\",\"@{CoinName}\"]]},\"id\":\"2672\",\"type\":\"HoverTool\"},{\"attributes\":{\"fill_alpha\":{\"value\":0.1},\"fill_color\":{\"value\":\"#30a2da\"},\"hatch_alpha\":{\"value\":0.1},\"hatch_color\":{\"value\":\"#30a2da\"},\"line_alpha\":{\"value\":0.1},\"line_color\":{\"value\":\"#30a2da\"},\"size\":{\"value\":5.477225575051661},\"x\":{\"field\":\"TotalCoinsMined\"},\"y\":{\"field\":\"TotalCoinSupply\"}},\"id\":\"2716\",\"type\":\"Scatter\"},{\"attributes\":{\"fill_alpha\":{\"value\":0.1},\"fill_color\":{\"value\":\"#6d904f\"},\"hatch_alpha\":{\"value\":0.1},\"hatch_color\":{\"value\":\"#6d904f\"},\"line_alpha\":{\"value\":0.1},\"line_color\":{\"value\":\"#6d904f\"},\"size\":{\"value\":5.477225575051661},\"x\":{\"field\":\"TotalCoinsMined\"},\"y\":{\"field\":\"TotalCoinSupply\"}},\"id\":\"2783\",\"type\":\"Scatter\"},{\"attributes\":{},\"id\":\"2681\",\"type\":\"LinearScale\"},{\"attributes\":{\"angle\":{\"value\":0.0},\"fill_alpha\":{\"value\":1.0},\"fill_color\":{\"value\":\"#30a2da\"},\"hatch_alpha\":{\"value\":1.0},\"hatch_color\":{\"value\":\"#30a2da\"},\"hatch_scale\":{\"value\":12.0},\"hatch_weight\":{\"value\":1.0},\"line_alpha\":{\"value\":1.0},\"line_cap\":{\"value\":\"butt\"},\"line_color\":{\"value\":\"#30a2da\"},\"line_dash\":{\"value\":[]},\"line_dash_offset\":{\"value\":0},\"line_join\":{\"value\":\"bevel\"},\"line_width\":{\"value\":1},\"marker\":{\"value\":\"circle\"},\"size\":{\"value\":5.477225575051661},\"x\":{\"field\":\"TotalCoinsMined\"},\"y\":{\"field\":\"TotalCoinSupply\"}},\"id\":\"2732\",\"type\":\"Scatter\"},{\"attributes\":{\"fill_alpha\":{\"value\":0.2},\"fill_color\":{\"value\":\"#30a2da\"},\"hatch_alpha\":{\"value\":0.2},\"hatch_color\":{\"value\":\"#30a2da\"},\"line_alpha\":{\"value\":0.2},\"line_color\":{\"value\":\"#30a2da\"},\"size\":{\"value\":5.477225575051661},\"x\":{\"field\":\"TotalCoinsMined\"},\"y\":{\"field\":\"TotalCoinSupply\"}},\"id\":\"2717\",\"type\":\"Scatter\"},{\"attributes\":{\"coordinates\":null,\"group\":null,\"text_color\":\"black\",\"text_font_size\":\"12pt\"},\"id\":\"2677\",\"type\":\"Title\"},{\"attributes\":{\"label\":{\"value\":\"3\"},\"renderers\":[{\"id\":\"2785\"}]},\"id\":\"2803\",\"type\":\"LegendItem\"},{\"attributes\":{\"fill_color\":{\"value\":\"#e5ae38\"},\"hatch_color\":{\"value\":\"#e5ae38\"},\"line_color\":{\"value\":\"#e5ae38\"},\"size\":{\"value\":5.477225575051661},\"x\":{\"field\":\"TotalCoinsMined\"},\"y\":{\"field\":\"TotalCoinSupply\"}},\"id\":\"2758\",\"type\":\"Scatter\"},{\"attributes\":{\"below\":[{\"id\":\"2685\"}],\"center\":[{\"id\":\"2688\"},{\"id\":\"2692\"}],\"height\":300,\"left\":[{\"id\":\"2689\"}],\"margin\":[5,5,5,5],\"min_border_bottom\":10,\"min_border_left\":10,\"min_border_right\":10,\"min_border_top\":10,\"renderers\":[{\"id\":\"2718\"},{\"id\":\"2739\"},{\"id\":\"2761\"},{\"id\":\"2785\"}],\"right\":[{\"id\":\"2730\"}],\"sizing_mode\":\"fixed\",\"title\":{\"id\":\"2677\"},\"toolbar\":{\"id\":\"2699\"},\"width\":700,\"x_range\":{\"id\":\"2670\"},\"x_scale\":{\"id\":\"2681\"},\"y_range\":{\"id\":\"2671\"},\"y_scale\":{\"id\":\"2683\"}},\"id\":\"2676\",\"subtype\":\"Figure\",\"type\":\"Plot\"},{\"attributes\":{},\"id\":\"2800\",\"type\":\"UnionRenderers\"},{\"attributes\":{},\"id\":\"2683\",\"type\":\"LinearScale\"},{\"attributes\":{\"data\":{\"Class\":[2],\"CoinName\":[\"BitTorrent\"],\"TotalCoinSupply\":{\"__ndarray__\":\"rkfhehSu7z8=\",\"dtype\":\"float64\",\"order\":\"little\",\"shape\":[1]},\"TotalCoinsMined\":{\"__ndarray__\":\"AAAAAAAA8D8=\",\"dtype\":\"float64\",\"order\":\"little\",\"shape\":[1]}},\"selected\":{\"id\":\"2756\"},\"selection_policy\":{\"id\":\"2774\"}},\"id\":\"2755\",\"type\":\"ColumnDataSource\"},{\"attributes\":{},\"id\":\"2694\",\"type\":\"PanTool\"},{\"attributes\":{\"axis\":{\"id\":\"2685\"},\"coordinates\":null,\"grid_line_color\":null,\"group\":null,\"ticker\":null},\"id\":\"2688\",\"type\":\"Grid\"},{\"attributes\":{\"coordinates\":null,\"data_source\":{\"id\":\"2755\"},\"glyph\":{\"id\":\"2758\"},\"group\":null,\"hover_glyph\":null,\"muted_glyph\":{\"id\":\"2760\"},\"nonselection_glyph\":{\"id\":\"2759\"},\"selection_glyph\":{\"id\":\"2778\"},\"view\":{\"id\":\"2762\"}},\"id\":\"2761\",\"type\":\"GlyphRenderer\"},{\"attributes\":{\"data\":{\"Class\":[3,3,3,3],\"CoinName\":[\"Vechain\",\"BiblePay\",\"Poa Network\",\"Acute Angle Cloud\"],\"TotalCoinSupply\":{\"__ndarray__\":\"+nQumcwytj+U9gZfmEx1P4RaKOGWizA//Knx0k1iUD8=\",\"dtype\":\"float64\",\"order\":\"little\",\"shape\":[4]},\"TotalCoinsMined\":{\"__ndarray__\":\"zaDgBxGurD+PWA2R2lNdP5wZJXiPEis/ekNDBbiMUD8=\",\"dtype\":\"float64\",\"order\":\"little\",\"shape\":[4]}},\"selected\":{\"id\":\"2780\"},\"selection_policy\":{\"id\":\"2800\"}},\"id\":\"2779\",\"type\":\"ColumnDataSource\"},{\"attributes\":{\"axis_label\":\"TotalCoinsMined\",\"coordinates\":null,\"formatter\":{\"id\":\"2707\"},\"group\":null,\"major_label_policy\":{\"id\":\"2708\"},\"ticker\":{\"id\":\"2686\"}},\"id\":\"2685\",\"type\":\"LinearAxis\"},{\"attributes\":{\"source\":{\"id\":\"2755\"}},\"id\":\"2762\",\"type\":\"CDSView\"},{\"attributes\":{\"fill_alpha\":{\"value\":0.1},\"fill_color\":{\"value\":\"#e5ae38\"},\"hatch_alpha\":{\"value\":0.1},\"hatch_color\":{\"value\":\"#e5ae38\"},\"line_alpha\":{\"value\":0.1},\"line_color\":{\"value\":\"#e5ae38\"},\"size\":{\"value\":5.477225575051661},\"x\":{\"field\":\"TotalCoinsMined\"},\"y\":{\"field\":\"TotalCoinSupply\"}},\"id\":\"2759\",\"type\":\"Scatter\"},{\"attributes\":{},\"id\":\"2695\",\"type\":\"WheelZoomTool\"},{\"attributes\":{},\"id\":\"2686\",\"type\":\"BasicTicker\"},{\"attributes\":{},\"id\":\"2756\",\"type\":\"Selection\"},{\"attributes\":{},\"id\":\"2774\",\"type\":\"UnionRenderers\"},{\"attributes\":{\"fill_alpha\":{\"value\":0.2},\"fill_color\":{\"value\":\"#fc4f30\"},\"hatch_alpha\":{\"value\":0.2},\"hatch_color\":{\"value\":\"#fc4f30\"},\"line_alpha\":{\"value\":0.2},\"line_color\":{\"value\":\"#fc4f30\"},\"size\":{\"value\":5.477225575051661},\"x\":{\"field\":\"TotalCoinsMined\"},\"y\":{\"field\":\"TotalCoinSupply\"}},\"id\":\"2738\",\"type\":\"Scatter\"},{\"attributes\":{\"axis_label\":\"TotalCoinSupply\",\"coordinates\":null,\"formatter\":{\"id\":\"2710\"},\"group\":null,\"major_label_policy\":{\"id\":\"2711\"},\"ticker\":{\"id\":\"2690\"}},\"id\":\"2689\",\"type\":\"LinearAxis\"},{\"attributes\":{\"axis\":{\"id\":\"2689\"},\"coordinates\":null,\"dimension\":1,\"grid_line_color\":null,\"group\":null,\"ticker\":null},\"id\":\"2692\",\"type\":\"Grid\"},{\"attributes\":{},\"id\":\"2690\",\"type\":\"BasicTicker\"},{\"attributes\":{},\"id\":\"2708\",\"type\":\"AllLabels\"},{\"attributes\":{},\"id\":\"2693\",\"type\":\"SaveTool\"},{\"attributes\":{\"label\":{\"value\":\"1\"},\"renderers\":[{\"id\":\"2739\"}]},\"id\":\"2753\",\"type\":\"LegendItem\"},{\"attributes\":{\"overlay\":{\"id\":\"2698\"}},\"id\":\"2696\",\"type\":\"BoxZoomTool\"},{\"attributes\":{},\"id\":\"2697\",\"type\":\"ResetTool\"},{\"attributes\":{\"fill_color\":{\"value\":\"#fc4f30\"},\"hatch_color\":{\"value\":\"#fc4f30\"},\"line_color\":{\"value\":\"#fc4f30\"},\"size\":{\"value\":5.477225575051661},\"x\":{\"field\":\"TotalCoinsMined\"},\"y\":{\"field\":\"TotalCoinSupply\"}},\"id\":\"2736\",\"type\":\"Scatter\"},{\"attributes\":{\"bottom_units\":\"screen\",\"coordinates\":null,\"fill_alpha\":0.5,\"fill_color\":\"lightgrey\",\"group\":null,\"left_units\":\"screen\",\"level\":\"overlay\",\"line_alpha\":1.0,\"line_color\":\"black\",\"line_dash\":[4,4],\"line_width\":2,\"right_units\":\"screen\",\"syncable\":false,\"top_units\":\"screen\"},\"id\":\"2698\",\"type\":\"BoxAnnotation\"},{\"attributes\":{\"coordinates\":null,\"data_source\":{\"id\":\"2733\"},\"glyph\":{\"id\":\"2736\"},\"group\":null,\"hover_glyph\":null,\"muted_glyph\":{\"id\":\"2738\"},\"nonselection_glyph\":{\"id\":\"2737\"},\"selection_glyph\":{\"id\":\"2754\"},\"view\":{\"id\":\"2740\"}},\"id\":\"2739\",\"type\":\"GlyphRenderer\"},{\"attributes\":{},\"id\":\"2727\",\"type\":\"UnionRenderers\"},{\"attributes\":{\"angle\":{\"value\":0.0},\"fill_alpha\":{\"value\":1.0},\"fill_color\":{\"value\":\"#6d904f\"},\"hatch_alpha\":{\"value\":1.0},\"hatch_color\":{\"value\":\"#6d904f\"},\"hatch_scale\":{\"value\":12.0},\"hatch_weight\":{\"value\":1.0},\"line_alpha\":{\"value\":1.0},\"line_cap\":{\"value\":\"butt\"},\"line_color\":{\"value\":\"#6d904f\"},\"line_dash\":{\"value\":[]},\"line_dash_offset\":{\"value\":0},\"line_join\":{\"value\":\"bevel\"},\"line_width\":{\"value\":1},\"marker\":{\"value\":\"circle\"},\"size\":{\"value\":5.477225575051661},\"x\":{\"field\":\"TotalCoinsMined\"},\"y\":{\"field\":\"TotalCoinSupply\"}},\"id\":\"2804\",\"type\":\"Scatter\"},{\"attributes\":{\"source\":{\"id\":\"2733\"}},\"id\":\"2740\",\"type\":\"CDSView\"},{\"attributes\":{\"data\":{\"Class\":[1,1,1,1,1,1,1,1,1,1,1,1,1,1,1,1,1,1,1,1,1,1,1,1,1,1,1,1,1,1,1,1,1,1,1,1,1,1,1,1,1,1,1,1,1,1,1,1,1,1,1,1,1,1,1,1,1,1,1,1,1,1,1,1,1,1,1,1,1,1,1,1,1,1,1,1,1,1,1,1,1,1,1,1,1,1,1,1,1,1,1,1,1,1,1,1,1,1,1,1,1,1,1,1,1,1,1,1,1,1,1,1,1,1,1,1,1,1,1,1,1,1,1,1,1,1,1,1,1,1,1,1,1,1,1,1,1,1,1,1,1,1,1,1,1,1,1,1,1,1,1,1,1,1,1,1,1,1,1,1,1,1,1,1,1,1,1,1,1,1,1,1,1,1,1,1,1,1,1,1,1,1,1,1,1,1,1,1,1,1,1,1,1,1,1,1,1,1,1,1,1,1,1,1,1,1,1,1,1,1,1,1,1,1,1,1,1,1,1,1,1,1,1,1,1,1,1,1,1,1,1,1,1,1,1,1,1,1,1,1,1,1,1,1,1,1,1,1,1,1,1,1,1,1,1,1,1,1,1],\"CoinName\":[\"Bitcoin\",\"Ethereum\",\"Litecoin\",\"Monero\",\"Ethereum Classic\",\"ZCash\",\"DigiByte\",\"ProsperCoin\",\"Spreadcoin\",\"Argentum\",\"MyriadCoin\",\"MoonCoin\",\"ZetaCoin\",\"SexCoin\",\"Quatloo\",\"QuarkCoin\",\"Riecoin\",\"Digitalcoin \",\"Catcoin\",\"CannaCoin\",\"CryptCoin\",\"Verge\",\"DevCoin\",\"EarthCoin\",\"E-Gulden\",\"Einsteinium\",\"Emerald\",\"Franko\",\"FeatherCoin\",\"GrandCoin\",\"GlobalCoin\",\"GoldCoin\",\"Infinite Coin\",\"IXcoin\",\"KrugerCoin\",\"LuckyCoin\",\"Litebar \",\"MegaCoin\",\"MediterraneanCoin\",\"MinCoin\",\"NobleCoin\",\"Namecoin\",\"NyanCoin\",\"RonPaulCoin\",\"StableCoin\",\"SmartCoin\",\"SysCoin\",\"TigerCoin\",\"TerraCoin\",\"UnbreakableCoin\",\"Unobtanium\",\"UroCoin\",\"ViaCoin\",\"Vertcoin\",\"WorldCoin\",\"JouleCoin\",\"ByteCoin\",\"DigitalNote \",\"MonaCoin\",\"Gulden\",\"PesetaCoin\",\"Wild Beast Coin\",\"Flo\",\"ArtByte\",\"Folding Coin\",\"Unitus\",\"CypherPunkCoin\",\"OmniCron\",\"GreenCoin\",\"Cryptonite\",\"MasterCoin\",\"SoonCoin\",\"1Credit\",\"MarsCoin \",\"Crypto\",\"Anarchists Prime\",\"BowsCoin\",\"Song Coin\",\"BitZeny\",\"Expanse\",\"Siacoin\",\"MindCoin\",\"I0coin\",\"Revolution VR\",\"HOdlcoin\",\"Gamecredits\",\"CarpeDiemCoin\",\"Adzcoin\",\"SoilCoin\",\"YoCoin\",\"SibCoin\",\"Francs\",\"Aiden\",\"BolivarCoin\",\"Omni\",\"PizzaCoin\",\"Komodo\",\"Karbo\",\"ZayedCoin\",\"Circuits of Value\",\"DopeCoin\",\"DollarCoin\",\"Shilling\",\"ZCoin\",\"Elementrem\",\"ZClassic\",\"KiloCoin\",\"ArtexCoin\",\"Kurrent\",\"Cannabis Industry Coin\",\"OsmiumCoin\",\"Bikercoins\",\"HexxCoin\",\"PacCoin\",\"Citadel\",\"BeaverCoin\",\"VaultCoin\",\"Zero\",\"Canada eCoin\",\"Zoin\",\"DubaiCoin\",\"EB3coin\",\"Coinonat\",\"BenjiRolls\",\"ILCoin\",\"EquiTrader\",\"Quantum Resistant Ledger\",\"Dynamic\",\"Nano\",\"ChanCoin\",\"Dinastycoin\",\"DigitalPrice\",\"Unify\",\"SocialCoin\",\"ArcticCoin\",\"DAS\",\"LeviarCoin\",\"Bitcore\",\"gCn Coin\",\"SmartCash\",\"Onix\",\"Bitcoin Cash\",\"Sojourn Coin\",\"NewYorkCoin\",\"FrazCoin\",\"Kronecoin\",\"AdCoin\",\"Linx\",\"Sumokoin\",\"BitcoinZ\",\"Elements\",\"VIVO Coin\",\"Bitcoin Gold\",\"Pirl\",\"eBoost\",\"Pura\",\"Innova\",\"Ellaism\",\"GoByte\",\"SHIELD\",\"UltraNote\",\"BitCoal\",\"DaxxCoin\",\"BoxyCoin\",\"AC3\",\"Lethean\",\"PopularCoin\",\"Photon\",\"Sucre\",\"SparksPay\",\"GoaCoin\",\"GunCoin\",\"IrishCoin\",\"Pioneer Coin\",\"UnitedBitcoin\",\"Interzone\",\"1717 Masonic Commemorative Token\",\"Crypto Wisdom Coin\",\"TurtleCoin\",\"MUNcoin\",\"Niobio Cash\",\"ShareChain\",\"Travelflex\",\"KREDS\",\"BitFlip\",\"LottoCoin\",\"Crypto Improvement Fund\",\"Callisto Network\",\"BitTube\",\"Poseidon\",\"Manna\",\"Aidos Kuneen\",\"Cosmo\",\"Bitrolium\",\"Alpenschillling\",\"Rapture\",\"FuturoCoin\",\"Monero Classic\",\"Jumpcoin\",\"Infinex\",\"KEYCO\",\"GINcoin\",\"PlatinCoin\",\"Loki\",\"Newton Coin\",\"MassGrid\",\"PluraCoin\",\"Arionum\",\"Motion\",\"PlusOneCoin\",\"Axe\",\"HexCoin\",\"Deimos\",\"Webchain\",\"Ryo\",\"Urals Coin\",\"Qwertycoin\",\"Bitcoin Nova\",\"DACash\",\"Project Pai\",\"Azart\",\"Xchange\",\"CrypticCoin\",\"Brazio\",\"Actinium\",\"Bitcoin SV\",\"Argoneum\",\"FREDEnergy\",\"BlakeBitcoin\",\"Universal Molecule\",\"Lithium\",\"Electron\",\"PirateCash\",\"Exosis\",\"Block-Logic\",\"Beam\",\"Bithereum\",\"Scribe Network\",\"SLICE\",\"BLAST\",\"Bitcoin Rhodium\",\"GlobalToken\",\"Media Protocol Token\",\"SolarCoin\",\"UFO Coin\",\"BlakeCoin\",\"Crypto Escudo\",\"Crown Coin\",\"SmileyCoin\",\"Groestlcoin\",\"Bata\",\"Pakcoin\",\"JoinCoin\",\"Vollar\",\"TecraCoin\",\"Reality Clash\",\"ChainZilla\",\"Beldex\",\"Horizen\"],\"TotalCoinSupply\":{\"__ndarray__\":\"ycfuAiUF9j4AAAAAAAAAAMnH7gIlBRY/AAAAAAAAAAC8eapDboYrP8nH7gIlBfY+Gy/dJAaBlT/Jx+4CJQX2PvBo44i1+PQ+je21oPfGED/8qfHSTWJgP/p+arx0k9g/ib6z/mRBJj/8qfHSTWIwPyxDHOviNho/M4gP7PgvMD/Jx+4CJQUWP7L2gSi7QAk/ycfuAiUF9j7wSz/Ze47rPj+rzJTW3/I+pFNXPsvzkD8bL90kBoGVP9nO91PjpYs/ycfuAiUF9j6QlH3NrqUzP43ttaD3xgA/VwJQYS6Q5z7Jx+4CJQU2P2DlR/V3Rlc/0vvG155ZEj+5x9OsU/ASP2+BBMWPMbc/ycfuAiUF9j4QhtqnBWUxP/Bo44i1+PQ+5TOPsjSmtj7Jx+4CJQUGPyxDHOviNio/8GjjiLX45D64HoXrUbiOP8nH7gIlBfY+t32P+usVNj/Jx+4CJQX2Pvyp8dJNYjA/SK+8mvLXCj8BiLt6FRlNP3lgr+vWpQg/ycfuAiUFBj/waOOItfgUP43ttaD3xpA+AAAAAAAAAAB7hQX3Ax74PsnH7gIlBRY/EIbapwVlMT8O1v85zJcHPzgbkQyhnMc/exSuR+F6hD/wSz/Ze44bP7x5qkNuhls/W/Vl2/zOJT9a1mVHlgvGPvBo44i1+CQ//Knx0k1iUD/8qfHSTWJQPwAAAAAAAAAAAAAAAAAAAADehccd5EfMPnsUrkfheoQ/2ubG9IQlXj/k2j6HRsmkPsnH7gIlBfY+WmQ730+Ntz/6nLtdL00BP5RCuSEIPxE/DLjfiIsvDD/Jx+4CJQX2PvBLP9l7jis//Knx0k1iMD+vYF3BRrrxPgAAAAAAAAAAje21oPfG8D7Jx+4CJQX2Prx5qkNuhis/NqDyJ2J8FT/Jx+4CJQUWP4EoVhUzJZY/ycfuAiUFFj9pHVVNEHX/PtZqzafuECY/VOQQcXMq+T7waOOItfj0PsnH7gIlBRY/LEMc6+I2+j42/OJ8P6+kPixDHOviNvo+LEMc6+I2Kj/waOOItfjkPoYoqKb5auQ+YTJVMCqpUz8sQxzr4jYqPwVQOYtkT+Y+aR1VTRB1/z6GulnNhHD2Pmhxe+1+evs+ycfuAiUF9j57FK5H4XqEP/yp8dJNYkA/Iw9EFmniLT/Jx+4CJQX2PmdqUYLixMY+LEMc6+I2+j7uNbRltfjkPpmZmZmZmbk/VvFG5pE/KD8MuN+Iiy/MPvyp8dJNYlA/ZkzBGmfT8T4sQxzr4jYaP8nH7gIlBfY+EXF8Th67wj78qfHSTWJwP8rwgRhGTAk/hgaWpnefAj97FK5H4XpkPz+rzJTW3xI/vHmqQ26GGz8AAAAAAAAAADVfPqP9TDY/aR1VTRB1/z78qfHSTWJgPyxDHOviNho/ROXwm5M29D5hMlUwKqkTP2kdVU0QdQ8/aE09HG7R8z7eADPfwU8MP8nH7gIlBfY+mZmZmZmZyT97FK5H4Xp0Py9uowG8BVI/ycfuAiUF9j4bL90kBoGFPwAAAAAAAAAA8GjjiLX49D7Jx+4CJQUWPyxDHOviNho/LEMc6+I2Gj9gi753O00XPxsv3SQGgZU/kst/SL99XT/eADPfwU/8PsnH7gIlBfY+L4g6nMh8JD8sQxzr4jYaP8e6uI0G8DY/Dtb/OcyXBz/S+8bXnlkyP94wG64frAA/OIQqNXugRT/C9Shcj8K1PyxDHOviNuo+exSuR+F6hD8sQxzr4jYaPy9uowG8BUI/MrUlGyFgUD/hfJxH4Xp0PwrXo3A9Crc/ku+towXD9D7Jx+4CJQX2Po3ttaD3xgA//Knx0k1iQD+N7bWg98YQP3uFBfcDHvg+rY3F90Ql9T57hQX3Ax74Pn34/RhmJbs+VOQQcXMq+T4AAAAAAADwP6lZVlAHaPE+ycfuAiUFNj97FK5H4XqEPyxDHOviNho/L26jAbwFUj/waOOItfgEPw9GuYFH2ZI//Knx0k1iQD85tMh2vp96P/yp8dJNYlA/ycfuAiUF9j4TpGTISpKEPyxDHOviNvo+P2HhCHjw6D7S+8bXnlkSP2EyVTAqqTM/ycfuAiUF9j4sQxzr4jYaP/ydN182S/M+ycfuAiUF9j7wSz/Ze477Pj+rzJTW3/I+ycfuAiUF5j48NxtNK6lDP2EyVTAqqSM/WmQ730+Nxz/Jx+4CJQUmP/yp8dJNYlA/7oEjbyPfQT9f8XWN5iX3PsnH7gIlBfY+ycfuAiUF9j4QukEb1i33Pvyp8dJNYlA/eekmMQisXD8twS+PQR4XP7x5qkNuhis/W+uLhLacxz/8qfHSTWJQPyxDHOviNgo/FYxK6gQ0YT8sQxzr4jb6PixDHOviNho/xY8xdy0hfz8qNuZ1xCErP8nH7gIlBRY/ycfuAiUF9j6N7bWg98YQP85wAz4/jIA/ycfuAiUF9j6ul5Tfe44bPzgBR+9NdPo+eekmMQisfD+8eapDboYbP8nH7gIlBfY+aR1VTRB1Hz92j8dnDTkxP4p7FeFyMQA/84HTceskAT8sQxzr4jYaP43ttaD3xhA/B9OLNbedwT7Jx+4CJQUmP3sUrkfheoQ/WtO84xQduT/8qfHSTWJwP3npJjEIrHw//Knx0k1iUD/Jx+4CJQUGP5mZmZmZmak/vHmqQ26GGz/waOOItfjUPsWtghjo2ic/XxllR/R8xz4VjErqBDRhP7x5qkNuhis/Nnixsm6t+T6iJvp8lBHnPvneSpT18FY/ycfuAiUF9j4=\",\"dtype\":\"float64\",\"order\":\"little\",\"shape\":[259]},\"TotalCoinsMined\":{\"__ndarray__\":\"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\",\"dtype\":\"float64\",\"order\":\"little\",\"shape\":[259]}},\"selected\":{\"id\":\"2734\"},\"selection_policy\":{\"id\":\"2750\"}},\"id\":\"2733\",\"type\":\"ColumnDataSource\"},{\"attributes\":{\"fill_alpha\":{\"value\":0.1},\"fill_color\":{\"value\":\"#fc4f30\"},\"hatch_alpha\":{\"value\":0.1},\"hatch_color\":{\"value\":\"#fc4f30\"},\"line_alpha\":{\"value\":0.1},\"line_color\":{\"value\":\"#fc4f30\"},\"size\":{\"value\":5.477225575051661},\"x\":{\"field\":\"TotalCoinsMined\"},\"y\":{\"field\":\"TotalCoinSupply\"}},\"id\":\"2737\",\"type\":\"Scatter\"},{\"attributes\":{},\"id\":\"2734\",\"type\":\"Selection\"},{\"attributes\":{},\"id\":\"2750\",\"type\":\"UnionRenderers\"},{\"attributes\":{},\"id\":\"2713\",\"type\":\"Selection\"},{\"attributes\":{\"fill_color\":{\"value\":\"#30a2da\"},\"hatch_color\":{\"value\":\"#30a2da\"},\"line_color\":{\"value\":\"#30a2da\"},\"size\":{\"value\":5.477225575051661},\"x\":{\"field\":\"TotalCoinsMined\"},\"y\":{\"field\":\"TotalCoinSupply\"}},\"id\":\"2715\",\"type\":\"Scatter\"},{\"attributes\":{\"margin\":[5,5,5,5],\"name\":\"HSpacer05132\",\"sizing_mode\":\"stretch_width\"},\"id\":\"2669\",\"type\":\"Spacer\"},{\"attributes\":{\"angle\":{\"value\":0.0},\"fill_alpha\":{\"value\":1.0},\"fill_color\":{\"value\":\"#e5ae38\"},\"hatch_alpha\":{\"value\":1.0},\"hatch_color\":{\"value\":\"#e5ae38\"},\"hatch_scale\":{\"value\":12.0},\"hatch_weight\":{\"value\":1.0},\"line_alpha\":{\"value\":1.0},\"line_cap\":{\"value\":\"butt\"},\"line_color\":{\"value\":\"#e5ae38\"},\"line_dash\":{\"value\":[]},\"line_dash_offset\":{\"value\":0},\"line_join\":{\"value\":\"bevel\"},\"line_width\":{\"value\":1},\"marker\":{\"value\":\"circle\"},\"size\":{\"value\":5.477225575051661},\"x\":{\"field\":\"TotalCoinsMined\"},\"y\":{\"field\":\"TotalCoinSupply\"}},\"id\":\"2778\",\"type\":\"Scatter\"},{\"attributes\":{},\"id\":\"2707\",\"type\":\"BasicTickFormatter\"},{\"attributes\":{},\"id\":\"2780\",\"type\":\"Selection\"},{\"attributes\":{\"tools\":[{\"id\":\"2672\"},{\"id\":\"2693\"},{\"id\":\"2694\"},{\"id\":\"2695\"},{\"id\":\"2696\"},{\"id\":\"2697\"}]},\"id\":\"2699\",\"type\":\"Toolbar\"},{\"attributes\":{\"margin\":[5,5,5,5],\"name\":\"HSpacer05133\",\"sizing_mode\":\"stretch_width\"},\"id\":\"2949\",\"type\":\"Spacer\"},{\"attributes\":{\"data\":{\"Class\":[0,0,0,0,0,0,0,0,0,0,0,0,0,0,0,0,0,0,0,0,0,0,0,0,0,0,0,0,0,0,0,0,0,0,0,0,0,0,0,0,0,0,0,0,0,0,0,0,0,0,0,0,0,0,0,0,0,0,0,0,0,0,0,0,0,0,0,0,0,0,0,0,0,0,0,0,0,0,0,0,0,0,0,0,0,0,0,0,0,0,0,0,0,0,0,0,0,0,0,0,0,0,0,0,0,0,0,0,0,0,0,0,0,0,0,0,0,0,0,0,0,0,0,0,0,0,0,0,0,0,0,0,0,0,0,0,0,0,0,0,0,0,0,0,0,0,0,0,0,0,0,0,0,0,0,0,0,0,0,0,0,0,0,0,0,0,0,0,0,0,0,0,0,0,0,0,0,0,0,0,0,0,0,0,0,0,0,0,0,0,0,0,0,0,0,0,0,0,0,0,0,0,0,0,0,0,0,0,0,0,0,0,0,0,0,0,0,0,0,0,0,0,0,0,0,0,0,0,0,0,0,0,0,0,0,0,0,0,0,0,0,0,0,0,0,0,0,0,0,0,0,0,0,0,0,0,0,0,0,0,0,0,0,0,0,0,0,0,0,0,0,0,0,0,0,0,0,0,0,0,0,0,0,0,0,0,0,0,0,0,0,0,0,0,0,0,0,0,0,0,0,0,0,0,0,0,0,0,0,0,0,0,0],\"CoinName\":[\"42 Coin\",\"404Coin\",\"EliteCoin\",\"Dash\",\"Bitshares\",\"BitcoinDark\",\"PayCoin\",\"KoboCoin\",\"Aurora Coin\",\"BlueCoin\",\"EnergyCoin\",\"BitBar\",\"CryptoBullion\",\"CasinoCoin\",\"Diamond\",\"Exclusive Coin\",\"FlutterCoin\",\"HoboNickels\",\"HyperStake\",\"IOCoin\",\"MaxCoin\",\"MintCoin\",\"MazaCoin\",\"Nautilus Coin\",\"NavCoin\",\"OpalCoin\",\"Orbitcoin\",\"PotCoin\",\"PhoenixCoin\",\"Reddcoin\",\"SuperCoin\",\"SyncCoin\",\"TeslaCoin\",\"TittieCoin\",\"TorCoin\",\"UnitaryStatus Dollar\",\"UltraCoin\",\"VeriCoin\",\"X11 Coin\",\"Crypti\",\"StealthCoin\",\"ZCC Coin\",\"BurstCoin\",\"StorjCoin\",\"Neutron\",\"FairCoin\",\"RubyCoin\",\"Kore\",\"Dnotes\",\"8BIT Coin\",\"Sativa Coin\",\"Ucoin\",\"Vtorrent\",\"IslaCoin\",\"Nexus\",\"Droidz\",\"Squall Coin\",\"Diggits\",\"Paycon\",\"Emercoin\",\"EverGreenCoin\",\"Decred\",\"EDRCoin\",\"Hitcoin\",\"DubaiCoin\",\"PWR Coin\",\"BillaryCoin\",\"GPU Coin\",\"EuropeCoin\",\"ZeitCoin\",\"SwingCoin\",\"SafeExchangeCoin\",\"Nebuchadnezzar\",\"Ratecoin\",\"Revenu\",\"Clockcoin\",\"VIP Tokens\",\"BitSend\",\"Let it Ride\",\"PutinCoin\",\"iBankCoin\",\"Frankywillcoin\",\"MudraCoin\",\"Lutetium Coin\",\"GoldBlocks\",\"CarterCoin\",\"BitTokens\",\"MustangCoin\",\"ZoneCoin\",\"RootCoin\",\"BitCurrency\",\"Swiscoin\",\"BuzzCoin\",\"Opair\",\"PesoBit\",\"Halloween Coin\",\"CoffeeCoin\",\"RoyalCoin\",\"GanjaCoin V2\",\"TeamUP\",\"LanaCoin\",\"ARK\",\"InsaneCoin\",\"EmberCoin\",\"XenixCoin\",\"FreeCoin\",\"PLNCoin\",\"AquariusCoin\",\"Creatio\",\"Eternity\",\"Eurocoin\",\"BitcoinFast\",\"Stakenet\",\"BitConnect Coin\",\"MoneyCoin\",\"Enigma\",\"Russiacoin\",\"PandaCoin\",\"GameUnits\",\"GAKHcoin\",\"Allsafe\",\"LiteCreed\",\"Klingon Empire Darsek\",\"Internet of People\",\"KushCoin\",\"Printerium\",\"Impeach\",\"Zilbercoin\",\"FirstCoin\",\"FindCoin\",\"OpenChat\",\"RenosCoin\",\"VirtacoinPlus\",\"TajCoin\",\"Impact\",\"Atmos\",\"HappyCoin\",\"MacronCoin\",\"Condensate\",\"Independent Money System\",\"ArgusCoin\",\"LomoCoin\",\"ProCurrency\",\"GoldReserve\",\"GrowthCoin\",\"Phreak\",\"Degas Coin\",\"HTML5 Coin\",\"Ultimate Secure Cash\",\"QTUM\",\"Espers\",\"Denarius\",\"Virta Unique Coin\",\"Bitcoin Planet\",\"BritCoin\",\"Linda\",\"DeepOnion\",\"Signatum\",\"Cream\",\"Monoeci\",\"Draftcoin\",\"Stakecoin\",\"CoinonatX\",\"Ethereum Dark\",\"Obsidian\",\"Cardano\",\"Regalcoin\",\"TrezarCoin\",\"TerraNovaCoin\",\"Rupee\",\"WomenCoin\",\"Theresa May Coin\",\"NamoCoin\",\"LUXCoin\",\"Xios\",\"Bitcloud 2.0\",\"KekCoin\",\"BlackholeCoin\",\"Infinity Economics\",\"Alqo\",\"Magnet\",\"Lamden Tau\",\"Electra\",\"Bitcoin Diamond\",\"Cash & Back Coin\",\"Bulwark\",\"Kalkulus\",\"GermanCoin\",\"LiteCoin Ultra\",\"PhantomX\",\"Accolade\",\"OmiseGO Classic\",\"Digiwage\",\"Trollcoin\",\"Litecoin Plus\",\"Monkey Project\",\"ECC\",\"TokenPay\",\"My Big Coin\",\"Unified Society USDEX\",\"BitSoar Coin\",\"Credence Coin\",\"Tokyo Coin\",\"LitecoinCash\",\"BashCoin\",\"DigiMoney\",\"Lizus Payment\",\"Stipend\",\"Pushi\",\"Ellerium\",\"Velox\",\"Ontology\",\"Seraph\",\"Bitspace\",\"Briacoin\",\"Ignition\",\"MedicCoin\",\"Bitcoin Green\",\"Deviant Coin\",\"Abjcoin\",\"Semux\",\"Carebit\",\"Zealium\",\"Proton\",\"iDealCash\",\"Bitcoin Incognito\",\"HollyWoodCoin\",\"Parlay\",\"Listerclassic Coin\",\"BetKings\",\"Cognitio\",\"Mercoin\",\"Swisscoin\",\"Reliance\",\"Xt3ch\",\"TheVig\",\"EmaratCoin\",\"Dekado\",\"Lynx\",\"Poseidon Quark\",\"MYCE\",\"BitcoinWSpectrum\",\"Muse\",\"GambleCoin\",\"Trivechain\",\"Dystem\",\"Giant\",\"Peony Coin\",\"Absolute Coin\",\"Vitae\",\"TPCash\",\"ARENON\",\"EUNO\",\"MMOCoin\",\"Ketan\",\"XDNA\",\"PAXEX\",\"Averopay\",\"ThunderStake\",\"SimpleBank\",\"Kcash\",\"Bettex coin\",\"TWIST\",\"DACH Coin\",\"BitMoney\",\"Junson Ming Chan Coin\",\"HerbCoin\",\"Oduwa\",\"Galilel\",\"Crypto Sports\",\"Credit\",\"Dash Platinum\",\"Nasdacoin\",\"Beetle Coin\",\"Titan Coin\",\"Award\",\"Insane Coin\",\"ALAX\",\"LiteDoge\",\"TruckCoin\",\"OrangeCoin\",\"BitstarCoin\",\"NeosCoin\",\"HyperCoin\",\"PinkCoin\",\"AudioCoin\",\"IncaKoin\",\"Piggy Coin\",\"Genstake\",\"XiaoMiCoin\",\"CapriCoin\",\" ClubCoin\",\"Radium\",\"Creditbit \",\"OKCash\",\"Lisk\",\"HiCoin\",\"WhiteCoin\",\"FriendshipCoin\",\"Triangles Coin\",\"Gexan\",\"EOS\",\"Oxycoin\",\"TigerCash\",\"LAPO\",\"Waves\",\"Particl\",\"ShardCoin\",\"Nxt\",\"ZEPHYR\",\"Gapcoin\",\"BitcoinPlus\",\"DivotyCoin\"],\"TotalCoinSupply\":{\"__ndarray__\":\"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\",\"dtype\":\"float64\",\"order\":\"little\",\"shape\":[313]},\"TotalCoinsMined\":{\"__ndarray__\":\"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\",\"dtype\":\"float64\",\"order\":\"little\",\"shape\":[313]}},\"selected\":{\"id\":\"2713\"},\"selection_policy\":{\"id\":\"2727\"}},\"id\":\"2712\",\"type\":\"ColumnDataSource\"}],\"root_ids\":[\"2668\"]},\"title\":\"Bokeh Application\",\"version\":\"2.4.2\"}};\n",
       "    var render_items = [{\"docid\":\"9d06ccee-9b1e-46f7-823b-46e1729971d3\",\"root_ids\":[\"2668\"],\"roots\":{\"2668\":\"50e208d1-e4ef-4f57-b87b-2d86ff4378b5\"}}];\n",
       "    root.Bokeh.embed.embed_items_notebook(docs_json, render_items);\n",
       "  }\n",
       "  if (root.Bokeh !== undefined && root.Bokeh.Panel !== undefined) {\n",
       "    embed_document(root);\n",
       "  } else {\n",
       "    var attempts = 0;\n",
       "    var timer = setInterval(function(root) {\n",
       "      if (root.Bokeh !== undefined && root.Bokeh.Panel !== undefined) {\n",
       "        clearInterval(timer);\n",
       "        embed_document(root);\n",
       "      } else if (document.readyState == \"complete\") {\n",
       "        attempts++;\n",
       "        if (attempts > 200) {\n",
       "          clearInterval(timer);\n",
       "          console.log(\"Bokeh: ERROR: Unable to run BokehJS code because BokehJS library is missing\");\n",
       "        }\n",
       "      }\n",
       "    }, 25, root)\n",
       "  }\n",
       "})(window);</script>"
      ],
      "text/plain": [
       ":NdOverlay   [Class]\n",
       "   :Scatter   [TotalCoinsMined]   (TotalCoinSupply,CoinName)"
      ]
     },
     "execution_count": 51,
     "metadata": {
      "application/vnd.holoviews_exec.v0+json": {
       "id": "2668"
      }
     },
     "output_type": "execute_result"
    }
   ],
   "source": [
    "# Create a hvplot.scatter plot using x=\"TotalCoinsMined\" and y=\"TotalCoinSupply\".\n",
    "plot_df.hvplot.scatter(x='TotalCoinsMined', y='TotalCoinSupply', hover_cols='CoinName', by='Class')\n"
   ]
  },
  {
   "cell_type": "code",
   "execution_count": null,
   "metadata": {},
   "outputs": [],
   "source": []
  }
 ],
 "metadata": {
  "file_extension": ".py",
  "kernelspec": {
   "display_name": "Python 3",
   "language": "python",
   "name": "python3"
  },
  "language_info": {
   "codemirror_mode": {
    "name": "ipython",
    "version": 3
   },
   "file_extension": ".py",
   "mimetype": "text/x-python",
   "name": "python",
   "nbconvert_exporter": "python",
   "pygments_lexer": "ipython3",
   "version": "3.8.8"
  },
  "latex_envs": {
   "LaTeX_envs_menu_present": true,
   "autoclose": false,
   "autocomplete": true,
   "bibliofile": "biblio.bib",
   "cite_by": "apalike",
   "current_citInitial": 1,
   "eqLabelWithNumbers": true,
   "eqNumInitial": 1,
   "hotkeys": {
    "equation": "Ctrl-E",
    "itemize": "Ctrl-I"
   },
   "labels_anchors": false,
   "latex_user_defs": false,
   "report_style_numbering": false,
   "user_envs_cfg": false
  },
  "mimetype": "text/x-python",
  "name": "python",
  "npconvert_exporter": "python",
  "pygments_lexer": "ipython3",
  "version": 3
 },
 "nbformat": 4,
 "nbformat_minor": 2
}
